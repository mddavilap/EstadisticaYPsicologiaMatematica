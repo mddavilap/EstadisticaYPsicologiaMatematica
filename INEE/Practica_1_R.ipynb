{
  "nbformat": 4,
  "nbformat_minor": 0,
  "metadata": {
    "colab": {
      "provenance": []
    },
    "kernelspec": {
      "name": "ir",
      "display_name": "R"
    },
    "language_info": {
      "name": "R"
    }
  },
  "cells": [
    {
      "cell_type": "markdown",
      "metadata": {
        "id": "6qvLbOiQtuCy"
      },
      "source": [
        "# Práctica: Estadística descriptiva y comparación de grupos"
      ]
    },
    {
      "cell_type": "code",
      "execution_count": 2,
      "metadata": {
        "id": "MpGj_QnxtuC4",
        "colab": {
          "base_uri": "https://localhost:8080/"
        },
        "outputId": "da1ec7de-1c0b-48ec-a5fc-9e844dd73ce8"
      },
      "outputs": [
        {
          "output_type": "stream",
          "name": "stderr",
          "text": [
            "Installing package into ‘/usr/local/lib/R/site-library’\n",
            "(as ‘lib’ is unspecified)\n",
            "\n",
            "also installing the dependencies ‘textshaping’, ‘conflicted’, ‘jsonlite’, ‘ragg’, ‘stringr’\n",
            "\n",
            "\n",
            "Warning message in install.packages(\"tidyverse\"):\n",
            "“installation of package ‘textshaping’ had non-zero exit status”\n",
            "Warning message in install.packages(\"tidyverse\"):\n",
            "“installation of package ‘ragg’ had non-zero exit status”\n",
            "Warning message in install.packages(\"tidyverse\"):\n",
            "“installation of package ‘tidyverse’ had non-zero exit status”\n"
          ]
        }
      ],
      "source": [
        "# Instala dependencias\n",
        "install.packages(\"tidyverse\")"
      ]
    },
    {
      "cell_type": "markdown",
      "metadata": {
        "id": "Qe5HedzhtuDB"
      },
      "source": [
        "En las respuestas deben indicar:\n",
        "\n",
        "- Hipótesis de trabajo e hipótesis estadísticas, de manera correspondiente.\n",
        "- Resultados de prueba de normalidad para las distribuciones de las variables de estudio.\n",
        "- Indicadores estadísticos utilizados (SW, M, Mdn, DE, t, U, F, r) el valor p\n",
        "correspondiente, y la magnitud según criterios de Cohen, de ser pertinente.\n",
        "- Redacción de las conclusiones.\n",
        "\n",
        ">Nota: reportar la normalidad de las distribuciones en base a la prueba Shapiro-Wilk. Para\n",
        "efectos de este reporte, NO consideren asimetría y curtosis para decidir la prueba estadística a\n",
        "utilizar"
      ]
    },
    {
      "cell_type": "markdown",
      "metadata": {
        "id": "T8vFN0jptuDC"
      },
      "source": [
        "En esta práctica contamos con una base de datos que muestra los niveles de hemoglobina en la sangre de mujeres. Además, se brinda información sobre si las mujeres están embarazadas o no, así como su edad. A partir de la información presente en esta base de datos, responde:\n",
        "> La variable `Embarazada` codifica como 1 si las encuestadas estaban embarazadas y como 0 en caso contrario."
      ]
    },
    {
      "cell_type": "code",
      "source": [
        "library(tidyverse)\n",
        "\n",
        "data = haven::read_sav(\"https://github.com/renatoparedes/EstadisticaYPsicologiaMatematica/raw/main/Evaluaciones/HemoglobinaEmbarazoyEdad.sav\")\n",
        "\n",
        "data %>%\n",
        "  select(-1) %>%\n",
        "  mutate(Embarazada = case_when(HA54 == 0 ~ \"No o no sabe\",\n",
        "                          HA54 == 1 ~ \"Sí\"), \n",
        "                          .keep = \"unused\", .before = 1) %>% \n",
        "  drop_na() %>%\n",
        "  slice(1:1000) -> data\n",
        "\n",
        "data %>% print(n = 10)"
      ],
      "metadata": {
        "colab": {
          "base_uri": "https://localhost:8080/"
        },
        "id": "SpcZit9Bwoxj",
        "outputId": "39d5b68b-2017-4a72-d4e5-b81bae478729"
      },
      "execution_count": 16,
      "outputs": [
        {
          "output_type": "stream",
          "name": "stdout",
          "text": [
            "\u001b[90m# A tibble: 1,000 × 3\u001b[39m\n",
            "   Embarazada   Nivel_de_hemoglobina  Edad\n",
            "   \u001b[3m\u001b[90m<chr>\u001b[39m\u001b[23m                       \u001b[3m\u001b[90m<dbl>\u001b[39m\u001b[23m \u001b[3m\u001b[90m<dbl>\u001b[39m\u001b[23m\n",
            "\u001b[90m 1\u001b[39m No o no sabe                 13.8    39\n",
            "\u001b[90m 2\u001b[39m Sí                           13.6    22\n",
            "\u001b[90m 3\u001b[39m No o no sabe                 13.1    19\n",
            "\u001b[90m 4\u001b[39m No o no sabe                 10.4    33\n",
            "\u001b[90m 5\u001b[39m No o no sabe                 13.7    33\n",
            "\u001b[90m 6\u001b[39m No o no sabe                 10.9    23\n",
            "\u001b[90m 7\u001b[39m No o no sabe                 14      37\n",
            "\u001b[90m 8\u001b[39m No o no sabe                 13.2    20\n",
            "\u001b[90m 9\u001b[39m No o no sabe                 14.7    34\n",
            "\u001b[90m10\u001b[39m No o no sabe                 12.6    47\n",
            "\u001b[90m# ℹ 990 more rows\u001b[39m\n"
          ]
        }
      ]
    },
    {
      "cell_type": "markdown",
      "metadata": {
        "id": "pCtZzd5BtuDE"
      },
      "source": [
        "> Para obtener esta base de datos en SPSS, corresponde eliminar todos los casos con valores nulos/incompletos y luego seleccionar las primeras 1000 filas."
      ]
    },
    {
      "cell_type": "markdown",
      "metadata": {
        "id": "9btqtOkCtuDF"
      },
      "source": [
        "## Pregunta 1\n",
        "\n",
        "Describe la muestra de acuerdo con las variables sociodemográficas reportadas (Edad y Embarazo) y señala el tipo de variable y los estadísticos descriptivos que mejor brinden información sobre ellas."
      ]
    },
    {
      "cell_type": "markdown",
      "metadata": {
        "id": "lujHcyF9tuDG"
      },
      "source": [
        "## Pregunta 2\n",
        "\n",
        "Las evidencias indican que existiría una diferencia en el nivel de hemoglobina según el estado de embarazo de las participantes, con las mujeres embarazadas puntuando más bajo que las no embarazadas. Plantea y lleva a cabo los análisis estadísticos correspondientes y describe lo encontrado. "
      ]
    }
  ]
}