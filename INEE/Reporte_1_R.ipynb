{
  "nbformat": 4,
  "nbformat_minor": 0,
  "metadata": {
    "colab": {
      "provenance": []
    },
    "kernelspec": {
      "name": "ir",
      "display_name": "R"
    },
    "language_info": {
      "name": "R"
    }
  },
  "cells": [
    {
      "cell_type": "markdown",
      "metadata": {
        "id": "cZ55YY0Cd89Y"
      },
      "source": [
        "# Reporte escrito 1"
      ]
    },
    {
      "cell_type": "code",
      "execution_count": 8,
      "metadata": {
        "id": "rmiKO0gRd89b",
        "colab": {
          "base_uri": "https://localhost:8080/"
        },
        "outputId": "9a971595-a4b5-4fd7-8d0c-23e7c8e02285"
      },
      "outputs": [
        {
          "output_type": "stream",
          "name": "stderr",
          "text": [
            "Installing package into ‘/usr/local/lib/R/site-library’\n",
            "(as ‘lib’ is unspecified)\n",
            "\n",
            "also installing the dependencies ‘textshaping’, ‘ragg’\n",
            "\n",
            "\n",
            "Warning message in install.packages(\"tidyverse\"):\n",
            "“installation of package ‘textshaping’ had non-zero exit status”\n",
            "Warning message in install.packages(\"tidyverse\"):\n",
            "“installation of package ‘ragg’ had non-zero exit status”\n",
            "Warning message in install.packages(\"tidyverse\"):\n",
            "“installation of package ‘tidyverse’ had non-zero exit status”\n",
            "Installing package into ‘/usr/local/lib/R/site-library’\n",
            "(as ‘lib’ is unspecified)\n",
            "\n",
            "Installing package into ‘/usr/local/lib/R/site-library’\n",
            "(as ‘lib’ is unspecified)\n",
            "\n",
            "Installing package into ‘/usr/local/lib/R/site-library’\n",
            "(as ‘lib’ is unspecified)\n",
            "\n",
            "also installing the dependency ‘proxy’\n",
            "\n",
            "\n",
            "Installing package into ‘/usr/local/lib/R/site-library’\n",
            "(as ‘lib’ is unspecified)\n",
            "\n",
            "also installing the dependencies ‘ggrepel’, ‘ggsci’, ‘cowplot’, ‘ggsignif’, ‘gridExtra’, ‘polynom’\n",
            "\n",
            "\n",
            "Installing package into ‘/usr/local/lib/R/site-library’\n",
            "(as ‘lib’ is unspecified)\n",
            "\n",
            "Installing package into ‘/usr/local/lib/R/site-library’\n",
            "(as ‘lib’ is unspecified)\n",
            "\n"
          ]
        }
      ],
      "source": [
        "# Instala dependencias, pueden comentar aquellos paquetes que no deseen utilizar\n",
        "install.packages(\"tidyverse\")\n",
        "install.packages(\"rstatix\")\n",
        "install.packages(\"psych\")\n",
        "install.packages(\"e1071\")\n",
        "install.packages(\"ggpubr\")\n",
        "install.packages(\"ggsci\")\n",
        "install.packages(\"skimr\")\n",
        "\n",
        "library(tidyverse)\n",
        "library(rstatix)\n",
        "library(psych)\n",
        "library(skimr)\n",
        "library(e1071)\n",
        "library(ggpubr)\n",
        "library(ggsci)"
      ]
    },
    {
      "cell_type": "markdown",
      "metadata": {
        "id": "52yhI0W-d89b"
      },
      "source": [
        "En las respuestas deben indicar:\n",
        "\n",
        "- Hipótesis de trabajo e hipótesis estadísticas, de manera correspondiente.\n",
        "- Resultados de prueba de normalidad para las distribuciones de las variables de estudio.\n",
        "- Indicadores estadísticos utilizados (SW, M, Mdn, DE, t, U, F, r) el valor p\n",
        "correspondiente, y la magnitud según criterios de Cohen, de ser pertinente.\n",
        "- Redacción de las conclusiones.\n",
        "\n",
        ">Nota: reportar la normalidad de las distribuciones en base a la prueba Shapiro-Wilk. Para\n",
        "efectos de este reporte, NO consideren asimetría y curtosis para decidir la prueba estadística a\n",
        "utilizar"
      ]
    },
    {
      "cell_type": "markdown",
      "metadata": {
        "id": "9fFOu-aSd89c"
      },
      "source": [
        "En una investigación sobre los recursos que facilitan la adaptación a la pandemia por COVID-19 en la adultez media (40 a 60 años) se contó con información sobre optimismo, mindfulness-rasgo y miedo al COVID-19. \n",
        "\n",
        "El estudio contó con la participación de 90 adultas, y adultos, quienes completaron el protocolo de estudio en línea. Además de los constructos de estudio, se recolectaron datos generales de sexo de las/los participantes, edad en años, si se encuentran en una relación de pareja, o no, y si consumen alcohol semanalmente."
      ]
    },
    {
      "cell_type": "code",
      "source": [
        "df = haven::read_spss(\"https://github.com/renatoparedes/EstadisticaYPsicologiaMatematica/raw/main/INEE/BaseReporte1.sav\")\n",
        "\n",
        "df %>% print(n = 10)"
      ],
      "metadata": {
        "colab": {
          "base_uri": "https://localhost:8080/"
        },
        "id": "F7DUWBJHebHe",
        "outputId": "b9005404-caed-4b32-b5b3-c1627cb249bb"
      },
      "execution_count": 9,
      "outputs": [
        {
          "output_type": "stream",
          "name": "stdout",
          "text": [
            "\u001b[90m# A tibble: 90 × 8\u001b[39m\n",
            "   Código  Edad Sexo       Pareja    Cons_alcohol Optimismo Mindful Miedo_COV\n",
            "   \u001b[3m\u001b[90m<chr>\u001b[39m\u001b[23m  \u001b[3m\u001b[90m<dbl>\u001b[39m\u001b[23m \u001b[3m\u001b[90m<dbl+lbl>\u001b[39m\u001b[23m  \u001b[3m\u001b[90m<dbl+lbl>\u001b[39m\u001b[23m \u001b[3m\u001b[90m<dbl+lbl>\u001b[39m\u001b[23m        \u001b[3m\u001b[90m<dbl>\u001b[39m\u001b[23m   \u001b[3m\u001b[90m<dbl>\u001b[39m\u001b[23m     \u001b[3m\u001b[90m<dbl>\u001b[39m\u001b[23m\n",
            "\u001b[90m 1\u001b[39m 001       53 1\u001b[90m [Mujer]\u001b[39m  1\u001b[90m [Si]\u001b[39m    1\u001b[90m [Sí]\u001b[39m              47      37        55\n",
            "\u001b[90m 2\u001b[39m 002       49 1\u001b[90m [Mujer]\u001b[39m  0\u001b[90m [No]\u001b[39m    0\u001b[90m [No]\u001b[39m              36      39        41\n",
            "\u001b[90m 3\u001b[39m 003       57 2\u001b[90m [Hombre]\u001b[39m 1\u001b[90m [Si]\u001b[39m    1\u001b[90m [Sí]\u001b[39m              54      25        42\n",
            "\u001b[90m 4\u001b[39m 004       55 2\u001b[90m [Hombre]\u001b[39m 0\u001b[90m [No]\u001b[39m    0\u001b[90m [No]\u001b[39m              68      38        53\n",
            "\u001b[90m 5\u001b[39m 005       52 1\u001b[90m [Mujer]\u001b[39m  0\u001b[90m [No]\u001b[39m    0\u001b[90m [No]\u001b[39m              50      42        46\n",
            "\u001b[90m 6\u001b[39m 006       53 2\u001b[90m [Hombre]\u001b[39m 0\u001b[90m [No]\u001b[39m    0\u001b[90m [No]\u001b[39m              56      30        50\n",
            "\u001b[90m 7\u001b[39m 007       48 2\u001b[90m [Hombre]\u001b[39m 1\u001b[90m [Si]\u001b[39m    1\u001b[90m [Sí]\u001b[39m              60      42        42\n",
            "\u001b[90m 8\u001b[39m 008       52 1\u001b[90m [Mujer]\u001b[39m  1\u001b[90m [Si]\u001b[39m    0\u001b[90m [No]\u001b[39m              54      34        56\n",
            "\u001b[90m 9\u001b[39m 009       54 2\u001b[90m [Hombre]\u001b[39m 0\u001b[90m [No]\u001b[39m    0\u001b[90m [No]\u001b[39m              60      28        55\n",
            "\u001b[90m10\u001b[39m 010       55 2\u001b[90m [Hombre]\u001b[39m 1\u001b[90m [Si]\u001b[39m    1\u001b[90m [Sí]\u001b[39m              42      30        45\n",
            "\u001b[90m# ℹ 80 more rows\u001b[39m\n"
          ]
        }
      ]
    },
    {
      "cell_type": "markdown",
      "metadata": {
        "id": "J_kRZd-7d89d"
      },
      "source": [
        "## Pregunta 1\n",
        "\n",
        "Las evidencias indican que existiría una diferencia en el nivel de **optimismo** según el **sexo de las/los participantes**, con las mujeres puntuando más bajo que los hombres. Plantea y lleva a cabo los análisis estadísticos correspondientes y describe lo encontrado (8 pts).                    "
      ]
    },
    {
      "cell_type": "markdown",
      "metadata": {
        "id": "oOqMVBycd89d"
      },
      "source": [
        "## Pregunta 2\n",
        "\n",
        "El grupo de investigación quiere conocer si el mindfulness rasgo reportado varía según si se consume alcohol, o no ¿Existen evidencias de ello en el estudio? (8 pts).\n"
      ]
    },
    {
      "cell_type": "markdown",
      "metadata": {
        "id": "8AIwuFShd89d"
      },
      "source": [
        "## Pregunta 3\n",
        "\n",
        "Describe la muestra de acuerdo con las variables sociodemográficas reportadas y señala el tipo de variable y los estadísticos descriptivos que mejor brinden información sobre ellas (4 pts)."
      ]
    }
  ]
}