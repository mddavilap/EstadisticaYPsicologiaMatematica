{
 "cells": [
  {
   "attachments": {},
   "cell_type": "markdown",
   "metadata": {},
   "source": [
    "# Ejercicios: Regresión Lineal Simple"
   ]
  },
  {
   "cell_type": "code",
   "execution_count": null,
   "metadata": {},
   "outputs": [],
   "source": [
    "# Instala dependencias\n",
    "!wget https://github.com/renatoparedes/EstadisticaYPsicologiaMatematica/raw/main/INEE/Clase10_BaseRegresionLinealSimple.sav\n",
    "!pip install pingouin\n",
    "!pip install pyreadstat"
   ]
  },
  {
   "cell_type": "code",
   "execution_count": 14,
   "metadata": {},
   "outputs": [
    {
     "data": {
      "text/html": [
       "<div>\n",
       "<style scoped>\n",
       "    .dataframe tbody tr th:only-of-type {\n",
       "        vertical-align: middle;\n",
       "    }\n",
       "\n",
       "    .dataframe tbody tr th {\n",
       "        vertical-align: top;\n",
       "    }\n",
       "\n",
       "    .dataframe thead th {\n",
       "        text-align: right;\n",
       "    }\n",
       "</style>\n",
       "<table border=\"1\" class=\"dataframe\">\n",
       "  <thead>\n",
       "    <tr style=\"text-align: right;\">\n",
       "      <th></th>\n",
       "      <th>Participante</th>\n",
       "      <th>Horas_Internet</th>\n",
       "      <th>Impulsividad</th>\n",
       "      <th>Rendimiento</th>\n",
       "      <th>Uso_patológico_internet</th>\n",
       "      <th>Uso_problemático_celular</th>\n",
       "      <th>Juego_patológico</th>\n",
       "    </tr>\n",
       "  </thead>\n",
       "  <tbody>\n",
       "    <tr>\n",
       "      <th>0</th>\n",
       "      <td>001</td>\n",
       "      <td>9.192585</td>\n",
       "      <td>14.016679</td>\n",
       "      <td>5.130105</td>\n",
       "      <td>29.979415</td>\n",
       "      <td>33.466436</td>\n",
       "      <td>51.629069</td>\n",
       "    </tr>\n",
       "    <tr>\n",
       "      <th>1</th>\n",
       "      <td>002</td>\n",
       "      <td>4.417330</td>\n",
       "      <td>15.308135</td>\n",
       "      <td>2.493590</td>\n",
       "      <td>7.798216</td>\n",
       "      <td>29.608270</td>\n",
       "      <td>58.572777</td>\n",
       "    </tr>\n",
       "    <tr>\n",
       "      <th>2</th>\n",
       "      <td>003</td>\n",
       "      <td>8.970391</td>\n",
       "      <td>9.383734</td>\n",
       "      <td>3.090073</td>\n",
       "      <td>79.417020</td>\n",
       "      <td>17.480083</td>\n",
       "      <td>7.207902</td>\n",
       "    </tr>\n",
       "    <tr>\n",
       "      <th>3</th>\n",
       "      <td>004</td>\n",
       "      <td>10.627142</td>\n",
       "      <td>17.714813</td>\n",
       "      <td>8.166904</td>\n",
       "      <td>77.924891</td>\n",
       "      <td>49.801048</td>\n",
       "      <td>68.254753</td>\n",
       "    </tr>\n",
       "    <tr>\n",
       "      <th>4</th>\n",
       "      <td>005</td>\n",
       "      <td>3.229547</td>\n",
       "      <td>15.691327</td>\n",
       "      <td>6.117007</td>\n",
       "      <td>24.903253</td>\n",
       "      <td>38.303082</td>\n",
       "      <td>34.883736</td>\n",
       "    </tr>\n",
       "    <tr>\n",
       "      <th>...</th>\n",
       "      <td>...</td>\n",
       "      <td>...</td>\n",
       "      <td>...</td>\n",
       "      <td>...</td>\n",
       "      <td>...</td>\n",
       "      <td>...</td>\n",
       "      <td>...</td>\n",
       "    </tr>\n",
       "    <tr>\n",
       "      <th>145</th>\n",
       "      <td>146</td>\n",
       "      <td>14.096435</td>\n",
       "      <td>4.020885</td>\n",
       "      <td>6.034401</td>\n",
       "      <td>74.495379</td>\n",
       "      <td>13.452317</td>\n",
       "      <td>21.921853</td>\n",
       "    </tr>\n",
       "    <tr>\n",
       "      <th>146</th>\n",
       "      <td>147</td>\n",
       "      <td>2.494416</td>\n",
       "      <td>7.473597</td>\n",
       "      <td>2.017906</td>\n",
       "      <td>20.563357</td>\n",
       "      <td>32.106987</td>\n",
       "      <td>29.550263</td>\n",
       "    </tr>\n",
       "    <tr>\n",
       "      <th>147</th>\n",
       "      <td>148</td>\n",
       "      <td>1.819807</td>\n",
       "      <td>14.073889</td>\n",
       "      <td>4.752853</td>\n",
       "      <td>12.366920</td>\n",
       "      <td>37.269633</td>\n",
       "      <td>50.269255</td>\n",
       "    </tr>\n",
       "    <tr>\n",
       "      <th>148</th>\n",
       "      <td>149</td>\n",
       "      <td>9.772035</td>\n",
       "      <td>4.109418</td>\n",
       "      <td>5.968890</td>\n",
       "      <td>84.842823</td>\n",
       "      <td>17.856490</td>\n",
       "      <td>74.436065</td>\n",
       "    </tr>\n",
       "    <tr>\n",
       "      <th>149</th>\n",
       "      <td>150</td>\n",
       "      <td>4.993299</td>\n",
       "      <td>10.381116</td>\n",
       "      <td>6.871513</td>\n",
       "      <td>83.103930</td>\n",
       "      <td>15.067667</td>\n",
       "      <td>36.106814</td>\n",
       "    </tr>\n",
       "  </tbody>\n",
       "</table>\n",
       "<p>150 rows × 7 columns</p>\n",
       "</div>"
      ],
      "text/plain": [
       "    Participante  Horas_Internet  Impulsividad  Rendimiento  \\\n",
       "0            001        9.192585     14.016679     5.130105   \n",
       "1            002        4.417330     15.308135     2.493590   \n",
       "2            003        8.970391      9.383734     3.090073   \n",
       "3            004       10.627142     17.714813     8.166904   \n",
       "4            005        3.229547     15.691327     6.117007   \n",
       "..           ...             ...           ...          ...   \n",
       "145          146       14.096435      4.020885     6.034401   \n",
       "146          147        2.494416      7.473597     2.017906   \n",
       "147          148        1.819807     14.073889     4.752853   \n",
       "148          149        9.772035      4.109418     5.968890   \n",
       "149          150        4.993299     10.381116     6.871513   \n",
       "\n",
       "     Uso_patológico_internet  Uso_problemático_celular  Juego_patológico  \n",
       "0                  29.979415                 33.466436         51.629069  \n",
       "1                   7.798216                 29.608270         58.572777  \n",
       "2                  79.417020                 17.480083          7.207902  \n",
       "3                  77.924891                 49.801048         68.254753  \n",
       "4                  24.903253                 38.303082         34.883736  \n",
       "..                       ...                       ...               ...  \n",
       "145                74.495379                 13.452317         21.921853  \n",
       "146                20.563357                 32.106987         29.550263  \n",
       "147                12.366920                 37.269633         50.269255  \n",
       "148                84.842823                 17.856490         74.436065  \n",
       "149                83.103930                 15.067667         36.106814  \n",
       "\n",
       "[150 rows x 7 columns]"
      ]
     },
     "execution_count": 14,
     "metadata": {},
     "output_type": "execute_result"
    }
   ],
   "source": [
    "import pandas as pd\n",
    "import pingouin as pg\n",
    "import seaborn as sns\n",
    "import matplotlib.pyplot as plt\n",
    "import statsmodels.formula.api as smf\n",
    "import statsmodels.stats.api as sms\n",
    "import statsmodels.api as sm\n",
    "import numpy as np\n",
    "\n",
    "df = pd.read_spss(\"Clase10_BaseRegresionLinealSimple.sav\")\n",
    "df"
   ]
  },
  {
   "attachments": {},
   "cell_type": "markdown",
   "metadata": {},
   "source": [
    "### Analiza las siguientes hipótesis de estudio:"
   ]
  },
  {
   "attachments": {},
   "cell_type": "markdown",
   "metadata": {},
   "source": [
    "HT1: El uso patológico de internet predice la cantidad de horas que los estudiantes navegan en internet."
   ]
  },
  {
   "cell_type": "code",
   "execution_count": 9,
   "metadata": {},
   "outputs": [
    {
     "data": {
      "image/png": "[encoded data removed]",
      "text/plain": [
       "<Figure size 640x480 with 1 Axes>"
      ]
     },
     "metadata": {},
     "output_type": "display_data"
    }
   ],
   "source": [
    "ax = sns.regplot(x=\"Uso_patológico_internet\", y=\"Horas_Internet\", data=df)\n",
    "ax.set_xlabel(\"Uso patológico de internet\", size=14)\n",
    "ax.set_ylabel(\"Horas internet\", size=14)\n",
    "plt.show()"
   ]
  },
  {
   "cell_type": "code",
   "execution_count": 10,
   "metadata": {},
   "outputs": [
    {
     "data": {
      "text/html": [
       "<div>\n",
       "<style scoped>\n",
       "    .dataframe tbody tr th:only-of-type {\n",
       "        vertical-align: middle;\n",
       "    }\n",
       "\n",
       "    .dataframe tbody tr th {\n",
       "        vertical-align: top;\n",
       "    }\n",
       "\n",
       "    .dataframe thead th {\n",
       "        text-align: right;\n",
       "    }\n",
       "</style>\n",
       "<table border=\"1\" class=\"dataframe\">\n",
       "  <thead>\n",
       "    <tr style=\"text-align: right;\">\n",
       "      <th></th>\n",
       "      <th>W</th>\n",
       "      <th>pval</th>\n",
       "      <th>normal</th>\n",
       "    </tr>\n",
       "  </thead>\n",
       "  <tbody>\n",
       "    <tr>\n",
       "      <th>Horas_Internet</th>\n",
       "      <td>0.991445</td>\n",
       "      <td>0.504113</td>\n",
       "      <td>True</td>\n",
       "    </tr>\n",
       "    <tr>\n",
       "      <th>Uso_patológico_internet</th>\n",
       "      <td>0.947402</td>\n",
       "      <td>0.000020</td>\n",
       "      <td>False</td>\n",
       "    </tr>\n",
       "  </tbody>\n",
       "</table>\n",
       "</div>"
      ],
      "text/plain": [
       "                                W      pval  normal\n",
       "Horas_Internet           0.991445  0.504113    True\n",
       "Uso_patológico_internet  0.947402  0.000020   False"
      ]
     },
     "execution_count": 10,
     "metadata": {},
     "output_type": "execute_result"
    }
   ],
   "source": [
    "pg.normality(\n",
    "    data=df[[\"Horas_Internet\", \"Uso_patológico_internet\"]], method=\"shapiro\"\n",
    ")"
   ]
  },
  {
   "cell_type": "code",
   "execution_count": 12,
   "metadata": {},
   "outputs": [
    {
     "data": {
      "text/html": [
       "<div>\n",
       "<style scoped>\n",
       "    .dataframe tbody tr th:only-of-type {\n",
       "        vertical-align: middle;\n",
       "    }\n",
       "\n",
       "    .dataframe tbody tr th {\n",
       "        vertical-align: top;\n",
       "    }\n",
       "\n",
       "    .dataframe thead th {\n",
       "        text-align: right;\n",
       "    }\n",
       "</style>\n",
       "<table border=\"1\" class=\"dataframe\">\n",
       "  <thead>\n",
       "    <tr style=\"text-align: right;\">\n",
       "      <th></th>\n",
       "      <th>X</th>\n",
       "      <th>Y</th>\n",
       "      <th>method</th>\n",
       "      <th>alternative</th>\n",
       "      <th>n</th>\n",
       "      <th>r</th>\n",
       "      <th>CI95%</th>\n",
       "      <th>p-unc</th>\n",
       "      <th>power</th>\n",
       "    </tr>\n",
       "  </thead>\n",
       "  <tbody>\n",
       "    <tr>\n",
       "      <th>0</th>\n",
       "      <td>Horas_Internet</td>\n",
       "      <td>Uso_patológico_internet</td>\n",
       "      <td>spearman</td>\n",
       "      <td>two-sided</td>\n",
       "      <td>150</td>\n",
       "      <td>0.8028</td>\n",
       "      <td>[0.74, 0.85]</td>\n",
       "      <td>4.710828e-35</td>\n",
       "      <td>1.0</td>\n",
       "    </tr>\n",
       "  </tbody>\n",
       "</table>\n",
       "</div>"
      ],
      "text/plain": [
       "                X                        Y    method alternative    n       r  \\\n",
       "0  Horas_Internet  Uso_patológico_internet  spearman   two-sided  150  0.8028   \n",
       "\n",
       "          CI95%         p-unc  power  \n",
       "0  [0.74, 0.85]  4.710828e-35    1.0  "
      ]
     },
     "execution_count": 12,
     "metadata": {},
     "output_type": "execute_result"
    }
   ],
   "source": [
    "pg.pairwise_corr(\n",
    "    columns=[\"Horas_Internet\", \"Uso_patológico_internet\"],\n",
    "    method=\"spearman\",\n",
    "    alternative=\"two-sided\",\n",
    "    data=df,\n",
    ")"
   ]
  },
  {
   "cell_type": "code",
   "execution_count": 6,
   "metadata": {},
   "outputs": [
    {
     "data": {
      "text/html": [
       "<table class=\"simpletable\">\n",
       "<caption>OLS Regression Results</caption>\n",
       "<tr>\n",
       "  <th>Dep. Variable:</th>     <td>Horas_Internet</td>  <th>  R-squared:         </th> <td>   0.631</td>\n",
       "</tr>\n",
       "<tr>\n",
       "  <th>Model:</th>                   <td>OLS</td>       <th>  Adj. R-squared:    </th> <td>   0.629</td>\n",
       "</tr>\n",
       "<tr>\n",
       "  <th>Method:</th>             <td>Least Squares</td>  <th>  F-statistic:       </th> <td>   253.2</td>\n",
       "</tr>\n",
       "<tr>\n",
       "  <th>Date:</th>             <td>Fri, 05 May 2023</td> <th>  Prob (F-statistic):</th> <td>7.34e-34</td>\n",
       "</tr>\n",
       "<tr>\n",
       "  <th>Time:</th>                 <td>07:21:02</td>     <th>  Log-Likelihood:    </th> <td> -319.89</td>\n",
       "</tr>\n",
       "<tr>\n",
       "  <th>No. Observations:</th>      <td>   150</td>      <th>  AIC:               </th> <td>   643.8</td>\n",
       "</tr>\n",
       "<tr>\n",
       "  <th>Df Residuals:</th>          <td>   148</td>      <th>  BIC:               </th> <td>   649.8</td>\n",
       "</tr>\n",
       "<tr>\n",
       "  <th>Df Model:</th>              <td>     1</td>      <th>                     </th>     <td> </td>   \n",
       "</tr>\n",
       "<tr>\n",
       "  <th>Covariance Type:</th>      <td>nonrobust</td>    <th>                     </th>     <td> </td>   \n",
       "</tr>\n",
       "</table>\n",
       "<table class=\"simpletable\">\n",
       "<tr>\n",
       "             <td></td>                <th>coef</th>     <th>std err</th>      <th>t</th>      <th>P>|t|</th>  <th>[0.025</th>    <th>0.975]</th>  \n",
       "</tr>\n",
       "<tr>\n",
       "  <th>Intercept</th>               <td>    1.8312</td> <td>    0.343</td> <td>    5.339</td> <td> 0.000</td> <td>    1.153</td> <td>    2.509</td>\n",
       "</tr>\n",
       "<tr>\n",
       "  <th>Uso_patológico_internet</th> <td>    0.1027</td> <td>    0.006</td> <td>   15.912</td> <td> 0.000</td> <td>    0.090</td> <td>    0.115</td>\n",
       "</tr>\n",
       "</table>\n",
       "<table class=\"simpletable\">\n",
       "<tr>\n",
       "  <th>Omnibus:</th>       <td> 4.372</td> <th>  Durbin-Watson:     </th> <td>   1.850</td>\n",
       "</tr>\n",
       "<tr>\n",
       "  <th>Prob(Omnibus):</th> <td> 0.112</td> <th>  Jarque-Bera (JB):  </th> <td>   4.060</td>\n",
       "</tr>\n",
       "<tr>\n",
       "  <th>Skew:</th>          <td>-0.400</td> <th>  Prob(JB):          </th> <td>   0.131</td>\n",
       "</tr>\n",
       "<tr>\n",
       "  <th>Kurtosis:</th>      <td> 3.103</td> <th>  Cond. No.          </th> <td>    109.</td>\n",
       "</tr>\n",
       "</table><br/><br/>Notes:<br/>[1] Standard Errors assume that the covariance matrix of the errors is correctly specified."
      ],
      "text/plain": [
       "<class 'statsmodels.iolib.summary.Summary'>\n",
       "\"\"\"\n",
       "                            OLS Regression Results                            \n",
       "==============================================================================\n",
       "Dep. Variable:         Horas_Internet   R-squared:                       0.631\n",
       "Model:                            OLS   Adj. R-squared:                  0.629\n",
       "Method:                 Least Squares   F-statistic:                     253.2\n",
       "Date:                Fri, 05 May 2023   Prob (F-statistic):           7.34e-34\n",
       "Time:                        07:21:02   Log-Likelihood:                -319.89\n",
       "No. Observations:                 150   AIC:                             643.8\n",
       "Df Residuals:                     148   BIC:                             649.8\n",
       "Df Model:                           1                                         \n",
       "Covariance Type:            nonrobust                                         \n",
       "===========================================================================================\n",
       "                              coef    std err          t      P>|t|      [0.025      0.975]\n",
       "-------------------------------------------------------------------------------------------\n",
       "Intercept                   1.8312      0.343      5.339      0.000       1.153       2.509\n",
       "Uso_patológico_internet     0.1027      0.006     15.912      0.000       0.090       0.115\n",
       "==============================================================================\n",
       "Omnibus:                        4.372   Durbin-Watson:                   1.850\n",
       "Prob(Omnibus):                  0.112   Jarque-Bera (JB):                4.060\n",
       "Skew:                          -0.400   Prob(JB):                        0.131\n",
       "Kurtosis:                       3.103   Cond. No.                         109.\n",
       "==============================================================================\n",
       "\n",
       "Notes:\n",
       "[1] Standard Errors assume that the covariance matrix of the errors is correctly specified.\n",
       "\"\"\""
      ]
     },
     "execution_count": 6,
     "metadata": {},
     "output_type": "execute_result"
    }
   ],
   "source": [
    "model = smf.ols(\"Horas_Internet ~ Uso_patológico_internet\", data=df).fit()\n",
    "model.summary()"
   ]
  },
  {
   "cell_type": "code",
   "execution_count": 15,
   "metadata": {},
   "outputs": [
    {
     "name": "stdout",
     "output_type": "stream",
     "text": [
      "Error estándar de la estimación: 2.055250923789927\n"
     ]
    }
   ],
   "source": [
    "error = np.sqrt(model.mse_resid)\n",
    "print(\"Error estándar de la estimación:\", error)"
   ]
  },
  {
   "attachments": {},
   "cell_type": "markdown",
   "metadata": {},
   "source": [
    "HT2: El uso problemático del celular disminuye el rendimiento académico (RA) de estudiantes de secundaria."
   ]
  },
  {
   "cell_type": "code",
   "execution_count": 16,
   "metadata": {},
   "outputs": [
    {
     "data": {
      "image/png": "[encoded data removed]",
      "text/plain": [
       "<Figure size 640x480 with 1 Axes>"
      ]
     },
     "metadata": {},
     "output_type": "display_data"
    }
   ],
   "source": [
    "ax = sns.regplot(x=\"Uso_problemático_celular\", y=\"Rendimiento\", data=df)\n",
    "ax.set_xlabel(\"Uso problemático de celular\", size=14)\n",
    "ax.set_ylabel(\"Rendimiento académico\", size=14)\n",
    "plt.show()"
   ]
  },
  {
   "cell_type": "code",
   "execution_count": 21,
   "metadata": {},
   "outputs": [
    {
     "data": {
      "text/html": [
       "<div>\n",
       "<style scoped>\n",
       "    .dataframe tbody tr th:only-of-type {\n",
       "        vertical-align: middle;\n",
       "    }\n",
       "\n",
       "    .dataframe tbody tr th {\n",
       "        vertical-align: top;\n",
       "    }\n",
       "\n",
       "    .dataframe thead th {\n",
       "        text-align: right;\n",
       "    }\n",
       "</style>\n",
       "<table border=\"1\" class=\"dataframe\">\n",
       "  <thead>\n",
       "    <tr style=\"text-align: right;\">\n",
       "      <th></th>\n",
       "      <th>W</th>\n",
       "      <th>pval</th>\n",
       "      <th>normal</th>\n",
       "    </tr>\n",
       "  </thead>\n",
       "  <tbody>\n",
       "    <tr>\n",
       "      <th>Uso_problemático_celular</th>\n",
       "      <td>0.959132</td>\n",
       "      <td>0.000204</td>\n",
       "      <td>False</td>\n",
       "    </tr>\n",
       "    <tr>\n",
       "      <th>Rendimiento</th>\n",
       "      <td>0.994950</td>\n",
       "      <td>0.885963</td>\n",
       "      <td>True</td>\n",
       "    </tr>\n",
       "  </tbody>\n",
       "</table>\n",
       "</div>"
      ],
      "text/plain": [
       "                                 W      pval  normal\n",
       "Uso_problemático_celular  0.959132  0.000204   False\n",
       "Rendimiento               0.994950  0.885963    True"
      ]
     },
     "execution_count": 21,
     "metadata": {},
     "output_type": "execute_result"
    }
   ],
   "source": [
    "pg.normality(\n",
    "    data=df[[\"Uso_problemático_celular\", \"Rendimiento\"]], method=\"shapiro\"\n",
    ")"
   ]
  },
  {
   "cell_type": "code",
   "execution_count": 20,
   "metadata": {},
   "outputs": [
    {
     "data": {
      "text/html": [
       "<div>\n",
       "<style scoped>\n",
       "    .dataframe tbody tr th:only-of-type {\n",
       "        vertical-align: middle;\n",
       "    }\n",
       "\n",
       "    .dataframe tbody tr th {\n",
       "        vertical-align: top;\n",
       "    }\n",
       "\n",
       "    .dataframe thead th {\n",
       "        text-align: right;\n",
       "    }\n",
       "</style>\n",
       "<table border=\"1\" class=\"dataframe\">\n",
       "  <thead>\n",
       "    <tr style=\"text-align: right;\">\n",
       "      <th></th>\n",
       "      <th>X</th>\n",
       "      <th>Y</th>\n",
       "      <th>method</th>\n",
       "      <th>alternative</th>\n",
       "      <th>n</th>\n",
       "      <th>r</th>\n",
       "      <th>CI95%</th>\n",
       "      <th>p-unc</th>\n",
       "      <th>power</th>\n",
       "    </tr>\n",
       "  </thead>\n",
       "  <tbody>\n",
       "    <tr>\n",
       "      <th>0</th>\n",
       "      <td>Uso_problemático_celular</td>\n",
       "      <td>Rendimiento</td>\n",
       "      <td>spearman</td>\n",
       "      <td>less</td>\n",
       "      <td>150</td>\n",
       "      <td>0.012223</td>\n",
       "      <td>[-1.0, 0.15]</td>\n",
       "      <td>0.559007</td>\n",
       "      <td>0.036465</td>\n",
       "    </tr>\n",
       "  </tbody>\n",
       "</table>\n",
       "</div>"
      ],
      "text/plain": [
       "                          X            Y    method alternative    n         r  \\\n",
       "0  Uso_problemático_celular  Rendimiento  spearman        less  150  0.012223   \n",
       "\n",
       "          CI95%     p-unc     power  \n",
       "0  [-1.0, 0.15]  0.559007  0.036465  "
      ]
     },
     "execution_count": 20,
     "metadata": {},
     "output_type": "execute_result"
    }
   ],
   "source": [
    "pg.pairwise_corr(\n",
    "    columns=[\"Uso_problemático_celular\", \"Rendimiento\"],\n",
    "    method=\"spearman\",\n",
    "    alternative=\"less\",\n",
    "    data=df,\n",
    ")"
   ]
  },
  {
   "attachments": {},
   "cell_type": "markdown",
   "metadata": {},
   "source": [
    "HT3: El juego patológico aumenta el nivel de impulsividad de estudiantes de secundaria."
   ]
  },
  {
   "cell_type": "code",
   "execution_count": 23,
   "metadata": {},
   "outputs": [
    {
     "data": {
      "image/png": "[encoded data removed]",
      "text/plain": [
       "<Figure size 640x480 with 1 Axes>"
      ]
     },
     "metadata": {},
     "output_type": "display_data"
    }
   ],
   "source": [
    "ax = sns.regplot(x=\"Juego_patológico\", y=\"Impulsividad\", data=df)\n",
    "ax.set_xlabel(\"Juego patológico\", size=14)\n",
    "ax.set_ylabel(\"Impulsividad\", size=14)\n",
    "plt.show()"
   ]
  },
  {
   "cell_type": "code",
   "execution_count": 24,
   "metadata": {},
   "outputs": [
    {
     "data": {
      "text/html": [
       "<div>\n",
       "<style scoped>\n",
       "    .dataframe tbody tr th:only-of-type {\n",
       "        vertical-align: middle;\n",
       "    }\n",
       "\n",
       "    .dataframe tbody tr th {\n",
       "        vertical-align: top;\n",
       "    }\n",
       "\n",
       "    .dataframe thead th {\n",
       "        text-align: right;\n",
       "    }\n",
       "</style>\n",
       "<table border=\"1\" class=\"dataframe\">\n",
       "  <thead>\n",
       "    <tr style=\"text-align: right;\">\n",
       "      <th></th>\n",
       "      <th>W</th>\n",
       "      <th>pval</th>\n",
       "      <th>normal</th>\n",
       "    </tr>\n",
       "  </thead>\n",
       "  <tbody>\n",
       "    <tr>\n",
       "      <th>Juego_patológico</th>\n",
       "      <td>0.952121</td>\n",
       "      <td>0.000049</td>\n",
       "      <td>False</td>\n",
       "    </tr>\n",
       "    <tr>\n",
       "      <th>Impulsividad</th>\n",
       "      <td>0.974342</td>\n",
       "      <td>0.006577</td>\n",
       "      <td>False</td>\n",
       "    </tr>\n",
       "  </tbody>\n",
       "</table>\n",
       "</div>"
      ],
      "text/plain": [
       "                         W      pval  normal\n",
       "Juego_patológico  0.952121  0.000049   False\n",
       "Impulsividad      0.974342  0.006577   False"
      ]
     },
     "execution_count": 24,
     "metadata": {},
     "output_type": "execute_result"
    }
   ],
   "source": [
    "pg.normality(data=df[[\"Juego_patológico\", \"Impulsividad\"]], method=\"shapiro\")"
   ]
  },
  {
   "cell_type": "code",
   "execution_count": 25,
   "metadata": {},
   "outputs": [
    {
     "data": {
      "text/html": [
       "<div>\n",
       "<style scoped>\n",
       "    .dataframe tbody tr th:only-of-type {\n",
       "        vertical-align: middle;\n",
       "    }\n",
       "\n",
       "    .dataframe tbody tr th {\n",
       "        vertical-align: top;\n",
       "    }\n",
       "\n",
       "    .dataframe thead th {\n",
       "        text-align: right;\n",
       "    }\n",
       "</style>\n",
       "<table border=\"1\" class=\"dataframe\">\n",
       "  <thead>\n",
       "    <tr style=\"text-align: right;\">\n",
       "      <th></th>\n",
       "      <th>X</th>\n",
       "      <th>Y</th>\n",
       "      <th>method</th>\n",
       "      <th>alternative</th>\n",
       "      <th>n</th>\n",
       "      <th>r</th>\n",
       "      <th>CI95%</th>\n",
       "      <th>p-unc</th>\n",
       "      <th>power</th>\n",
       "    </tr>\n",
       "  </thead>\n",
       "  <tbody>\n",
       "    <tr>\n",
       "      <th>0</th>\n",
       "      <td>Juego_patológico</td>\n",
       "      <td>Impulsividad</td>\n",
       "      <td>spearman</td>\n",
       "      <td>greater</td>\n",
       "      <td>150</td>\n",
       "      <td>0.084397</td>\n",
       "      <td>[-0.05, 1.0]</td>\n",
       "      <td>0.15225</td>\n",
       "      <td>0.269133</td>\n",
       "    </tr>\n",
       "  </tbody>\n",
       "</table>\n",
       "</div>"
      ],
      "text/plain": [
       "                  X             Y    method alternative    n         r  \\\n",
       "0  Juego_patológico  Impulsividad  spearman     greater  150  0.084397   \n",
       "\n",
       "          CI95%    p-unc     power  \n",
       "0  [-0.05, 1.0]  0.15225  0.269133  "
      ]
     },
     "execution_count": 25,
     "metadata": {},
     "output_type": "execute_result"
    }
   ],
   "source": [
    "pg.pairwise_corr(\n",
    "    columns=[\"Juego_patológico\", \"Impulsividad\"],\n",
    "    method=\"spearman\",\n",
    "    alternative=\"greater\",\n",
    "    data=df,\n",
    ")"
   ]
  },
  {
   "attachments": {},
   "cell_type": "markdown",
   "metadata": {},
   "source": [
    "HT4: El uso problemático del celular aumenta la impulsividad reportada por estudiantes de secundaria."
   ]
  },
  {
   "cell_type": "code",
   "execution_count": 27,
   "metadata": {},
   "outputs": [
    {
     "data": {
      "image/png": "[encoded data removed]",
      "text/plain": [
       "<Figure size 640x480 with 1 Axes>"
      ]
     },
     "metadata": {},
     "output_type": "display_data"
    }
   ],
   "source": [
    "ax = sns.regplot(x=\"Uso_problemático_celular\", y=\"Impulsividad\", data=df)\n",
    "ax.set_xlabel(\"Uso problemático de celular\", size=14)\n",
    "ax.set_ylabel(\"Impulsividad\", size=14)\n",
    "plt.show()"
   ]
  },
  {
   "cell_type": "code",
   "execution_count": 28,
   "metadata": {},
   "outputs": [
    {
     "data": {
      "text/html": [
       "<div>\n",
       "<style scoped>\n",
       "    .dataframe tbody tr th:only-of-type {\n",
       "        vertical-align: middle;\n",
       "    }\n",
       "\n",
       "    .dataframe tbody tr th {\n",
       "        vertical-align: top;\n",
       "    }\n",
       "\n",
       "    .dataframe thead th {\n",
       "        text-align: right;\n",
       "    }\n",
       "</style>\n",
       "<table border=\"1\" class=\"dataframe\">\n",
       "  <thead>\n",
       "    <tr style=\"text-align: right;\">\n",
       "      <th></th>\n",
       "      <th>W</th>\n",
       "      <th>pval</th>\n",
       "      <th>normal</th>\n",
       "    </tr>\n",
       "  </thead>\n",
       "  <tbody>\n",
       "    <tr>\n",
       "      <th>Uso_problemático_celular</th>\n",
       "      <td>0.959132</td>\n",
       "      <td>0.000204</td>\n",
       "      <td>False</td>\n",
       "    </tr>\n",
       "    <tr>\n",
       "      <th>Impulsividad</th>\n",
       "      <td>0.974342</td>\n",
       "      <td>0.006577</td>\n",
       "      <td>False</td>\n",
       "    </tr>\n",
       "  </tbody>\n",
       "</table>\n",
       "</div>"
      ],
      "text/plain": [
       "                                 W      pval  normal\n",
       "Uso_problemático_celular  0.959132  0.000204   False\n",
       "Impulsividad              0.974342  0.006577   False"
      ]
     },
     "execution_count": 28,
     "metadata": {},
     "output_type": "execute_result"
    }
   ],
   "source": [
    "pg.normality(\n",
    "    data=df[[\"Uso_problemático_celular\", \"Impulsividad\"]], method=\"shapiro\"\n",
    ")"
   ]
  },
  {
   "cell_type": "code",
   "execution_count": 30,
   "metadata": {},
   "outputs": [
    {
     "data": {
      "text/html": [
       "<div>\n",
       "<style scoped>\n",
       "    .dataframe tbody tr th:only-of-type {\n",
       "        vertical-align: middle;\n",
       "    }\n",
       "\n",
       "    .dataframe tbody tr th {\n",
       "        vertical-align: top;\n",
       "    }\n",
       "\n",
       "    .dataframe thead th {\n",
       "        text-align: right;\n",
       "    }\n",
       "</style>\n",
       "<table border=\"1\" class=\"dataframe\">\n",
       "  <thead>\n",
       "    <tr style=\"text-align: right;\">\n",
       "      <th></th>\n",
       "      <th>X</th>\n",
       "      <th>Y</th>\n",
       "      <th>method</th>\n",
       "      <th>alternative</th>\n",
       "      <th>n</th>\n",
       "      <th>r</th>\n",
       "      <th>CI95%</th>\n",
       "      <th>p-unc</th>\n",
       "      <th>power</th>\n",
       "    </tr>\n",
       "  </thead>\n",
       "  <tbody>\n",
       "    <tr>\n",
       "      <th>0</th>\n",
       "      <td>Uso_problemático_celular</td>\n",
       "      <td>Impulsividad</td>\n",
       "      <td>spearman</td>\n",
       "      <td>two-sided</td>\n",
       "      <td>150</td>\n",
       "      <td>0.908391</td>\n",
       "      <td>[0.88, 0.93]</td>\n",
       "      <td>6.458535e-58</td>\n",
       "      <td>1.0</td>\n",
       "    </tr>\n",
       "  </tbody>\n",
       "</table>\n",
       "</div>"
      ],
      "text/plain": [
       "                          X             Y    method alternative    n  \\\n",
       "0  Uso_problemático_celular  Impulsividad  spearman   two-sided  150   \n",
       "\n",
       "          r         CI95%         p-unc  power  \n",
       "0  0.908391  [0.88, 0.93]  6.458535e-58    1.0  "
      ]
     },
     "execution_count": 30,
     "metadata": {},
     "output_type": "execute_result"
    }
   ],
   "source": [
    "pg.pairwise_corr(\n",
    "    columns=[\"Uso_problemático_celular\", \"Impulsividad\"],\n",
    "    method=\"spearman\",\n",
    "    alternative=\"two-sided\",\n",
    "    data=df,\n",
    ")"
   ]
  },
  {
   "cell_type": "code",
   "execution_count": 33,
   "metadata": {},
   "outputs": [
    {
     "data": {
      "text/html": [
       "<table class=\"simpletable\">\n",
       "<caption>OLS Regression Results</caption>\n",
       "<tr>\n",
       "  <th>Dep. Variable:</th>      <td>Impulsividad</td>   <th>  R-squared:         </th> <td>   0.819</td>\n",
       "</tr>\n",
       "<tr>\n",
       "  <th>Model:</th>                   <td>OLS</td>       <th>  Adj. R-squared:    </th> <td>   0.818</td>\n",
       "</tr>\n",
       "<tr>\n",
       "  <th>Method:</th>             <td>Least Squares</td>  <th>  F-statistic:       </th> <td>   671.3</td>\n",
       "</tr>\n",
       "<tr>\n",
       "  <th>Date:</th>             <td>Fri, 05 May 2023</td> <th>  Prob (F-statistic):</th> <td>7.28e-57</td>\n",
       "</tr>\n",
       "<tr>\n",
       "  <th>Time:</th>                 <td>07:37:50</td>     <th>  Log-Likelihood:    </th> <td> -353.21</td>\n",
       "</tr>\n",
       "<tr>\n",
       "  <th>No. Observations:</th>      <td>   150</td>      <th>  AIC:               </th> <td>   710.4</td>\n",
       "</tr>\n",
       "<tr>\n",
       "  <th>Df Residuals:</th>          <td>   148</td>      <th>  BIC:               </th> <td>   716.4</td>\n",
       "</tr>\n",
       "<tr>\n",
       "  <th>Df Model:</th>              <td>     1</td>      <th>                     </th>     <td> </td>   \n",
       "</tr>\n",
       "<tr>\n",
       "  <th>Covariance Type:</th>      <td>nonrobust</td>    <th>                     </th>     <td> </td>   \n",
       "</tr>\n",
       "</table>\n",
       "<table class=\"simpletable\">\n",
       "<tr>\n",
       "              <td></td>                <th>coef</th>     <th>std err</th>      <th>t</th>      <th>P>|t|</th>  <th>[0.025</th>    <th>0.975]</th>  \n",
       "</tr>\n",
       "<tr>\n",
       "  <th>Intercept</th>                <td>    1.7114</td> <td>    0.487</td> <td>    3.514</td> <td> 0.001</td> <td>    0.749</td> <td>    2.674</td>\n",
       "</tr>\n",
       "<tr>\n",
       "  <th>Uso_problemático_celular</th> <td>    0.3565</td> <td>    0.014</td> <td>   25.910</td> <td> 0.000</td> <td>    0.329</td> <td>    0.384</td>\n",
       "</tr>\n",
       "</table>\n",
       "<table class=\"simpletable\">\n",
       "<tr>\n",
       "  <th>Omnibus:</th>       <td> 1.427</td> <th>  Durbin-Watson:     </th> <td>   1.985</td>\n",
       "</tr>\n",
       "<tr>\n",
       "  <th>Prob(Omnibus):</th> <td> 0.490</td> <th>  Jarque-Bera (JB):  </th> <td>   1.291</td>\n",
       "</tr>\n",
       "<tr>\n",
       "  <th>Skew:</th>          <td> 0.081</td> <th>  Prob(JB):          </th> <td>   0.524</td>\n",
       "</tr>\n",
       "<tr>\n",
       "  <th>Kurtosis:</th>      <td> 2.576</td> <th>  Cond. No.          </th> <td>    82.3</td>\n",
       "</tr>\n",
       "</table><br/><br/>Notes:<br/>[1] Standard Errors assume that the covariance matrix of the errors is correctly specified."
      ],
      "text/plain": [
       "<class 'statsmodels.iolib.summary.Summary'>\n",
       "\"\"\"\n",
       "                            OLS Regression Results                            \n",
       "==============================================================================\n",
       "Dep. Variable:           Impulsividad   R-squared:                       0.819\n",
       "Model:                            OLS   Adj. R-squared:                  0.818\n",
       "Method:                 Least Squares   F-statistic:                     671.3\n",
       "Date:                Fri, 05 May 2023   Prob (F-statistic):           7.28e-57\n",
       "Time:                        07:37:50   Log-Likelihood:                -353.21\n",
       "No. Observations:                 150   AIC:                             710.4\n",
       "Df Residuals:                     148   BIC:                             716.4\n",
       "Df Model:                           1                                         \n",
       "Covariance Type:            nonrobust                                         \n",
       "============================================================================================\n",
       "                               coef    std err          t      P>|t|      [0.025      0.975]\n",
       "--------------------------------------------------------------------------------------------\n",
       "Intercept                    1.7114      0.487      3.514      0.001       0.749       2.674\n",
       "Uso_problemático_celular     0.3565      0.014     25.910      0.000       0.329       0.384\n",
       "==============================================================================\n",
       "Omnibus:                        1.427   Durbin-Watson:                   1.985\n",
       "Prob(Omnibus):                  0.490   Jarque-Bera (JB):                1.291\n",
       "Skew:                           0.081   Prob(JB):                        0.524\n",
       "Kurtosis:                       2.576   Cond. No.                         82.3\n",
       "==============================================================================\n",
       "\n",
       "Notes:\n",
       "[1] Standard Errors assume that the covariance matrix of the errors is correctly specified.\n",
       "\"\"\""
      ]
     },
     "execution_count": 33,
     "metadata": {},
     "output_type": "execute_result"
    }
   ],
   "source": [
    "model = smf.ols(\"Impulsividad ~ Uso_problemático_celular\", data=df).fit()\n",
    "model.summary()"
   ]
  },
  {
   "cell_type": "code",
   "execution_count": 34,
   "metadata": {},
   "outputs": [
    {
     "name": "stdout",
     "output_type": "stream",
     "text": [
      "Error estándar de la estimación: 2.5663286237124767\n"
     ]
    }
   ],
   "source": [
    "error = np.sqrt(model.mse_resid)\n",
    "print(\"Error estándar de la estimación:\", error)"
   ]
  },
  {
   "attachments": {},
   "cell_type": "markdown",
   "metadata": {},
   "source": [
    "HT5: El juego patológico disminuye el rendimiento académico de estudiantes de secundaria. "
   ]
  },
  {
   "cell_type": "code",
   "execution_count": 35,
   "metadata": {},
   "outputs": [
    {
     "data": {
      "image/png": "[encoded data removed]",
      "text/plain": [
       "<Figure size 640x480 with 1 Axes>"
      ]
     },
     "metadata": {},
     "output_type": "display_data"
    }
   ],
   "source": [
    "ax = sns.regplot(x=\"Juego_patológico\", y=\"Rendimiento\", data=df)\n",
    "ax.set_xlabel(\"Juego patológico\", size=14)\n",
    "ax.set_ylabel(\"Rendimiento académico\", size=14)\n",
    "plt.show()"
   ]
  },
  {
   "cell_type": "code",
   "execution_count": 36,
   "metadata": {},
   "outputs": [
    {
     "data": {
      "text/html": [
       "<div>\n",
       "<style scoped>\n",
       "    .dataframe tbody tr th:only-of-type {\n",
       "        vertical-align: middle;\n",
       "    }\n",
       "\n",
       "    .dataframe tbody tr th {\n",
       "        vertical-align: top;\n",
       "    }\n",
       "\n",
       "    .dataframe thead th {\n",
       "        text-align: right;\n",
       "    }\n",
       "</style>\n",
       "<table border=\"1\" class=\"dataframe\">\n",
       "  <thead>\n",
       "    <tr style=\"text-align: right;\">\n",
       "      <th></th>\n",
       "      <th>W</th>\n",
       "      <th>pval</th>\n",
       "      <th>normal</th>\n",
       "    </tr>\n",
       "  </thead>\n",
       "  <tbody>\n",
       "    <tr>\n",
       "      <th>Juego_patológico</th>\n",
       "      <td>0.952121</td>\n",
       "      <td>0.000049</td>\n",
       "      <td>False</td>\n",
       "    </tr>\n",
       "    <tr>\n",
       "      <th>Rendimiento</th>\n",
       "      <td>0.994950</td>\n",
       "      <td>0.885963</td>\n",
       "      <td>True</td>\n",
       "    </tr>\n",
       "  </tbody>\n",
       "</table>\n",
       "</div>"
      ],
      "text/plain": [
       "                         W      pval  normal\n",
       "Juego_patológico  0.952121  0.000049   False\n",
       "Rendimiento       0.994950  0.885963    True"
      ]
     },
     "execution_count": 36,
     "metadata": {},
     "output_type": "execute_result"
    }
   ],
   "source": [
    "pg.normality(data=df[[\"Juego_patológico\", \"Rendimiento\"]], method=\"shapiro\")"
   ]
  },
  {
   "cell_type": "code",
   "execution_count": 38,
   "metadata": {},
   "outputs": [
    {
     "data": {
      "text/html": [
       "<div>\n",
       "<style scoped>\n",
       "    .dataframe tbody tr th:only-of-type {\n",
       "        vertical-align: middle;\n",
       "    }\n",
       "\n",
       "    .dataframe tbody tr th {\n",
       "        vertical-align: top;\n",
       "    }\n",
       "\n",
       "    .dataframe thead th {\n",
       "        text-align: right;\n",
       "    }\n",
       "</style>\n",
       "<table border=\"1\" class=\"dataframe\">\n",
       "  <thead>\n",
       "    <tr style=\"text-align: right;\">\n",
       "      <th></th>\n",
       "      <th>X</th>\n",
       "      <th>Y</th>\n",
       "      <th>method</th>\n",
       "      <th>alternative</th>\n",
       "      <th>n</th>\n",
       "      <th>r</th>\n",
       "      <th>CI95%</th>\n",
       "      <th>p-unc</th>\n",
       "      <th>power</th>\n",
       "    </tr>\n",
       "  </thead>\n",
       "  <tbody>\n",
       "    <tr>\n",
       "      <th>0</th>\n",
       "      <td>Juego_patológico</td>\n",
       "      <td>Rendimiento</td>\n",
       "      <td>spearman</td>\n",
       "      <td>less</td>\n",
       "      <td>150</td>\n",
       "      <td>0.706497</td>\n",
       "      <td>[-1.0, 0.77]</td>\n",
       "      <td>1.0</td>\n",
       "      <td>2.603741e-35</td>\n",
       "    </tr>\n",
       "  </tbody>\n",
       "</table>\n",
       "</div>"
      ],
      "text/plain": [
       "                  X            Y    method alternative    n         r  \\\n",
       "0  Juego_patológico  Rendimiento  spearman        less  150  0.706497   \n",
       "\n",
       "          CI95%  p-unc         power  \n",
       "0  [-1.0, 0.77]    1.0  2.603741e-35  "
      ]
     },
     "execution_count": 38,
     "metadata": {},
     "output_type": "execute_result"
    }
   ],
   "source": [
    "pg.pairwise_corr(\n",
    "    columns=[\"Juego_patológico\", \"Rendimiento\"],\n",
    "    method=\"spearman\",\n",
    "    alternative=\"less\",\n",
    "    data=df,\n",
    ")"
   ]
  },
  {
   "cell_type": "code",
   "execution_count": 39,
   "metadata": {},
   "outputs": [
    {
     "data": {
      "text/html": [
       "<table class=\"simpletable\">\n",
       "<caption>OLS Regression Results</caption>\n",
       "<tr>\n",
       "  <th>Dep. Variable:</th>       <td>Rendimiento</td>   <th>  R-squared:         </th> <td>   0.491</td>\n",
       "</tr>\n",
       "<tr>\n",
       "  <th>Model:</th>                   <td>OLS</td>       <th>  Adj. R-squared:    </th> <td>   0.487</td>\n",
       "</tr>\n",
       "<tr>\n",
       "  <th>Method:</th>             <td>Least Squares</td>  <th>  F-statistic:       </th> <td>   142.7</td>\n",
       "</tr>\n",
       "<tr>\n",
       "  <th>Date:</th>             <td>Fri, 05 May 2023</td> <th>  Prob (F-statistic):</th> <td>1.89e-23</td>\n",
       "</tr>\n",
       "<tr>\n",
       "  <th>Time:</th>                 <td>07:40:34</td>     <th>  Log-Likelihood:    </th> <td> -323.89</td>\n",
       "</tr>\n",
       "<tr>\n",
       "  <th>No. Observations:</th>      <td>   150</td>      <th>  AIC:               </th> <td>   651.8</td>\n",
       "</tr>\n",
       "<tr>\n",
       "  <th>Df Residuals:</th>          <td>   148</td>      <th>  BIC:               </th> <td>   657.8</td>\n",
       "</tr>\n",
       "<tr>\n",
       "  <th>Df Model:</th>              <td>     1</td>      <th>                     </th>     <td> </td>   \n",
       "</tr>\n",
       "<tr>\n",
       "  <th>Covariance Type:</th>      <td>nonrobust</td>    <th>                     </th>     <td> </td>   \n",
       "</tr>\n",
       "</table>\n",
       "<table class=\"simpletable\">\n",
       "<tr>\n",
       "          <td></td>            <th>coef</th>     <th>std err</th>      <th>t</th>      <th>P>|t|</th>  <th>[0.025</th>    <th>0.975]</th>  \n",
       "</tr>\n",
       "<tr>\n",
       "  <th>Intercept</th>        <td>    1.8721</td> <td>    0.391</td> <td>    4.792</td> <td> 0.000</td> <td>    1.100</td> <td>    2.644</td>\n",
       "</tr>\n",
       "<tr>\n",
       "  <th>Juego_patológico</th> <td>    0.0974</td> <td>    0.008</td> <td>   11.944</td> <td> 0.000</td> <td>    0.081</td> <td>    0.114</td>\n",
       "</tr>\n",
       "</table>\n",
       "<table class=\"simpletable\">\n",
       "<tr>\n",
       "  <th>Omnibus:</th>       <td> 2.983</td> <th>  Durbin-Watson:     </th> <td>   1.822</td>\n",
       "</tr>\n",
       "<tr>\n",
       "  <th>Prob(Omnibus):</th> <td> 0.225</td> <th>  Jarque-Bera (JB):  </th> <td>   2.556</td>\n",
       "</tr>\n",
       "<tr>\n",
       "  <th>Skew:</th>          <td> 0.306</td> <th>  Prob(JB):          </th> <td>   0.279</td>\n",
       "</tr>\n",
       "<tr>\n",
       "  <th>Kurtosis:</th>      <td> 3.183</td> <th>  Cond. No.          </th> <td>    109.</td>\n",
       "</tr>\n",
       "</table><br/><br/>Notes:<br/>[1] Standard Errors assume that the covariance matrix of the errors is correctly specified."
      ],
      "text/plain": [
       "<class 'statsmodels.iolib.summary.Summary'>\n",
       "\"\"\"\n",
       "                            OLS Regression Results                            \n",
       "==============================================================================\n",
       "Dep. Variable:            Rendimiento   R-squared:                       0.491\n",
       "Model:                            OLS   Adj. R-squared:                  0.487\n",
       "Method:                 Least Squares   F-statistic:                     142.7\n",
       "Date:                Fri, 05 May 2023   Prob (F-statistic):           1.89e-23\n",
       "Time:                        07:40:34   Log-Likelihood:                -323.89\n",
       "No. Observations:                 150   AIC:                             651.8\n",
       "Df Residuals:                     148   BIC:                             657.8\n",
       "Df Model:                           1                                         \n",
       "Covariance Type:            nonrobust                                         \n",
       "====================================================================================\n",
       "                       coef    std err          t      P>|t|      [0.025      0.975]\n",
       "------------------------------------------------------------------------------------\n",
       "Intercept            1.8721      0.391      4.792      0.000       1.100       2.644\n",
       "Juego_patológico     0.0974      0.008     11.944      0.000       0.081       0.114\n",
       "==============================================================================\n",
       "Omnibus:                        2.983   Durbin-Watson:                   1.822\n",
       "Prob(Omnibus):                  0.225   Jarque-Bera (JB):                2.556\n",
       "Skew:                           0.306   Prob(JB):                        0.279\n",
       "Kurtosis:                       3.183   Cond. No.                         109.\n",
       "==============================================================================\n",
       "\n",
       "Notes:\n",
       "[1] Standard Errors assume that the covariance matrix of the errors is correctly specified.\n",
       "\"\"\""
      ]
     },
     "execution_count": 39,
     "metadata": {},
     "output_type": "execute_result"
    }
   ],
   "source": [
    "model = smf.ols(\"Rendimiento ~ Juego_patológico\", data=df).fit()\n",
    "model.summary()"
   ]
  },
  {
   "cell_type": "code",
   "execution_count": 40,
   "metadata": {},
   "outputs": [
    {
     "name": "stdout",
     "output_type": "stream",
     "text": [
      "Error estándar de la estimación: 2.110677533987612\n"
     ]
    }
   ],
   "source": [
    "error = np.sqrt(model.mse_resid)\n",
    "print(\"Error estándar de la estimación:\", error)"
   ]
  }
 ],
 "metadata": {
  "kernelspec": {
   "display_name": "stats",
   "language": "python",
   "name": "python3"
  },
  "language_info": {
   "codemirror_mode": {
    "name": "ipython",
    "version": 3
   },
   "file_extension": ".py",
   "mimetype": "text/x-python",
   "name": "python",
   "nbconvert_exporter": "python",
   "pygments_lexer": "ipython3",
   "version": "3.7.14"
  },
  "orig_nbformat": 4,
  "vscode": {
   "interpreter": {
    "hash": "8df12303a5084d795bcef355ea103bbaab8787933417cf27c2f95a588cdf8ee7"
   }
  }
 },
 "nbformat": 4,
 "nbformat_minor": 2
}
