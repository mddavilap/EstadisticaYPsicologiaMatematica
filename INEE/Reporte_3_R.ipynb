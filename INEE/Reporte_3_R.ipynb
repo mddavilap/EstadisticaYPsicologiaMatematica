{
  "nbformat": 4,
  "nbformat_minor": 0,
  "metadata": {
    "colab": {
      "provenance": []
    },
    "kernelspec": {
      "name": "ir",
      "display_name": "R"
    },
    "language_info": {
      "name": "R"
    }
  },
  "cells": [
    {
      "cell_type": "markdown",
      "metadata": {
        "id": "utOhRIJYmd-7"
      },
      "source": [
        "# Reporte escrito 3"
      ]
    },
    {
      "cell_type": "code",
      "source": [
        "# Instala dependencias\n",
        "install.packages(\"tidyverse\")\n",
        "install.packages(\"rstatix\")"
      ],
      "metadata": {
        "colab": {
          "base_uri": "https://localhost:8080/"
        },
        "id": "ulqroWjYmuCU",
        "outputId": "22d7a97e-9435-4fac-cb2b-2562781686ff"
      },
      "execution_count": 1,
      "outputs": [
        {
          "output_type": "stream",
          "name": "stderr",
          "text": [
            "Installing package into ‘/usr/local/lib/R/site-library’\n",
            "(as ‘lib’ is unspecified)\n",
            "\n",
            "also installing the dependencies ‘textshaping’, ‘conflicted’, ‘jsonlite’, ‘ragg’\n",
            "\n",
            "\n",
            "Warning message in install.packages(\"tidyverse\"):\n",
            "“installation of package ‘textshaping’ had non-zero exit status”\n",
            "Warning message in install.packages(\"tidyverse\"):\n",
            "“installation of package ‘ragg’ had non-zero exit status”\n",
            "Warning message in install.packages(\"tidyverse\"):\n",
            "“installation of package ‘tidyverse’ had non-zero exit status”\n",
            "Installing package into ‘/usr/local/lib/R/site-library’\n",
            "(as ‘lib’ is unspecified)\n",
            "\n",
            "also installing the dependencies ‘numDeriv’, ‘SparseM’, ‘MatrixModels’, ‘minqa’, ‘nloptr’, ‘Rcpp’, ‘RcppEigen’, ‘carData’, ‘abind’, ‘pbkrtest’, ‘quantreg’, ‘lme4’, ‘corrplot’, ‘car’\n",
            "\n",
            "\n"
          ]
        }
      ]
    },
    {
      "cell_type": "markdown",
      "metadata": {
        "id": "idVwoex_md_E"
      },
      "source": [
        "En las respuestas deben indicar:\n",
        "\n",
        "- Hipótesis de trabajo e hipótesis estadísticas, de manera correspondiente.\n",
        "- Resultados de prueba de normalidad para las distribuciones de las variables de estudio.\n",
        "- Indicadores estadísticos utilizados (SW, F, r, R2 B, ß) así como el valor p correspondiente, y la magnitud según criterios de Cohen, de ser pertinente.\n",
        "- Redacción de las conclusiones."
      ]
    },
    {
      "cell_type": "markdown",
      "metadata": {
        "id": "eqCZzAofmd_E"
      },
      "source": [
        "En un estudio con 140 adultos diagnosticados con diabetes tipo II (47.9% mujeres) se recogió información sobre adherencia al tratamiento (Sí-No), calidad de vida relacionada con la salud (CVRS), soporte familiar, tiempo de tratamiento en meses y puntajes de evaluaciones de memoria a corto plazo. También se registraron datos de sexo (Mujer-Hombre) y edad."
      ]
    },
    {
      "cell_type": "code",
      "source": [
        "library(tidyverse)\n",
        "library(rstatix)\n",
        "\n",
        "df = haven::read_sav(\"https://github.com/renatoparedes/EstadisticaYPsicologiaMatematica/raw/main/INEE/BaseReporte3.sav\")\n",
        "\n",
        "df"
      ],
      "metadata": {
        "colab": {
          "base_uri": "https://localhost:8080/",
          "height": 1000
        },
        "id": "o595E08UnQeU",
        "outputId": "cad849ba-94c4-4d85-8dc0-370a5c9c5b6e"
      },
      "execution_count": 6,
      "outputs": [
        {
          "output_type": "stream",
          "name": "stderr",
          "text": [
            "\n",
            "Attaching package: ‘rstatix’\n",
            "\n",
            "\n",
            "The following object is masked from ‘package:stats’:\n",
            "\n",
            "    filter\n",
            "\n",
            "\n"
          ]
        },
        {
          "output_type": "display_data",
          "data": {
            "text/html": [
              "<table class=\"dataframe\">\n",
              "<caption>A tibble: 140 × 8</caption>\n",
              "<thead>\n",
              "\t<tr><th scope=col>Código</th><th scope=col>Sexo</th><th scope=col>Edad</th><th scope=col>Adherencia</th><th scope=col>CVRS</th><th scope=col>SoporteFam</th><th scope=col>TTratamiento</th><th scope=col>MemCorto</th></tr>\n",
              "\t<tr><th scope=col>&lt;chr&gt;</th><th scope=col>&lt;dbl+lbl&gt;</th><th scope=col>&lt;dbl&gt;</th><th scope=col>&lt;dbl+lbl&gt;</th><th scope=col>&lt;dbl&gt;</th><th scope=col>&lt;dbl&gt;</th><th scope=col>&lt;dbl&gt;</th><th scope=col>&lt;dbl&gt;</th></tr>\n",
              "</thead>\n",
              "<tbody>\n",
              "\t<tr><td>001</td><td>1</td><td>59</td><td>0</td><td>37.0</td><td>23.50</td><td>10</td><td>56</td></tr>\n",
              "\t<tr><td>002</td><td>1</td><td>54</td><td>0</td><td>38.0</td><td>22.50</td><td> 3</td><td>43</td></tr>\n",
              "\t<tr><td>003</td><td>1</td><td>60</td><td>0</td><td>38.5</td><td>23.50</td><td> 5</td><td>52</td></tr>\n",
              "\t<tr><td>004</td><td>1</td><td>62</td><td>0</td><td>38.0</td><td>22.25</td><td> 7</td><td>55</td></tr>\n",
              "\t<tr><td>005</td><td>1</td><td>55</td><td>0</td><td>38.0</td><td>22.75</td><td> 6</td><td>52</td></tr>\n",
              "\t<tr><td>006</td><td>2</td><td>56</td><td>0</td><td>38.5</td><td>22.50</td><td> 6</td><td>51</td></tr>\n",
              "\t<tr><td>007</td><td>2</td><td>51</td><td>0</td><td>37.0</td><td>22.50</td><td> 9</td><td>54</td></tr>\n",
              "\t<tr><td>008</td><td>2</td><td>50</td><td>0</td><td>38.0</td><td>22.75</td><td> 7</td><td>57</td></tr>\n",
              "\t<tr><td>009</td><td>1</td><td>45</td><td>0</td><td>38.0</td><td>23.75</td><td> 3</td><td>40</td></tr>\n",
              "\t<tr><td>010</td><td>1</td><td>46</td><td>0</td><td>38.0</td><td>24.25</td><td> 4</td><td>43</td></tr>\n",
              "\t<tr><td>011</td><td>2</td><td>48</td><td>0</td><td>38.5</td><td>22.50</td><td> 3</td><td>45</td></tr>\n",
              "\t<tr><td>012</td><td>1</td><td>47</td><td>0</td><td>38.0</td><td>22.75</td><td> 4</td><td>45</td></tr>\n",
              "\t<tr><td>013</td><td>1</td><td>48</td><td>0</td><td>39.0</td><td>23.50</td><td> 4</td><td>41</td></tr>\n",
              "\t<tr><td>014</td><td>2</td><td>49</td><td>0</td><td>39.0</td><td>23.50</td><td> 3</td><td>43</td></tr>\n",
              "\t<tr><td>015</td><td>2</td><td>69</td><td>0</td><td>37.0</td><td>22.75</td><td>30</td><td>75</td></tr>\n",
              "\t<tr><td>016</td><td>1</td><td>68</td><td>0</td><td>38.0</td><td>24.50</td><td>36</td><td>67</td></tr>\n",
              "\t<tr><td>017</td><td>1</td><td>67</td><td>0</td><td>38.0</td><td>23.50</td><td>12</td><td>62</td></tr>\n",
              "\t<tr><td>018</td><td>2</td><td>66</td><td>0</td><td>38.5</td><td>23.25</td><td>26</td><td>73</td></tr>\n",
              "\t<tr><td>019</td><td>1</td><td>66</td><td>0</td><td>38.5</td><td>22.75</td><td>23</td><td>74</td></tr>\n",
              "\t<tr><td>020</td><td>1</td><td>64</td><td>0</td><td>38.0</td><td>23.25</td><td>17</td><td>65</td></tr>\n",
              "\t<tr><td>021</td><td>2</td><td>63</td><td>0</td><td>38.0</td><td>22.75</td><td>28</td><td>75</td></tr>\n",
              "\t<tr><td>022</td><td>1</td><td>63</td><td>0</td><td>39.0</td><td>22.25</td><td>17</td><td>64</td></tr>\n",
              "\t<tr><td>023</td><td>1</td><td>62</td><td>0</td><td>37.5</td><td>22.75</td><td>32</td><td>70</td></tr>\n",
              "\t<tr><td>024</td><td>1</td><td>62</td><td>0</td><td>38.5</td><td>22.75</td><td>25</td><td>69</td></tr>\n",
              "\t<tr><td>025</td><td>2</td><td>61</td><td>0</td><td>38.0</td><td>22.25</td><td>30</td><td>72</td></tr>\n",
              "\t<tr><td>026</td><td>1</td><td>60</td><td>1</td><td>38.0</td><td>22.50</td><td>35</td><td>69</td></tr>\n",
              "\t<tr><td>027</td><td>2</td><td>60</td><td>0</td><td>38.5</td><td>24.25</td><td>18</td><td>71</td></tr>\n",
              "\t<tr><td>028</td><td>1</td><td>70</td><td>0</td><td>38.5</td><td>22.75</td><td>21</td><td>73</td></tr>\n",
              "\t<tr><td>029</td><td>2</td><td>59</td><td>0</td><td>38.0</td><td>22.50</td><td>33</td><td>69</td></tr>\n",
              "\t<tr><td>030</td><td>2</td><td>62</td><td>0</td><td>38.5</td><td>22.75</td><td>20</td><td>72</td></tr>\n",
              "\t<tr><td>⋮</td><td>⋮</td><td>⋮</td><td>⋮</td><td>⋮</td><td>⋮</td><td>⋮</td><td>⋮</td></tr>\n",
              "\t<tr><td>111</td><td>2</td><td>53</td><td>1</td><td>38.0</td><td>26.50</td><td>16</td><td>71</td></tr>\n",
              "\t<tr><td>112</td><td>2</td><td>54</td><td>1</td><td>38.0</td><td>25.50</td><td>16</td><td>67</td></tr>\n",
              "\t<tr><td>113</td><td>2</td><td>55</td><td>1</td><td>38.5</td><td>26.25</td><td>16</td><td>70</td></tr>\n",
              "\t<tr><td>114</td><td>2</td><td>57</td><td>0</td><td>27.5</td><td>22.25</td><td>12</td><td>57</td></tr>\n",
              "\t<tr><td>115</td><td>2</td><td>58</td><td>1</td><td>38.0</td><td>26.75</td><td>12</td><td>60</td></tr>\n",
              "\t<tr><td>116</td><td>2</td><td>64</td><td>1</td><td>37.0</td><td>28.75</td><td>15</td><td>67</td></tr>\n",
              "\t<tr><td>117</td><td>2</td><td>67</td><td>0</td><td>32.0</td><td>30.00</td><td>30</td><td>67</td></tr>\n",
              "\t<tr><td>118</td><td>2</td><td>55</td><td>1</td><td>38.5</td><td>21.25</td><td>12</td><td>57</td></tr>\n",
              "\t<tr><td>119</td><td>2</td><td>50</td><td>1</td><td>39.0</td><td>22.50</td><td>13</td><td>61</td></tr>\n",
              "\t<tr><td>120</td><td>2</td><td>60</td><td>0</td><td>27.5</td><td>21.50</td><td>11</td><td>58</td></tr>\n",
              "\t<tr><td>121</td><td>2</td><td>61</td><td>1</td><td>39.5</td><td>22.25</td><td>10</td><td>56</td></tr>\n",
              "\t<tr><td>122</td><td>2</td><td>59</td><td>1</td><td>40.0</td><td>21.50</td><td>12</td><td>63</td></tr>\n",
              "\t<tr><td>123</td><td>2</td><td>58</td><td>1</td><td>38.0</td><td>23.25</td><td> 7</td><td>56</td></tr>\n",
              "\t<tr><td>124</td><td>2</td><td>62</td><td>1</td><td>37.5</td><td>22.25</td><td> 8</td><td>51</td></tr>\n",
              "\t<tr><td>125</td><td>2</td><td>63</td><td>1</td><td>39.0</td><td>21.50</td><td> 3</td><td>45</td></tr>\n",
              "\t<tr><td>126</td><td>2</td><td>66</td><td>1</td><td>39.5</td><td>21.75</td><td> 1</td><td>37</td></tr>\n",
              "\t<tr><td>127</td><td>2</td><td>47</td><td>1</td><td>38.5</td><td>21.50</td><td> 4</td><td>41</td></tr>\n",
              "\t<tr><td>128</td><td>2</td><td>65</td><td>1</td><td>38.0</td><td>22.75</td><td>40</td><td>60</td></tr>\n",
              "\t<tr><td>129</td><td>2</td><td>55</td><td>1</td><td>38.0</td><td>22.75</td><td>38</td><td>58</td></tr>\n",
              "\t<tr><td>130</td><td>1</td><td>48</td><td>1</td><td>39.0</td><td>22.25</td><td>14</td><td>60</td></tr>\n",
              "\t<tr><td>131</td><td>1</td><td>54</td><td>1</td><td>38.5</td><td>22.50</td><td>17</td><td>68</td></tr>\n",
              "\t<tr><td>132</td><td>1</td><td>58</td><td>1</td><td>38.5</td><td>21.25</td><td>14</td><td>70</td></tr>\n",
              "\t<tr><td>133</td><td>1</td><td>45</td><td>1</td><td>38.5</td><td>22.50</td><td>13</td><td>65</td></tr>\n",
              "\t<tr><td>134</td><td>1</td><td>48</td><td>1</td><td>37.5</td><td>22.25</td><td>14</td><td>64</td></tr>\n",
              "\t<tr><td>135</td><td>1</td><td>52</td><td>1</td><td>38.0</td><td>23.25</td><td>37</td><td>60</td></tr>\n",
              "\t<tr><td>136</td><td>1</td><td>62</td><td>1</td><td>37.5</td><td>21.75</td><td>12</td><td>58</td></tr>\n",
              "\t<tr><td>137</td><td>1</td><td>68</td><td>1</td><td>37.0</td><td>23.25</td><td> 9</td><td>59</td></tr>\n",
              "\t<tr><td>138</td><td>1</td><td>56</td><td>1</td><td>37.5</td><td>23.25</td><td> 8</td><td>51</td></tr>\n",
              "\t<tr><td>139</td><td>1</td><td>53</td><td>1</td><td>37.5</td><td>24.25</td><td> 8</td><td>51</td></tr>\n",
              "\t<tr><td>140</td><td>1</td><td>44</td><td>1</td><td>38.5</td><td>21.75</td><td> 8</td><td>51</td></tr>\n",
              "</tbody>\n",
              "</table>\n"
            ],
            "text/markdown": "\nA tibble: 140 × 8\n\n| Código &lt;chr&gt; | Sexo &lt;dbl+lbl&gt; | Edad &lt;dbl&gt; | Adherencia &lt;dbl+lbl&gt; | CVRS &lt;dbl&gt; | SoporteFam &lt;dbl&gt; | TTratamiento &lt;dbl&gt; | MemCorto &lt;dbl&gt; |\n|---|---|---|---|---|---|---|---|\n| 001 | 1 | 59 | 0 | 37.0 | 23.50 | 10 | 56 |\n| 002 | 1 | 54 | 0 | 38.0 | 22.50 |  3 | 43 |\n| 003 | 1 | 60 | 0 | 38.5 | 23.50 |  5 | 52 |\n| 004 | 1 | 62 | 0 | 38.0 | 22.25 |  7 | 55 |\n| 005 | 1 | 55 | 0 | 38.0 | 22.75 |  6 | 52 |\n| 006 | 2 | 56 | 0 | 38.5 | 22.50 |  6 | 51 |\n| 007 | 2 | 51 | 0 | 37.0 | 22.50 |  9 | 54 |\n| 008 | 2 | 50 | 0 | 38.0 | 22.75 |  7 | 57 |\n| 009 | 1 | 45 | 0 | 38.0 | 23.75 |  3 | 40 |\n| 010 | 1 | 46 | 0 | 38.0 | 24.25 |  4 | 43 |\n| 011 | 2 | 48 | 0 | 38.5 | 22.50 |  3 | 45 |\n| 012 | 1 | 47 | 0 | 38.0 | 22.75 |  4 | 45 |\n| 013 | 1 | 48 | 0 | 39.0 | 23.50 |  4 | 41 |\n| 014 | 2 | 49 | 0 | 39.0 | 23.50 |  3 | 43 |\n| 015 | 2 | 69 | 0 | 37.0 | 22.75 | 30 | 75 |\n| 016 | 1 | 68 | 0 | 38.0 | 24.50 | 36 | 67 |\n| 017 | 1 | 67 | 0 | 38.0 | 23.50 | 12 | 62 |\n| 018 | 2 | 66 | 0 | 38.5 | 23.25 | 26 | 73 |\n| 019 | 1 | 66 | 0 | 38.5 | 22.75 | 23 | 74 |\n| 020 | 1 | 64 | 0 | 38.0 | 23.25 | 17 | 65 |\n| 021 | 2 | 63 | 0 | 38.0 | 22.75 | 28 | 75 |\n| 022 | 1 | 63 | 0 | 39.0 | 22.25 | 17 | 64 |\n| 023 | 1 | 62 | 0 | 37.5 | 22.75 | 32 | 70 |\n| 024 | 1 | 62 | 0 | 38.5 | 22.75 | 25 | 69 |\n| 025 | 2 | 61 | 0 | 38.0 | 22.25 | 30 | 72 |\n| 026 | 1 | 60 | 1 | 38.0 | 22.50 | 35 | 69 |\n| 027 | 2 | 60 | 0 | 38.5 | 24.25 | 18 | 71 |\n| 028 | 1 | 70 | 0 | 38.5 | 22.75 | 21 | 73 |\n| 029 | 2 | 59 | 0 | 38.0 | 22.50 | 33 | 69 |\n| 030 | 2 | 62 | 0 | 38.5 | 22.75 | 20 | 72 |\n| ⋮ | ⋮ | ⋮ | ⋮ | ⋮ | ⋮ | ⋮ | ⋮ |\n| 111 | 2 | 53 | 1 | 38.0 | 26.50 | 16 | 71 |\n| 112 | 2 | 54 | 1 | 38.0 | 25.50 | 16 | 67 |\n| 113 | 2 | 55 | 1 | 38.5 | 26.25 | 16 | 70 |\n| 114 | 2 | 57 | 0 | 27.5 | 22.25 | 12 | 57 |\n| 115 | 2 | 58 | 1 | 38.0 | 26.75 | 12 | 60 |\n| 116 | 2 | 64 | 1 | 37.0 | 28.75 | 15 | 67 |\n| 117 | 2 | 67 | 0 | 32.0 | 30.00 | 30 | 67 |\n| 118 | 2 | 55 | 1 | 38.5 | 21.25 | 12 | 57 |\n| 119 | 2 | 50 | 1 | 39.0 | 22.50 | 13 | 61 |\n| 120 | 2 | 60 | 0 | 27.5 | 21.50 | 11 | 58 |\n| 121 | 2 | 61 | 1 | 39.5 | 22.25 | 10 | 56 |\n| 122 | 2 | 59 | 1 | 40.0 | 21.50 | 12 | 63 |\n| 123 | 2 | 58 | 1 | 38.0 | 23.25 |  7 | 56 |\n| 124 | 2 | 62 | 1 | 37.5 | 22.25 |  8 | 51 |\n| 125 | 2 | 63 | 1 | 39.0 | 21.50 |  3 | 45 |\n| 126 | 2 | 66 | 1 | 39.5 | 21.75 |  1 | 37 |\n| 127 | 2 | 47 | 1 | 38.5 | 21.50 |  4 | 41 |\n| 128 | 2 | 65 | 1 | 38.0 | 22.75 | 40 | 60 |\n| 129 | 2 | 55 | 1 | 38.0 | 22.75 | 38 | 58 |\n| 130 | 1 | 48 | 1 | 39.0 | 22.25 | 14 | 60 |\n| 131 | 1 | 54 | 1 | 38.5 | 22.50 | 17 | 68 |\n| 132 | 1 | 58 | 1 | 38.5 | 21.25 | 14 | 70 |\n| 133 | 1 | 45 | 1 | 38.5 | 22.50 | 13 | 65 |\n| 134 | 1 | 48 | 1 | 37.5 | 22.25 | 14 | 64 |\n| 135 | 1 | 52 | 1 | 38.0 | 23.25 | 37 | 60 |\n| 136 | 1 | 62 | 1 | 37.5 | 21.75 | 12 | 58 |\n| 137 | 1 | 68 | 1 | 37.0 | 23.25 |  9 | 59 |\n| 138 | 1 | 56 | 1 | 37.5 | 23.25 |  8 | 51 |\n| 139 | 1 | 53 | 1 | 37.5 | 24.25 |  8 | 51 |\n| 140 | 1 | 44 | 1 | 38.5 | 21.75 |  8 | 51 |\n\n",
            "text/latex": "A tibble: 140 × 8\n\\begin{tabular}{llllllll}\n Código & Sexo & Edad & Adherencia & CVRS & SoporteFam & TTratamiento & MemCorto\\\\\n <chr> & <dbl+lbl> & <dbl> & <dbl+lbl> & <dbl> & <dbl> & <dbl> & <dbl>\\\\\n\\hline\n\t 001 & 1 & 59 & 0 & 37.0 & 23.50 & 10 & 56\\\\\n\t 002 & 1 & 54 & 0 & 38.0 & 22.50 &  3 & 43\\\\\n\t 003 & 1 & 60 & 0 & 38.5 & 23.50 &  5 & 52\\\\\n\t 004 & 1 & 62 & 0 & 38.0 & 22.25 &  7 & 55\\\\\n\t 005 & 1 & 55 & 0 & 38.0 & 22.75 &  6 & 52\\\\\n\t 006 & 2 & 56 & 0 & 38.5 & 22.50 &  6 & 51\\\\\n\t 007 & 2 & 51 & 0 & 37.0 & 22.50 &  9 & 54\\\\\n\t 008 & 2 & 50 & 0 & 38.0 & 22.75 &  7 & 57\\\\\n\t 009 & 1 & 45 & 0 & 38.0 & 23.75 &  3 & 40\\\\\n\t 010 & 1 & 46 & 0 & 38.0 & 24.25 &  4 & 43\\\\\n\t 011 & 2 & 48 & 0 & 38.5 & 22.50 &  3 & 45\\\\\n\t 012 & 1 & 47 & 0 & 38.0 & 22.75 &  4 & 45\\\\\n\t 013 & 1 & 48 & 0 & 39.0 & 23.50 &  4 & 41\\\\\n\t 014 & 2 & 49 & 0 & 39.0 & 23.50 &  3 & 43\\\\\n\t 015 & 2 & 69 & 0 & 37.0 & 22.75 & 30 & 75\\\\\n\t 016 & 1 & 68 & 0 & 38.0 & 24.50 & 36 & 67\\\\\n\t 017 & 1 & 67 & 0 & 38.0 & 23.50 & 12 & 62\\\\\n\t 018 & 2 & 66 & 0 & 38.5 & 23.25 & 26 & 73\\\\\n\t 019 & 1 & 66 & 0 & 38.5 & 22.75 & 23 & 74\\\\\n\t 020 & 1 & 64 & 0 & 38.0 & 23.25 & 17 & 65\\\\\n\t 021 & 2 & 63 & 0 & 38.0 & 22.75 & 28 & 75\\\\\n\t 022 & 1 & 63 & 0 & 39.0 & 22.25 & 17 & 64\\\\\n\t 023 & 1 & 62 & 0 & 37.5 & 22.75 & 32 & 70\\\\\n\t 024 & 1 & 62 & 0 & 38.5 & 22.75 & 25 & 69\\\\\n\t 025 & 2 & 61 & 0 & 38.0 & 22.25 & 30 & 72\\\\\n\t 026 & 1 & 60 & 1 & 38.0 & 22.50 & 35 & 69\\\\\n\t 027 & 2 & 60 & 0 & 38.5 & 24.25 & 18 & 71\\\\\n\t 028 & 1 & 70 & 0 & 38.5 & 22.75 & 21 & 73\\\\\n\t 029 & 2 & 59 & 0 & 38.0 & 22.50 & 33 & 69\\\\\n\t 030 & 2 & 62 & 0 & 38.5 & 22.75 & 20 & 72\\\\\n\t ⋮ & ⋮ & ⋮ & ⋮ & ⋮ & ⋮ & ⋮ & ⋮\\\\\n\t 111 & 2 & 53 & 1 & 38.0 & 26.50 & 16 & 71\\\\\n\t 112 & 2 & 54 & 1 & 38.0 & 25.50 & 16 & 67\\\\\n\t 113 & 2 & 55 & 1 & 38.5 & 26.25 & 16 & 70\\\\\n\t 114 & 2 & 57 & 0 & 27.5 & 22.25 & 12 & 57\\\\\n\t 115 & 2 & 58 & 1 & 38.0 & 26.75 & 12 & 60\\\\\n\t 116 & 2 & 64 & 1 & 37.0 & 28.75 & 15 & 67\\\\\n\t 117 & 2 & 67 & 0 & 32.0 & 30.00 & 30 & 67\\\\\n\t 118 & 2 & 55 & 1 & 38.5 & 21.25 & 12 & 57\\\\\n\t 119 & 2 & 50 & 1 & 39.0 & 22.50 & 13 & 61\\\\\n\t 120 & 2 & 60 & 0 & 27.5 & 21.50 & 11 & 58\\\\\n\t 121 & 2 & 61 & 1 & 39.5 & 22.25 & 10 & 56\\\\\n\t 122 & 2 & 59 & 1 & 40.0 & 21.50 & 12 & 63\\\\\n\t 123 & 2 & 58 & 1 & 38.0 & 23.25 &  7 & 56\\\\\n\t 124 & 2 & 62 & 1 & 37.5 & 22.25 &  8 & 51\\\\\n\t 125 & 2 & 63 & 1 & 39.0 & 21.50 &  3 & 45\\\\\n\t 126 & 2 & 66 & 1 & 39.5 & 21.75 &  1 & 37\\\\\n\t 127 & 2 & 47 & 1 & 38.5 & 21.50 &  4 & 41\\\\\n\t 128 & 2 & 65 & 1 & 38.0 & 22.75 & 40 & 60\\\\\n\t 129 & 2 & 55 & 1 & 38.0 & 22.75 & 38 & 58\\\\\n\t 130 & 1 & 48 & 1 & 39.0 & 22.25 & 14 & 60\\\\\n\t 131 & 1 & 54 & 1 & 38.5 & 22.50 & 17 & 68\\\\\n\t 132 & 1 & 58 & 1 & 38.5 & 21.25 & 14 & 70\\\\\n\t 133 & 1 & 45 & 1 & 38.5 & 22.50 & 13 & 65\\\\\n\t 134 & 1 & 48 & 1 & 37.5 & 22.25 & 14 & 64\\\\\n\t 135 & 1 & 52 & 1 & 38.0 & 23.25 & 37 & 60\\\\\n\t 136 & 1 & 62 & 1 & 37.5 & 21.75 & 12 & 58\\\\\n\t 137 & 1 & 68 & 1 & 37.0 & 23.25 &  9 & 59\\\\\n\t 138 & 1 & 56 & 1 & 37.5 & 23.25 &  8 & 51\\\\\n\t 139 & 1 & 53 & 1 & 37.5 & 24.25 &  8 & 51\\\\\n\t 140 & 1 & 44 & 1 & 38.5 & 21.75 &  8 & 51\\\\\n\\end{tabular}\n",
            "text/plain": [
              "    Código Sexo Edad Adherencia CVRS SoporteFam TTratamiento MemCorto\n",
              "1   001    1    59   0          37.0 23.50      10           56      \n",
              "2   002    1    54   0          38.0 22.50       3           43      \n",
              "3   003    1    60   0          38.5 23.50       5           52      \n",
              "4   004    1    62   0          38.0 22.25       7           55      \n",
              "5   005    1    55   0          38.0 22.75       6           52      \n",
              "6   006    2    56   0          38.5 22.50       6           51      \n",
              "7   007    2    51   0          37.0 22.50       9           54      \n",
              "8   008    2    50   0          38.0 22.75       7           57      \n",
              "9   009    1    45   0          38.0 23.75       3           40      \n",
              "10  010    1    46   0          38.0 24.25       4           43      \n",
              "11  011    2    48   0          38.5 22.50       3           45      \n",
              "12  012    1    47   0          38.0 22.75       4           45      \n",
              "13  013    1    48   0          39.0 23.50       4           41      \n",
              "14  014    2    49   0          39.0 23.50       3           43      \n",
              "15  015    2    69   0          37.0 22.75      30           75      \n",
              "16  016    1    68   0          38.0 24.50      36           67      \n",
              "17  017    1    67   0          38.0 23.50      12           62      \n",
              "18  018    2    66   0          38.5 23.25      26           73      \n",
              "19  019    1    66   0          38.5 22.75      23           74      \n",
              "20  020    1    64   0          38.0 23.25      17           65      \n",
              "21  021    2    63   0          38.0 22.75      28           75      \n",
              "22  022    1    63   0          39.0 22.25      17           64      \n",
              "23  023    1    62   0          37.5 22.75      32           70      \n",
              "24  024    1    62   0          38.5 22.75      25           69      \n",
              "25  025    2    61   0          38.0 22.25      30           72      \n",
              "26  026    1    60   1          38.0 22.50      35           69      \n",
              "27  027    2    60   0          38.5 24.25      18           71      \n",
              "28  028    1    70   0          38.5 22.75      21           73      \n",
              "29  029    2    59   0          38.0 22.50      33           69      \n",
              "30  030    2    62   0          38.5 22.75      20           72      \n",
              "⋮   ⋮      ⋮    ⋮    ⋮          ⋮    ⋮          ⋮            ⋮       \n",
              "111 111    2    53   1          38.0 26.50      16           71      \n",
              "112 112    2    54   1          38.0 25.50      16           67      \n",
              "113 113    2    55   1          38.5 26.25      16           70      \n",
              "114 114    2    57   0          27.5 22.25      12           57      \n",
              "115 115    2    58   1          38.0 26.75      12           60      \n",
              "116 116    2    64   1          37.0 28.75      15           67      \n",
              "117 117    2    67   0          32.0 30.00      30           67      \n",
              "118 118    2    55   1          38.5 21.25      12           57      \n",
              "119 119    2    50   1          39.0 22.50      13           61      \n",
              "120 120    2    60   0          27.5 21.50      11           58      \n",
              "121 121    2    61   1          39.5 22.25      10           56      \n",
              "122 122    2    59   1          40.0 21.50      12           63      \n",
              "123 123    2    58   1          38.0 23.25       7           56      \n",
              "124 124    2    62   1          37.5 22.25       8           51      \n",
              "125 125    2    63   1          39.0 21.50       3           45      \n",
              "126 126    2    66   1          39.5 21.75       1           37      \n",
              "127 127    2    47   1          38.5 21.50       4           41      \n",
              "128 128    2    65   1          38.0 22.75      40           60      \n",
              "129 129    2    55   1          38.0 22.75      38           58      \n",
              "130 130    1    48   1          39.0 22.25      14           60      \n",
              "131 131    1    54   1          38.5 22.50      17           68      \n",
              "132 132    1    58   1          38.5 21.25      14           70      \n",
              "133 133    1    45   1          38.5 22.50      13           65      \n",
              "134 134    1    48   1          37.5 22.25      14           64      \n",
              "135 135    1    52   1          38.0 23.25      37           60      \n",
              "136 136    1    62   1          37.5 21.75      12           58      \n",
              "137 137    1    68   1          37.0 23.25       9           59      \n",
              "138 138    1    56   1          37.5 23.25       8           51      \n",
              "139 139    1    53   1          37.5 24.25       8           51      \n",
              "140 140    1    44   1          38.5 21.75       8           51      "
            ]
          },
          "metadata": {}
        }
      ]
    },
    {
      "cell_type": "markdown",
      "metadata": {
        "id": "OqHFKLjamd_G"
      },
      "source": [
        "## Problema 1\n",
        "\n",
        "En el estudio se planteó que las/los participantes con mayores puntajes de CVRS y de soporte familiar reportarían su adherencia al tratamiento indicado por los profesionales de salud así como aquellas con menor edad (10 puntos).\n",
        "\n",
        "a) Plantea las hipótesis de trabajo, señala la ecuación del modelo e indica las hipótesis estadísticas correspondientes.\n",
        "\n",
        "b) Evalúa el funcionamiento general del modelo: ajuste y capacidad predictiva. \n",
        "\n",
        "c) ¿Se cumplen las hipótesis planteadas? Lleva a cabo el análisis respectivo y redacta las conclusiones.\n",
        "\n",
        "d) ¿Cuál es la variable más importante para pronosticar que una persona se adhiera al tratamiento?\n"
      ]
    },
    {
      "cell_type": "markdown",
      "metadata": {
        "id": "BySoEmtjmd_G"
      },
      "source": [
        "## Problema 2\n",
        "\n",
        "Existe evidencia que sugiere que habría diferencia en la disposición de adherirse al tratamiento de la diabetes tipo II entre mujeres y hombres. Segmenta la base de datos según la variable ‘sexo de participante’ y evalúa si se observa alguna diferencia en el modelo de regresión analizado en el problema anterior (2 puntos).\n",
        "\n",
        "a) Evalúa y compara el funcionamiento general del modelo entre mujeres y hombres. \n",
        "\n",
        "b) ¿Qué se puede decir de la comparación de los resultados de los modelos? Redacta las conclusiones."
      ]
    },
    {
      "cell_type": "markdown",
      "metadata": {
        "id": "lqI4p-mCmd_H"
      },
      "source": [
        "## Problema 3\n",
        "\n",
        "La literatura sobre el desarrollo humano temprano indica que la autoeficacia parental y la insatisfacción marital constituyen factores que predicen el compromiso paterno en la crianza en la niñez. Un grupo de investigación llevó a cabo un estudio para conocer si ambos factores estiman el compromiso reportado por papás en la región Loreto (8 pts)."
      ]
    },
    {
      "cell_type": "code",
      "source": [
        "df = haven::read_sav(\"https://github.com/renatoparedes/EstadisticaYPsicologiaMatematica/raw/main/INEE/BaseReporte2.sav\")\n",
        "\n",
        "df"
      ],
      "metadata": {
        "colab": {
          "base_uri": "https://localhost:8080/",
          "height": 1000
        },
        "id": "99xg3m9on97R",
        "outputId": "af55ebbd-6fc0-4850-e569-ad39f0c8f43d"
      },
      "execution_count": 5,
      "outputs": [
        {
          "output_type": "display_data",
          "data": {
            "text/html": [
              "<table class=\"dataframe\">\n",
              "<caption>A tibble: 100 × 6</caption>\n",
              "<thead>\n",
              "\t<tr><th scope=col>Código</th><th scope=col>Edad</th><th scope=col>AutoeficaciaP</th><th scope=col>Insatisfacción</th><th scope=col>Conservadurismo</th><th scope=col>CompromisoP</th></tr>\n",
              "\t<tr><th scope=col>&lt;chr&gt;</th><th scope=col>&lt;dbl&gt;</th><th scope=col>&lt;dbl&gt;</th><th scope=col>&lt;dbl&gt;</th><th scope=col>&lt;dbl&gt;</th><th scope=col>&lt;dbl&gt;</th></tr>\n",
              "</thead>\n",
              "<tbody>\n",
              "\t<tr><td>001</td><td>25</td><td>16</td><td>25</td><td> 9</td><td>37</td></tr>\n",
              "\t<tr><td>002</td><td>38</td><td>18</td><td>17</td><td> 6</td><td>42</td></tr>\n",
              "\t<tr><td>003</td><td>28</td><td>19</td><td>16</td><td>10</td><td>35</td></tr>\n",
              "\t<tr><td>004</td><td>32</td><td>24</td><td>23</td><td>10</td><td>76</td></tr>\n",
              "\t<tr><td>005</td><td>26</td><td>22</td><td>21</td><td>11</td><td>39</td></tr>\n",
              "\t<tr><td>006</td><td>37</td><td>18</td><td>18</td><td>10</td><td>39</td></tr>\n",
              "\t<tr><td>007</td><td>32</td><td>21</td><td>22</td><td> 9</td><td>46</td></tr>\n",
              "\t<tr><td>008</td><td>29</td><td>20</td><td>19</td><td> 8</td><td>50</td></tr>\n",
              "\t<tr><td>009</td><td>34</td><td>19</td><td>16</td><td> 9</td><td>62</td></tr>\n",
              "\t<tr><td>010</td><td>30</td><td>24</td><td>20</td><td>13</td><td>41</td></tr>\n",
              "\t<tr><td>011</td><td>29</td><td>22</td><td>18</td><td>11</td><td>50</td></tr>\n",
              "\t<tr><td>012</td><td>32</td><td>19</td><td>21</td><td>13</td><td>47</td></tr>\n",
              "\t<tr><td>013</td><td>25</td><td>22</td><td>19</td><td>12</td><td>49</td></tr>\n",
              "\t<tr><td>014</td><td>34</td><td>30</td><td>22</td><td>11</td><td>48</td></tr>\n",
              "\t<tr><td>015</td><td>38</td><td>20</td><td>21</td><td> 7</td><td>44</td></tr>\n",
              "\t<tr><td>016</td><td>31</td><td>23</td><td>20</td><td>12</td><td>66</td></tr>\n",
              "\t<tr><td>017</td><td>34</td><td>24</td><td>24</td><td> 9</td><td>49</td></tr>\n",
              "\t<tr><td>018</td><td>35</td><td>21</td><td>19</td><td>10</td><td>35</td></tr>\n",
              "\t<tr><td>019</td><td>29</td><td>22</td><td>25</td><td> 9</td><td>51</td></tr>\n",
              "\t<tr><td>020</td><td>30</td><td>27</td><td>16</td><td> 9</td><td>63</td></tr>\n",
              "\t<tr><td>021</td><td>34</td><td>26</td><td>21</td><td>10</td><td>50</td></tr>\n",
              "\t<tr><td>022</td><td>36</td><td>23</td><td>23</td><td>12</td><td>41</td></tr>\n",
              "\t<tr><td>023</td><td>33</td><td>15</td><td>23</td><td>14</td><td>25</td></tr>\n",
              "\t<tr><td>024</td><td>34</td><td>25</td><td>19</td><td> 7</td><td>45</td></tr>\n",
              "\t<tr><td>025</td><td>27</td><td>27</td><td>15</td><td> 6</td><td>77</td></tr>\n",
              "\t<tr><td>026</td><td>25</td><td>21</td><td>26</td><td>10</td><td>36</td></tr>\n",
              "\t<tr><td>027</td><td>33</td><td>21</td><td>23</td><td> 9</td><td>54</td></tr>\n",
              "\t<tr><td>028</td><td>32</td><td>20</td><td>21</td><td> 9</td><td>55</td></tr>\n",
              "\t<tr><td>029</td><td>29</td><td>30</td><td>15</td><td> 7</td><td>80</td></tr>\n",
              "\t<tr><td>030</td><td>32</td><td>26</td><td>21</td><td>11</td><td>50</td></tr>\n",
              "\t<tr><td>⋮</td><td>⋮</td><td>⋮</td><td>⋮</td><td>⋮</td><td>⋮</td></tr>\n",
              "\t<tr><td>071</td><td>36</td><td>16</td><td>21</td><td>13</td><td>40</td></tr>\n",
              "\t<tr><td>072</td><td>32</td><td>23</td><td>23</td><td>10</td><td>50</td></tr>\n",
              "\t<tr><td>073</td><td>24</td><td>21</td><td>24</td><td>12</td><td>36</td></tr>\n",
              "\t<tr><td>074</td><td>32</td><td>20</td><td>28</td><td>10</td><td>40</td></tr>\n",
              "\t<tr><td>075</td><td>36</td><td>26</td><td>18</td><td> 8</td><td>64</td></tr>\n",
              "\t<tr><td>076</td><td>50</td><td>22</td><td>19</td><td> 7</td><td>70</td></tr>\n",
              "\t<tr><td>077</td><td>29</td><td>22</td><td>24</td><td>11</td><td>59</td></tr>\n",
              "\t<tr><td>078</td><td>43</td><td>23</td><td>20</td><td> 8</td><td>60</td></tr>\n",
              "\t<tr><td>079</td><td>26</td><td>24</td><td>16</td><td> 8</td><td>63</td></tr>\n",
              "\t<tr><td>080</td><td>40</td><td>26</td><td>20</td><td>15</td><td>69</td></tr>\n",
              "\t<tr><td>081</td><td>29</td><td>25</td><td>23</td><td> 8</td><td>42</td></tr>\n",
              "\t<tr><td>082</td><td>36</td><td>24</td><td>22</td><td>10</td><td>54</td></tr>\n",
              "\t<tr><td>083</td><td>42</td><td>25</td><td>16</td><td> 8</td><td>72</td></tr>\n",
              "\t<tr><td>084</td><td>32</td><td>15</td><td>27</td><td>12</td><td>35</td></tr>\n",
              "\t<tr><td>085</td><td>28</td><td>22</td><td>17</td><td> 7</td><td>53</td></tr>\n",
              "\t<tr><td>086</td><td>31</td><td>24</td><td>30</td><td>11</td><td>32</td></tr>\n",
              "\t<tr><td>087</td><td>27</td><td>23</td><td>23</td><td>10</td><td>53</td></tr>\n",
              "\t<tr><td>088</td><td>38</td><td>24</td><td>23</td><td> 9</td><td>50</td></tr>\n",
              "\t<tr><td>089</td><td>39</td><td>25</td><td>21</td><td> 6</td><td>55</td></tr>\n",
              "\t<tr><td>090</td><td>24</td><td>20</td><td>28</td><td>12</td><td>29</td></tr>\n",
              "\t<tr><td>091</td><td>23</td><td>16</td><td>26</td><td>15</td><td>24</td></tr>\n",
              "\t<tr><td>092</td><td>45</td><td>24</td><td>22</td><td> 9</td><td>56</td></tr>\n",
              "\t<tr><td>093</td><td>35</td><td>19</td><td>23</td><td>10</td><td>45</td></tr>\n",
              "\t<tr><td>094</td><td>53</td><td>28</td><td>18</td><td> 6</td><td>75</td></tr>\n",
              "\t<tr><td>095</td><td>35</td><td>24</td><td>17</td><td>12</td><td>56</td></tr>\n",
              "\t<tr><td>096</td><td>37</td><td>18</td><td>19</td><td> 8</td><td>43</td></tr>\n",
              "\t<tr><td>097</td><td>48</td><td>26</td><td>21</td><td>10</td><td>65</td></tr>\n",
              "\t<tr><td>098</td><td>35</td><td>19</td><td>26</td><td>12</td><td>50</td></tr>\n",
              "\t<tr><td>099</td><td>30</td><td>17</td><td>27</td><td>14</td><td>30</td></tr>\n",
              "\t<tr><td>100</td><td>31</td><td>21</td><td>25</td><td>11</td><td>48</td></tr>\n",
              "</tbody>\n",
              "</table>\n"
            ],
            "text/markdown": "\nA tibble: 100 × 6\n\n| Código &lt;chr&gt; | Edad &lt;dbl&gt; | AutoeficaciaP &lt;dbl&gt; | Insatisfacción &lt;dbl&gt; | Conservadurismo &lt;dbl&gt; | CompromisoP &lt;dbl&gt; |\n|---|---|---|---|---|---|\n| 001 | 25 | 16 | 25 |  9 | 37 |\n| 002 | 38 | 18 | 17 |  6 | 42 |\n| 003 | 28 | 19 | 16 | 10 | 35 |\n| 004 | 32 | 24 | 23 | 10 | 76 |\n| 005 | 26 | 22 | 21 | 11 | 39 |\n| 006 | 37 | 18 | 18 | 10 | 39 |\n| 007 | 32 | 21 | 22 |  9 | 46 |\n| 008 | 29 | 20 | 19 |  8 | 50 |\n| 009 | 34 | 19 | 16 |  9 | 62 |\n| 010 | 30 | 24 | 20 | 13 | 41 |\n| 011 | 29 | 22 | 18 | 11 | 50 |\n| 012 | 32 | 19 | 21 | 13 | 47 |\n| 013 | 25 | 22 | 19 | 12 | 49 |\n| 014 | 34 | 30 | 22 | 11 | 48 |\n| 015 | 38 | 20 | 21 |  7 | 44 |\n| 016 | 31 | 23 | 20 | 12 | 66 |\n| 017 | 34 | 24 | 24 |  9 | 49 |\n| 018 | 35 | 21 | 19 | 10 | 35 |\n| 019 | 29 | 22 | 25 |  9 | 51 |\n| 020 | 30 | 27 | 16 |  9 | 63 |\n| 021 | 34 | 26 | 21 | 10 | 50 |\n| 022 | 36 | 23 | 23 | 12 | 41 |\n| 023 | 33 | 15 | 23 | 14 | 25 |\n| 024 | 34 | 25 | 19 |  7 | 45 |\n| 025 | 27 | 27 | 15 |  6 | 77 |\n| 026 | 25 | 21 | 26 | 10 | 36 |\n| 027 | 33 | 21 | 23 |  9 | 54 |\n| 028 | 32 | 20 | 21 |  9 | 55 |\n| 029 | 29 | 30 | 15 |  7 | 80 |\n| 030 | 32 | 26 | 21 | 11 | 50 |\n| ⋮ | ⋮ | ⋮ | ⋮ | ⋮ | ⋮ |\n| 071 | 36 | 16 | 21 | 13 | 40 |\n| 072 | 32 | 23 | 23 | 10 | 50 |\n| 073 | 24 | 21 | 24 | 12 | 36 |\n| 074 | 32 | 20 | 28 | 10 | 40 |\n| 075 | 36 | 26 | 18 |  8 | 64 |\n| 076 | 50 | 22 | 19 |  7 | 70 |\n| 077 | 29 | 22 | 24 | 11 | 59 |\n| 078 | 43 | 23 | 20 |  8 | 60 |\n| 079 | 26 | 24 | 16 |  8 | 63 |\n| 080 | 40 | 26 | 20 | 15 | 69 |\n| 081 | 29 | 25 | 23 |  8 | 42 |\n| 082 | 36 | 24 | 22 | 10 | 54 |\n| 083 | 42 | 25 | 16 |  8 | 72 |\n| 084 | 32 | 15 | 27 | 12 | 35 |\n| 085 | 28 | 22 | 17 |  7 | 53 |\n| 086 | 31 | 24 | 30 | 11 | 32 |\n| 087 | 27 | 23 | 23 | 10 | 53 |\n| 088 | 38 | 24 | 23 |  9 | 50 |\n| 089 | 39 | 25 | 21 |  6 | 55 |\n| 090 | 24 | 20 | 28 | 12 | 29 |\n| 091 | 23 | 16 | 26 | 15 | 24 |\n| 092 | 45 | 24 | 22 |  9 | 56 |\n| 093 | 35 | 19 | 23 | 10 | 45 |\n| 094 | 53 | 28 | 18 |  6 | 75 |\n| 095 | 35 | 24 | 17 | 12 | 56 |\n| 096 | 37 | 18 | 19 |  8 | 43 |\n| 097 | 48 | 26 | 21 | 10 | 65 |\n| 098 | 35 | 19 | 26 | 12 | 50 |\n| 099 | 30 | 17 | 27 | 14 | 30 |\n| 100 | 31 | 21 | 25 | 11 | 48 |\n\n",
            "text/latex": "A tibble: 100 × 6\n\\begin{tabular}{llllll}\n Código & Edad & AutoeficaciaP & Insatisfacción & Conservadurismo & CompromisoP\\\\\n <chr> & <dbl> & <dbl> & <dbl> & <dbl> & <dbl>\\\\\n\\hline\n\t 001 & 25 & 16 & 25 &  9 & 37\\\\\n\t 002 & 38 & 18 & 17 &  6 & 42\\\\\n\t 003 & 28 & 19 & 16 & 10 & 35\\\\\n\t 004 & 32 & 24 & 23 & 10 & 76\\\\\n\t 005 & 26 & 22 & 21 & 11 & 39\\\\\n\t 006 & 37 & 18 & 18 & 10 & 39\\\\\n\t 007 & 32 & 21 & 22 &  9 & 46\\\\\n\t 008 & 29 & 20 & 19 &  8 & 50\\\\\n\t 009 & 34 & 19 & 16 &  9 & 62\\\\\n\t 010 & 30 & 24 & 20 & 13 & 41\\\\\n\t 011 & 29 & 22 & 18 & 11 & 50\\\\\n\t 012 & 32 & 19 & 21 & 13 & 47\\\\\n\t 013 & 25 & 22 & 19 & 12 & 49\\\\\n\t 014 & 34 & 30 & 22 & 11 & 48\\\\\n\t 015 & 38 & 20 & 21 &  7 & 44\\\\\n\t 016 & 31 & 23 & 20 & 12 & 66\\\\\n\t 017 & 34 & 24 & 24 &  9 & 49\\\\\n\t 018 & 35 & 21 & 19 & 10 & 35\\\\\n\t 019 & 29 & 22 & 25 &  9 & 51\\\\\n\t 020 & 30 & 27 & 16 &  9 & 63\\\\\n\t 021 & 34 & 26 & 21 & 10 & 50\\\\\n\t 022 & 36 & 23 & 23 & 12 & 41\\\\\n\t 023 & 33 & 15 & 23 & 14 & 25\\\\\n\t 024 & 34 & 25 & 19 &  7 & 45\\\\\n\t 025 & 27 & 27 & 15 &  6 & 77\\\\\n\t 026 & 25 & 21 & 26 & 10 & 36\\\\\n\t 027 & 33 & 21 & 23 &  9 & 54\\\\\n\t 028 & 32 & 20 & 21 &  9 & 55\\\\\n\t 029 & 29 & 30 & 15 &  7 & 80\\\\\n\t 030 & 32 & 26 & 21 & 11 & 50\\\\\n\t ⋮ & ⋮ & ⋮ & ⋮ & ⋮ & ⋮\\\\\n\t 071 & 36 & 16 & 21 & 13 & 40\\\\\n\t 072 & 32 & 23 & 23 & 10 & 50\\\\\n\t 073 & 24 & 21 & 24 & 12 & 36\\\\\n\t 074 & 32 & 20 & 28 & 10 & 40\\\\\n\t 075 & 36 & 26 & 18 &  8 & 64\\\\\n\t 076 & 50 & 22 & 19 &  7 & 70\\\\\n\t 077 & 29 & 22 & 24 & 11 & 59\\\\\n\t 078 & 43 & 23 & 20 &  8 & 60\\\\\n\t 079 & 26 & 24 & 16 &  8 & 63\\\\\n\t 080 & 40 & 26 & 20 & 15 & 69\\\\\n\t 081 & 29 & 25 & 23 &  8 & 42\\\\\n\t 082 & 36 & 24 & 22 & 10 & 54\\\\\n\t 083 & 42 & 25 & 16 &  8 & 72\\\\\n\t 084 & 32 & 15 & 27 & 12 & 35\\\\\n\t 085 & 28 & 22 & 17 &  7 & 53\\\\\n\t 086 & 31 & 24 & 30 & 11 & 32\\\\\n\t 087 & 27 & 23 & 23 & 10 & 53\\\\\n\t 088 & 38 & 24 & 23 &  9 & 50\\\\\n\t 089 & 39 & 25 & 21 &  6 & 55\\\\\n\t 090 & 24 & 20 & 28 & 12 & 29\\\\\n\t 091 & 23 & 16 & 26 & 15 & 24\\\\\n\t 092 & 45 & 24 & 22 &  9 & 56\\\\\n\t 093 & 35 & 19 & 23 & 10 & 45\\\\\n\t 094 & 53 & 28 & 18 &  6 & 75\\\\\n\t 095 & 35 & 24 & 17 & 12 & 56\\\\\n\t 096 & 37 & 18 & 19 &  8 & 43\\\\\n\t 097 & 48 & 26 & 21 & 10 & 65\\\\\n\t 098 & 35 & 19 & 26 & 12 & 50\\\\\n\t 099 & 30 & 17 & 27 & 14 & 30\\\\\n\t 100 & 31 & 21 & 25 & 11 & 48\\\\\n\\end{tabular}\n",
            "text/plain": [
              "    Código Edad AutoeficaciaP Insatisfacción Conservadurismo CompromisoP\n",
              "1   001    25   16            25              9              37         \n",
              "2   002    38   18            17              6              42         \n",
              "3   003    28   19            16             10              35         \n",
              "4   004    32   24            23             10              76         \n",
              "5   005    26   22            21             11              39         \n",
              "6   006    37   18            18             10              39         \n",
              "7   007    32   21            22              9              46         \n",
              "8   008    29   20            19              8              50         \n",
              "9   009    34   19            16              9              62         \n",
              "10  010    30   24            20             13              41         \n",
              "11  011    29   22            18             11              50         \n",
              "12  012    32   19            21             13              47         \n",
              "13  013    25   22            19             12              49         \n",
              "14  014    34   30            22             11              48         \n",
              "15  015    38   20            21              7              44         \n",
              "16  016    31   23            20             12              66         \n",
              "17  017    34   24            24              9              49         \n",
              "18  018    35   21            19             10              35         \n",
              "19  019    29   22            25              9              51         \n",
              "20  020    30   27            16              9              63         \n",
              "21  021    34   26            21             10              50         \n",
              "22  022    36   23            23             12              41         \n",
              "23  023    33   15            23             14              25         \n",
              "24  024    34   25            19              7              45         \n",
              "25  025    27   27            15              6              77         \n",
              "26  026    25   21            26             10              36         \n",
              "27  027    33   21            23              9              54         \n",
              "28  028    32   20            21              9              55         \n",
              "29  029    29   30            15              7              80         \n",
              "30  030    32   26            21             11              50         \n",
              "⋮   ⋮      ⋮    ⋮             ⋮              ⋮               ⋮          \n",
              "71  071    36   16            21             13              40         \n",
              "72  072    32   23            23             10              50         \n",
              "73  073    24   21            24             12              36         \n",
              "74  074    32   20            28             10              40         \n",
              "75  075    36   26            18              8              64         \n",
              "76  076    50   22            19              7              70         \n",
              "77  077    29   22            24             11              59         \n",
              "78  078    43   23            20              8              60         \n",
              "79  079    26   24            16              8              63         \n",
              "80  080    40   26            20             15              69         \n",
              "81  081    29   25            23              8              42         \n",
              "82  082    36   24            22             10              54         \n",
              "83  083    42   25            16              8              72         \n",
              "84  084    32   15            27             12              35         \n",
              "85  085    28   22            17              7              53         \n",
              "86  086    31   24            30             11              32         \n",
              "87  087    27   23            23             10              53         \n",
              "88  088    38   24            23              9              50         \n",
              "89  089    39   25            21              6              55         \n",
              "90  090    24   20            28             12              29         \n",
              "91  091    23   16            26             15              24         \n",
              "92  092    45   24            22              9              56         \n",
              "93  093    35   19            23             10              45         \n",
              "94  094    53   28            18              6              75         \n",
              "95  095    35   24            17             12              56         \n",
              "96  096    37   18            19              8              43         \n",
              "97  097    48   26            21             10              65         \n",
              "98  098    35   19            26             12              50         \n",
              "99  099    30   17            27             14              30         \n",
              "100 100    31   21            25             11              48         "
            ]
          },
          "metadata": {}
        }
      ]
    },
    {
      "cell_type": "markdown",
      "metadata": {
        "id": "t-AUYsc3md_I"
      },
      "source": [
        "a) Escribe la hipótesis de trabajo (HT) así como las hipótesis estadísticas (H0 y H1) correspondientes a cada variable predictora del modelo a analizar.\n",
        "\n",
        "b) Plantea la ecuación del modelo para la HT. \n",
        "\n",
        "c) Evalúa los supuestos necesarios para continuar con el análisis de regresión.\n",
        "- Linealidad\n",
        "- Normalidad de residuos\n",
        "- Multicolinealidad\n",
        "\n",
        "d) Evalúa el ajuste del modelo planteado y presenta el coeficiente de determinación de acuerdo con la variabilidad explicada del compromiso paterno y a su magnitud.\n",
        "\n",
        "e) Indica si se cumplen las hipótesis para cada una de las variables consideradas por el grupo de investigación y redacta tu conclusión.\n",
        "\n",
        "f) Finalmente, identifica cuál es la variable más importante en el modelo, de ser pertinente."
      ]
    }
  ]
}