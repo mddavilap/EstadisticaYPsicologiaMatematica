{
 "cells": [
  {
   "attachments": {},
   "cell_type": "markdown",
   "metadata": {},
   "source": [
    "# Ejercicios: Regresión Lineal Simple"
   ]
  },
  {
   "cell_type": "code",
   "execution_count": null,
   "metadata": {},
   "outputs": [],
   "source": [
    "# Instala dependencias\n",
    "!wget https://github.com/renatoparedes/EstadisticaYPsicologiaMatematica/raw/main/INEE/Clase10_BaseRegresionLinealSimple.sav\n",
    "!pip install pingouin\n",
    "!pip install pyreadstat"
   ]
  },
  {
   "cell_type": "code",
   "execution_count": 2,
   "metadata": {},
   "outputs": [
    {
     "data": {
      "text/html": [
       "<div>\n",
       "<style scoped>\n",
       "    .dataframe tbody tr th:only-of-type {\n",
       "        vertical-align: middle;\n",
       "    }\n",
       "\n",
       "    .dataframe tbody tr th {\n",
       "        vertical-align: top;\n",
       "    }\n",
       "\n",
       "    .dataframe thead th {\n",
       "        text-align: right;\n",
       "    }\n",
       "</style>\n",
       "<table border=\"1\" class=\"dataframe\">\n",
       "  <thead>\n",
       "    <tr style=\"text-align: right;\">\n",
       "      <th></th>\n",
       "      <th>Participante</th>\n",
       "      <th>Horas_Internet</th>\n",
       "      <th>Impulsividad</th>\n",
       "      <th>Rendimiento</th>\n",
       "      <th>Uso_patológico_internet</th>\n",
       "      <th>Uso_problemático_celular</th>\n",
       "      <th>Juego_patológico</th>\n",
       "    </tr>\n",
       "  </thead>\n",
       "  <tbody>\n",
       "    <tr>\n",
       "      <th>0</th>\n",
       "      <td>001</td>\n",
       "      <td>9.192585</td>\n",
       "      <td>14.016679</td>\n",
       "      <td>5.130105</td>\n",
       "      <td>29.979415</td>\n",
       "      <td>33.466436</td>\n",
       "      <td>51.629069</td>\n",
       "    </tr>\n",
       "    <tr>\n",
       "      <th>1</th>\n",
       "      <td>002</td>\n",
       "      <td>4.417330</td>\n",
       "      <td>15.308135</td>\n",
       "      <td>2.493590</td>\n",
       "      <td>7.798216</td>\n",
       "      <td>29.608270</td>\n",
       "      <td>58.572777</td>\n",
       "    </tr>\n",
       "    <tr>\n",
       "      <th>2</th>\n",
       "      <td>003</td>\n",
       "      <td>8.970391</td>\n",
       "      <td>9.383734</td>\n",
       "      <td>3.090073</td>\n",
       "      <td>79.417020</td>\n",
       "      <td>17.480083</td>\n",
       "      <td>7.207902</td>\n",
       "    </tr>\n",
       "    <tr>\n",
       "      <th>3</th>\n",
       "      <td>004</td>\n",
       "      <td>10.627142</td>\n",
       "      <td>17.714813</td>\n",
       "      <td>8.166904</td>\n",
       "      <td>77.924891</td>\n",
       "      <td>49.801048</td>\n",
       "      <td>68.254753</td>\n",
       "    </tr>\n",
       "    <tr>\n",
       "      <th>4</th>\n",
       "      <td>005</td>\n",
       "      <td>3.229547</td>\n",
       "      <td>15.691327</td>\n",
       "      <td>6.117007</td>\n",
       "      <td>24.903253</td>\n",
       "      <td>38.303082</td>\n",
       "      <td>34.883736</td>\n",
       "    </tr>\n",
       "    <tr>\n",
       "      <th>...</th>\n",
       "      <td>...</td>\n",
       "      <td>...</td>\n",
       "      <td>...</td>\n",
       "      <td>...</td>\n",
       "      <td>...</td>\n",
       "      <td>...</td>\n",
       "      <td>...</td>\n",
       "    </tr>\n",
       "    <tr>\n",
       "      <th>145</th>\n",
       "      <td>146</td>\n",
       "      <td>14.096435</td>\n",
       "      <td>4.020885</td>\n",
       "      <td>6.034401</td>\n",
       "      <td>74.495379</td>\n",
       "      <td>13.452317</td>\n",
       "      <td>21.921853</td>\n",
       "    </tr>\n",
       "    <tr>\n",
       "      <th>146</th>\n",
       "      <td>147</td>\n",
       "      <td>2.494416</td>\n",
       "      <td>7.473597</td>\n",
       "      <td>2.017906</td>\n",
       "      <td>20.563357</td>\n",
       "      <td>32.106987</td>\n",
       "      <td>29.550263</td>\n",
       "    </tr>\n",
       "    <tr>\n",
       "      <th>147</th>\n",
       "      <td>148</td>\n",
       "      <td>1.819807</td>\n",
       "      <td>14.073889</td>\n",
       "      <td>4.752853</td>\n",
       "      <td>12.366920</td>\n",
       "      <td>37.269633</td>\n",
       "      <td>50.269255</td>\n",
       "    </tr>\n",
       "    <tr>\n",
       "      <th>148</th>\n",
       "      <td>149</td>\n",
       "      <td>9.772035</td>\n",
       "      <td>4.109418</td>\n",
       "      <td>5.968890</td>\n",
       "      <td>84.842823</td>\n",
       "      <td>17.856490</td>\n",
       "      <td>74.436065</td>\n",
       "    </tr>\n",
       "    <tr>\n",
       "      <th>149</th>\n",
       "      <td>150</td>\n",
       "      <td>4.993299</td>\n",
       "      <td>10.381116</td>\n",
       "      <td>6.871513</td>\n",
       "      <td>83.103930</td>\n",
       "      <td>15.067667</td>\n",
       "      <td>36.106814</td>\n",
       "    </tr>\n",
       "  </tbody>\n",
       "</table>\n",
       "<p>150 rows × 7 columns</p>\n",
       "</div>"
      ],
      "text/plain": [
       "    Participante  Horas_Internet  Impulsividad  Rendimiento  \\\n",
       "0            001        9.192585     14.016679     5.130105   \n",
       "1            002        4.417330     15.308135     2.493590   \n",
       "2            003        8.970391      9.383734     3.090073   \n",
       "3            004       10.627142     17.714813     8.166904   \n",
       "4            005        3.229547     15.691327     6.117007   \n",
       "..           ...             ...           ...          ...   \n",
       "145          146       14.096435      4.020885     6.034401   \n",
       "146          147        2.494416      7.473597     2.017906   \n",
       "147          148        1.819807     14.073889     4.752853   \n",
       "148          149        9.772035      4.109418     5.968890   \n",
       "149          150        4.993299     10.381116     6.871513   \n",
       "\n",
       "     Uso_patológico_internet  Uso_problemático_celular  Juego_patológico  \n",
       "0                  29.979415                 33.466436         51.629069  \n",
       "1                   7.798216                 29.608270         58.572777  \n",
       "2                  79.417020                 17.480083          7.207902  \n",
       "3                  77.924891                 49.801048         68.254753  \n",
       "4                  24.903253                 38.303082         34.883736  \n",
       "..                       ...                       ...               ...  \n",
       "145                74.495379                 13.452317         21.921853  \n",
       "146                20.563357                 32.106987         29.550263  \n",
       "147                12.366920                 37.269633         50.269255  \n",
       "148                84.842823                 17.856490         74.436065  \n",
       "149                83.103930                 15.067667         36.106814  \n",
       "\n",
       "[150 rows x 7 columns]"
      ]
     },
     "execution_count": 2,
     "metadata": {},
     "output_type": "execute_result"
    }
   ],
   "source": [
    "import pandas as pd\n",
    "\n",
    "df = pd.read_spss(\"Clase10_BaseRegresionLinealSimple.sav\")\n",
    "df"
   ]
  },
  {
   "attachments": {},
   "cell_type": "markdown",
   "metadata": {},
   "source": [
    "### Analiza las siguientes hipótesis de estudio:"
   ]
  },
  {
   "attachments": {},
   "cell_type": "markdown",
   "metadata": {},
   "source": [
    "HT1: El uso patológico de internet predice la cantidad de horas que los estudiantes navegan en internet."
   ]
  },
  {
   "attachments": {},
   "cell_type": "markdown",
   "metadata": {},
   "source": [
    "HT2: El uso problemático del celular disminuye el rendimiento académico (RA) de estudiantes de secundaria."
   ]
  },
  {
   "attachments": {},
   "cell_type": "markdown",
   "metadata": {},
   "source": [
    "HT3: El juego patológico aumenta el nivel de impulsividad de estudiantes de secundaria."
   ]
  },
  {
   "attachments": {},
   "cell_type": "markdown",
   "metadata": {},
   "source": [
    "HT4: El uso problemático del celular aumenta la impulsividad reportada por estudiantes de secundaria."
   ]
  },
  {
   "attachments": {},
   "cell_type": "markdown",
   "metadata": {},
   "source": [
    "HT5: El juego patológico disminuye el rendimiento académico de estudiantes de secundaria. "
   ]
  }
 ],
 "metadata": {
  "kernelspec": {
   "display_name": "stats",
   "language": "python",
   "name": "python3"
  },
  "language_info": {
   "codemirror_mode": {
    "name": "ipython",
    "version": 3
   },
   "file_extension": ".py",
   "mimetype": "text/x-python",
   "name": "python",
   "nbconvert_exporter": "python",
   "pygments_lexer": "ipython3",
   "version": "3.7.16"
  },
  "orig_nbformat": 4,
  "vscode": {
   "interpreter": {
    "hash": "8df12303a5084d795bcef355ea103bbaab8787933417cf27c2f95a588cdf8ee7"
   }
  }
 },
 "nbformat": 4,
 "nbformat_minor": 2
}
