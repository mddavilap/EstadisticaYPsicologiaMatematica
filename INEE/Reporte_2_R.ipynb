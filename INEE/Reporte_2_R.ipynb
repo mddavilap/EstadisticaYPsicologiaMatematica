{
  "cells": [
    {
      "cell_type": "markdown",
      "metadata": {
        "id": "oePQccT28lLR"
      },
      "source": [
        "# Reporte escrito 2"
      ]
    },
    {
      "cell_type": "code",
      "execution_count": 4,
      "metadata": {
        "colab": {
          "base_uri": "https://localhost:8080/"
        },
        "id": "CY0Vkwgn-l1Y",
        "outputId": "0e5661e8-da9f-4efc-e415-187b8bb86902"
      },
      "outputs": [
        {
          "output_type": "stream",
          "name": "stderr",
          "text": [
            "Installing package into ‘/usr/local/lib/R/site-library’\n",
            "(as ‘lib’ is unspecified)\n",
            "\n",
            "also installing the dependencies ‘textshaping’, ‘ragg’\n",
            "\n",
            "\n",
            "Warning message in install.packages(\"tidyverse\"):\n",
            "“installation of package ‘textshaping’ had non-zero exit status”\n",
            "Warning message in install.packages(\"tidyverse\"):\n",
            "“installation of package ‘ragg’ had non-zero exit status”\n",
            "Warning message in install.packages(\"tidyverse\"):\n",
            "“installation of package ‘tidyverse’ had non-zero exit status”\n",
            "Installing package into ‘/usr/local/lib/R/site-library’\n",
            "(as ‘lib’ is unspecified)\n",
            "\n",
            "Installing package into ‘/usr/local/lib/R/site-library’\n",
            "(as ‘lib’ is unspecified)\n",
            "\n"
          ]
        }
      ],
      "source": [
        "install.packages(\"tidyverse\")\n",
        "install.packages(\"rstatix\")\n",
        "install.packages(\"psych\")\n",
        "\n",
        "\n",
        "library(tidyverse)\n",
        "library(rstatix)\n",
        "library(psych)"
      ]
    },
    {
      "cell_type": "markdown",
      "metadata": {
        "id": "wP1jXdLj8lLc"
      },
      "source": [
        "En las respuestas deben indicar:\n",
        "\n",
        "- Hipótesis de trabajo e hipótesis estadísticas, de manera correspondiente.\n",
        "- Resultados de prueba de normalidad para las distribuciones de las variables de estudio.\n",
        "- Indicadores estadísticos utilizados (SW, F, r, R2 B, ß) así como el valor p correspondiente, y la magnitud según criterios de Cohen, de ser pertinente.\n",
        "- Redacción de las conclusiones."
      ]
    },
    {
      "cell_type": "markdown",
      "metadata": {
        "id": "Sf4ek6DV8lLd"
      },
      "source": [
        "## Pregunta 1\n",
        "\n",
        "La literatura sobre el desarrollo humano temprano indica que la **autoeficacia parental** predice el **compromiso paterno** en la crianza en la niñez. Un grupo de investigación llevó a cabo un estudio para conocer si este factor estima el compromiso reportado por papás en la región Loreto (8 pts).\n",
        "\n",
        "a) Escribe la hipótesis de trabajo (HT) así como las hipótesis estadísticas (H0 y H1) correspondiente a la variable predictora del modelo a analizar. \n",
        "\n",
        "b) Plantea la ecuación del modelo para la HT. \n",
        "\n",
        "c) Analiza si existe evidencia de la asociación entre las variables con un gráfico de dispersión y reporta los resultados de la prueba de correlación pertinente.\n",
        "\n",
        "d) Indica si el modelo presenta un buen ajuste, así como el coeficiente de determinación considerando su variabilidad y magnitud de acuerdo con los criterios de Cohen.\n",
        "\n",
        "e) Reporta los resultados de los coeficientes del modelo e indica si se cumple la hipótesis del estudio, elaborando tu conclusión.\n"
      ]
    },
    {
      "cell_type": "code",
      "execution_count": null,
      "metadata": {
        "colab": {
          "base_uri": "https://localhost:8080/",
          "height": 1000
        },
        "id": "oJ2gcap8_A_Z",
        "outputId": "7e0f5a3c-0f6e-4e8e-da5a-961b7eecce6d"
      },
      "outputs": [
        {
          "data": {
            "text/html": [
              "<table class=\"dataframe\">\n",
              "<caption>A tibble: 100 × 6</caption>\n",
              "<thead>\n",
              "\t<tr><th scope=col>Código</th><th scope=col>Edad</th><th scope=col>AutoeficaciaP</th><th scope=col>Insatisfacción</th><th scope=col>Conservadurismo</th><th scope=col>CompromisoP</th></tr>\n",
              "\t<tr><th scope=col>&lt;chr&gt;</th><th scope=col>&lt;dbl&gt;</th><th scope=col>&lt;dbl&gt;</th><th scope=col>&lt;dbl&gt;</th><th scope=col>&lt;dbl&gt;</th><th scope=col>&lt;dbl&gt;</th></tr>\n",
              "</thead>\n",
              "<tbody>\n",
              "\t<tr><td>001</td><td>25</td><td>16</td><td>25</td><td> 9</td><td>37</td></tr>\n",
              "\t<tr><td>002</td><td>38</td><td>18</td><td>17</td><td> 6</td><td>42</td></tr>\n",
              "\t<tr><td>003</td><td>28</td><td>19</td><td>16</td><td>10</td><td>35</td></tr>\n",
              "\t<tr><td>004</td><td>32</td><td>24</td><td>23</td><td>10</td><td>76</td></tr>\n",
              "\t<tr><td>005</td><td>26</td><td>22</td><td>21</td><td>11</td><td>39</td></tr>\n",
              "\t<tr><td>006</td><td>37</td><td>18</td><td>18</td><td>10</td><td>39</td></tr>\n",
              "\t<tr><td>007</td><td>32</td><td>21</td><td>22</td><td> 9</td><td>46</td></tr>\n",
              "\t<tr><td>008</td><td>29</td><td>20</td><td>19</td><td> 8</td><td>50</td></tr>\n",
              "\t<tr><td>009</td><td>34</td><td>19</td><td>16</td><td> 9</td><td>62</td></tr>\n",
              "\t<tr><td>010</td><td>30</td><td>24</td><td>20</td><td>13</td><td>41</td></tr>\n",
              "\t<tr><td>011</td><td>29</td><td>22</td><td>18</td><td>11</td><td>50</td></tr>\n",
              "\t<tr><td>012</td><td>32</td><td>19</td><td>21</td><td>13</td><td>47</td></tr>\n",
              "\t<tr><td>013</td><td>25</td><td>22</td><td>19</td><td>12</td><td>49</td></tr>\n",
              "\t<tr><td>014</td><td>34</td><td>30</td><td>22</td><td>11</td><td>48</td></tr>\n",
              "\t<tr><td>015</td><td>38</td><td>20</td><td>21</td><td> 7</td><td>44</td></tr>\n",
              "\t<tr><td>016</td><td>31</td><td>23</td><td>20</td><td>12</td><td>66</td></tr>\n",
              "\t<tr><td>017</td><td>34</td><td>24</td><td>24</td><td> 9</td><td>49</td></tr>\n",
              "\t<tr><td>018</td><td>35</td><td>21</td><td>19</td><td>10</td><td>35</td></tr>\n",
              "\t<tr><td>019</td><td>29</td><td>22</td><td>25</td><td> 9</td><td>51</td></tr>\n",
              "\t<tr><td>020</td><td>30</td><td>27</td><td>16</td><td> 9</td><td>63</td></tr>\n",
              "\t<tr><td>021</td><td>34</td><td>26</td><td>21</td><td>10</td><td>50</td></tr>\n",
              "\t<tr><td>022</td><td>36</td><td>23</td><td>23</td><td>12</td><td>41</td></tr>\n",
              "\t<tr><td>023</td><td>33</td><td>15</td><td>23</td><td>14</td><td>25</td></tr>\n",
              "\t<tr><td>024</td><td>34</td><td>25</td><td>19</td><td> 7</td><td>45</td></tr>\n",
              "\t<tr><td>025</td><td>27</td><td>27</td><td>15</td><td> 6</td><td>77</td></tr>\n",
              "\t<tr><td>026</td><td>25</td><td>21</td><td>26</td><td>10</td><td>36</td></tr>\n",
              "\t<tr><td>027</td><td>33</td><td>21</td><td>23</td><td> 9</td><td>54</td></tr>\n",
              "\t<tr><td>028</td><td>32</td><td>20</td><td>21</td><td> 9</td><td>55</td></tr>\n",
              "\t<tr><td>029</td><td>29</td><td>30</td><td>15</td><td> 7</td><td>80</td></tr>\n",
              "\t<tr><td>030</td><td>32</td><td>26</td><td>21</td><td>11</td><td>50</td></tr>\n",
              "\t<tr><td>⋮</td><td>⋮</td><td>⋮</td><td>⋮</td><td>⋮</td><td>⋮</td></tr>\n",
              "\t<tr><td>071</td><td>36</td><td>16</td><td>21</td><td>13</td><td>40</td></tr>\n",
              "\t<tr><td>072</td><td>32</td><td>23</td><td>23</td><td>10</td><td>50</td></tr>\n",
              "\t<tr><td>073</td><td>24</td><td>21</td><td>24</td><td>12</td><td>36</td></tr>\n",
              "\t<tr><td>074</td><td>32</td><td>20</td><td>28</td><td>10</td><td>40</td></tr>\n",
              "\t<tr><td>075</td><td>36</td><td>26</td><td>18</td><td> 8</td><td>64</td></tr>\n",
              "\t<tr><td>076</td><td>50</td><td>22</td><td>19</td><td> 7</td><td>70</td></tr>\n",
              "\t<tr><td>077</td><td>29</td><td>22</td><td>24</td><td>11</td><td>59</td></tr>\n",
              "\t<tr><td>078</td><td>43</td><td>23</td><td>20</td><td> 8</td><td>60</td></tr>\n",
              "\t<tr><td>079</td><td>26</td><td>24</td><td>16</td><td> 8</td><td>63</td></tr>\n",
              "\t<tr><td>080</td><td>40</td><td>26</td><td>20</td><td>15</td><td>69</td></tr>\n",
              "\t<tr><td>081</td><td>29</td><td>25</td><td>23</td><td> 8</td><td>42</td></tr>\n",
              "\t<tr><td>082</td><td>36</td><td>24</td><td>22</td><td>10</td><td>54</td></tr>\n",
              "\t<tr><td>083</td><td>42</td><td>25</td><td>16</td><td> 8</td><td>72</td></tr>\n",
              "\t<tr><td>084</td><td>32</td><td>15</td><td>27</td><td>12</td><td>35</td></tr>\n",
              "\t<tr><td>085</td><td>28</td><td>22</td><td>17</td><td> 7</td><td>53</td></tr>\n",
              "\t<tr><td>086</td><td>31</td><td>24</td><td>30</td><td>11</td><td>32</td></tr>\n",
              "\t<tr><td>087</td><td>27</td><td>23</td><td>23</td><td>10</td><td>53</td></tr>\n",
              "\t<tr><td>088</td><td>38</td><td>24</td><td>23</td><td> 9</td><td>50</td></tr>\n",
              "\t<tr><td>089</td><td>39</td><td>25</td><td>21</td><td> 6</td><td>55</td></tr>\n",
              "\t<tr><td>090</td><td>24</td><td>20</td><td>28</td><td>12</td><td>29</td></tr>\n",
              "\t<tr><td>091</td><td>23</td><td>16</td><td>26</td><td>15</td><td>24</td></tr>\n",
              "\t<tr><td>092</td><td>45</td><td>24</td><td>22</td><td> 9</td><td>56</td></tr>\n",
              "\t<tr><td>093</td><td>35</td><td>19</td><td>23</td><td>10</td><td>45</td></tr>\n",
              "\t<tr><td>094</td><td>53</td><td>28</td><td>18</td><td> 6</td><td>75</td></tr>\n",
              "\t<tr><td>095</td><td>35</td><td>24</td><td>17</td><td>12</td><td>56</td></tr>\n",
              "\t<tr><td>096</td><td>37</td><td>18</td><td>19</td><td> 8</td><td>43</td></tr>\n",
              "\t<tr><td>097</td><td>48</td><td>26</td><td>21</td><td>10</td><td>65</td></tr>\n",
              "\t<tr><td>098</td><td>35</td><td>19</td><td>26</td><td>12</td><td>50</td></tr>\n",
              "\t<tr><td>099</td><td>30</td><td>17</td><td>27</td><td>14</td><td>30</td></tr>\n",
              "\t<tr><td>100</td><td>31</td><td>21</td><td>25</td><td>11</td><td>48</td></tr>\n",
              "</tbody>\n",
              "</table>\n"
            ],
            "text/latex": "A tibble: 100 × 6\n\\begin{tabular}{llllll}\n Código & Edad & AutoeficaciaP & Insatisfacción & Conservadurismo & CompromisoP\\\\\n <chr> & <dbl> & <dbl> & <dbl> & <dbl> & <dbl>\\\\\n\\hline\n\t 001 & 25 & 16 & 25 &  9 & 37\\\\\n\t 002 & 38 & 18 & 17 &  6 & 42\\\\\n\t 003 & 28 & 19 & 16 & 10 & 35\\\\\n\t 004 & 32 & 24 & 23 & 10 & 76\\\\\n\t 005 & 26 & 22 & 21 & 11 & 39\\\\\n\t 006 & 37 & 18 & 18 & 10 & 39\\\\\n\t 007 & 32 & 21 & 22 &  9 & 46\\\\\n\t 008 & 29 & 20 & 19 &  8 & 50\\\\\n\t 009 & 34 & 19 & 16 &  9 & 62\\\\\n\t 010 & 30 & 24 & 20 & 13 & 41\\\\\n\t 011 & 29 & 22 & 18 & 11 & 50\\\\\n\t 012 & 32 & 19 & 21 & 13 & 47\\\\\n\t 013 & 25 & 22 & 19 & 12 & 49\\\\\n\t 014 & 34 & 30 & 22 & 11 & 48\\\\\n\t 015 & 38 & 20 & 21 &  7 & 44\\\\\n\t 016 & 31 & 23 & 20 & 12 & 66\\\\\n\t 017 & 34 & 24 & 24 &  9 & 49\\\\\n\t 018 & 35 & 21 & 19 & 10 & 35\\\\\n\t 019 & 29 & 22 & 25 &  9 & 51\\\\\n\t 020 & 30 & 27 & 16 &  9 & 63\\\\\n\t 021 & 34 & 26 & 21 & 10 & 50\\\\\n\t 022 & 36 & 23 & 23 & 12 & 41\\\\\n\t 023 & 33 & 15 & 23 & 14 & 25\\\\\n\t 024 & 34 & 25 & 19 &  7 & 45\\\\\n\t 025 & 27 & 27 & 15 &  6 & 77\\\\\n\t 026 & 25 & 21 & 26 & 10 & 36\\\\\n\t 027 & 33 & 21 & 23 &  9 & 54\\\\\n\t 028 & 32 & 20 & 21 &  9 & 55\\\\\n\t 029 & 29 & 30 & 15 &  7 & 80\\\\\n\t 030 & 32 & 26 & 21 & 11 & 50\\\\\n\t ⋮ & ⋮ & ⋮ & ⋮ & ⋮ & ⋮\\\\\n\t 071 & 36 & 16 & 21 & 13 & 40\\\\\n\t 072 & 32 & 23 & 23 & 10 & 50\\\\\n\t 073 & 24 & 21 & 24 & 12 & 36\\\\\n\t 074 & 32 & 20 & 28 & 10 & 40\\\\\n\t 075 & 36 & 26 & 18 &  8 & 64\\\\\n\t 076 & 50 & 22 & 19 &  7 & 70\\\\\n\t 077 & 29 & 22 & 24 & 11 & 59\\\\\n\t 078 & 43 & 23 & 20 &  8 & 60\\\\\n\t 079 & 26 & 24 & 16 &  8 & 63\\\\\n\t 080 & 40 & 26 & 20 & 15 & 69\\\\\n\t 081 & 29 & 25 & 23 &  8 & 42\\\\\n\t 082 & 36 & 24 & 22 & 10 & 54\\\\\n\t 083 & 42 & 25 & 16 &  8 & 72\\\\\n\t 084 & 32 & 15 & 27 & 12 & 35\\\\\n\t 085 & 28 & 22 & 17 &  7 & 53\\\\\n\t 086 & 31 & 24 & 30 & 11 & 32\\\\\n\t 087 & 27 & 23 & 23 & 10 & 53\\\\\n\t 088 & 38 & 24 & 23 &  9 & 50\\\\\n\t 089 & 39 & 25 & 21 &  6 & 55\\\\\n\t 090 & 24 & 20 & 28 & 12 & 29\\\\\n\t 091 & 23 & 16 & 26 & 15 & 24\\\\\n\t 092 & 45 & 24 & 22 &  9 & 56\\\\\n\t 093 & 35 & 19 & 23 & 10 & 45\\\\\n\t 094 & 53 & 28 & 18 &  6 & 75\\\\\n\t 095 & 35 & 24 & 17 & 12 & 56\\\\\n\t 096 & 37 & 18 & 19 &  8 & 43\\\\\n\t 097 & 48 & 26 & 21 & 10 & 65\\\\\n\t 098 & 35 & 19 & 26 & 12 & 50\\\\\n\t 099 & 30 & 17 & 27 & 14 & 30\\\\\n\t 100 & 31 & 21 & 25 & 11 & 48\\\\\n\\end{tabular}\n",
            "text/markdown": "\nA tibble: 100 × 6\n\n| Código &lt;chr&gt; | Edad &lt;dbl&gt; | AutoeficaciaP &lt;dbl&gt; | Insatisfacción &lt;dbl&gt; | Conservadurismo &lt;dbl&gt; | CompromisoP &lt;dbl&gt; |\n|---|---|---|---|---|---|\n| 001 | 25 | 16 | 25 |  9 | 37 |\n| 002 | 38 | 18 | 17 |  6 | 42 |\n| 003 | 28 | 19 | 16 | 10 | 35 |\n| 004 | 32 | 24 | 23 | 10 | 76 |\n| 005 | 26 | 22 | 21 | 11 | 39 |\n| 006 | 37 | 18 | 18 | 10 | 39 |\n| 007 | 32 | 21 | 22 |  9 | 46 |\n| 008 | 29 | 20 | 19 |  8 | 50 |\n| 009 | 34 | 19 | 16 |  9 | 62 |\n| 010 | 30 | 24 | 20 | 13 | 41 |\n| 011 | 29 | 22 | 18 | 11 | 50 |\n| 012 | 32 | 19 | 21 | 13 | 47 |\n| 013 | 25 | 22 | 19 | 12 | 49 |\n| 014 | 34 | 30 | 22 | 11 | 48 |\n| 015 | 38 | 20 | 21 |  7 | 44 |\n| 016 | 31 | 23 | 20 | 12 | 66 |\n| 017 | 34 | 24 | 24 |  9 | 49 |\n| 018 | 35 | 21 | 19 | 10 | 35 |\n| 019 | 29 | 22 | 25 |  9 | 51 |\n| 020 | 30 | 27 | 16 |  9 | 63 |\n| 021 | 34 | 26 | 21 | 10 | 50 |\n| 022 | 36 | 23 | 23 | 12 | 41 |\n| 023 | 33 | 15 | 23 | 14 | 25 |\n| 024 | 34 | 25 | 19 |  7 | 45 |\n| 025 | 27 | 27 | 15 |  6 | 77 |\n| 026 | 25 | 21 | 26 | 10 | 36 |\n| 027 | 33 | 21 | 23 |  9 | 54 |\n| 028 | 32 | 20 | 21 |  9 | 55 |\n| 029 | 29 | 30 | 15 |  7 | 80 |\n| 030 | 32 | 26 | 21 | 11 | 50 |\n| ⋮ | ⋮ | ⋮ | ⋮ | ⋮ | ⋮ |\n| 071 | 36 | 16 | 21 | 13 | 40 |\n| 072 | 32 | 23 | 23 | 10 | 50 |\n| 073 | 24 | 21 | 24 | 12 | 36 |\n| 074 | 32 | 20 | 28 | 10 | 40 |\n| 075 | 36 | 26 | 18 |  8 | 64 |\n| 076 | 50 | 22 | 19 |  7 | 70 |\n| 077 | 29 | 22 | 24 | 11 | 59 |\n| 078 | 43 | 23 | 20 |  8 | 60 |\n| 079 | 26 | 24 | 16 |  8 | 63 |\n| 080 | 40 | 26 | 20 | 15 | 69 |\n| 081 | 29 | 25 | 23 |  8 | 42 |\n| 082 | 36 | 24 | 22 | 10 | 54 |\n| 083 | 42 | 25 | 16 |  8 | 72 |\n| 084 | 32 | 15 | 27 | 12 | 35 |\n| 085 | 28 | 22 | 17 |  7 | 53 |\n| 086 | 31 | 24 | 30 | 11 | 32 |\n| 087 | 27 | 23 | 23 | 10 | 53 |\n| 088 | 38 | 24 | 23 |  9 | 50 |\n| 089 | 39 | 25 | 21 |  6 | 55 |\n| 090 | 24 | 20 | 28 | 12 | 29 |\n| 091 | 23 | 16 | 26 | 15 | 24 |\n| 092 | 45 | 24 | 22 |  9 | 56 |\n| 093 | 35 | 19 | 23 | 10 | 45 |\n| 094 | 53 | 28 | 18 |  6 | 75 |\n| 095 | 35 | 24 | 17 | 12 | 56 |\n| 096 | 37 | 18 | 19 |  8 | 43 |\n| 097 | 48 | 26 | 21 | 10 | 65 |\n| 098 | 35 | 19 | 26 | 12 | 50 |\n| 099 | 30 | 17 | 27 | 14 | 30 |\n| 100 | 31 | 21 | 25 | 11 | 48 |\n\n",
            "text/plain": [
              "    Código Edad AutoeficaciaP Insatisfacción Conservadurismo CompromisoP\n",
              "1   001    25   16            25              9              37         \n",
              "2   002    38   18            17              6              42         \n",
              "3   003    28   19            16             10              35         \n",
              "4   004    32   24            23             10              76         \n",
              "5   005    26   22            21             11              39         \n",
              "6   006    37   18            18             10              39         \n",
              "7   007    32   21            22              9              46         \n",
              "8   008    29   20            19              8              50         \n",
              "9   009    34   19            16              9              62         \n",
              "10  010    30   24            20             13              41         \n",
              "11  011    29   22            18             11              50         \n",
              "12  012    32   19            21             13              47         \n",
              "13  013    25   22            19             12              49         \n",
              "14  014    34   30            22             11              48         \n",
              "15  015    38   20            21              7              44         \n",
              "16  016    31   23            20             12              66         \n",
              "17  017    34   24            24              9              49         \n",
              "18  018    35   21            19             10              35         \n",
              "19  019    29   22            25              9              51         \n",
              "20  020    30   27            16              9              63         \n",
              "21  021    34   26            21             10              50         \n",
              "22  022    36   23            23             12              41         \n",
              "23  023    33   15            23             14              25         \n",
              "24  024    34   25            19              7              45         \n",
              "25  025    27   27            15              6              77         \n",
              "26  026    25   21            26             10              36         \n",
              "27  027    33   21            23              9              54         \n",
              "28  028    32   20            21              9              55         \n",
              "29  029    29   30            15              7              80         \n",
              "30  030    32   26            21             11              50         \n",
              "⋮   ⋮      ⋮    ⋮             ⋮              ⋮               ⋮          \n",
              "71  071    36   16            21             13              40         \n",
              "72  072    32   23            23             10              50         \n",
              "73  073    24   21            24             12              36         \n",
              "74  074    32   20            28             10              40         \n",
              "75  075    36   26            18              8              64         \n",
              "76  076    50   22            19              7              70         \n",
              "77  077    29   22            24             11              59         \n",
              "78  078    43   23            20              8              60         \n",
              "79  079    26   24            16              8              63         \n",
              "80  080    40   26            20             15              69         \n",
              "81  081    29   25            23              8              42         \n",
              "82  082    36   24            22             10              54         \n",
              "83  083    42   25            16              8              72         \n",
              "84  084    32   15            27             12              35         \n",
              "85  085    28   22            17              7              53         \n",
              "86  086    31   24            30             11              32         \n",
              "87  087    27   23            23             10              53         \n",
              "88  088    38   24            23              9              50         \n",
              "89  089    39   25            21              6              55         \n",
              "90  090    24   20            28             12              29         \n",
              "91  091    23   16            26             15              24         \n",
              "92  092    45   24            22              9              56         \n",
              "93  093    35   19            23             10              45         \n",
              "94  094    53   28            18              6              75         \n",
              "95  095    35   24            17             12              56         \n",
              "96  096    37   18            19              8              43         \n",
              "97  097    48   26            21             10              65         \n",
              "98  098    35   19            26             12              50         \n",
              "99  099    30   17            27             14              30         \n",
              "100 100    31   21            25             11              48         "
            ]
          },
          "metadata": {},
          "output_type": "display_data"
        }
      ],
      "source": [
        "df = haven::read_sav(\"https://github.com/renatoparedes/EstadisticaYPsicologiaMatematica/raw/main/INEE/BaseReporte2.sav\")\n",
        "df"
      ]
    },
    {
      "cell_type": "markdown",
      "metadata": {
        "id": "weyrQI5Z8lLe"
      },
      "source": [
        "## Pregunta 2\n",
        "\n",
        "De acuerdo con los resultados del modelo analizado previamente, si se cuenta con un participante que puntúa 27 en autoeficacia parental, ¿cuánto sería el puntaje de compromiso paterno estimado? (4 pts)                 "
      ]
    },
    {
      "cell_type": "markdown",
      "metadata": {
        "id": "xOTQT3WB8lLe"
      },
      "source": [
        "## Pregunta 3\n",
        "\n",
        "En el mismo estudio, se evaluó si el conservadurismo era un factor de riesgo en el compromiso paterno en papás de preescolares. Para ello, se planteó conocer si el **conservadurismo** del padre contribuye a un menor **compromiso** en la crianza (8 pts).\n",
        "\n",
        "a) Redacta la hipótesis de trabajo (HT) y las hipótesis estadísticas respectivas.\n",
        "\n",
        "b) Plantea la ecuación del modelo para la HT. \n",
        "\n",
        "c) Analiza si existe evidencia de la asociación entre las variables con un gráfico de dispersión y reporta los resultados de la prueba de correlación pertinente.\n",
        "\n",
        "d) Indica si el modelo presenta un buen ajuste, así como el coeficiente de determinación considerando su variabilidad y magnitud de acuerdo con los criterios de Cohen.\n",
        "\n",
        "e) Reporta los resultados de los coeficientes del modelo e indica si se cumple la hipótesis del estudio, elaborando tu conclusión."
      ]
    }
  ],
  "metadata": {
    "colab": {
      "provenance": []
    },
    "kernelspec": {
      "display_name": "R",
      "name": "ir"
    },
    "language_info": {
      "name": "R"
    }
  },
  "nbformat": 4,
  "nbformat_minor": 0
}