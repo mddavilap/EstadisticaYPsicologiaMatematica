{
 "cells": [
  {
   "cell_type": "markdown",
   "metadata": {},
   "source": [
    "# Reporte escrito 1"
   ]
  },
  {
   "cell_type": "code",
   "execution_count": null,
   "metadata": {},
   "outputs": [],
   "source": [
    "# Instala dependencias\n",
    "!wget https://github.com/renatoparedes/EstadisticaYPsicologiaMatematica/raw/main/INEE/BaseReporte1.sav\n",
    "!pip install pingouin\n",
    "!pip install pyreadstat"
   ]
  },
  {
   "cell_type": "markdown",
   "metadata": {},
   "source": [
    "En las respuestas deben indicar:\n",
    "\n",
    "- Hipótesis de trabajo e hipótesis estadísticas, de manera correspondiente.\n",
    "- Resultados de prueba de normalidad para las distribuciones de las variables de estudio.\n",
    "- Indicadores estadísticos utilizados (SW, M, Mdn, DE, t, U, F, r) el valor p\n",
    "correspondiente, y la magnitud según criterios de Cohen, de ser pertinente.\n",
    "- Redacción de las conclusiones.\n",
    "\n",
    ">Nota: reportar la normalidad de las distribuciones en base a la prueba Shapiro-Wilk. Para\n",
    "efectos de este reporte, NO consideren asimetría y curtosis para decidir la prueba estadística a\n",
    "utilizar"
   ]
  },
  {
   "cell_type": "markdown",
   "metadata": {},
   "source": [
    "En una investigación sobre los recursos que facilitan la adaptación a la pandemia por COVID-19 en la adultez media (40 a 60 años) se contó con información sobre optimismo, mindfulness-rasgo y miedo al COVID-19. \n",
    "\n",
    "El estudio contó con la participación de 90 adultas, y adultos, quienes completaron el protocolo de estudio en línea. Además de los constructos de estudio, se recolectaron datos generales de sexo de las/los participantes, edad en años, si se encuentran en una relación de pareja, o no, y si consumen alcohol semanalmente."
   ]
  },
  {
   "cell_type": "code",
   "execution_count": 1,
   "metadata": {},
   "outputs": [
    {
     "data": {
      "text/html": [
       "<div>\n",
       "<style scoped>\n",
       "    .dataframe tbody tr th:only-of-type {\n",
       "        vertical-align: middle;\n",
       "    }\n",
       "\n",
       "    .dataframe tbody tr th {\n",
       "        vertical-align: top;\n",
       "    }\n",
       "\n",
       "    .dataframe thead th {\n",
       "        text-align: right;\n",
       "    }\n",
       "</style>\n",
       "<table border=\"1\" class=\"dataframe\">\n",
       "  <thead>\n",
       "    <tr style=\"text-align: right;\">\n",
       "      <th></th>\n",
       "      <th>Código</th>\n",
       "      <th>Edad</th>\n",
       "      <th>Sexo</th>\n",
       "      <th>Pareja</th>\n",
       "      <th>Cons_alcohol</th>\n",
       "      <th>Optimismo</th>\n",
       "      <th>Mindful</th>\n",
       "      <th>Miedo_COV</th>\n",
       "    </tr>\n",
       "  </thead>\n",
       "  <tbody>\n",
       "    <tr>\n",
       "      <th>0</th>\n",
       "      <td>001</td>\n",
       "      <td>53.0</td>\n",
       "      <td>Mujer</td>\n",
       "      <td>Si</td>\n",
       "      <td>Sí</td>\n",
       "      <td>47.0</td>\n",
       "      <td>37.0</td>\n",
       "      <td>55.0</td>\n",
       "    </tr>\n",
       "    <tr>\n",
       "      <th>1</th>\n",
       "      <td>002</td>\n",
       "      <td>49.0</td>\n",
       "      <td>Mujer</td>\n",
       "      <td>No</td>\n",
       "      <td>No</td>\n",
       "      <td>36.0</td>\n",
       "      <td>39.0</td>\n",
       "      <td>41.0</td>\n",
       "    </tr>\n",
       "    <tr>\n",
       "      <th>2</th>\n",
       "      <td>003</td>\n",
       "      <td>57.0</td>\n",
       "      <td>Hombre</td>\n",
       "      <td>Si</td>\n",
       "      <td>Sí</td>\n",
       "      <td>54.0</td>\n",
       "      <td>25.0</td>\n",
       "      <td>42.0</td>\n",
       "    </tr>\n",
       "    <tr>\n",
       "      <th>3</th>\n",
       "      <td>004</td>\n",
       "      <td>55.0</td>\n",
       "      <td>Hombre</td>\n",
       "      <td>No</td>\n",
       "      <td>No</td>\n",
       "      <td>68.0</td>\n",
       "      <td>38.0</td>\n",
       "      <td>53.0</td>\n",
       "    </tr>\n",
       "    <tr>\n",
       "      <th>4</th>\n",
       "      <td>005</td>\n",
       "      <td>52.0</td>\n",
       "      <td>Mujer</td>\n",
       "      <td>No</td>\n",
       "      <td>No</td>\n",
       "      <td>50.0</td>\n",
       "      <td>42.0</td>\n",
       "      <td>46.0</td>\n",
       "    </tr>\n",
       "    <tr>\n",
       "      <th>...</th>\n",
       "      <td>...</td>\n",
       "      <td>...</td>\n",
       "      <td>...</td>\n",
       "      <td>...</td>\n",
       "      <td>...</td>\n",
       "      <td>...</td>\n",
       "      <td>...</td>\n",
       "      <td>...</td>\n",
       "    </tr>\n",
       "    <tr>\n",
       "      <th>85</th>\n",
       "      <td>086</td>\n",
       "      <td>46.0</td>\n",
       "      <td>Mujer</td>\n",
       "      <td>No</td>\n",
       "      <td>No</td>\n",
       "      <td>44.0</td>\n",
       "      <td>52.0</td>\n",
       "      <td>47.0</td>\n",
       "    </tr>\n",
       "    <tr>\n",
       "      <th>86</th>\n",
       "      <td>087</td>\n",
       "      <td>44.0</td>\n",
       "      <td>Hombre</td>\n",
       "      <td>Si</td>\n",
       "      <td>Sí</td>\n",
       "      <td>58.0</td>\n",
       "      <td>35.0</td>\n",
       "      <td>56.0</td>\n",
       "    </tr>\n",
       "    <tr>\n",
       "      <th>87</th>\n",
       "      <td>088</td>\n",
       "      <td>58.0</td>\n",
       "      <td>Hombre</td>\n",
       "      <td>No</td>\n",
       "      <td>Sí</td>\n",
       "      <td>54.0</td>\n",
       "      <td>33.0</td>\n",
       "      <td>50.0</td>\n",
       "    </tr>\n",
       "    <tr>\n",
       "      <th>88</th>\n",
       "      <td>089</td>\n",
       "      <td>43.0</td>\n",
       "      <td>Mujer</td>\n",
       "      <td>Si</td>\n",
       "      <td>No</td>\n",
       "      <td>50.0</td>\n",
       "      <td>22.0</td>\n",
       "      <td>49.0</td>\n",
       "    </tr>\n",
       "    <tr>\n",
       "      <th>89</th>\n",
       "      <td>090</td>\n",
       "      <td>49.0</td>\n",
       "      <td>Hombre</td>\n",
       "      <td>Si</td>\n",
       "      <td>Sí</td>\n",
       "      <td>58.0</td>\n",
       "      <td>25.0</td>\n",
       "      <td>46.0</td>\n",
       "    </tr>\n",
       "  </tbody>\n",
       "</table>\n",
       "<p>90 rows × 8 columns</p>\n",
       "</div>"
      ],
      "text/plain": [
       "   Código  Edad    Sexo Pareja Cons_alcohol  Optimismo  Mindful  Miedo_COV\n",
       "0     001  53.0   Mujer     Si           Sí       47.0     37.0       55.0\n",
       "1     002  49.0   Mujer     No           No       36.0     39.0       41.0\n",
       "2     003  57.0  Hombre     Si           Sí       54.0     25.0       42.0\n",
       "3     004  55.0  Hombre     No           No       68.0     38.0       53.0\n",
       "4     005  52.0   Mujer     No           No       50.0     42.0       46.0\n",
       "..    ...   ...     ...    ...          ...        ...      ...        ...\n",
       "85    086  46.0   Mujer     No           No       44.0     52.0       47.0\n",
       "86    087  44.0  Hombre     Si           Sí       58.0     35.0       56.0\n",
       "87    088  58.0  Hombre     No           Sí       54.0     33.0       50.0\n",
       "88    089  43.0   Mujer     Si           No       50.0     22.0       49.0\n",
       "89    090  49.0  Hombre     Si           Sí       58.0     25.0       46.0\n",
       "\n",
       "[90 rows x 8 columns]"
      ]
     },
     "execution_count": 1,
     "metadata": {},
     "output_type": "execute_result"
    }
   ],
   "source": [
    "import pandas as pd\n",
    "\n",
    "df = pd.read_spss(\"BaseReporte1.sav\")\n",
    "df"
   ]
  },
  {
   "attachments": {},
   "cell_type": "markdown",
   "metadata": {},
   "source": [
    "## Pregunta 1\n",
    "\n",
    "Las evidencias indican que existiría una diferencia en el nivel de **optimismo** según el **sexo de las/los participantes**, con las mujeres puntuando más bajo que los hombres. Plantea y lleva a cabo los análisis estadísticos correspondientes y describe lo encontrado (8 pts).                    "
   ]
  },
  {
   "attachments": {},
   "cell_type": "markdown",
   "metadata": {},
   "source": [
    "## Pregunta 2\n",
    "\n",
    "El grupo de investigación quiere conocer si el mindfulness rasgo reportado varía según si se consume alcohol, o no ¿Existen evidencias de ello en el estudio? (8 pts).\n"
   ]
  },
  {
   "attachments": {},
   "cell_type": "markdown",
   "metadata": {},
   "source": [
    "## Pregunta 3\n",
    "\n",
    "Describe la muestra de acuerdo con las variables sociodemográficas reportadas y señala el tipo de variable y los estadísticos descriptivos que mejor brinden información sobre ellas (4 pts)."
   ]
  }
 ],
 "metadata": {
  "kernelspec": {
   "display_name": "Python 3.7.13 ('stats')",
   "language": "python",
   "name": "python3"
  },
  "language_info": {
   "codemirror_mode": {
    "name": "ipython",
    "version": 3
   },
   "file_extension": ".py",
   "mimetype": "text/x-python",
   "name": "python",
   "nbconvert_exporter": "python",
   "pygments_lexer": "ipython3",
   "version": "3.7.14"
  },
  "orig_nbformat": 4,
  "vscode": {
   "interpreter": {
    "hash": "8df12303a5084d795bcef355ea103bbaab8787933417cf27c2f95a588cdf8ee7"
   }
  }
 },
 "nbformat": 4,
 "nbformat_minor": 2
}
