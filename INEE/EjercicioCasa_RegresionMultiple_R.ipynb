{
  "nbformat": 4,
  "nbformat_minor": 0,
  "metadata": {
    "colab": {
      "provenance": []
    },
    "kernelspec": {
      "name": "ir",
      "display_name": "R"
    },
    "language_info": {
      "name": "R"
    }
  },
  "cells": [
    {
      "cell_type": "markdown",
      "metadata": {
        "id": "f2PnhYBSqjpD"
      },
      "source": [
        "# Ejercico de casa: Regresión Múltiple"
      ]
    },
    {
      "cell_type": "code",
      "execution_count": 1,
      "metadata": {
        "id": "IDLxbWAgqjpG",
        "colab": {
          "base_uri": "https://localhost:8080/"
        },
        "outputId": "9b63bbaa-b7c9-4090-ffda-2870efce597b"
      },
      "outputs": [
        {
          "output_type": "stream",
          "name": "stderr",
          "text": [
            "Installing package into ‘/usr/local/lib/R/site-library’\n",
            "(as ‘lib’ is unspecified)\n",
            "\n",
            "also installing the dependencies ‘textshaping’, ‘conflicted’, ‘jsonlite’, ‘ragg’\n",
            "\n",
            "\n",
            "Warning message in install.packages(\"tidyverse\"):\n",
            "“installation of package ‘textshaping’ had non-zero exit status”\n",
            "Warning message in install.packages(\"tidyverse\"):\n",
            "“installation of package ‘ragg’ had non-zero exit status”\n",
            "Warning message in install.packages(\"tidyverse\"):\n",
            "“installation of package ‘tidyverse’ had non-zero exit status”\n",
            "── \u001b[1mAttaching packages\u001b[22m ─────────────────────────────────────── tidyverse 1.3.1 ──\n",
            "\n",
            "\u001b[32m✔\u001b[39m \u001b[34mggplot2\u001b[39m 3.4.2     \u001b[32m✔\u001b[39m \u001b[34mpurrr  \u001b[39m 1.0.1\n",
            "\u001b[32m✔\u001b[39m \u001b[34mtibble \u001b[39m 3.2.1     \u001b[32m✔\u001b[39m \u001b[34mdplyr  \u001b[39m 1.1.2\n",
            "\u001b[32m✔\u001b[39m \u001b[34mtidyr  \u001b[39m 1.3.0     \u001b[32m✔\u001b[39m \u001b[34mstringr\u001b[39m 1.5.0\n",
            "\u001b[32m✔\u001b[39m \u001b[34mreadr  \u001b[39m 2.1.4     \u001b[32m✔\u001b[39m \u001b[34mforcats\u001b[39m 1.0.0\n",
            "\n",
            "── \u001b[1mConflicts\u001b[22m ────────────────────────────────────────── tidyverse_conflicts() ──\n",
            "\u001b[31m✖\u001b[39m \u001b[34mdplyr\u001b[39m::\u001b[32mfilter()\u001b[39m masks \u001b[34mstats\u001b[39m::filter()\n",
            "\u001b[31m✖\u001b[39m \u001b[34mdplyr\u001b[39m::\u001b[32mlag()\u001b[39m    masks \u001b[34mstats\u001b[39m::lag()\n",
            "\n"
          ]
        }
      ],
      "source": [
        "# Instala dependencias\n",
        "install.packages(\"tidyverse\")\n",
        "library(tidyverse)"
      ]
    },
    {
      "cell_type": "code",
      "execution_count": 34,
      "metadata": {
        "id": "9DJYeFrzqjpH",
        "outputId": "cae5591e-9bf1-4eb7-be8c-b178725333bb",
        "colab": {
          "base_uri": "https://localhost:8080/",
          "height": 1000
        }
      },
      "outputs": [
        {
          "output_type": "display_data",
          "data": {
            "text/html": [
              "<table class=\"dataframe\">\n",
              "<caption>A tibble: 60 × 4</caption>\n",
              "<thead>\n",
              "\t<tr><th scope=col>Código</th><th scope=col>Mot_Log</th><th scope=col>Autoconcepto</th><th scope=col>Rend_Acad</th></tr>\n",
              "\t<tr><th scope=col>&lt;chr&gt;</th><th scope=col>&lt;dbl&gt;</th><th scope=col>&lt;dbl&gt;</th><th scope=col>&lt;dbl&gt;</th></tr>\n",
              "</thead>\n",
              "<tbody>\n",
              "\t<tr><td>001</td><td> 8</td><td>8</td><td>18</td></tr>\n",
              "\t<tr><td>002</td><td>10</td><td>8</td><td>19</td></tr>\n",
              "\t<tr><td>003</td><td> 8</td><td>6</td><td>18</td></tr>\n",
              "\t<tr><td>004</td><td> 8</td><td>7</td><td>19</td></tr>\n",
              "\t<tr><td>005</td><td> 7</td><td>8</td><td>18</td></tr>\n",
              "\t<tr><td>006</td><td> 6</td><td>8</td><td>15</td></tr>\n",
              "\t<tr><td>007</td><td> 9</td><td>6</td><td>19</td></tr>\n",
              "\t<tr><td>008</td><td> 6</td><td>8</td><td>18</td></tr>\n",
              "\t<tr><td>009</td><td> 6</td><td>8</td><td>14</td></tr>\n",
              "\t<tr><td>010</td><td> 8</td><td>8</td><td>18</td></tr>\n",
              "\t<tr><td>011</td><td> 5</td><td>5</td><td>18</td></tr>\n",
              "\t<tr><td>012</td><td> 8</td><td>8</td><td>19</td></tr>\n",
              "\t<tr><td>013</td><td> 5</td><td>6</td><td>17</td></tr>\n",
              "\t<tr><td>014</td><td> 7</td><td>7</td><td>18</td></tr>\n",
              "\t<tr><td>015</td><td> 7</td><td>8</td><td>17</td></tr>\n",
              "\t<tr><td>016</td><td> 9</td><td>7</td><td>17</td></tr>\n",
              "\t<tr><td>017</td><td> 7</td><td>9</td><td>18</td></tr>\n",
              "\t<tr><td>018</td><td> 7</td><td>9</td><td>20</td></tr>\n",
              "\t<tr><td>019</td><td> 6</td><td>7</td><td>17</td></tr>\n",
              "\t<tr><td>020</td><td> 7</td><td>7</td><td>18</td></tr>\n",
              "\t<tr><td>021</td><td> 7</td><td>5</td><td>17</td></tr>\n",
              "\t<tr><td>022</td><td> 7</td><td>7</td><td>16</td></tr>\n",
              "\t<tr><td>023</td><td> 5</td><td>7</td><td>16</td></tr>\n",
              "\t<tr><td>024</td><td> 5</td><td>5</td><td>16</td></tr>\n",
              "\t<tr><td>025</td><td> 8</td><td>9</td><td>17</td></tr>\n",
              "\t<tr><td>026</td><td> 5</td><td>5</td><td>16</td></tr>\n",
              "\t<tr><td>027</td><td> 7</td><td>8</td><td>16</td></tr>\n",
              "\t<tr><td>028</td><td> 5</td><td>7</td><td>17</td></tr>\n",
              "\t<tr><td>029</td><td> 7</td><td>5</td><td>16</td></tr>\n",
              "\t<tr><td>030</td><td> 5</td><td>5</td><td>16</td></tr>\n",
              "\t<tr><td>031</td><td> 5</td><td>6</td><td>16</td></tr>\n",
              "\t<tr><td>032</td><td> 6</td><td>5</td><td>16</td></tr>\n",
              "\t<tr><td>033</td><td> 5</td><td>4</td><td>16</td></tr>\n",
              "\t<tr><td>034</td><td> 4</td><td>5</td><td>16</td></tr>\n",
              "\t<tr><td>035</td><td> 4</td><td>6</td><td>13</td></tr>\n",
              "\t<tr><td>036</td><td> 5</td><td>5</td><td>15</td></tr>\n",
              "\t<tr><td>037</td><td> 5</td><td>5</td><td>15</td></tr>\n",
              "\t<tr><td>038</td><td> 7</td><td>7</td><td>15</td></tr>\n",
              "\t<tr><td>039</td><td> 5</td><td>5</td><td>15</td></tr>\n",
              "\t<tr><td>040</td><td> 6</td><td>5</td><td>15</td></tr>\n",
              "\t<tr><td>041</td><td> 5</td><td>7</td><td>15</td></tr>\n",
              "\t<tr><td>042</td><td> 4</td><td>5</td><td>15</td></tr>\n",
              "\t<tr><td>043</td><td> 5</td><td>6</td><td>15</td></tr>\n",
              "\t<tr><td>044</td><td> 5</td><td>5</td><td>15</td></tr>\n",
              "\t<tr><td>045</td><td> 6</td><td>7</td><td>15</td></tr>\n",
              "\t<tr><td>046</td><td> 7</td><td>8</td><td>18</td></tr>\n",
              "\t<tr><td>047</td><td> 7</td><td>9</td><td>19</td></tr>\n",
              "\t<tr><td>048</td><td> 8</td><td>8</td><td>19</td></tr>\n",
              "\t<tr><td>049</td><td> 5</td><td>6</td><td>14</td></tr>\n",
              "\t<tr><td>050</td><td> 3</td><td>5</td><td>14</td></tr>\n",
              "\t<tr><td>051</td><td> 5</td><td>5</td><td>13</td></tr>\n",
              "\t<tr><td>052</td><td> 4</td><td>7</td><td>14</td></tr>\n",
              "\t<tr><td>053</td><td> 8</td><td>5</td><td>13</td></tr>\n",
              "\t<tr><td>054</td><td> 4</td><td>7</td><td>13</td></tr>\n",
              "\t<tr><td>055</td><td> 7</td><td>5</td><td>13</td></tr>\n",
              "\t<tr><td>056</td><td> 4</td><td>6</td><td>13</td></tr>\n",
              "\t<tr><td>057</td><td> 4</td><td>5</td><td>13</td></tr>\n",
              "\t<tr><td>058</td><td> 6</td><td>7</td><td>14</td></tr>\n",
              "\t<tr><td>059</td><td> 4</td><td>5</td><td>13</td></tr>\n",
              "\t<tr><td>060</td><td> 7</td><td>8</td><td>15</td></tr>\n",
              "</tbody>\n",
              "</table>\n"
            ],
            "text/markdown": "\nA tibble: 60 × 4\n\n| Código &lt;chr&gt; | Mot_Log &lt;dbl&gt; | Autoconcepto &lt;dbl&gt; | Rend_Acad &lt;dbl&gt; |\n|---|---|---|---|\n| 001 |  8 | 8 | 18 |\n| 002 | 10 | 8 | 19 |\n| 003 |  8 | 6 | 18 |\n| 004 |  8 | 7 | 19 |\n| 005 |  7 | 8 | 18 |\n| 006 |  6 | 8 | 15 |\n| 007 |  9 | 6 | 19 |\n| 008 |  6 | 8 | 18 |\n| 009 |  6 | 8 | 14 |\n| 010 |  8 | 8 | 18 |\n| 011 |  5 | 5 | 18 |\n| 012 |  8 | 8 | 19 |\n| 013 |  5 | 6 | 17 |\n| 014 |  7 | 7 | 18 |\n| 015 |  7 | 8 | 17 |\n| 016 |  9 | 7 | 17 |\n| 017 |  7 | 9 | 18 |\n| 018 |  7 | 9 | 20 |\n| 019 |  6 | 7 | 17 |\n| 020 |  7 | 7 | 18 |\n| 021 |  7 | 5 | 17 |\n| 022 |  7 | 7 | 16 |\n| 023 |  5 | 7 | 16 |\n| 024 |  5 | 5 | 16 |\n| 025 |  8 | 9 | 17 |\n| 026 |  5 | 5 | 16 |\n| 027 |  7 | 8 | 16 |\n| 028 |  5 | 7 | 17 |\n| 029 |  7 | 5 | 16 |\n| 030 |  5 | 5 | 16 |\n| 031 |  5 | 6 | 16 |\n| 032 |  6 | 5 | 16 |\n| 033 |  5 | 4 | 16 |\n| 034 |  4 | 5 | 16 |\n| 035 |  4 | 6 | 13 |\n| 036 |  5 | 5 | 15 |\n| 037 |  5 | 5 | 15 |\n| 038 |  7 | 7 | 15 |\n| 039 |  5 | 5 | 15 |\n| 040 |  6 | 5 | 15 |\n| 041 |  5 | 7 | 15 |\n| 042 |  4 | 5 | 15 |\n| 043 |  5 | 6 | 15 |\n| 044 |  5 | 5 | 15 |\n| 045 |  6 | 7 | 15 |\n| 046 |  7 | 8 | 18 |\n| 047 |  7 | 9 | 19 |\n| 048 |  8 | 8 | 19 |\n| 049 |  5 | 6 | 14 |\n| 050 |  3 | 5 | 14 |\n| 051 |  5 | 5 | 13 |\n| 052 |  4 | 7 | 14 |\n| 053 |  8 | 5 | 13 |\n| 054 |  4 | 7 | 13 |\n| 055 |  7 | 5 | 13 |\n| 056 |  4 | 6 | 13 |\n| 057 |  4 | 5 | 13 |\n| 058 |  6 | 7 | 14 |\n| 059 |  4 | 5 | 13 |\n| 060 |  7 | 8 | 15 |\n\n",
            "text/latex": "A tibble: 60 × 4\n\\begin{tabular}{llll}\n Código & Mot\\_Log & Autoconcepto & Rend\\_Acad\\\\\n <chr> & <dbl> & <dbl> & <dbl>\\\\\n\\hline\n\t 001 &  8 & 8 & 18\\\\\n\t 002 & 10 & 8 & 19\\\\\n\t 003 &  8 & 6 & 18\\\\\n\t 004 &  8 & 7 & 19\\\\\n\t 005 &  7 & 8 & 18\\\\\n\t 006 &  6 & 8 & 15\\\\\n\t 007 &  9 & 6 & 19\\\\\n\t 008 &  6 & 8 & 18\\\\\n\t 009 &  6 & 8 & 14\\\\\n\t 010 &  8 & 8 & 18\\\\\n\t 011 &  5 & 5 & 18\\\\\n\t 012 &  8 & 8 & 19\\\\\n\t 013 &  5 & 6 & 17\\\\\n\t 014 &  7 & 7 & 18\\\\\n\t 015 &  7 & 8 & 17\\\\\n\t 016 &  9 & 7 & 17\\\\\n\t 017 &  7 & 9 & 18\\\\\n\t 018 &  7 & 9 & 20\\\\\n\t 019 &  6 & 7 & 17\\\\\n\t 020 &  7 & 7 & 18\\\\\n\t 021 &  7 & 5 & 17\\\\\n\t 022 &  7 & 7 & 16\\\\\n\t 023 &  5 & 7 & 16\\\\\n\t 024 &  5 & 5 & 16\\\\\n\t 025 &  8 & 9 & 17\\\\\n\t 026 &  5 & 5 & 16\\\\\n\t 027 &  7 & 8 & 16\\\\\n\t 028 &  5 & 7 & 17\\\\\n\t 029 &  7 & 5 & 16\\\\\n\t 030 &  5 & 5 & 16\\\\\n\t 031 &  5 & 6 & 16\\\\\n\t 032 &  6 & 5 & 16\\\\\n\t 033 &  5 & 4 & 16\\\\\n\t 034 &  4 & 5 & 16\\\\\n\t 035 &  4 & 6 & 13\\\\\n\t 036 &  5 & 5 & 15\\\\\n\t 037 &  5 & 5 & 15\\\\\n\t 038 &  7 & 7 & 15\\\\\n\t 039 &  5 & 5 & 15\\\\\n\t 040 &  6 & 5 & 15\\\\\n\t 041 &  5 & 7 & 15\\\\\n\t 042 &  4 & 5 & 15\\\\\n\t 043 &  5 & 6 & 15\\\\\n\t 044 &  5 & 5 & 15\\\\\n\t 045 &  6 & 7 & 15\\\\\n\t 046 &  7 & 8 & 18\\\\\n\t 047 &  7 & 9 & 19\\\\\n\t 048 &  8 & 8 & 19\\\\\n\t 049 &  5 & 6 & 14\\\\\n\t 050 &  3 & 5 & 14\\\\\n\t 051 &  5 & 5 & 13\\\\\n\t 052 &  4 & 7 & 14\\\\\n\t 053 &  8 & 5 & 13\\\\\n\t 054 &  4 & 7 & 13\\\\\n\t 055 &  7 & 5 & 13\\\\\n\t 056 &  4 & 6 & 13\\\\\n\t 057 &  4 & 5 & 13\\\\\n\t 058 &  6 & 7 & 14\\\\\n\t 059 &  4 & 5 & 13\\\\\n\t 060 &  7 & 8 & 15\\\\\n\\end{tabular}\n",
            "text/plain": [
              "   Código Mot_Log Autoconcepto Rend_Acad\n",
              "1  001     8      8            18       \n",
              "2  002    10      8            19       \n",
              "3  003     8      6            18       \n",
              "4  004     8      7            19       \n",
              "5  005     7      8            18       \n",
              "6  006     6      8            15       \n",
              "7  007     9      6            19       \n",
              "8  008     6      8            18       \n",
              "9  009     6      8            14       \n",
              "10 010     8      8            18       \n",
              "11 011     5      5            18       \n",
              "12 012     8      8            19       \n",
              "13 013     5      6            17       \n",
              "14 014     7      7            18       \n",
              "15 015     7      8            17       \n",
              "16 016     9      7            17       \n",
              "17 017     7      9            18       \n",
              "18 018     7      9            20       \n",
              "19 019     6      7            17       \n",
              "20 020     7      7            18       \n",
              "21 021     7      5            17       \n",
              "22 022     7      7            16       \n",
              "23 023     5      7            16       \n",
              "24 024     5      5            16       \n",
              "25 025     8      9            17       \n",
              "26 026     5      5            16       \n",
              "27 027     7      8            16       \n",
              "28 028     5      7            17       \n",
              "29 029     7      5            16       \n",
              "30 030     5      5            16       \n",
              "31 031     5      6            16       \n",
              "32 032     6      5            16       \n",
              "33 033     5      4            16       \n",
              "34 034     4      5            16       \n",
              "35 035     4      6            13       \n",
              "36 036     5      5            15       \n",
              "37 037     5      5            15       \n",
              "38 038     7      7            15       \n",
              "39 039     5      5            15       \n",
              "40 040     6      5            15       \n",
              "41 041     5      7            15       \n",
              "42 042     4      5            15       \n",
              "43 043     5      6            15       \n",
              "44 044     5      5            15       \n",
              "45 045     6      7            15       \n",
              "46 046     7      8            18       \n",
              "47 047     7      9            19       \n",
              "48 048     8      8            19       \n",
              "49 049     5      6            14       \n",
              "50 050     3      5            14       \n",
              "51 051     5      5            13       \n",
              "52 052     4      7            14       \n",
              "53 053     8      5            13       \n",
              "54 054     4      7            13       \n",
              "55 055     7      5            13       \n",
              "56 056     4      6            13       \n",
              "57 057     4      5            13       \n",
              "58 058     6      7            14       \n",
              "59 059     4      5            13       \n",
              "60 060     7      8            15       "
            ]
          },
          "metadata": {}
        }
      ],
      "source": [
        "df = haven::read_sav(\"https://github.com/renatoparedes/EstadisticaYPsicologiaMatematica/raw/main/INEE/BaseEjerciciosRegresionMultiple.sav\")\n",
        "\n",
        "df"
      ]
    },
    {
      "cell_type": "markdown",
      "metadata": {
        "id": "tgzibv0oqjpI"
      },
      "source": [
        "## Ejercicio 1\n",
        "\n",
        "El estudio sobre los factores presentes en el rendimiento académico en estudiantes universitarios encontró que tanto la motivación de logro como el autoconcepto son variables predictoras significativas del rendimiento de las y los participantes. Ahora, se quiere conocer cuál es la contribución conjunta de ambos factores a la variabilidad del rendimiento académico y cuál de ellos es la variable más importante en su estimación.\n",
        "\n",
        "a) Establece la hipótesis de trabajo (HT).\n",
        "\n",
        "b) Señala las hipótesis estadísticas (H0 y H1) que correspondan a la HT.\n",
        "\n",
        "c) Plantea la ecuación del modelo para la HT.\n",
        "\n",
        "d) Evalúa los supuestos necesarios para continuar con el análisis de regresión.\n",
        "- Linealidad\n",
        "- Normalidad de residuos\n",
        "- Multicolinealidad\n",
        "\n",
        "e) Evalúa el ajuste del modelo planteado, interpretando el valor de R2 en términos de variabilidad explicada del rendimiento académico y los criterios de Cohen.\n",
        "\n",
        "f) Indica si se cumplen las hipótesis y brinda tu conclusión.\n"
      ]
    }
  ]
}