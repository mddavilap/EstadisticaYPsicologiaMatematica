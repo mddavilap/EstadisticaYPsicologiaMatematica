{
  "nbformat": 4,
  "nbformat_minor": 0,
  "metadata": {
    "colab": {
      "provenance": []
    },
    "kernelspec": {
      "name": "ir",
      "display_name": "R"
    },
    "language_info": {
      "name": "R"
    }
  },
  "cells": [
    {
      "cell_type": "markdown",
      "metadata": {
        "id": "f2PnhYBSqjpD"
      },
      "source": [
        "# Ejercico de casa: Regresión Múltiple"
      ]
    },
    {
      "cell_type": "code",
      "execution_count": 18,
      "metadata": {
        "id": "IDLxbWAgqjpG",
        "colab": {
          "base_uri": "https://localhost:8080/"
        },
        "outputId": "e62719b8-dbcd-4254-dfc3-58e4b414d061"
      },
      "outputs": [
        {
          "output_type": "stream",
          "name": "stderr",
          "text": [
            "Installing package into ‘/usr/local/lib/R/site-library’\n",
            "(as ‘lib’ is unspecified)\n",
            "\n",
            "also installing the dependencies ‘textshaping’, ‘ragg’\n",
            "\n",
            "\n",
            "Warning message in install.packages(\"tidyverse\"):\n",
            "“installation of package ‘textshaping’ had non-zero exit status”\n",
            "Warning message in install.packages(\"tidyverse\"):\n",
            "“installation of package ‘ragg’ had non-zero exit status”\n",
            "Warning message in install.packages(\"tidyverse\"):\n",
            "“installation of package ‘tidyverse’ had non-zero exit status”\n"
          ]
        }
      ],
      "source": [
        "# Instala dependencias\n",
        "install.packages(\"tidyverse\")\n",
        "library(tidyverse)"
      ]
    },
    {
      "cell_type": "code",
      "execution_count": 19,
      "metadata": {
        "id": "9DJYeFrzqjpH",
        "outputId": "774c4992-db9a-47af-9b13-657e5ceaace9",
        "colab": {
          "base_uri": "https://localhost:8080/",
          "height": 165
        }
      },
      "outputs": [
        {
          "output_type": "error",
          "ename": "ERROR",
          "evalue": "ignored",
          "traceback": [
            "Error: `path` does not exist: ‘https://github.com/mddavilap/EstadisticaYPsicologiaMatematica/blob/main/INEE/BaseEjerciciosRegresionMultiple.xlsx’\nTraceback:\n",
            "1. readxl::read_xlsx(\"https://github.com/mddavilap/EstadisticaYPsicologiaMatematica/blob/main/INEE/BaseEjerciciosRegresionMultiple.xlsx\")",
            "2. check_file(path)",
            "3. stop(\"`path` does not exist: \", sQuote(path), call. = FALSE)"
          ]
        }
      ],
      "source": [
        "df = readxl::read_xlsx(\"https://github.com/mddavilap/EstadisticaYPsicologiaMatematica/blob/main/INEE/BaseEjerciciosRegresionMultiple.xlsx\")\n",
        "\n",
        "df"
      ]
    },
    {
      "cell_type": "markdown",
      "metadata": {
        "id": "tgzibv0oqjpI"
      },
      "source": [
        "## Ejercicio 1\n",
        "\n",
        "El estudio sobre los factores presentes en el rendimiento académico en estudiantes universitarios encontró que tanto la motivación de logro como el autoconcepto son variables predictoras significativas del rendimiento de las y los participantes. Ahora, se quiere conocer cuál es la contribución conjunta de ambos factores a la variabilidad del rendimiento académico y cuál de ellos es la variable más importante en su estimación.\n",
        "\n",
        "a) Establece la hipótesis de trabajo (HT).\n",
        "\n",
        "b) Señala las hipótesis estadísticas (H0 y H1) que correspondan a la HT.\n",
        "\n",
        "c) Plantea la ecuación del modelo para la HT.\n",
        "\n",
        "d) Evalúa los supuestos necesarios para continuar con el análisis de regresión.\n",
        "- Linealidad\n",
        "- Normalidad de residuos\n",
        "- Multicolinealidad\n",
        "\n",
        "e) Evalúa el ajuste del modelo planteado, interpretando el valor de R2 en términos de variabilidad explicada del rendimiento académico y los criterios de Cohen.\n",
        "\n",
        "f) Indica si se cumplen las hipótesis y brinda tu conclusión.\n"
      ]
    }
  ]
}