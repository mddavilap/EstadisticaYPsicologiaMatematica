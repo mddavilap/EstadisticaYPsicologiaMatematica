{
  "nbformat": 4,
  "nbformat_minor": 0,
  "metadata": {
    "colab": {
      "provenance": []
    },
    "kernelspec": {
      "name": "ir",
      "display_name": "R"
    },
    "language_info": {
      "name": "R"
    }
  },
  "cells": [
    {
      "cell_type": "markdown",
      "metadata": {
        "id": "CfTIBOkjA8PU"
      },
      "source": [
        "# Reporte escrito 1"
      ]
    },
    {
      "cell_type": "code",
      "execution_count": 5,
      "metadata": {
        "id": "iO88QSKbA8Pa",
        "colab": {
          "base_uri": "https://localhost:8080/"
        },
        "outputId": "6b94c7fe-9d90-435b-c07a-169a971b1d35"
      },
      "outputs": [
        {
          "output_type": "stream",
          "name": "stderr",
          "text": [
            "Installing package into ‘/usr/local/lib/R/site-library’\n",
            "(as ‘lib’ is unspecified)\n",
            "\n",
            "also installing the dependencies ‘textshaping’, ‘ragg’\n",
            "\n",
            "\n",
            "Warning message in install.packages(\"tidyverse\"):\n",
            "“installation of package ‘textshaping’ had non-zero exit status”\n",
            "Warning message in install.packages(\"tidyverse\"):\n",
            "“installation of package ‘ragg’ had non-zero exit status”\n",
            "Warning message in install.packages(\"tidyverse\"):\n",
            "“installation of package ‘tidyverse’ had non-zero exit status”\n",
            "Installing package into ‘/usr/local/lib/R/site-library’\n",
            "(as ‘lib’ is unspecified)\n",
            "\n",
            "\n",
            "Attaching package: ‘rstatix’\n",
            "\n",
            "\n",
            "The following object is masked from ‘package:stats’:\n",
            "\n",
            "    filter\n",
            "\n",
            "\n"
          ]
        }
      ],
      "source": [
        "# Instala dependencias\n",
        "install.packages(\"tidyverse\")\n",
        "install.packages(\"rstatix\")\n",
        "\n",
        "library(tidyverse)\n",
        "library(rstatix)"
      ]
    },
    {
      "cell_type": "markdown",
      "metadata": {
        "id": "nTJbeEXKA8Pc"
      },
      "source": [
        "En las respuestas deben indicar:\n",
        "\n",
        "- Hipótesis de trabajo e hipótesis estadísticas, de manera correspondiente.\n",
        "- Resultados de prueba de normalidad para las distribuciones de las variables de estudio.\n",
        "- Indicadores estadísticos utilizados (SW, M, Mdn, DE, t, U, F, r) el valor p\n",
        "correspondiente, y la magnitud según criterios de Cohen, de ser pertinente.\n",
        "- Redacción de las conclusiones.\n",
        "\n",
        ">Nota: reportar la normalidad de las distribuciones en base a la prueba Shapiro-Wilk. Para\n",
        "efectos de este reporte, NO consideren asimetría y curtosis para decidir la prueba estadística a\n",
        "utilizar"
      ]
    },
    {
      "cell_type": "markdown",
      "metadata": {
        "id": "czayCdWiA8Pd"
      },
      "source": [
        "En una investigación sobre los recursos que facilitan la adaptación a la pandemia por COVID-19 en la adultez media (40 a 60 años) se contó con información sobre optimismo, mindfulness-rasgo y miedo al COVID-19. \n",
        "\n",
        "El estudio contó con la participación de 90 adultas, y adultos, quienes completaron el protocolo de estudio en línea. Además de los constructos de estudio, se recolectaron datos generales de sexo de las/los participantes, edad en años, si se encuentran en una relación de pareja, o no, y si consumen alcohol semanalmente."
      ]
    },
    {
      "cell_type": "code",
      "source": [
        "df = haven::read_sav(\"https://github.com/renatoparedes/EstadisticaYPsicologiaMatematica/raw/main/INEE/BaseReporte1.sav\")\n",
        "df"
      ],
      "metadata": {
        "colab": {
          "base_uri": "https://localhost:8080/",
          "height": 1000
        },
        "id": "RgtWmqtFCfaz",
        "outputId": "196897b5-8904-4187-ae4f-fb50e8fb119a"
      },
      "execution_count": 2,
      "outputs": [
        {
          "output_type": "display_data",
          "data": {
            "text/html": [
              "<table class=\"dataframe\">\n",
              "<caption>A tibble: 90 × 8</caption>\n",
              "<thead>\n",
              "\t<tr><th scope=col>Código</th><th scope=col>Edad</th><th scope=col>Sexo</th><th scope=col>Pareja</th><th scope=col>Cons_alcohol</th><th scope=col>Optimismo</th><th scope=col>Mindful</th><th scope=col>Miedo_COV</th></tr>\n",
              "\t<tr><th scope=col>&lt;chr&gt;</th><th scope=col>&lt;dbl&gt;</th><th scope=col>&lt;dbl+lbl&gt;</th><th scope=col>&lt;dbl+lbl&gt;</th><th scope=col>&lt;dbl+lbl&gt;</th><th scope=col>&lt;dbl&gt;</th><th scope=col>&lt;dbl&gt;</th><th scope=col>&lt;dbl&gt;</th></tr>\n",
              "</thead>\n",
              "<tbody>\n",
              "\t<tr><td>001</td><td>53</td><td>1</td><td>1</td><td>1</td><td>47</td><td>37</td><td>55</td></tr>\n",
              "\t<tr><td>002</td><td>49</td><td>1</td><td>0</td><td>0</td><td>36</td><td>39</td><td>41</td></tr>\n",
              "\t<tr><td>003</td><td>57</td><td>2</td><td>1</td><td>1</td><td>54</td><td>25</td><td>42</td></tr>\n",
              "\t<tr><td>004</td><td>55</td><td>2</td><td>0</td><td>0</td><td>68</td><td>38</td><td>53</td></tr>\n",
              "\t<tr><td>005</td><td>52</td><td>1</td><td>0</td><td>0</td><td>50</td><td>42</td><td>46</td></tr>\n",
              "\t<tr><td>006</td><td>53</td><td>2</td><td>0</td><td>0</td><td>56</td><td>30</td><td>50</td></tr>\n",
              "\t<tr><td>007</td><td>48</td><td>2</td><td>1</td><td>1</td><td>60</td><td>42</td><td>42</td></tr>\n",
              "\t<tr><td>008</td><td>52</td><td>1</td><td>1</td><td>0</td><td>54</td><td>34</td><td>56</td></tr>\n",
              "\t<tr><td>009</td><td>54</td><td>2</td><td>0</td><td>0</td><td>60</td><td>28</td><td>55</td></tr>\n",
              "\t<tr><td>010</td><td>55</td><td>2</td><td>1</td><td>1</td><td>42</td><td>30</td><td>45</td></tr>\n",
              "\t<tr><td>011</td><td>56</td><td>1</td><td>1</td><td>1</td><td>64</td><td>52</td><td>43</td></tr>\n",
              "\t<tr><td>012</td><td>52</td><td>1</td><td>1</td><td>0</td><td>46</td><td>34</td><td>42</td></tr>\n",
              "\t<tr><td>013</td><td>56</td><td>2</td><td>0</td><td>0</td><td>64</td><td>20</td><td>54</td></tr>\n",
              "\t<tr><td>014</td><td>50</td><td>2</td><td>0</td><td>0</td><td>50</td><td>56</td><td>48</td></tr>\n",
              "\t<tr><td>015</td><td>42</td><td>1</td><td>1</td><td>0</td><td>54</td><td>34</td><td>52</td></tr>\n",
              "\t<tr><td>016</td><td>58</td><td>1</td><td>1</td><td>0</td><td>42</td><td>58</td><td>48</td></tr>\n",
              "\t<tr><td>017</td><td>51</td><td>2</td><td>1</td><td>1</td><td>64</td><td>22</td><td>60</td></tr>\n",
              "\t<tr><td>018</td><td>43</td><td>1</td><td>0</td><td>0</td><td>56</td><td>46</td><td>46</td></tr>\n",
              "\t<tr><td>019</td><td>53</td><td>2</td><td>0</td><td>0</td><td>49</td><td>30</td><td>49</td></tr>\n",
              "\t<tr><td>020</td><td>51</td><td>1</td><td>1</td><td>1</td><td>60</td><td>38</td><td>52</td></tr>\n",
              "\t<tr><td>021</td><td>41</td><td>1</td><td>0</td><td>0</td><td>54</td><td>42</td><td>54</td></tr>\n",
              "\t<tr><td>022</td><td>40</td><td>1</td><td>1</td><td>1</td><td>52</td><td>34</td><td>47</td></tr>\n",
              "\t<tr><td>023</td><td>53</td><td>2</td><td>0</td><td>0</td><td>48</td><td>22</td><td>58</td></tr>\n",
              "\t<tr><td>024</td><td>54</td><td>1</td><td>1</td><td>1</td><td>42</td><td>34</td><td>43</td></tr>\n",
              "\t<tr><td>025</td><td>53</td><td>1</td><td>1</td><td>1</td><td>30</td><td>57</td><td>49</td></tr>\n",
              "\t<tr><td>026</td><td>42</td><td>1</td><td>1</td><td>0</td><td>48</td><td>26</td><td>50</td></tr>\n",
              "\t<tr><td>027</td><td>58</td><td>2</td><td>0</td><td>0</td><td>54</td><td>42</td><td>48</td></tr>\n",
              "\t<tr><td>028</td><td>57</td><td>1</td><td>1</td><td>1</td><td>60</td><td>28</td><td>53</td></tr>\n",
              "\t<tr><td>029</td><td>50</td><td>1</td><td>1</td><td>1</td><td>36</td><td>24</td><td>59</td></tr>\n",
              "\t<tr><td>030</td><td>43</td><td>1</td><td>0</td><td>1</td><td>50</td><td>25</td><td>53</td></tr>\n",
              "\t<tr><td>⋮</td><td>⋮</td><td>⋮</td><td>⋮</td><td>⋮</td><td>⋮</td><td>⋮</td><td>⋮</td></tr>\n",
              "\t<tr><td>061</td><td>60</td><td>2</td><td>0</td><td>0</td><td>68</td><td>46</td><td>58</td></tr>\n",
              "\t<tr><td>062</td><td>56</td><td>2</td><td>0</td><td>0</td><td>52</td><td>54</td><td>53</td></tr>\n",
              "\t<tr><td>063</td><td>47</td><td>1</td><td>1</td><td>0</td><td>48</td><td>39</td><td>51</td></tr>\n",
              "\t<tr><td>064</td><td>45</td><td>1</td><td>1</td><td>0</td><td>62</td><td>26</td><td>54</td></tr>\n",
              "\t<tr><td>065</td><td>56</td><td>2</td><td>1</td><td>1</td><td>56</td><td>54</td><td>42</td></tr>\n",
              "\t<tr><td>066</td><td>42</td><td>1</td><td>0</td><td>0</td><td>52</td><td>35</td><td>48</td></tr>\n",
              "\t<tr><td>067</td><td>53</td><td>1</td><td>1</td><td>1</td><td>42</td><td>40</td><td>43</td></tr>\n",
              "\t<tr><td>068</td><td>42</td><td>2</td><td>1</td><td>1</td><td>54</td><td>52</td><td>46</td></tr>\n",
              "\t<tr><td>069</td><td>43</td><td>2</td><td>1</td><td>1</td><td>47</td><td>56</td><td>45</td></tr>\n",
              "\t<tr><td>070</td><td>44</td><td>1</td><td>0</td><td>1</td><td>54</td><td>52</td><td>58</td></tr>\n",
              "\t<tr><td>071</td><td>42</td><td>2</td><td>1</td><td>1</td><td>53</td><td>54</td><td>57</td></tr>\n",
              "\t<tr><td>072</td><td>56</td><td>1</td><td>1</td><td>1</td><td>54</td><td>36</td><td>45</td></tr>\n",
              "\t<tr><td>073</td><td>59</td><td>2</td><td>1</td><td>1</td><td>46</td><td>22</td><td>54</td></tr>\n",
              "\t<tr><td>074</td><td>47</td><td>2</td><td>0</td><td>0</td><td>39</td><td>41</td><td>40</td></tr>\n",
              "\t<tr><td>075</td><td>44</td><td>1</td><td>0</td><td>0</td><td>69</td><td>37</td><td>44</td></tr>\n",
              "\t<tr><td>076</td><td>48</td><td>1</td><td>1</td><td>1</td><td>36</td><td>52</td><td>42</td></tr>\n",
              "\t<tr><td>077</td><td>59</td><td>2</td><td>1</td><td>1</td><td>63</td><td>48</td><td>56</td></tr>\n",
              "\t<tr><td>078</td><td>43</td><td>2</td><td>0</td><td>0</td><td>54</td><td>57</td><td>50</td></tr>\n",
              "\t<tr><td>079</td><td>41</td><td>1</td><td>0</td><td>1</td><td>50</td><td>56</td><td>48</td></tr>\n",
              "\t<tr><td>080</td><td>42</td><td>2</td><td>1</td><td>1</td><td>47</td><td>55</td><td>46</td></tr>\n",
              "\t<tr><td>081</td><td>44</td><td>2</td><td>0</td><td>0</td><td>58</td><td>46</td><td>48</td></tr>\n",
              "\t<tr><td>082</td><td>55</td><td>1</td><td>1</td><td>1</td><td>42</td><td>53</td><td>43</td></tr>\n",
              "\t<tr><td>083</td><td>42</td><td>2</td><td>1</td><td>0</td><td>54</td><td>48</td><td>46</td></tr>\n",
              "\t<tr><td>084</td><td>43</td><td>2</td><td>1</td><td>0</td><td>38</td><td>38</td><td>42</td></tr>\n",
              "\t<tr><td>085</td><td>60</td><td>1</td><td>1</td><td>0</td><td>63</td><td>44</td><td>57</td></tr>\n",
              "\t<tr><td>086</td><td>46</td><td>1</td><td>0</td><td>0</td><td>44</td><td>52</td><td>47</td></tr>\n",
              "\t<tr><td>087</td><td>44</td><td>2</td><td>1</td><td>1</td><td>58</td><td>35</td><td>56</td></tr>\n",
              "\t<tr><td>088</td><td>58</td><td>2</td><td>0</td><td>1</td><td>54</td><td>33</td><td>50</td></tr>\n",
              "\t<tr><td>089</td><td>43</td><td>1</td><td>1</td><td>0</td><td>50</td><td>22</td><td>49</td></tr>\n",
              "\t<tr><td>090</td><td>49</td><td>2</td><td>1</td><td>1</td><td>58</td><td>25</td><td>46</td></tr>\n",
              "</tbody>\n",
              "</table>\n"
            ],
            "text/markdown": "\nA tibble: 90 × 8\n\n| Código &lt;chr&gt; | Edad &lt;dbl&gt; | Sexo &lt;dbl+lbl&gt; | Pareja &lt;dbl+lbl&gt; | Cons_alcohol &lt;dbl+lbl&gt; | Optimismo &lt;dbl&gt; | Mindful &lt;dbl&gt; | Miedo_COV &lt;dbl&gt; |\n|---|---|---|---|---|---|---|---|\n| 001 | 53 | 1 | 1 | 1 | 47 | 37 | 55 |\n| 002 | 49 | 1 | 0 | 0 | 36 | 39 | 41 |\n| 003 | 57 | 2 | 1 | 1 | 54 | 25 | 42 |\n| 004 | 55 | 2 | 0 | 0 | 68 | 38 | 53 |\n| 005 | 52 | 1 | 0 | 0 | 50 | 42 | 46 |\n| 006 | 53 | 2 | 0 | 0 | 56 | 30 | 50 |\n| 007 | 48 | 2 | 1 | 1 | 60 | 42 | 42 |\n| 008 | 52 | 1 | 1 | 0 | 54 | 34 | 56 |\n| 009 | 54 | 2 | 0 | 0 | 60 | 28 | 55 |\n| 010 | 55 | 2 | 1 | 1 | 42 | 30 | 45 |\n| 011 | 56 | 1 | 1 | 1 | 64 | 52 | 43 |\n| 012 | 52 | 1 | 1 | 0 | 46 | 34 | 42 |\n| 013 | 56 | 2 | 0 | 0 | 64 | 20 | 54 |\n| 014 | 50 | 2 | 0 | 0 | 50 | 56 | 48 |\n| 015 | 42 | 1 | 1 | 0 | 54 | 34 | 52 |\n| 016 | 58 | 1 | 1 | 0 | 42 | 58 | 48 |\n| 017 | 51 | 2 | 1 | 1 | 64 | 22 | 60 |\n| 018 | 43 | 1 | 0 | 0 | 56 | 46 | 46 |\n| 019 | 53 | 2 | 0 | 0 | 49 | 30 | 49 |\n| 020 | 51 | 1 | 1 | 1 | 60 | 38 | 52 |\n| 021 | 41 | 1 | 0 | 0 | 54 | 42 | 54 |\n| 022 | 40 | 1 | 1 | 1 | 52 | 34 | 47 |\n| 023 | 53 | 2 | 0 | 0 | 48 | 22 | 58 |\n| 024 | 54 | 1 | 1 | 1 | 42 | 34 | 43 |\n| 025 | 53 | 1 | 1 | 1 | 30 | 57 | 49 |\n| 026 | 42 | 1 | 1 | 0 | 48 | 26 | 50 |\n| 027 | 58 | 2 | 0 | 0 | 54 | 42 | 48 |\n| 028 | 57 | 1 | 1 | 1 | 60 | 28 | 53 |\n| 029 | 50 | 1 | 1 | 1 | 36 | 24 | 59 |\n| 030 | 43 | 1 | 0 | 1 | 50 | 25 | 53 |\n| ⋮ | ⋮ | ⋮ | ⋮ | ⋮ | ⋮ | ⋮ | ⋮ |\n| 061 | 60 | 2 | 0 | 0 | 68 | 46 | 58 |\n| 062 | 56 | 2 | 0 | 0 | 52 | 54 | 53 |\n| 063 | 47 | 1 | 1 | 0 | 48 | 39 | 51 |\n| 064 | 45 | 1 | 1 | 0 | 62 | 26 | 54 |\n| 065 | 56 | 2 | 1 | 1 | 56 | 54 | 42 |\n| 066 | 42 | 1 | 0 | 0 | 52 | 35 | 48 |\n| 067 | 53 | 1 | 1 | 1 | 42 | 40 | 43 |\n| 068 | 42 | 2 | 1 | 1 | 54 | 52 | 46 |\n| 069 | 43 | 2 | 1 | 1 | 47 | 56 | 45 |\n| 070 | 44 | 1 | 0 | 1 | 54 | 52 | 58 |\n| 071 | 42 | 2 | 1 | 1 | 53 | 54 | 57 |\n| 072 | 56 | 1 | 1 | 1 | 54 | 36 | 45 |\n| 073 | 59 | 2 | 1 | 1 | 46 | 22 | 54 |\n| 074 | 47 | 2 | 0 | 0 | 39 | 41 | 40 |\n| 075 | 44 | 1 | 0 | 0 | 69 | 37 | 44 |\n| 076 | 48 | 1 | 1 | 1 | 36 | 52 | 42 |\n| 077 | 59 | 2 | 1 | 1 | 63 | 48 | 56 |\n| 078 | 43 | 2 | 0 | 0 | 54 | 57 | 50 |\n| 079 | 41 | 1 | 0 | 1 | 50 | 56 | 48 |\n| 080 | 42 | 2 | 1 | 1 | 47 | 55 | 46 |\n| 081 | 44 | 2 | 0 | 0 | 58 | 46 | 48 |\n| 082 | 55 | 1 | 1 | 1 | 42 | 53 | 43 |\n| 083 | 42 | 2 | 1 | 0 | 54 | 48 | 46 |\n| 084 | 43 | 2 | 1 | 0 | 38 | 38 | 42 |\n| 085 | 60 | 1 | 1 | 0 | 63 | 44 | 57 |\n| 086 | 46 | 1 | 0 | 0 | 44 | 52 | 47 |\n| 087 | 44 | 2 | 1 | 1 | 58 | 35 | 56 |\n| 088 | 58 | 2 | 0 | 1 | 54 | 33 | 50 |\n| 089 | 43 | 1 | 1 | 0 | 50 | 22 | 49 |\n| 090 | 49 | 2 | 1 | 1 | 58 | 25 | 46 |\n\n",
            "text/latex": "A tibble: 90 × 8\n\\begin{tabular}{llllllll}\n Código & Edad & Sexo & Pareja & Cons\\_alcohol & Optimismo & Mindful & Miedo\\_COV\\\\\n <chr> & <dbl> & <dbl+lbl> & <dbl+lbl> & <dbl+lbl> & <dbl> & <dbl> & <dbl>\\\\\n\\hline\n\t 001 & 53 & 1 & 1 & 1 & 47 & 37 & 55\\\\\n\t 002 & 49 & 1 & 0 & 0 & 36 & 39 & 41\\\\\n\t 003 & 57 & 2 & 1 & 1 & 54 & 25 & 42\\\\\n\t 004 & 55 & 2 & 0 & 0 & 68 & 38 & 53\\\\\n\t 005 & 52 & 1 & 0 & 0 & 50 & 42 & 46\\\\\n\t 006 & 53 & 2 & 0 & 0 & 56 & 30 & 50\\\\\n\t 007 & 48 & 2 & 1 & 1 & 60 & 42 & 42\\\\\n\t 008 & 52 & 1 & 1 & 0 & 54 & 34 & 56\\\\\n\t 009 & 54 & 2 & 0 & 0 & 60 & 28 & 55\\\\\n\t 010 & 55 & 2 & 1 & 1 & 42 & 30 & 45\\\\\n\t 011 & 56 & 1 & 1 & 1 & 64 & 52 & 43\\\\\n\t 012 & 52 & 1 & 1 & 0 & 46 & 34 & 42\\\\\n\t 013 & 56 & 2 & 0 & 0 & 64 & 20 & 54\\\\\n\t 014 & 50 & 2 & 0 & 0 & 50 & 56 & 48\\\\\n\t 015 & 42 & 1 & 1 & 0 & 54 & 34 & 52\\\\\n\t 016 & 58 & 1 & 1 & 0 & 42 & 58 & 48\\\\\n\t 017 & 51 & 2 & 1 & 1 & 64 & 22 & 60\\\\\n\t 018 & 43 & 1 & 0 & 0 & 56 & 46 & 46\\\\\n\t 019 & 53 & 2 & 0 & 0 & 49 & 30 & 49\\\\\n\t 020 & 51 & 1 & 1 & 1 & 60 & 38 & 52\\\\\n\t 021 & 41 & 1 & 0 & 0 & 54 & 42 & 54\\\\\n\t 022 & 40 & 1 & 1 & 1 & 52 & 34 & 47\\\\\n\t 023 & 53 & 2 & 0 & 0 & 48 & 22 & 58\\\\\n\t 024 & 54 & 1 & 1 & 1 & 42 & 34 & 43\\\\\n\t 025 & 53 & 1 & 1 & 1 & 30 & 57 & 49\\\\\n\t 026 & 42 & 1 & 1 & 0 & 48 & 26 & 50\\\\\n\t 027 & 58 & 2 & 0 & 0 & 54 & 42 & 48\\\\\n\t 028 & 57 & 1 & 1 & 1 & 60 & 28 & 53\\\\\n\t 029 & 50 & 1 & 1 & 1 & 36 & 24 & 59\\\\\n\t 030 & 43 & 1 & 0 & 1 & 50 & 25 & 53\\\\\n\t ⋮ & ⋮ & ⋮ & ⋮ & ⋮ & ⋮ & ⋮ & ⋮\\\\\n\t 061 & 60 & 2 & 0 & 0 & 68 & 46 & 58\\\\\n\t 062 & 56 & 2 & 0 & 0 & 52 & 54 & 53\\\\\n\t 063 & 47 & 1 & 1 & 0 & 48 & 39 & 51\\\\\n\t 064 & 45 & 1 & 1 & 0 & 62 & 26 & 54\\\\\n\t 065 & 56 & 2 & 1 & 1 & 56 & 54 & 42\\\\\n\t 066 & 42 & 1 & 0 & 0 & 52 & 35 & 48\\\\\n\t 067 & 53 & 1 & 1 & 1 & 42 & 40 & 43\\\\\n\t 068 & 42 & 2 & 1 & 1 & 54 & 52 & 46\\\\\n\t 069 & 43 & 2 & 1 & 1 & 47 & 56 & 45\\\\\n\t 070 & 44 & 1 & 0 & 1 & 54 & 52 & 58\\\\\n\t 071 & 42 & 2 & 1 & 1 & 53 & 54 & 57\\\\\n\t 072 & 56 & 1 & 1 & 1 & 54 & 36 & 45\\\\\n\t 073 & 59 & 2 & 1 & 1 & 46 & 22 & 54\\\\\n\t 074 & 47 & 2 & 0 & 0 & 39 & 41 & 40\\\\\n\t 075 & 44 & 1 & 0 & 0 & 69 & 37 & 44\\\\\n\t 076 & 48 & 1 & 1 & 1 & 36 & 52 & 42\\\\\n\t 077 & 59 & 2 & 1 & 1 & 63 & 48 & 56\\\\\n\t 078 & 43 & 2 & 0 & 0 & 54 & 57 & 50\\\\\n\t 079 & 41 & 1 & 0 & 1 & 50 & 56 & 48\\\\\n\t 080 & 42 & 2 & 1 & 1 & 47 & 55 & 46\\\\\n\t 081 & 44 & 2 & 0 & 0 & 58 & 46 & 48\\\\\n\t 082 & 55 & 1 & 1 & 1 & 42 & 53 & 43\\\\\n\t 083 & 42 & 2 & 1 & 0 & 54 & 48 & 46\\\\\n\t 084 & 43 & 2 & 1 & 0 & 38 & 38 & 42\\\\\n\t 085 & 60 & 1 & 1 & 0 & 63 & 44 & 57\\\\\n\t 086 & 46 & 1 & 0 & 0 & 44 & 52 & 47\\\\\n\t 087 & 44 & 2 & 1 & 1 & 58 & 35 & 56\\\\\n\t 088 & 58 & 2 & 0 & 1 & 54 & 33 & 50\\\\\n\t 089 & 43 & 1 & 1 & 0 & 50 & 22 & 49\\\\\n\t 090 & 49 & 2 & 1 & 1 & 58 & 25 & 46\\\\\n\\end{tabular}\n",
            "text/plain": [
              "   Código Edad Sexo Pareja Cons_alcohol Optimismo Mindful Miedo_COV\n",
              "1  001    53   1    1      1            47        37      55       \n",
              "2  002    49   1    0      0            36        39      41       \n",
              "3  003    57   2    1      1            54        25      42       \n",
              "4  004    55   2    0      0            68        38      53       \n",
              "5  005    52   1    0      0            50        42      46       \n",
              "6  006    53   2    0      0            56        30      50       \n",
              "7  007    48   2    1      1            60        42      42       \n",
              "8  008    52   1    1      0            54        34      56       \n",
              "9  009    54   2    0      0            60        28      55       \n",
              "10 010    55   2    1      1            42        30      45       \n",
              "11 011    56   1    1      1            64        52      43       \n",
              "12 012    52   1    1      0            46        34      42       \n",
              "13 013    56   2    0      0            64        20      54       \n",
              "14 014    50   2    0      0            50        56      48       \n",
              "15 015    42   1    1      0            54        34      52       \n",
              "16 016    58   1    1      0            42        58      48       \n",
              "17 017    51   2    1      1            64        22      60       \n",
              "18 018    43   1    0      0            56        46      46       \n",
              "19 019    53   2    0      0            49        30      49       \n",
              "20 020    51   1    1      1            60        38      52       \n",
              "21 021    41   1    0      0            54        42      54       \n",
              "22 022    40   1    1      1            52        34      47       \n",
              "23 023    53   2    0      0            48        22      58       \n",
              "24 024    54   1    1      1            42        34      43       \n",
              "25 025    53   1    1      1            30        57      49       \n",
              "26 026    42   1    1      0            48        26      50       \n",
              "27 027    58   2    0      0            54        42      48       \n",
              "28 028    57   1    1      1            60        28      53       \n",
              "29 029    50   1    1      1            36        24      59       \n",
              "30 030    43   1    0      1            50        25      53       \n",
              "⋮  ⋮      ⋮    ⋮    ⋮      ⋮            ⋮         ⋮       ⋮        \n",
              "61 061    60   2    0      0            68        46      58       \n",
              "62 062    56   2    0      0            52        54      53       \n",
              "63 063    47   1    1      0            48        39      51       \n",
              "64 064    45   1    1      0            62        26      54       \n",
              "65 065    56   2    1      1            56        54      42       \n",
              "66 066    42   1    0      0            52        35      48       \n",
              "67 067    53   1    1      1            42        40      43       \n",
              "68 068    42   2    1      1            54        52      46       \n",
              "69 069    43   2    1      1            47        56      45       \n",
              "70 070    44   1    0      1            54        52      58       \n",
              "71 071    42   2    1      1            53        54      57       \n",
              "72 072    56   1    1      1            54        36      45       \n",
              "73 073    59   2    1      1            46        22      54       \n",
              "74 074    47   2    0      0            39        41      40       \n",
              "75 075    44   1    0      0            69        37      44       \n",
              "76 076    48   1    1      1            36        52      42       \n",
              "77 077    59   2    1      1            63        48      56       \n",
              "78 078    43   2    0      0            54        57      50       \n",
              "79 079    41   1    0      1            50        56      48       \n",
              "80 080    42   2    1      1            47        55      46       \n",
              "81 081    44   2    0      0            58        46      48       \n",
              "82 082    55   1    1      1            42        53      43       \n",
              "83 083    42   2    1      0            54        48      46       \n",
              "84 084    43   2    1      0            38        38      42       \n",
              "85 085    60   1    1      0            63        44      57       \n",
              "86 086    46   1    0      0            44        52      47       \n",
              "87 087    44   2    1      1            58        35      56       \n",
              "88 088    58   2    0      1            54        33      50       \n",
              "89 089    43   1    1      0            50        22      49       \n",
              "90 090    49   2    1      1            58        25      46       "
            ]
          },
          "metadata": {}
        }
      ]
    },
    {
      "cell_type": "markdown",
      "metadata": {
        "id": "T0_QYxRQA8Pf"
      },
      "source": [
        "## Pregunta 1\n",
        "\n",
        "Las evidencias indican que existiría una diferencia en el nivel de **optimismo** según el **sexo de las/los participantes**, con las mujeres puntuando más bajo que los hombres. Plantea y lleva a cabo los análisis estadísticos correspondientes y describe lo encontrado (8 pts).                    "
      ]
    },
    {
      "cell_type": "markdown",
      "metadata": {
        "id": "WYTKjQj5A8Pg"
      },
      "source": [
        "HT: Hay una diferencia en el nivel de optimismo en la muestra, con las mujeres puntuando más bajo que los hombres.\n",
        "- H0: $\\mu_{Mujeres}  = \\mu_{Hombres}$\n",
        "- H1: $\\mu_{Mujeres}  < \\mu_{Hombres}$\n"
      ]
    },
    {
      "cell_type": "code",
      "source": [
        "df %>%\n",
        "  group_by(Sexo) %>%\n",
        "  summarise(n = n(),\n",
        "            mean = mean(Optimismo),\n",
        "            sd = sd(Optimismo),\n",
        "            min = min(Optimismo),\n",
        "            \"25%\" = quantile(Optimismo, probs = .25),\n",
        "            \"50%\" = quantile(Optimismo, probs = .50),\n",
        "            \"75%\" = quantile(Optimismo, probs = .75),\n",
        "            max = max(Optimismo)) %>% \n",
        "  mutate(Sexo = as_factor(Sexo))"
      ],
      "metadata": {
        "colab": {
          "base_uri": "https://localhost:8080/",
          "height": 161
        },
        "id": "kUhQlIGeDDZ1",
        "outputId": "9bd35ac7-3f54-4df3-c794-363e0545b67a"
      },
      "execution_count": 13,
      "outputs": [
        {
          "output_type": "display_data",
          "data": {
            "text/html": [
              "<table class=\"dataframe\">\n",
              "<caption>A tibble: 2 × 9</caption>\n",
              "<thead>\n",
              "\t<tr><th scope=col>Sexo</th><th scope=col>n</th><th scope=col>mean</th><th scope=col>sd</th><th scope=col>min</th><th scope=col>25%</th><th scope=col>50%</th><th scope=col>75%</th><th scope=col>max</th></tr>\n",
              "\t<tr><th scope=col>&lt;fct&gt;</th><th scope=col>&lt;int&gt;</th><th scope=col>&lt;dbl&gt;</th><th scope=col>&lt;dbl&gt;</th><th scope=col>&lt;dbl&gt;</th><th scope=col>&lt;dbl&gt;</th><th scope=col>&lt;dbl&gt;</th><th scope=col>&lt;dbl&gt;</th><th scope=col>&lt;dbl&gt;</th></tr>\n",
              "</thead>\n",
              "<tbody>\n",
              "\t<tr><td>Mujer </td><td>49</td><td>50.48980</td><td>9.169975</td><td>30</td><td>42</td><td>50</td><td>56</td><td>69</td></tr>\n",
              "\t<tr><td>Hombre</td><td>41</td><td>54.92683</td><td>8.013708</td><td>38</td><td>49</td><td>54</td><td>60</td><td>68</td></tr>\n",
              "</tbody>\n",
              "</table>\n"
            ],
            "text/markdown": "\nA tibble: 2 × 9\n\n| Sexo &lt;fct&gt; | n &lt;int&gt; | mean &lt;dbl&gt; | sd &lt;dbl&gt; | min &lt;dbl&gt; | 25% &lt;dbl&gt; | 50% &lt;dbl&gt; | 75% &lt;dbl&gt; | max &lt;dbl&gt; |\n|---|---|---|---|---|---|---|---|---|\n| Mujer  | 49 | 50.48980 | 9.169975 | 30 | 42 | 50 | 56 | 69 |\n| Hombre | 41 | 54.92683 | 8.013708 | 38 | 49 | 54 | 60 | 68 |\n\n",
            "text/latex": "A tibble: 2 × 9\n\\begin{tabular}{lllllllll}\n Sexo & n & mean & sd & min & 25\\% & 50\\% & 75\\% & max\\\\\n <fct> & <int> & <dbl> & <dbl> & <dbl> & <dbl> & <dbl> & <dbl> & <dbl>\\\\\n\\hline\n\t Mujer  & 49 & 50.48980 & 9.169975 & 30 & 42 & 50 & 56 & 69\\\\\n\t Hombre & 41 & 54.92683 & 8.013708 & 38 & 49 & 54 & 60 & 68\\\\\n\\end{tabular}\n",
            "text/plain": [
              "  Sexo   n  mean     sd       min 25% 50% 75% max\n",
              "1 Mujer  49 50.48980 9.169975 30  42  50  56  69 \n",
              "2 Hombre 41 54.92683 8.013708 38  49  54  60  68 "
            ]
          },
          "metadata": {}
        }
      ]
    },
    {
      "cell_type": "code",
      "source": [
        "df %>%\n",
        "  ggplot(aes(x = as_factor(Sexo), y = Optimismo, fill = as_factor(Sexo))) +\n",
        "  stat_boxplot(geom = \"errorbar\", width = 0.5) +\n",
        "  geom_boxplot() +\n",
        "  labs(x = \"Optimismo\",\n",
        "       y = \"Sexo\")"
      ],
      "metadata": {
        "colab": {
          "base_uri": "https://localhost:8080/",
          "height": 437
        },
        "id": "_nBWVJVKGtoA",
        "outputId": "9006d58b-4afd-4a48-cb2b-035d80a8144a"
      },
      "execution_count": 20,
      "outputs": [
        {
          "output_type": "display_data",
          "data": {
            "text/plain": [
              "plot without title"
            ],
            "image/png": "[encoded data removed]"
          },
          "metadata": {
            "image/png": {
              "width": 420,
              "height": 420
            }
          }
        }
      ]
    },
    {
      "cell_type": "code",
      "source": [
        "df %>%\n",
        "  group_by(Sexo) %>%\n",
        "  shapiro_test(Optimismo) %>%\n",
        "  mutate(Sexo = as_factor(Sexo),\n",
        "         normal = case_when(p > .05 ~ T, T ~ F))"
      ],
      "metadata": {
        "colab": {
          "base_uri": "https://localhost:8080/",
          "height": 161
        },
        "id": "gjub_GeaH72r",
        "outputId": "02298dc6-0454-48a3-f732-6cbb822b18b6"
      },
      "execution_count": 23,
      "outputs": [
        {
          "output_type": "display_data",
          "data": {
            "text/html": [
              "<table class=\"dataframe\">\n",
              "<caption>A tibble: 2 × 5</caption>\n",
              "<thead>\n",
              "\t<tr><th scope=col>Sexo</th><th scope=col>variable</th><th scope=col>statistic</th><th scope=col>p</th><th scope=col>normal</th></tr>\n",
              "\t<tr><th scope=col>&lt;fct&gt;</th><th scope=col>&lt;chr&gt;</th><th scope=col>&lt;dbl&gt;</th><th scope=col>&lt;dbl&gt;</th><th scope=col>&lt;lgl&gt;</th></tr>\n",
              "</thead>\n",
              "<tbody>\n",
              "\t<tr><td>Mujer </td><td>Optimismo</td><td>0.9824511</td><td>0.6710492</td><td>TRUE</td></tr>\n",
              "\t<tr><td>Hombre</td><td>Optimismo</td><td>0.9667755</td><td>0.2694410</td><td>TRUE</td></tr>\n",
              "</tbody>\n",
              "</table>\n"
            ],
            "text/markdown": "\nA tibble: 2 × 5\n\n| Sexo &lt;fct&gt; | variable &lt;chr&gt; | statistic &lt;dbl&gt; | p &lt;dbl&gt; | normal &lt;lgl&gt; |\n|---|---|---|---|---|\n| Mujer  | Optimismo | 0.9824511 | 0.6710492 | TRUE |\n| Hombre | Optimismo | 0.9667755 | 0.2694410 | TRUE |\n\n",
            "text/latex": "A tibble: 2 × 5\n\\begin{tabular}{lllll}\n Sexo & variable & statistic & p & normal\\\\\n <fct> & <chr> & <dbl> & <dbl> & <lgl>\\\\\n\\hline\n\t Mujer  & Optimismo & 0.9824511 & 0.6710492 & TRUE\\\\\n\t Hombre & Optimismo & 0.9667755 & 0.2694410 & TRUE\\\\\n\\end{tabular}\n",
            "text/plain": [
              "  Sexo   variable  statistic p         normal\n",
              "1 Mujer  Optimismo 0.9824511 0.6710492 TRUE  \n",
              "2 Hombre Optimismo 0.9667755 0.2694410 TRUE  "
            ]
          },
          "metadata": {}
        }
      ]
    },
    {
      "cell_type": "markdown",
      "metadata": {
        "id": "mRngG3ceA8Pj"
      },
      "source": [
        "Las distribuciones de optimismo en mujeres (SW=.98, p=.67) como en hombres (SW=.97, p=.27) fueron normales. Por lo tanto, se usará el análisis paramétrico de contraste de dos muestras independientes t de Student."
      ]
    },
    {
      "cell_type": "code",
      "source": [
        "df %>%\n",
        "  mutate(Sexo = as_factor(Sexo)) %>%\n",
        "  levene_test(Optimismo ~ Sexo)"
      ],
      "metadata": {
        "colab": {
          "base_uri": "https://localhost:8080/",
          "height": 129
        },
        "id": "c3RiMH5wIUA_",
        "outputId": "5ec823f6-99db-48e9-9d6c-94cb8ea71a37"
      },
      "execution_count": 28,
      "outputs": [
        {
          "output_type": "display_data",
          "data": {
            "text/html": [
              "<table class=\"dataframe\">\n",
              "<caption>A tibble: 1 × 4</caption>\n",
              "<thead>\n",
              "\t<tr><th scope=col>df1</th><th scope=col>df2</th><th scope=col>statistic</th><th scope=col>p</th></tr>\n",
              "\t<tr><th scope=col>&lt;int&gt;</th><th scope=col>&lt;int&gt;</th><th scope=col>&lt;dbl&gt;</th><th scope=col>&lt;dbl&gt;</th></tr>\n",
              "</thead>\n",
              "<tbody>\n",
              "\t<tr><td>1</td><td>88</td><td>1.101196</td><td>0.2968773</td></tr>\n",
              "</tbody>\n",
              "</table>\n"
            ],
            "text/markdown": "\nA tibble: 1 × 4\n\n| df1 &lt;int&gt; | df2 &lt;int&gt; | statistic &lt;dbl&gt; | p &lt;dbl&gt; |\n|---|---|---|---|\n| 1 | 88 | 1.101196 | 0.2968773 |\n\n",
            "text/latex": "A tibble: 1 × 4\n\\begin{tabular}{llll}\n df1 & df2 & statistic & p\\\\\n <int> & <int> & <dbl> & <dbl>\\\\\n\\hline\n\t 1 & 88 & 1.101196 & 0.2968773\\\\\n\\end{tabular}\n",
            "text/plain": [
              "  df1 df2 statistic p        \n",
              "1 1   88  1.101196  0.2968773"
            ]
          },
          "metadata": {}
        }
      ]
    },
    {
      "cell_type": "markdown",
      "metadata": {
        "id": "NfMRo9JwA8Pk"
      },
      "source": [
        "La prueba de Levene resultó no significativa, F=1.10, p=.30, por lo que se asumen varianzas iguales entre los grupos."
      ]
    },
    {
      "cell_type": "code",
      "source": [
        "df %>% \n",
        "  mutate(Sexo = as_factor(Sexo)) %>% \n",
        "  t_test(Optimismo ~ Sexo, alternative = \"less\", var.equal = T)"
      ],
      "metadata": {
        "colab": {
          "base_uri": "https://localhost:8080/",
          "height": 129
        },
        "id": "919j8tlvIesv",
        "outputId": "6c70a4de-9347-40fe-d4be-a6b55f68c75c"
      },
      "execution_count": 29,
      "outputs": [
        {
          "output_type": "display_data",
          "data": {
            "text/html": [
              "<table class=\"dataframe\">\n",
              "<caption>A rstatix_test: 1 × 8</caption>\n",
              "<thead>\n",
              "\t<tr><th></th><th scope=col>.y.</th><th scope=col>group1</th><th scope=col>group2</th><th scope=col>n1</th><th scope=col>n2</th><th scope=col>statistic</th><th scope=col>df</th><th scope=col>p</th></tr>\n",
              "\t<tr><th></th><th scope=col>&lt;chr&gt;</th><th scope=col>&lt;chr&gt;</th><th scope=col>&lt;chr&gt;</th><th scope=col>&lt;int&gt;</th><th scope=col>&lt;int&gt;</th><th scope=col>&lt;dbl&gt;</th><th scope=col>&lt;dbl&gt;</th><th scope=col>&lt;dbl&gt;</th></tr>\n",
              "</thead>\n",
              "<tbody>\n",
              "\t<tr><th scope=row>1</th><td>Optimismo</td><td>Mujer</td><td>Hombre</td><td>49</td><td>41</td><td>-2.419722</td><td>88</td><td>0.00879</td></tr>\n",
              "</tbody>\n",
              "</table>\n"
            ],
            "text/markdown": "\nA rstatix_test: 1 × 8\n\n| <!--/--> | .y. &lt;chr&gt; | group1 &lt;chr&gt; | group2 &lt;chr&gt; | n1 &lt;int&gt; | n2 &lt;int&gt; | statistic &lt;dbl&gt; | df &lt;dbl&gt; | p &lt;dbl&gt; |\n|---|---|---|---|---|---|---|---|---|\n| 1 | Optimismo | Mujer | Hombre | 49 | 41 | -2.419722 | 88 | 0.00879 |\n\n",
            "text/latex": "A rstatix\\_test: 1 × 8\n\\begin{tabular}{r|llllllll}\n  & .y. & group1 & group2 & n1 & n2 & statistic & df & p\\\\\n  & <chr> & <chr> & <chr> & <int> & <int> & <dbl> & <dbl> & <dbl>\\\\\n\\hline\n\t1 & Optimismo & Mujer & Hombre & 49 & 41 & -2.419722 & 88 & 0.00879\\\\\n\\end{tabular}\n",
            "text/plain": [
              "  .y.       group1 group2 n1 n2 statistic df p      \n",
              "1 Optimismo Mujer  Hombre 49 41 -2.419722 88 0.00879"
            ]
          },
          "metadata": {}
        }
      ]
    },
    {
      "cell_type": "markdown",
      "metadata": {
        "id": "1h87SfX8A8Pl"
      },
      "source": [
        "El resultado del análisis de comparación fue significativo, t(88)=-2.42, p=.009 (unilateral), con las mujeres puntuando más bajo en optimismo (M=50.49, DE=9.17) que los hombres (M=54.93, DE=8.01)."
      ]
    },
    {
      "cell_type": "markdown",
      "metadata": {
        "id": "GD6PMJ7NA8Pl"
      },
      "source": [
        "En conclusión, los resultados apoyan la idea que el nivel de optimismo varía según el sexo de la, o el participante, con las mujeres puntuando más bajo que los hombres, en promedio. Así, la hipótesis de trabajo se cumple en el estudio."
      ]
    },
    {
      "cell_type": "markdown",
      "metadata": {
        "id": "2njh-heeA8Pm"
      },
      "source": [
        "## Pregunta 2\n",
        "\n",
        "El grupo de investigación quiere conocer si el mindfulness rasgo reportado varía según si se consume alcohol, o no ¿Existen evidencias de ello en el estudio? (8 pts)."
      ]
    },
    {
      "cell_type": "markdown",
      "metadata": {
        "id": "vol1_wguA8Pm"
      },
      "source": [
        "HT: El mindfulness rasgo variaría según se consume alcohol, o no.\n",
        "- H0: $\\mu_{Consume}  = \\mu_{No Consume}$\n",
        "- H1: $\\mu_{Consume}  \\neq \\mu_{No consume}$"
      ]
    },
    {
      "cell_type": "code",
      "source": [
        "df %>%\n",
        "  group_by(Cons_alcohol) %>%\n",
        "  summarise(n = n(),\n",
        "            mean = mean(Mindful),\n",
        "            sd = sd(Mindful),\n",
        "            min = min(Mindful),\n",
        "            \"25%\" = quantile(Mindful, probs = .25),\n",
        "            \"50%\" = quantile(Mindful, probs = .50),\n",
        "            \"75%\" = quantile(Mindful, probs = .75),\n",
        "            max = max(Mindful)) %>% \n",
        "  mutate(Cons_alcohol = as_factor(Cons_alcohol))"
      ],
      "metadata": {
        "colab": {
          "base_uri": "https://localhost:8080/",
          "height": 161
        },
        "id": "dYmuXQLnLrrW",
        "outputId": "fd1da970-0eb4-46ad-c95f-59fee6058ff5"
      },
      "execution_count": 31,
      "outputs": [
        {
          "output_type": "display_data",
          "data": {
            "text/html": [
              "<table class=\"dataframe\">\n",
              "<caption>A tibble: 2 × 9</caption>\n",
              "<thead>\n",
              "\t<tr><th scope=col>Cons_alcohol</th><th scope=col>n</th><th scope=col>mean</th><th scope=col>sd</th><th scope=col>min</th><th scope=col>25%</th><th scope=col>50%</th><th scope=col>75%</th><th scope=col>max</th></tr>\n",
              "\t<tr><th scope=col>&lt;fct&gt;</th><th scope=col>&lt;int&gt;</th><th scope=col>&lt;dbl&gt;</th><th scope=col>&lt;dbl&gt;</th><th scope=col>&lt;dbl&gt;</th><th scope=col>&lt;dbl&gt;</th><th scope=col>&lt;dbl&gt;</th><th scope=col>&lt;dbl&gt;</th><th scope=col>&lt;dbl&gt;</th></tr>\n",
              "</thead>\n",
              "<tbody>\n",
              "\t<tr><td>No</td><td>54</td><td>37.48148</td><td>10.35910</td><td>20</td><td>30.0</td><td>38</td><td>45.5</td><td>58</td></tr>\n",
              "\t<tr><td>Sí</td><td>36</td><td>40.02778</td><td>12.00116</td><td>22</td><td>29.5</td><td>39</td><td>52.0</td><td>57</td></tr>\n",
              "</tbody>\n",
              "</table>\n"
            ],
            "text/markdown": "\nA tibble: 2 × 9\n\n| Cons_alcohol &lt;fct&gt; | n &lt;int&gt; | mean &lt;dbl&gt; | sd &lt;dbl&gt; | min &lt;dbl&gt; | 25% &lt;dbl&gt; | 50% &lt;dbl&gt; | 75% &lt;dbl&gt; | max &lt;dbl&gt; |\n|---|---|---|---|---|---|---|---|---|\n| No | 54 | 37.48148 | 10.35910 | 20 | 30.0 | 38 | 45.5 | 58 |\n| Sí | 36 | 40.02778 | 12.00116 | 22 | 29.5 | 39 | 52.0 | 57 |\n\n",
            "text/latex": "A tibble: 2 × 9\n\\begin{tabular}{lllllllll}\n Cons\\_alcohol & n & mean & sd & min & 25\\% & 50\\% & 75\\% & max\\\\\n <fct> & <int> & <dbl> & <dbl> & <dbl> & <dbl> & <dbl> & <dbl> & <dbl>\\\\\n\\hline\n\t No & 54 & 37.48148 & 10.35910 & 20 & 30.0 & 38 & 45.5 & 58\\\\\n\t Sí & 36 & 40.02778 & 12.00116 & 22 & 29.5 & 39 & 52.0 & 57\\\\\n\\end{tabular}\n",
            "text/plain": [
              "  Cons_alcohol n  mean     sd       min 25%  50% 75%  max\n",
              "1 No           54 37.48148 10.35910 20  30.0 38  45.5 58 \n",
              "2 Sí           36 40.02778 12.00116 22  29.5 39  52.0 57 "
            ]
          },
          "metadata": {}
        }
      ]
    },
    {
      "cell_type": "code",
      "source": [
        "df %>%\n",
        "  ggplot(aes(x = as_factor(Cons_alcohol), \n",
        "         y = Mindful, \n",
        "         fill = as_factor(Cons_alcohol))) +\n",
        "  stat_boxplot(geom = \"errorbar\", width = 0.5) +\n",
        "  geom_boxplot() +\n",
        "  labs(x = \"Mindful\",\n",
        "       y = \"Cons_alcohol\")"
      ],
      "metadata": {
        "colab": {
          "base_uri": "https://localhost:8080/",
          "height": 437
        },
        "id": "GjvxUUuhMMrl",
        "outputId": "e6eb7bf8-9190-4afd-c199-d5fe348d4c54"
      },
      "execution_count": 32,
      "outputs": [
        {
          "output_type": "display_data",
          "data": {
            "text/plain": [
              "plot without title"
            ],
            "image/png": "[encoded data removed]"
          },
          "metadata": {
            "image/png": {
              "width": 420,
              "height": 420
            }
          }
        }
      ]
    },
    {
      "cell_type": "code",
      "source": [
        "df %>%\n",
        "  group_by(Cons_alcohol) %>%\n",
        "  shapiro_test(Mindful) %>%\n",
        "  mutate(Cons_alcohol = as_factor(Cons_alcohol),\n",
        "         normal = case_when(p > .05 ~ T, T ~ F))"
      ],
      "metadata": {
        "colab": {
          "base_uri": "https://localhost:8080/",
          "height": 161
        },
        "id": "fFYV0I8DMffa",
        "outputId": "657241a3-bb61-404c-ddd7-b5876f3415e5"
      },
      "execution_count": 33,
      "outputs": [
        {
          "output_type": "display_data",
          "data": {
            "text/html": [
              "<table class=\"dataframe\">\n",
              "<caption>A tibble: 2 × 5</caption>\n",
              "<thead>\n",
              "\t<tr><th scope=col>Cons_alcohol</th><th scope=col>variable</th><th scope=col>statistic</th><th scope=col>p</th><th scope=col>normal</th></tr>\n",
              "\t<tr><th scope=col>&lt;fct&gt;</th><th scope=col>&lt;chr&gt;</th><th scope=col>&lt;dbl&gt;</th><th scope=col>&lt;dbl&gt;</th><th scope=col>&lt;lgl&gt;</th></tr>\n",
              "</thead>\n",
              "<tbody>\n",
              "\t<tr><td>No</td><td>Mindful</td><td>0.9673702</td><td>0.147381431</td><td> TRUE</td></tr>\n",
              "\t<tr><td>Sí</td><td>Mindful</td><td>0.9063316</td><td>0.005106595</td><td>FALSE</td></tr>\n",
              "</tbody>\n",
              "</table>\n"
            ],
            "text/markdown": "\nA tibble: 2 × 5\n\n| Cons_alcohol &lt;fct&gt; | variable &lt;chr&gt; | statistic &lt;dbl&gt; | p &lt;dbl&gt; | normal &lt;lgl&gt; |\n|---|---|---|---|---|\n| No | Mindful | 0.9673702 | 0.147381431 |  TRUE |\n| Sí | Mindful | 0.9063316 | 0.005106595 | FALSE |\n\n",
            "text/latex": "A tibble: 2 × 5\n\\begin{tabular}{lllll}\n Cons\\_alcohol & variable & statistic & p & normal\\\\\n <fct> & <chr> & <dbl> & <dbl> & <lgl>\\\\\n\\hline\n\t No & Mindful & 0.9673702 & 0.147381431 &  TRUE\\\\\n\t Sí & Mindful & 0.9063316 & 0.005106595 & FALSE\\\\\n\\end{tabular}\n",
            "text/plain": [
              "  Cons_alcohol variable statistic p           normal\n",
              "1 No           Mindful  0.9673702 0.147381431  TRUE \n",
              "2 Sí           Mindful  0.9063316 0.005106595 FALSE "
            ]
          },
          "metadata": {}
        }
      ]
    },
    {
      "cell_type": "markdown",
      "metadata": {
        "id": "g4-N2caDA8Pn"
      },
      "source": [
        "La distribución de mindfulness en personas que reportaron no consumir alcohol semanalmente fue normal, SW=.97, p=.15, mientras que en aquellas que sí consumen fue no normal, SW=.91, p=.005. Por lo tanto, se usará el análisis no paramétrico de contraste de dos muestras independientes U de Mann Whitney."
      ]
    },
    {
      "cell_type": "code",
      "source": [
        "df %>% \n",
        "  mutate(Cons_alcohol = as_factor(Cons_alcohol)) %>% \n",
        "  wilcox_test(Mindful ~ Cons_alcohol, detailed = T)"
      ],
      "metadata": {
        "colab": {
          "base_uri": "https://localhost:8080/",
          "height": 129
        },
        "id": "r3xyKJEeM1-r",
        "outputId": "ce5613d6-d8c7-41dc-f469-9d4253b0410b"
      },
      "execution_count": 36,
      "outputs": [
        {
          "output_type": "display_data",
          "data": {
            "text/html": [
              "<table class=\"dataframe\">\n",
              "<caption>A rstatix_test: 1 × 12</caption>\n",
              "<thead>\n",
              "\t<tr><th></th><th scope=col>estimate</th><th scope=col>.y.</th><th scope=col>group1</th><th scope=col>group2</th><th scope=col>n1</th><th scope=col>n2</th><th scope=col>statistic</th><th scope=col>p</th><th scope=col>conf.low</th><th scope=col>conf.high</th><th scope=col>method</th><th scope=col>alternative</th></tr>\n",
              "\t<tr><th></th><th scope=col>&lt;dbl&gt;</th><th scope=col>&lt;chr&gt;</th><th scope=col>&lt;chr&gt;</th><th scope=col>&lt;chr&gt;</th><th scope=col>&lt;int&gt;</th><th scope=col>&lt;int&gt;</th><th scope=col>&lt;dbl&gt;</th><th scope=col>&lt;dbl&gt;</th><th scope=col>&lt;dbl&gt;</th><th scope=col>&lt;dbl&gt;</th><th scope=col>&lt;chr&gt;</th><th scope=col>&lt;chr&gt;</th></tr>\n",
              "</thead>\n",
              "<tbody>\n",
              "\t<tr><th scope=row>1</th><td>-2.999989</td><td>Mindful</td><td>No</td><td>Sí</td><td>54</td><td>36</td><td>856.5</td><td>0.343</td><td>-8.000077</td><td>2.000031</td><td>Wilcoxon</td><td>two.sided</td></tr>\n",
              "</tbody>\n",
              "</table>\n"
            ],
            "text/markdown": "\nA rstatix_test: 1 × 12\n\n| <!--/--> | estimate &lt;dbl&gt; | .y. &lt;chr&gt; | group1 &lt;chr&gt; | group2 &lt;chr&gt; | n1 &lt;int&gt; | n2 &lt;int&gt; | statistic &lt;dbl&gt; | p &lt;dbl&gt; | conf.low &lt;dbl&gt; | conf.high &lt;dbl&gt; | method &lt;chr&gt; | alternative &lt;chr&gt; |\n|---|---|---|---|---|---|---|---|---|---|---|---|---|\n| 1 | -2.999989 | Mindful | No | Sí | 54 | 36 | 856.5 | 0.343 | -8.000077 | 2.000031 | Wilcoxon | two.sided |\n\n",
            "text/latex": "A rstatix\\_test: 1 × 12\n\\begin{tabular}{r|llllllllllll}\n  & estimate & .y. & group1 & group2 & n1 & n2 & statistic & p & conf.low & conf.high & method & alternative\\\\\n  & <dbl> & <chr> & <chr> & <chr> & <int> & <int> & <dbl> & <dbl> & <dbl> & <dbl> & <chr> & <chr>\\\\\n\\hline\n\t1 & -2.999989 & Mindful & No & Sí & 54 & 36 & 856.5 & 0.343 & -8.000077 & 2.000031 & Wilcoxon & two.sided\\\\\n\\end{tabular}\n",
            "text/plain": [
              "  estimate  .y.     group1 group2 n1 n2 statistic p     conf.low  conf.high\n",
              "1 -2.999989 Mindful No     Sí     54 36 856.5     0.343 -8.000077 2.000031 \n",
              "  method   alternative\n",
              "1 Wilcoxon two.sided  "
            ]
          },
          "metadata": {}
        }
      ]
    },
    {
      "cell_type": "markdown",
      "metadata": {
        "id": "Qgs9vIo4A8Po"
      },
      "source": [
        "El análisis de comparación resultó no significativo, U=856.5, p=.34 por lo que no existe diferencia en los puntajes de mindfulness entre quienes consumen alcohol semanalmente (Mdn=39, DE=12.00) y los/las que no (Mdn=38, DE=10.36)."
      ]
    },
    {
      "cell_type": "markdown",
      "metadata": {
        "id": "zIxbRjIrA8Po"
      },
      "source": [
        "En conclusión, no existe sustento para decir que el mindfulness varía según las/los participantes consuman, o no, alcohol semanalmente."
      ]
    },
    {
      "cell_type": "markdown",
      "metadata": {
        "id": "NiZgWIEOA8Pp"
      },
      "source": [
        "## Pregunta 3\n",
        "\n",
        "Describe la muestra de acuerdo con las variables sociodemográficas reportadas y señala el tipo de variable y los estadísticos descriptivos que mejor brinden información sobre ellas (4 pts)."
      ]
    },
    {
      "cell_type": "code",
      "source": [
        "df %>%\n",
        "  summarise(n = n(),\n",
        "            mean = mean(Edad),\n",
        "            sd = sd(Edad),\n",
        "            min = min(Edad),\n",
        "            \"25%\" = quantile(Edad, probs = .25),\n",
        "            \"50%\" = quantile(Edad, probs = .50),\n",
        "            \"75%\" = quantile(Edad, probs = .75),\n",
        "            max = max(Edad))"
      ],
      "metadata": {
        "colab": {
          "base_uri": "https://localhost:8080/",
          "height": 129
        },
        "id": "laUJtcfyN5MP",
        "outputId": "5e663a46-ce7d-4276-d431-a43cb61a2af9"
      },
      "execution_count": 37,
      "outputs": [
        {
          "output_type": "display_data",
          "data": {
            "text/html": [
              "<table class=\"dataframe\">\n",
              "<caption>A tibble: 1 × 8</caption>\n",
              "<thead>\n",
              "\t<tr><th scope=col>n</th><th scope=col>mean</th><th scope=col>sd</th><th scope=col>min</th><th scope=col>25%</th><th scope=col>50%</th><th scope=col>75%</th><th scope=col>max</th></tr>\n",
              "\t<tr><th scope=col>&lt;int&gt;</th><th scope=col>&lt;dbl&gt;</th><th scope=col>&lt;dbl&gt;</th><th scope=col>&lt;dbl&gt;</th><th scope=col>&lt;dbl&gt;</th><th scope=col>&lt;dbl&gt;</th><th scope=col>&lt;dbl&gt;</th><th scope=col>&lt;dbl&gt;</th></tr>\n",
              "</thead>\n",
              "<tbody>\n",
              "\t<tr><td>90</td><td>49.8</td><td>5.91171</td><td>40</td><td>44</td><td>50</td><td>55</td><td>60</td></tr>\n",
              "</tbody>\n",
              "</table>\n"
            ],
            "text/markdown": "\nA tibble: 1 × 8\n\n| n &lt;int&gt; | mean &lt;dbl&gt; | sd &lt;dbl&gt; | min &lt;dbl&gt; | 25% &lt;dbl&gt; | 50% &lt;dbl&gt; | 75% &lt;dbl&gt; | max &lt;dbl&gt; |\n|---|---|---|---|---|---|---|---|\n| 90 | 49.8 | 5.91171 | 40 | 44 | 50 | 55 | 60 |\n\n",
            "text/latex": "A tibble: 1 × 8\n\\begin{tabular}{llllllll}\n n & mean & sd & min & 25\\% & 50\\% & 75\\% & max\\\\\n <int> & <dbl> & <dbl> & <dbl> & <dbl> & <dbl> & <dbl> & <dbl>\\\\\n\\hline\n\t 90 & 49.8 & 5.91171 & 40 & 44 & 50 & 55 & 60\\\\\n\\end{tabular}\n",
            "text/plain": [
              "  n  mean sd      min 25% 50% 75% max\n",
              "1 90 49.8 5.91171 40  44  50  55  60 "
            ]
          },
          "metadata": {}
        }
      ]
    },
    {
      "cell_type": "code",
      "source": [
        "df %>% \n",
        "  group_by(Sexo) %>%\n",
        "  summarise(n = n()) %>%\n",
        "  mutate(Sexo = as_factor(Sexo),\n",
        "         perc = n / sum(n))"
      ],
      "metadata": {
        "colab": {
          "base_uri": "https://localhost:8080/",
          "height": 161
        },
        "id": "-morX1-qOCYg",
        "outputId": "52fb5f19-9a64-4f41-f947-245052c866ee"
      },
      "execution_count": 42,
      "outputs": [
        {
          "output_type": "display_data",
          "data": {
            "text/html": [
              "<table class=\"dataframe\">\n",
              "<caption>A tibble: 2 × 3</caption>\n",
              "<thead>\n",
              "\t<tr><th scope=col>Sexo</th><th scope=col>n</th><th scope=col>perc</th></tr>\n",
              "\t<tr><th scope=col>&lt;fct&gt;</th><th scope=col>&lt;int&gt;</th><th scope=col>&lt;dbl&gt;</th></tr>\n",
              "</thead>\n",
              "<tbody>\n",
              "\t<tr><td>Mujer </td><td>49</td><td>0.5444444</td></tr>\n",
              "\t<tr><td>Hombre</td><td>41</td><td>0.4555556</td></tr>\n",
              "</tbody>\n",
              "</table>\n"
            ],
            "text/markdown": "\nA tibble: 2 × 3\n\n| Sexo &lt;fct&gt; | n &lt;int&gt; | perc &lt;dbl&gt; |\n|---|---|---|\n| Mujer  | 49 | 0.5444444 |\n| Hombre | 41 | 0.4555556 |\n\n",
            "text/latex": "A tibble: 2 × 3\n\\begin{tabular}{lll}\n Sexo & n & perc\\\\\n <fct> & <int> & <dbl>\\\\\n\\hline\n\t Mujer  & 49 & 0.5444444\\\\\n\t Hombre & 41 & 0.4555556\\\\\n\\end{tabular}\n",
            "text/plain": [
              "  Sexo   n  perc     \n",
              "1 Mujer  49 0.5444444\n",
              "2 Hombre 41 0.4555556"
            ]
          },
          "metadata": {}
        }
      ]
    },
    {
      "cell_type": "code",
      "source": [
        "df %>% \n",
        "  group_by(Pareja) %>%\n",
        "  summarise(n = n()) %>%\n",
        "  mutate(Pareja = as_factor(Pareja),\n",
        "         perc = n / sum(n))"
      ],
      "metadata": {
        "colab": {
          "base_uri": "https://localhost:8080/",
          "height": 161
        },
        "id": "BoYV7AODOuCC",
        "outputId": "6f34a13e-0aa4-4ac3-cd29-e2bf8704b904"
      },
      "execution_count": 43,
      "outputs": [
        {
          "output_type": "display_data",
          "data": {
            "text/html": [
              "<table class=\"dataframe\">\n",
              "<caption>A tibble: 2 × 3</caption>\n",
              "<thead>\n",
              "\t<tr><th scope=col>Pareja</th><th scope=col>n</th><th scope=col>perc</th></tr>\n",
              "\t<tr><th scope=col>&lt;fct&gt;</th><th scope=col>&lt;int&gt;</th><th scope=col>&lt;dbl&gt;</th></tr>\n",
              "</thead>\n",
              "<tbody>\n",
              "\t<tr><td>No</td><td>38</td><td>0.4222222</td></tr>\n",
              "\t<tr><td>Si</td><td>52</td><td>0.5777778</td></tr>\n",
              "</tbody>\n",
              "</table>\n"
            ],
            "text/markdown": "\nA tibble: 2 × 3\n\n| Pareja &lt;fct&gt; | n &lt;int&gt; | perc &lt;dbl&gt; |\n|---|---|---|\n| No | 38 | 0.4222222 |\n| Si | 52 | 0.5777778 |\n\n",
            "text/latex": "A tibble: 2 × 3\n\\begin{tabular}{lll}\n Pareja & n & perc\\\\\n <fct> & <int> & <dbl>\\\\\n\\hline\n\t No & 38 & 0.4222222\\\\\n\t Si & 52 & 0.5777778\\\\\n\\end{tabular}\n",
            "text/plain": [
              "  Pareja n  perc     \n",
              "1 No     38 0.4222222\n",
              "2 Si     52 0.5777778"
            ]
          },
          "metadata": {}
        }
      ]
    },
    {
      "cell_type": "code",
      "source": [
        "df %>% \n",
        "  group_by(Cons_alcohol) %>%\n",
        "  summarise(n = n()) %>%\n",
        "  mutate(Cons_alcohol = as_factor(Cons_alcohol),\n",
        "         perc = n / sum(n))"
      ],
      "metadata": {
        "colab": {
          "base_uri": "https://localhost:8080/",
          "height": 161
        },
        "id": "VS4C0nchO0Eh",
        "outputId": "37e91b09-eeb9-4a0d-ee84-29db85c9d326"
      },
      "execution_count": 44,
      "outputs": [
        {
          "output_type": "display_data",
          "data": {
            "text/html": [
              "<table class=\"dataframe\">\n",
              "<caption>A tibble: 2 × 3</caption>\n",
              "<thead>\n",
              "\t<tr><th scope=col>Cons_alcohol</th><th scope=col>n</th><th scope=col>perc</th></tr>\n",
              "\t<tr><th scope=col>&lt;fct&gt;</th><th scope=col>&lt;int&gt;</th><th scope=col>&lt;dbl&gt;</th></tr>\n",
              "</thead>\n",
              "<tbody>\n",
              "\t<tr><td>No</td><td>54</td><td>0.6</td></tr>\n",
              "\t<tr><td>Sí</td><td>36</td><td>0.4</td></tr>\n",
              "</tbody>\n",
              "</table>\n"
            ],
            "text/markdown": "\nA tibble: 2 × 3\n\n| Cons_alcohol &lt;fct&gt; | n &lt;int&gt; | perc &lt;dbl&gt; |\n|---|---|---|\n| No | 54 | 0.6 |\n| Sí | 36 | 0.4 |\n\n",
            "text/latex": "A tibble: 2 × 3\n\\begin{tabular}{lll}\n Cons\\_alcohol & n & perc\\\\\n <fct> & <int> & <dbl>\\\\\n\\hline\n\t No & 54 & 0.6\\\\\n\t Sí & 36 & 0.4\\\\\n\\end{tabular}\n",
            "text/plain": [
              "  Cons_alcohol n  perc\n",
              "1 No           54 0.6 \n",
              "2 Sí           36 0.4 "
            ]
          },
          "metadata": {}
        }
      ]
    },
    {
      "cell_type": "markdown",
      "metadata": {
        "id": "jrfOAHJSA8Pq"
      },
      "source": [
        "- La edad es una variable continua y numérica por lo que es más adecuado considerar la media, es decir el promedio de las edades de las/los participantes. Para dispersión se consideraría la desviación estándar y los valores mínimo y máximo (rango).\n",
        "\n",
        "- El sexo es una variable cualitativa y nominal por lo que resulta adecuado reportar las frecuencias o porcentajes de cada valor, mujer u hombre.\n",
        "\n",
        "- Estar en una relación de pareja es una variable cualitativa y nominal por lo que sería adecuado indicar las frecuencias o porcentajes de quienes estén en una relación de pareja y las/los que no lo están.\n",
        "\n",
        "- El consumo de alcohol es una variable cualitativa y nominal. Como en el caso anterior, se reportaría las frecuencias o porcentajes de quienes consumen alcohol semanalmente y quienes no.\n",
        "\n",
        ">Descripción: La muestra estuvo compuesta por 90 personas en la adultez media, 54.4% mujeres y 45.6% hombres, con edades entre 40 a 60 años (M=49.8, DE=5.91). El 57.8% reportó encontrarse en una relación de pareja mientras que el 42.2% no lo está. Finalmente, el 40% indicó consumir algún tipo de alcohol semanalmente, mientras que el 60% no lo hace."
      ]
    }
  ]
}