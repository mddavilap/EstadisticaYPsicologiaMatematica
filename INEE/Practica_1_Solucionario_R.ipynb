{
  "nbformat": 4,
  "nbformat_minor": 0,
  "metadata": {
    "colab": {
      "provenance": []
    },
    "kernelspec": {
      "name": "ir",
      "display_name": "R"
    },
    "language_info": {
      "name": "R"
    }
  },
  "cells": [
    {
      "cell_type": "markdown",
      "metadata": {
        "id": "6qvLbOiQtuCy"
      },
      "source": [
        "# Práctica: Estadística descriptiva y comparación de grupos"
      ]
    },
    {
      "cell_type": "code",
      "execution_count": 29,
      "metadata": {
        "id": "MpGj_QnxtuC4",
        "colab": {
          "base_uri": "https://localhost:8080/"
        },
        "outputId": "0972eeb1-fffb-4b71-cea9-ce6862d1847a"
      },
      "outputs": [
        {
          "output_type": "stream",
          "name": "stderr",
          "text": [
            "Installing package into ‘/usr/local/lib/R/site-library’\n",
            "(as ‘lib’ is unspecified)\n",
            "\n",
            "also installing the dependencies ‘textshaping’, ‘ragg’\n",
            "\n",
            "\n",
            "Warning message in install.packages(\"tidyverse\"):\n",
            "“installation of package ‘textshaping’ had non-zero exit status”\n",
            "Warning message in install.packages(\"tidyverse\"):\n",
            "“installation of package ‘ragg’ had non-zero exit status”\n",
            "Warning message in install.packages(\"tidyverse\"):\n",
            "“installation of package ‘tidyverse’ had non-zero exit status”\n",
            "Installing package into ‘/usr/local/lib/R/site-library’\n",
            "(as ‘lib’ is unspecified)\n",
            "\n",
            "Installing package into ‘/usr/local/lib/R/site-library’\n",
            "(as ‘lib’ is unspecified)\n",
            "\n",
            "also installing the dependencies ‘zoo’, ‘TH.data’, ‘sandwich’, ‘libcoin’, ‘matrixStats’, ‘modeltools’, ‘mvtnorm’, ‘multcomp’\n",
            "\n",
            "\n"
          ]
        }
      ],
      "source": [
        "# Instala dependencias\n",
        "install.packages(\"tidyverse\")\n",
        "install.packages(\"rstatix\")\n",
        "install.packages(\"coin\")"
      ]
    },
    {
      "cell_type": "markdown",
      "metadata": {
        "id": "Qe5HedzhtuDB"
      },
      "source": [
        "En las respuestas deben indicar:\n",
        "\n",
        "- Hipótesis de trabajo e hipótesis estadísticas, de manera correspondiente.\n",
        "- Resultados de prueba de normalidad para las distribuciones de las variables de estudio.\n",
        "- Indicadores estadísticos utilizados (SW, M, Mdn, DE, t, U, F, r) el valor p\n",
        "correspondiente, y la magnitud según criterios de Cohen, de ser pertinente.\n",
        "- Redacción de las conclusiones.\n",
        "\n",
        ">Nota: reportar la normalidad de las distribuciones en base a la prueba Shapiro-Wilk. Para\n",
        "efectos de este reporte, NO consideren asimetría y curtosis para decidir la prueba estadística a\n",
        "utilizar"
      ]
    },
    {
      "cell_type": "markdown",
      "metadata": {
        "id": "T8vFN0jptuDC"
      },
      "source": [
        "En esta práctica contamos con una base de datos que muestra los niveles de hemoglobina en la sangre de mujeres. Además, se brinda información sobre si las mujeres están embarazadas o no, así como su edad. A partir de la información presente en esta base de datos, responde:\n",
        "> La variable `Embarazada` codifica como 1 si las encuestadas estaban embarazadas y como 0 en caso contrario."
      ]
    },
    {
      "cell_type": "code",
      "source": [
        "library(tidyverse)\n",
        "\n",
        "data = haven::read_sav(\"https://github.com/renatoparedes/EstadisticaYPsicologiaMatematica/raw/main/Evaluaciones/HemoglobinaEmbarazoyEdad.sav\")\n",
        "\n",
        "data %>%\n",
        "  select(-1) %>%\n",
        "  mutate(Embarazada = case_when(HA54 == 0 ~ \"No o no sabe\",\n",
        "                          HA54 == 1 ~ \"Sí\"), \n",
        "                          .keep = \"unused\", .before = 1) %>% \n",
        "  drop_na() %>%\n",
        "  slice(1:1000) -> data\n",
        "\n",
        "data %>% print(n = 10)"
      ],
      "metadata": {
        "colab": {
          "base_uri": "https://localhost:8080/"
        },
        "id": "SpcZit9Bwoxj",
        "outputId": "db0a5d94-2427-4b73-cf18-6ae86835f8a4"
      },
      "execution_count": 2,
      "outputs": [
        {
          "output_type": "stream",
          "name": "stderr",
          "text": [
            "Warning message in system(\"timedatectl\", intern = TRUE):\n",
            "“running command 'timedatectl' had status 1”\n",
            "── \u001b[1mAttaching packages\u001b[22m ─────────────────────────────────────── tidyverse 1.3.1 ──\n",
            "\n",
            "\u001b[32m✔\u001b[39m \u001b[34mggplot2\u001b[39m 3.4.1     \u001b[32m✔\u001b[39m \u001b[34mpurrr  \u001b[39m 1.0.1\n",
            "\u001b[32m✔\u001b[39m \u001b[34mtibble \u001b[39m 3.2.1     \u001b[32m✔\u001b[39m \u001b[34mdplyr  \u001b[39m 1.1.1\n",
            "\u001b[32m✔\u001b[39m \u001b[34mtidyr  \u001b[39m 1.3.0     \u001b[32m✔\u001b[39m \u001b[34mstringr\u001b[39m 1.5.0\n",
            "\u001b[32m✔\u001b[39m \u001b[34mreadr  \u001b[39m 2.1.4     \u001b[32m✔\u001b[39m \u001b[34mforcats\u001b[39m 1.0.0\n",
            "\n",
            "── \u001b[1mConflicts\u001b[22m ────────────────────────────────────────── tidyverse_conflicts() ──\n",
            "\u001b[31m✖\u001b[39m \u001b[34mdplyr\u001b[39m::\u001b[32mfilter()\u001b[39m masks \u001b[34mstats\u001b[39m::filter()\n",
            "\u001b[31m✖\u001b[39m \u001b[34mdplyr\u001b[39m::\u001b[32mlag()\u001b[39m    masks \u001b[34mstats\u001b[39m::lag()\n",
            "\n"
          ]
        },
        {
          "output_type": "stream",
          "name": "stdout",
          "text": [
            "\u001b[90m# A tibble: 1,000 × 3\u001b[39m\n",
            "   Embarazada   Nivel_de_hemoglobina  Edad\n",
            "   \u001b[3m\u001b[90m<chr>\u001b[39m\u001b[23m                       \u001b[3m\u001b[90m<dbl>\u001b[39m\u001b[23m \u001b[3m\u001b[90m<dbl>\u001b[39m\u001b[23m\n",
            "\u001b[90m 1\u001b[39m No o no sabe                 13.8    39\n",
            "\u001b[90m 2\u001b[39m Sí                           13.6    22\n",
            "\u001b[90m 3\u001b[39m No o no sabe                 13.1    19\n",
            "\u001b[90m 4\u001b[39m No o no sabe                 10.4    33\n",
            "\u001b[90m 5\u001b[39m No o no sabe                 13.7    33\n",
            "\u001b[90m 6\u001b[39m No o no sabe                 10.9    23\n",
            "\u001b[90m 7\u001b[39m No o no sabe                 14      37\n",
            "\u001b[90m 8\u001b[39m No o no sabe                 13.2    20\n",
            "\u001b[90m 9\u001b[39m No o no sabe                 14.7    34\n",
            "\u001b[90m10\u001b[39m No o no sabe                 12.6    47\n",
            "\u001b[90m# ℹ 990 more rows\u001b[39m\n"
          ]
        }
      ]
    },
    {
      "cell_type": "markdown",
      "metadata": {
        "id": "pCtZzd5BtuDE"
      },
      "source": [
        "> Para obtener esta base de datos en SPSS, corresponde eliminar todos los casos con valores nulos/incompletos y luego seleccionar las primeras 1000 filas."
      ]
    },
    {
      "cell_type": "markdown",
      "metadata": {
        "id": "9btqtOkCtuDF"
      },
      "source": [
        "## Pregunta 1\n",
        "\n",
        "Describe la muestra de acuerdo con las variables sociodemográficas reportadas (Edad y Embarazo) y señala el tipo de variable y los estadísticos descriptivos que mejor brinden información sobre ellas."
      ]
    },
    {
      "cell_type": "markdown",
      "source": [
        "La edad es una variable continua y numérica por lo que es más adecuado considerar la\n",
        "media, es decir el promedio de las edades de las participantes. Para dispersión se\n",
        "consideraría la desviación estándar y los valores mínimo y máximo (rango).\n",
        "\n",
        "El estado de embarazo es una variable cualitativa y nominal por lo que resulta adecuado reportar las\n",
        "frecuencias o porcentajes de cada valor, embarazada o no embarazada."
      ],
      "metadata": {
        "id": "hnKlCA6SSAiJ"
      }
    },
    {
      "cell_type": "code",
      "source": [
        "data %>%\n",
        "  reframe(mean = mean(Edad, na.rm = T),\n",
        "            sd   = sd(Edad, na.rm = T),\n",
        "            min = min(Edad, na.rm = T),\n",
        "            nquan = c(\"25%\", \"50%\", \"75%\"),\n",
        "            quan  = quantile(Edad, c(.25, .50, .75), na.rm = T),\n",
        "            max = max(Edad, na.rm = T)) %>%\n",
        "  pivot_wider(names_from = nquan, values_from = quan)"
      ],
      "metadata": {
        "colab": {
          "base_uri": "https://localhost:8080/",
          "height": 129
        },
        "id": "CW2d3oqHSD3e",
        "outputId": "02167b4e-39c7-41dd-e0c7-750c3976dc0e"
      },
      "execution_count": 9,
      "outputs": [
        {
          "output_type": "display_data",
          "data": {
            "text/html": [
              "<table class=\"dataframe\">\n",
              "<caption>A tibble: 1 × 7</caption>\n",
              "<thead>\n",
              "\t<tr><th scope=col>mean</th><th scope=col>sd</th><th scope=col>min</th><th scope=col>max</th><th scope=col>25%</th><th scope=col>50%</th><th scope=col>75%</th></tr>\n",
              "\t<tr><th scope=col>&lt;dbl&gt;</th><th scope=col>&lt;dbl&gt;</th><th scope=col>&lt;dbl&gt;</th><th scope=col>&lt;dbl&gt;</th><th scope=col>&lt;dbl&gt;</th><th scope=col>&lt;dbl&gt;</th><th scope=col>&lt;dbl&gt;</th></tr>\n",
              "</thead>\n",
              "<tbody>\n",
              "\t<tr><td>30.319</td><td>9.278541</td><td>15</td><td>49</td><td>23</td><td>30</td><td>38</td></tr>\n",
              "</tbody>\n",
              "</table>\n"
            ],
            "text/markdown": "\nA tibble: 1 × 7\n\n| mean &lt;dbl&gt; | sd &lt;dbl&gt; | min &lt;dbl&gt; | max &lt;dbl&gt; | 25% &lt;dbl&gt; | 50% &lt;dbl&gt; | 75% &lt;dbl&gt; |\n|---|---|---|---|---|---|---|\n| 30.319 | 9.278541 | 15 | 49 | 23 | 30 | 38 |\n\n",
            "text/latex": "A tibble: 1 × 7\n\\begin{tabular}{lllllll}\n mean & sd & min & max & 25\\% & 50\\% & 75\\%\\\\\n <dbl> & <dbl> & <dbl> & <dbl> & <dbl> & <dbl> & <dbl>\\\\\n\\hline\n\t 30.319 & 9.278541 & 15 & 49 & 23 & 30 & 38\\\\\n\\end{tabular}\n",
            "text/plain": [
              "  mean   sd       min max 25% 50% 75%\n",
              "1 30.319 9.278541 15  49  23  30  38 "
            ]
          },
          "metadata": {}
        }
      ]
    },
    {
      "cell_type": "code",
      "source": [
        "data %>%\n",
        "  count(Embarazada) %>%\n",
        "  mutate(perc = n/sum(n, na.rm = T))"
      ],
      "metadata": {
        "colab": {
          "base_uri": "https://localhost:8080/",
          "height": 161
        },
        "id": "VcffWcEGTJWm",
        "outputId": "e86f3e55-da23-4836-ab33-374abe978c9a"
      },
      "execution_count": 14,
      "outputs": [
        {
          "output_type": "display_data",
          "data": {
            "text/html": [
              "<table class=\"dataframe\">\n",
              "<caption>A tibble: 2 × 3</caption>\n",
              "<thead>\n",
              "\t<tr><th scope=col>Embarazada</th><th scope=col>n</th><th scope=col>perc</th></tr>\n",
              "\t<tr><th scope=col>&lt;chr&gt;</th><th scope=col>&lt;int&gt;</th><th scope=col>&lt;dbl&gt;</th></tr>\n",
              "</thead>\n",
              "<tbody>\n",
              "\t<tr><td>No o no sabe</td><td>959</td><td>0.959</td></tr>\n",
              "\t<tr><td>Sí          </td><td> 41</td><td>0.041</td></tr>\n",
              "</tbody>\n",
              "</table>\n"
            ],
            "text/markdown": "\nA tibble: 2 × 3\n\n| Embarazada &lt;chr&gt; | n &lt;int&gt; | perc &lt;dbl&gt; |\n|---|---|---|\n| No o no sabe | 959 | 0.959 |\n| Sí           |  41 | 0.041 |\n\n",
            "text/latex": "A tibble: 2 × 3\n\\begin{tabular}{lll}\n Embarazada & n & perc\\\\\n <chr> & <int> & <dbl>\\\\\n\\hline\n\t No o no sabe & 959 & 0.959\\\\\n\t Sí           &  41 & 0.041\\\\\n\\end{tabular}\n",
            "text/plain": [
              "  Embarazada   n   perc \n",
              "1 No o no sabe 959 0.959\n",
              "2 Sí            41 0.041"
            ]
          },
          "metadata": {}
        }
      ]
    },
    {
      "cell_type": "markdown",
      "source": [
        "Descripción: \n",
        "La muestra estuvo compuesta por 1000 mujeres, 95.9% no embarazadas y 4.1% embarazadas, con edades entre 15 a 49 años (*M*=30.32, *DE*=9.28)."
      ],
      "metadata": {
        "id": "czvG3tIyTpvN"
      }
    },
    {
      "cell_type": "markdown",
      "metadata": {
        "id": "lujHcyF9tuDG"
      },
      "source": [
        "## Pregunta 2\n",
        "\n",
        "Las evidencias indican que existiría una diferencia en el nivel de hemoglobina según el estado de embarazo de las participantes, con las mujeres embarazadas puntuando más bajo que las no embarazadas. Plantea y lleva a cabo los análisis estadísticos correspondientes y describe lo encontrado. "
      ]
    },
    {
      "cell_type": "code",
      "source": [
        "data %>%\n",
        "  group_by(Embarazada) %>%\n",
        "    reframe(mean = mean(Nivel_de_hemoglobina, na.rm = T),\n",
        "            sd   = sd(Nivel_de_hemoglobina, na.rm = T),\n",
        "            mdn = median(Nivel_de_hemoglobina, na.rm = T),\n",
        "            min = min(Nivel_de_hemoglobina, na.rm = T),\n",
        "            nquan = c(\"25%\", \"50%\", \"75%\"),\n",
        "            quan  = quantile(Nivel_de_hemoglobina, c(.25, .50, .75), na.rm = T),\n",
        "            max = max(Nivel_de_hemoglobina, na.rm = T),\n",
        "            IQR = IQR(Nivel_de_hemoglobina, na.rm = T)) %>%\n",
        "  pivot_wider(names_from = nquan, values_from = quan)"
      ],
      "metadata": {
        "colab": {
          "base_uri": "https://localhost:8080/",
          "height": 161
        },
        "id": "YzoowWrAT8XJ",
        "outputId": "4f3047c5-58f7-4e49-aae7-43514c8a9f56"
      },
      "execution_count": 41,
      "outputs": [
        {
          "output_type": "display_data",
          "data": {
            "text/html": [
              "<table class=\"dataframe\">\n",
              "<caption>A tibble: 2 × 10</caption>\n",
              "<thead>\n",
              "\t<tr><th scope=col>Embarazada</th><th scope=col>mean</th><th scope=col>sd</th><th scope=col>mdn</th><th scope=col>min</th><th scope=col>max</th><th scope=col>IQR</th><th scope=col>25%</th><th scope=col>50%</th><th scope=col>75%</th></tr>\n",
              "\t<tr><th scope=col>&lt;chr&gt;</th><th scope=col>&lt;dbl&gt;</th><th scope=col>&lt;dbl&gt;</th><th scope=col>&lt;dbl&gt;</th><th scope=col>&lt;dbl&gt;</th><th scope=col>&lt;dbl&gt;</th><th scope=col>&lt;dbl&gt;</th><th scope=col>&lt;dbl&gt;</th><th scope=col>&lt;dbl&gt;</th><th scope=col>&lt;dbl&gt;</th></tr>\n",
              "</thead>\n",
              "<tbody>\n",
              "\t<tr><td>No o no sabe</td><td>13.16934</td><td>1.201269</td><td>13.2</td><td>6.9</td><td>16.2</td><td>1.5</td><td>12.4</td><td>13.2</td><td>13.9</td></tr>\n",
              "\t<tr><td>Sí          </td><td>11.92683</td><td>1.090189</td><td>11.8</td><td>9.4</td><td>13.8</td><td>1.6</td><td>11.3</td><td>11.8</td><td>12.9</td></tr>\n",
              "</tbody>\n",
              "</table>\n"
            ],
            "text/markdown": "\nA tibble: 2 × 10\n\n| Embarazada &lt;chr&gt; | mean &lt;dbl&gt; | sd &lt;dbl&gt; | mdn &lt;dbl&gt; | min &lt;dbl&gt; | max &lt;dbl&gt; | IQR &lt;dbl&gt; | 25% &lt;dbl&gt; | 50% &lt;dbl&gt; | 75% &lt;dbl&gt; |\n|---|---|---|---|---|---|---|---|---|---|\n| No o no sabe | 13.16934 | 1.201269 | 13.2 | 6.9 | 16.2 | 1.5 | 12.4 | 13.2 | 13.9 |\n| Sí           | 11.92683 | 1.090189 | 11.8 | 9.4 | 13.8 | 1.6 | 11.3 | 11.8 | 12.9 |\n\n",
            "text/latex": "A tibble: 2 × 10\n\\begin{tabular}{llllllllll}\n Embarazada & mean & sd & mdn & min & max & IQR & 25\\% & 50\\% & 75\\%\\\\\n <chr> & <dbl> & <dbl> & <dbl> & <dbl> & <dbl> & <dbl> & <dbl> & <dbl> & <dbl>\\\\\n\\hline\n\t No o no sabe & 13.16934 & 1.201269 & 13.2 & 6.9 & 16.2 & 1.5 & 12.4 & 13.2 & 13.9\\\\\n\t Sí           & 11.92683 & 1.090189 & 11.8 & 9.4 & 13.8 & 1.6 & 11.3 & 11.8 & 12.9\\\\\n\\end{tabular}\n",
            "text/plain": [
              "  Embarazada   mean     sd       mdn  min max  IQR 25%  50%  75% \n",
              "1 No o no sabe 13.16934 1.201269 13.2 6.9 16.2 1.5 12.4 13.2 13.9\n",
              "2 Sí           11.92683 1.090189 11.8 9.4 13.8 1.6 11.3 11.8 12.9"
            ]
          },
          "metadata": {}
        }
      ]
    },
    {
      "cell_type": "code",
      "source": [
        "data %>%\n",
        "  ggplot(aes(x = Embarazada, y = Nivel_de_hemoglobina)) +\n",
        "  geom_boxplot() +\n",
        "  theme_classic()"
      ],
      "metadata": {
        "colab": {
          "base_uri": "https://localhost:8080/",
          "height": 437
        },
        "id": "bb8vHutwUG4B",
        "outputId": "3b4e67e6-d826-412d-8386-1d9a6b13910c"
      },
      "execution_count": 20,
      "outputs": [
        {
          "output_type": "display_data",
          "data": {
            "text/plain": [
              "plot without title"
            ],
            "image/png": "[encoded data removed]"
          },
          "metadata": {
            "image/png": {
              "width": 420,
              "height": 420
            }
          }
        }
      ]
    },
    {
      "cell_type": "markdown",
      "source": [
        "HT: Hay una diferencia en el nivel de hemoglobina en la muestra, con las mujeres embarazadas puntuando más bajos que las mujeres no embarazadas.\n",
        "\n",
        "- $H_{0}$: $\\mu_{embarazadas} = \\mu_{no \\ embarazadas}$\n",
        "- $H_{1}$: $\\mu_{embarazadas} < \\mu_{no \\ embarazadas}$"
      ],
      "metadata": {
        "id": "fFS7vQQ_UxoA"
      }
    },
    {
      "cell_type": "code",
      "source": [
        "library(rstatix)\n",
        "\n",
        "data %>%\n",
        "  group_by(Embarazada) %>%\n",
        "  shapiro_test(Nivel_de_hemoglobina) %>%\n",
        "  mutate(p = round(p, 3))"
      ],
      "metadata": {
        "colab": {
          "base_uri": "https://localhost:8080/",
          "height": 161
        },
        "id": "vDLJnLzrUO0x",
        "outputId": "9355bb1b-9c69-41c6-de32-97d33381d521"
      },
      "execution_count": 24,
      "outputs": [
        {
          "output_type": "display_data",
          "data": {
            "text/html": [
              "<table class=\"dataframe\">\n",
              "<caption>A tibble: 2 × 4</caption>\n",
              "<thead>\n",
              "\t<tr><th scope=col>Embarazada</th><th scope=col>variable</th><th scope=col>statistic</th><th scope=col>p</th></tr>\n",
              "\t<tr><th scope=col>&lt;chr&gt;</th><th scope=col>&lt;chr&gt;</th><th scope=col>&lt;dbl&gt;</th><th scope=col>&lt;dbl&gt;</th></tr>\n",
              "</thead>\n",
              "<tbody>\n",
              "\t<tr><td>No o no sabe</td><td>Nivel_de_hemoglobina</td><td>0.9769673</td><td>0.000</td></tr>\n",
              "\t<tr><td>Sí          </td><td>Nivel_de_hemoglobina</td><td>0.9683915</td><td>0.305</td></tr>\n",
              "</tbody>\n",
              "</table>\n"
            ],
            "text/markdown": "\nA tibble: 2 × 4\n\n| Embarazada &lt;chr&gt; | variable &lt;chr&gt; | statistic &lt;dbl&gt; | p &lt;dbl&gt; |\n|---|---|---|---|\n| No o no sabe | Nivel_de_hemoglobina | 0.9769673 | 0.000 |\n| Sí           | Nivel_de_hemoglobina | 0.9683915 | 0.305 |\n\n",
            "text/latex": "A tibble: 2 × 4\n\\begin{tabular}{llll}\n Embarazada & variable & statistic & p\\\\\n <chr> & <chr> & <dbl> & <dbl>\\\\\n\\hline\n\t No o no sabe & Nivel\\_de\\_hemoglobina & 0.9769673 & 0.000\\\\\n\t Sí           & Nivel\\_de\\_hemoglobina & 0.9683915 & 0.305\\\\\n\\end{tabular}\n",
            "text/plain": [
              "  Embarazada   variable             statistic p    \n",
              "1 No o no sabe Nivel_de_hemoglobina 0.9769673 0.000\n",
              "2 Sí           Nivel_de_hemoglobina 0.9683915 0.305"
            ]
          },
          "metadata": {}
        }
      ]
    },
    {
      "cell_type": "markdown",
      "source": [
        "La distribución del nivel de hemoglobina en mujeres embarazadas fue no normal (*SW*=.977, *p* < .001), mientras que la de mujeres no embarazadas fue normal (*SW*=.968, *p* = .305). Por lo tanto, se usará el análisis no paramétrico de contraste de dos muestras independientes U de Mann-Whitney."
      ],
      "metadata": {
        "id": "1maJu601WcK5"
      }
    },
    {
      "cell_type": "code",
      "source": [
        "data %>%\n",
        "  wilcox_test(Nivel_de_hemoglobina ~ Embarazada, detailed = T) %>%\n",
        "  mutate(p = round(p, 3), p_unilateral = p/2)"
      ],
      "metadata": {
        "colab": {
          "base_uri": "https://localhost:8080/",
          "height": 129
        },
        "id": "mpn8FrAoWs2v",
        "outputId": "5edf109e-2af6-4937-df34-f052cf3b56c9"
      },
      "execution_count": 54,
      "outputs": [
        {
          "output_type": "display_data",
          "data": {
            "text/html": [
              "<table class=\"dataframe\">\n",
              "<caption>A rstatix_test: 1 × 13</caption>\n",
              "<thead>\n",
              "\t<tr><th scope=col>estimate</th><th scope=col>.y.</th><th scope=col>group1</th><th scope=col>group2</th><th scope=col>n1</th><th scope=col>n2</th><th scope=col>statistic</th><th scope=col>p</th><th scope=col>conf.low</th><th scope=col>conf.high</th><th scope=col>method</th><th scope=col>alternative</th><th scope=col>p_unilateral</th></tr>\n",
              "\t<tr><th scope=col>&lt;dbl&gt;</th><th scope=col>&lt;chr&gt;</th><th scope=col>&lt;chr&gt;</th><th scope=col>&lt;chr&gt;</th><th scope=col>&lt;int&gt;</th><th scope=col>&lt;int&gt;</th><th scope=col>&lt;dbl&gt;</th><th scope=col>&lt;dbl&gt;</th><th scope=col>&lt;dbl&gt;</th><th scope=col>&lt;dbl&gt;</th><th scope=col>&lt;chr&gt;</th><th scope=col>&lt;chr&gt;</th><th scope=col>&lt;dbl&gt;</th></tr>\n",
              "</thead>\n",
              "<tbody>\n",
              "\t<tr><td>1.299954</td><td>Nivel_de_hemoglobina</td><td>No o no sabe</td><td>Sí</td><td>959</td><td>41</td><td>30927</td><td>0</td><td>0.9000352</td><td>1.600043</td><td>Wilcoxon</td><td>two.sided</td><td>0</td></tr>\n",
              "</tbody>\n",
              "</table>\n"
            ],
            "text/markdown": "\nA rstatix_test: 1 × 13\n\n| estimate &lt;dbl&gt; | .y. &lt;chr&gt; | group1 &lt;chr&gt; | group2 &lt;chr&gt; | n1 &lt;int&gt; | n2 &lt;int&gt; | statistic &lt;dbl&gt; | p &lt;dbl&gt; | conf.low &lt;dbl&gt; | conf.high &lt;dbl&gt; | method &lt;chr&gt; | alternative &lt;chr&gt; | p_unilateral &lt;dbl&gt; |\n|---|---|---|---|---|---|---|---|---|---|---|---|---|\n| 1.299954 | Nivel_de_hemoglobina | No o no sabe | Sí | 959 | 41 | 30927 | 0 | 0.9000352 | 1.600043 | Wilcoxon | two.sided | 0 |\n\n",
            "text/latex": "A rstatix\\_test: 1 × 13\n\\begin{tabular}{lllllllllllll}\n estimate & .y. & group1 & group2 & n1 & n2 & statistic & p & conf.low & conf.high & method & alternative & p\\_unilateral\\\\\n <dbl> & <chr> & <chr> & <chr> & <int> & <int> & <dbl> & <dbl> & <dbl> & <dbl> & <chr> & <chr> & <dbl>\\\\\n\\hline\n\t 1.299954 & Nivel\\_de\\_hemoglobina & No o no sabe & Sí & 959 & 41 & 30927 & 0 & 0.9000352 & 1.600043 & Wilcoxon & two.sided & 0\\\\\n\\end{tabular}\n",
            "text/plain": [
              "  estimate .y.                  group1       group2 n1  n2 statistic p\n",
              "1 1.299954 Nivel_de_hemoglobina No o no sabe Sí     959 41 30927     0\n",
              "  conf.low  conf.high method   alternative p_unilateral\n",
              "1 0.9000352 1.600043  Wilcoxon two.sided   0           "
            ]
          },
          "metadata": {}
        }
      ]
    },
    {
      "cell_type": "code",
      "source": [
        "data %>%\n",
        "  wilcox_effsize(Nivel_de_hemoglobina ~ Embarazada)"
      ],
      "metadata": {
        "colab": {
          "base_uri": "https://localhost:8080/",
          "height": 129
        },
        "id": "rOQ4Ew81YKX9",
        "outputId": "e0b63eb8-96dd-4c82-a35c-82004fd025d2"
      },
      "execution_count": 55,
      "outputs": [
        {
          "output_type": "display_data",
          "data": {
            "text/html": [
              "<table class=\"dataframe\">\n",
              "<caption>A rstatix_test: 1 × 7</caption>\n",
              "<thead>\n",
              "\t<tr><th></th><th scope=col>.y.</th><th scope=col>group1</th><th scope=col>group2</th><th scope=col>effsize</th><th scope=col>n1</th><th scope=col>n2</th><th scope=col>magnitude</th></tr>\n",
              "\t<tr><th></th><th scope=col>&lt;chr&gt;</th><th scope=col>&lt;chr&gt;</th><th scope=col>&lt;chr&gt;</th><th scope=col>&lt;dbl&gt;</th><th scope=col>&lt;int&gt;</th><th scope=col>&lt;int&gt;</th><th scope=col>&lt;ord&gt;</th></tr>\n",
              "</thead>\n",
              "<tbody>\n",
              "\t<tr><th scope=row>1</th><td>Nivel_de_hemoglobina</td><td>No o no sabe</td><td>Sí</td><td>0.1968144</td><td>959</td><td>41</td><td>small</td></tr>\n",
              "</tbody>\n",
              "</table>\n"
            ],
            "text/markdown": "\nA rstatix_test: 1 × 7\n\n| <!--/--> | .y. &lt;chr&gt; | group1 &lt;chr&gt; | group2 &lt;chr&gt; | effsize &lt;dbl&gt; | n1 &lt;int&gt; | n2 &lt;int&gt; | magnitude &lt;ord&gt; |\n|---|---|---|---|---|---|---|---|\n| 1 | Nivel_de_hemoglobina | No o no sabe | Sí | 0.1968144 | 959 | 41 | small |\n\n",
            "text/latex": "A rstatix\\_test: 1 × 7\n\\begin{tabular}{r|lllllll}\n  & .y. & group1 & group2 & effsize & n1 & n2 & magnitude\\\\\n  & <chr> & <chr> & <chr> & <dbl> & <int> & <int> & <ord>\\\\\n\\hline\n\t1 & Nivel\\_de\\_hemoglobina & No o no sabe & Sí & 0.1968144 & 959 & 41 & small\\\\\n\\end{tabular}\n",
            "text/plain": [
              "  .y.                  group1       group2 effsize   n1  n2 magnitude\n",
              "1 Nivel_de_hemoglobina No o no sabe Sí     0.1968144 959 41 small    "
            ]
          },
          "metadata": {}
        }
      ]
    },
    {
      "cell_type": "markdown",
      "source": [
        "El resultado del análisis de comparación fue significativo, *U*(1000)=30927, *p*<.001 (unilateral), con las mujeres embarazadas puntuando más bajo en el nivel de hemoglobina (*Me*=11.8, *IQR*=1.6) que las mujeres no embarazadas (*Me*=13.2, *IQR*=1.5), con un tamaño del efecto pequeño, r = .197.\n",
        "\n",
        "En conclusión, los resultados muestran que el nivel de hemoglobina varía según la condición de embarazo de las participantes, con las mujeres embarazadas puntuando más bajo que las no embarazadas. Así, la hipótesis de trabajo se cumple en el estudio."
      ],
      "metadata": {
        "id": "6FQR6El6ZeeZ"
      }
    }
  ]
}