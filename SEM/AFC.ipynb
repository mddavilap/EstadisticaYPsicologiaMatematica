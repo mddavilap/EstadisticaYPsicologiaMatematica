{
 "cells": [
  {
   "cell_type": "markdown",
   "metadata": {
    "slideshow": {
     "slide_type": "slide"
    }
   },
   "source": [
    "# Análisis Factorial Confirmatorio\n",
    "\n",
    ">Este tutorial es una selección y adaptación al español del libro [Multivariate Data Analysis](https://www.cengage.co.uk/books/9781473756540/) de Joseph F. Hair et al."
   ]
  },
  {
   "cell_type": "code",
   "execution_count": null,
   "metadata": {},
   "outputs": [],
   "source": [
    "!pip install pyreadstat\n",
    "!pip install semopy"
   ]
  },
  {
   "cell_type": "markdown",
   "metadata": {
    "slideshow": {
     "slide_type": "slide"
    }
   },
   "source": [
    "## ¿Qué es el Análisis Factorial Confirmatorio (AFC)?\n",
    "\n",
    "AFC es **una forma de probar qué tan bien una teoría de medición preespecificada compuesta de variables y factores medidos se ajusta a la realidad** capturada por los datos.\n",
    "\n",
    ">Una teoría de medición especifica con precisión cómo las variables medidas representan lógica y sistemáticamente los constructos involucrados en un modelo teórico. En otras palabras, la teoría de la medición especifica una serie de **relaciones y restricciones** que sugieren cómo las variables medidas representan un factor latente."
   ]
  },
  {
   "cell_type": "markdown",
   "metadata": {
    "slideshow": {
     "slide_type": "subslide"
    }
   },
   "source": [
    "**A diferencia del Análisis Factorial Exploratorio**, en un AFC el investigador debe especificar tanto el número de factores que existen para un conjunto de variables como en qué factor se cargará cada variable antes de poder calcular los resultados. Por tanto, **la técnica estadística no asigna variables a factores**.\n",
    "\n",
    "En cambio, **el investigador realiza esta tarea basándose en la teoría que se está probando antes de que se puedan obtener resultados**. Además, si se emplean buenos principios de medición en la teoría, **una variable puede cargarse en un solo factor y no se permiten cargas cruzadas** (carga en más de un factor)."
   ]
  },
  {
   "cell_type": "markdown",
   "metadata": {
    "slideshow": {
     "slide_type": "slide"
    }
   },
   "source": [
    "### ¿A qué nos referimos con buenos principios psicométricos?\n",
    "\n",
    "1. **Solo las cargas que vinculan teóricamente un elemento medido con su factor latente correspondiente se estiman libremente** y, por lo tanto, se muestran en el diagrama de ruta.\n",
    "2. Se supone que **todas las demás cargas posibles son iguales y, por lo tanto, están limitadas a cero**. La ausencia de conexiones no representa asociación. El efecto es el mismo que dibujar una conexión y especificar que es 0.\n",
    "3. **No existe covarianza entre los residuos, que están representados por términos de varianza de error en un modelo**. Por lo tanto, no existen conexiones entre los conceptos no observados que representan las variaciones de error, lo que significa que existe una restricción de 0 (independencia) para cada conexión posible entre los términos de variación de error."
   ]
  },
  {
   "cell_type": "markdown",
   "metadata": {
    "slideshow": {
     "slide_type": "subslide"
    }
   },
   "source": [
    "La teoría de la medición debe **especificar la independencia de todos los términos de varianza del error**. Por lo tanto, **las cargas cruzadas y las correlaciones de varianza de errores se limitan a cero**.\n",
    "\n",
    "Como resultado, un factor determina de forma única cada una de sus variables indicadoras. Luego, **el AFC prueba hasta qué punto el patrón teórico a priori de un investigador de cargas factoriales en constructos preespecificados (carga de variables en constructos específicos) representa los datos reales**."
   ]
  },
  {
   "cell_type": "markdown",
   "metadata": {
    "slideshow": {
     "slide_type": "subslide"
    }
   },
   "source": [
    "\n",
    "Por lo tanto, en lugar de permitir que el método estadístico determine el número de factores y cargas como en AFE, **las estadísticas del AFC nos dicen qué tan bien nuestra especificación teórica de los factores coincide con la realidad** (los datos reales). \n",
    "\n",
    "En cierto sentido, AFC revela el grado de confirmación de nuestra teoría de medición preconcebida."
   ]
  },
  {
   "cell_type": "markdown",
   "metadata": {
    "slideshow": {
     "slide_type": "slide"
    }
   },
   "source": [
    "Gráficamente, una teoría de medición puede especificarse de la siguiente forma:\n",
    "\n",
    "<p align=\"center\">\n",
    "  <img width=\"1000\" src=\"https://github.com/renatoparedes/EstadisticaYPsicologiaMatematica/raw/main/SEM/measurement_theory.png\" alt=\"Measurement Theory\">\n",
    "</p>"
   ]
  },
  {
   "cell_type": "markdown",
   "metadata": {
    "slideshow": {
     "slide_type": "subslide"
    }
   },
   "source": [
    "En este gráfico, los dos constructos latentes son Supervisión y Ambiente de trabajo. \n",
    "\n",
    "- Los símbolos $x_{1}$ – $x_{8}$ representan las **variables indicadoras medidas**.\n",
    "- $L_{x1}$ - $L_{x8}$ son las relaciones entre las construcciones latentes y los elementos medidos respectivos (es decir, **cargas factoriales**).\n",
    "\n",
    "> Como puedes ver, los cuatro ítems que miden la Supervisión están vinculados a ese constructo latente, al igual que los otros cuatro ítems al constructo Ambiente de Trabajo. La flecha curva entre los dos constructos denota una relación de correlación entre ellos. \n",
    "\n",
    "- Los símbolos $e_{1}$ – $e_{8}$ representan las **variaciones de error** asociadas con cada elemento medido. Se omiten todos los demás conectores posibles."
   ]
  },
  {
   "cell_type": "markdown",
   "metadata": {
    "slideshow": {
     "slide_type": "slide"
    }
   },
   "source": [
    "## Definición de constructos individuales\n",
    "\n",
    "El proceso de un AFC comienza definiendo todos los constructos que comprenderán el modelo de medición. Cuando no se dispone de una escala aplicada previamente, el investigador puede utilizar los principios psicométricos y los pasos del desarrollo de la escala para producir una medida. Deben tomarse las siguientes consideraciones:\n",
    "\n",
    "- Los factores deben mostrar una **validez de contenido adecuada**, ya sean escalas nuevas o escalas tomadas de investigaciones anteriores. Incluso las escalas previamente establecidas deben revisarse cuidadosamente para verificar la validez del contenido.\n",
    "- La validez de contenido debe ser de primordial importancia y **debe juzgarse tanto cualitativamente** (p.e. opinión de expertos) **como empíricamente** (p.e. unidimensionalidad).\n",
    "- Deben utilizarse pruebas piloto para purificar las medidas antes de las pruebas de confirmación."
   ]
  },
  {
   "cell_type": "markdown",
   "metadata": {
    "slideshow": {
     "slide_type": "slide"
    }
   },
   "source": [
    "## Desarrollo del modelo de medición general\n",
    "\n",
    "En este paso, el investigador debe considerar cuidadosamente **cómo se unirán todos los constructos individuales para formar un modelo de medición general**. En este punto, conviene destacar varias cuestiones clave.\n",
    "\n",
    "- **Las construcciones latentes deben estar indicadas por al menos tres variables medidas**, y preferiblemente cuatro o más; en otras palabras, los factores latentes deben identificarse estadísticamente.\n",
    "- Las escalas formativas (p.e. índices) no están latentes y no están validadas de la misma forma que las escalas reflexivas convencionales.\n",
    "- Presentan mayores dificultades con la identificación estadística, pero pueden incluirse en modelos identificados siempre que se incluyan otros conceptos reflexivos de múltiples elementos."
   ]
  },
  {
   "cell_type": "markdown",
   "metadata": {
    "slideshow": {
     "slide_type": "slide"
    }
   },
   "source": [
    "### Unidimensionalidad\n",
    "\n",
    "Las medidas unidimensionales significan que un conjunto de variables medidas (indicadores) puede explicarse mediante un solo constructo subyacente. La unidimensionalidad se vuelve críticamente importante cuando están involucrados más de dos constructos. En tal situación, se hipotetiza que cada variable medida se relaciona con un solo constructo. \n",
    "\n",
    "Se hipotetiza que **todos los términos de covarianza de varianza de error y cargas cruzadas son cero cuando existen construcciones unidimensionales**.\n",
    "\n"
   ]
  },
  {
   "cell_type": "markdown",
   "metadata": {
    "slideshow": {
     "slide_type": "subslide"
    }
   },
   "source": [
    "Existen dos tipos de covarianza entre los términos de la varianza del error: \n",
    "- **Covarianza del error dentro del constructo**: la covarianza entre los términos de error de los elementos que indican el mismo constructo.\n",
    "- **Covarianza de error entre constructos**: la covarianza entre dos términos de error de los elementos que indican diferentes constructos.\n",
    "\n",
    "En la validación de medición convencional, probar **modelos AFC que incluyen covarianzas entre términos de error o cargas cruzadas violan los principios psicométricos básicos de una buena medición**. \n",
    "\n",
    "Permitir estimar estos caminos (liberarlos) reducirá $X^{2}$, pero al mismo tiempo cuestionará seriamente la validez de constructo del factor.\n"
   ]
  },
  {
   "cell_type": "markdown",
   "metadata": {
    "slideshow": {
     "slide_type": "subslide"
    }
   },
   "source": [
    "#### Modelos congenéricos\n",
    "\n",
    "La terminología SEM a menudo establece que un modelo de medición está limitado por las hipótesis del modelo. Un tipo de restricción común es un **modelo de medición cuya hipótesis consiste en varias construcciones unidimensionales con todas las cargas cruzadas restringidas a cero**.\n",
    "\n",
    "Además, cuando un modelo de medición también plantea la **hipótesis de que no hay covarianza entre o dentro de las varianzas del error de constructo**, lo que significa que todas están fijas en cero, se dice que el modelo de medición es congenérico. \n",
    "\n",
    "Se considera que los **modelos de medición congenéricos** están suficientemente restringidos para representar **buenas propiedades psicométricas**. Representa la validez de constructo y un buen ajuste de AFC para el modelo proporciona evidencia de su validez."
   ]
  },
  {
   "cell_type": "markdown",
   "metadata": {
    "slideshow": {
     "slide_type": "slide"
    }
   },
   "source": [
    "### Identificación\n",
    "\n",
    "En general, la identificación trata de **si existe suficiente información para identificar una solución a un conjunto de ecuaciones estructurales**.\n",
    "\n",
    "Los modelos, e incluso los constructos, se pueden caracterizar por su grado de identificación, que se define por los grados de libertad de un modelo después de especificar todos los parámetros a estimar. Se cuenta con tres niveles de identificación:"
   ]
  },
  {
   "cell_type": "markdown",
   "metadata": {
    "slideshow": {
     "slide_type": "subslide"
    }
   },
   "source": [
    "#### Subidentificado\n",
    "\n",
    "Un modelo subidentificado (también denominado no identificado) **tiene más parámetros para estimar que las varianzas y covarianzas de variables indicadoras únicas en la matriz de covarianza observada**. Por ejemplo:\n",
    "\n",
    "<p align=\"center\">\n",
    "  <img width=\"800\" src=\"https://github.com/renatoparedes/EstadisticaYPsicologiaMatematica/raw/main/SEM/underidentified.png\" alt=\"Under\">\n",
    "</p>\n",
    "\n",
    "\n"
   ]
  },
  {
   "cell_type": "markdown",
   "metadata": {
    "slideshow": {
     "slide_type": "subslide"
    }
   },
   "source": [
    "#### Apenas identificado\n",
    "\n",
    "Esto significa que **hay suficientes grados de libertad para estimar todos los parámetros libres**. Se utiliza toda la información, lo que significa que el análisis AFC reproducirá la matriz de covarianza de la muestra de manera idéntica. Debido a esto, los modelos recién identificados tienen un ajuste perfecto por definición.\n",
    "\n",
    "En terminología SEM, un modelo con cero grados de libertad se denomina saturado. El estadístico de bondad de ajuste $X^{2}$ resultante también es cero.\n",
    "\n",
    "**Los modelos recién identificados no prueban una teoría, porque su ajuste está determinado por las circunstancias**. Como resultado, no son de interés para los investigadores que prueban teorías."
   ]
  },
  {
   "cell_type": "markdown",
   "metadata": {
    "slideshow": {
     "slide_type": "subslide"
    }
   },
   "source": [
    "#### Sobreidentificado\n",
    "\n",
    "Los modelos sobreidentificados **tienen más términos de covarianza y varianza que los parámetros a estimar**. Por lo tanto, para cualquier modelo de medición sobreidentificado, se puede encontrar una solución con **grados de libertad positivos** y un valor de bondad de ajuste $X^{2}$ útil.\n",
    "\n",
    "Un modelo de medición unidimensional de cuatro elementos produce una construcción sobreidentificada para la que se puede calcular un valor de ajuste. **Aumentar el número de elementos medidos solo fortalece la condición sobreidentificada**."
   ]
  },
  {
   "cell_type": "markdown",
   "metadata": {
    "slideshow": {
     "slide_type": "subslide"
    }
   },
   "source": [
    "Por ejemplo:\n",
    "\n",
    "<p align=\"center\">\n",
    "  <img width=\"1200\" src=\"https://github.com/renatoparedes/EstadisticaYPsicologiaMatematica/raw/main/SEM/overidentified.png\" alt=\"Over\">\n",
    "</p>"
   ]
  },
  {
   "cell_type": "markdown",
   "metadata": {
    "slideshow": {
     "slide_type": "subslide"
    }
   },
   "source": [
    "En resumen, al especificar el número de indicadores por constructo latente, se recomienda lo siguiente:\n",
    "- Utiliza **al menos cuatro indicadores siempre que sea posible**.\n",
    "- Tener tres indicadores por constructo es aceptable, particularmente cuando otros constructos tienen más de tres.\n",
    "- Deben evitarse las construcciones con menos de tres indicadores o, si se utilizan, limitarse a identificar."
   ]
  },
  {
   "cell_type": "markdown",
   "metadata": {
    "slideshow": {
     "slide_type": "slide"
    }
   },
   "source": [
    "## Diseño de un estudio para proporcionar resultados empíricos\n",
    "\n",
    "La tercera etapa consiste en diseñar un estudio que producirá resultados confirmatorios. En otras palabras, se pondrá a prueba la teoría de la medición del investigador. Podemos tomar algunas consideraciones generales:\n",
    "\n",
    "- **No se requiere que todos los indicadores para un constructo sean del mismo tipo de escala, y no es necesario normalizar diferentes valores de escala** (transformar matemáticamente a un rango de escala común) antes de usar SEM.\n",
    "\n",
    "- **Muchas veces el AFC requiere el uso de múltiples muestras**, particularmente cuando el modelo de medición incluye nuevas escalas. Se puede examinar una muestra inicial con EFA y los resultados se pueden utilizar para una purificación adicional. Luego, se deben extraer muestras adicionales para realizar el CFA.\n",
    "\n",
    "- Los modelos de medición congenéricos, en los que todos los constructos tienen al menos tres indicadores de ítem, se identifican estadísticamente tanto dentro de los constructos como para el modelo en general. A esto se le llama la **regla de los tres indicadores**."
   ]
  },
  {
   "cell_type": "markdown",
   "metadata": {
    "slideshow": {
     "slide_type": "subslide"
    }
   },
   "source": [
    "#### Especificación del modelo \n",
    "\n",
    "Una característica única al especificar los indicadores para cada constructo es el proceso de \"establecer la escala\" de un factor latente. Debido a que no se observa, **una construcción latente no tiene una escala métrica**, lo que significa que no hay rango de valores. \n",
    "\n",
    "Esto debe hacerse tanto para construcciones exógenas como endógenas de una de estas dos formas:\n",
    "- Fijar una de las cargas factoriales en cada constructo a un valor específico (normalmente se usa 1 aunque se podría insertar cualquier valor), o\n",
    "- Fijar el valor de la varianza del constructo (nuevamente 1 es un buen valor para usar).\n",
    "\n",
    "La mayor parte del software SEM actual insertará \"1\" en los lugares apropiados para establecer una escala para las construcciones latentes. En `semopy`, se asigna por defecto 1 al primer indicador especificado para cada constructo latente."
   ]
  },
  {
   "cell_type": "markdown",
   "metadata": {
    "slideshow": {
     "slide_type": "subslide"
    }
   },
   "source": [
    "#### Problemas de identificación\n",
    "\n",
    "Los programas de SEM proporcionan medidas de diagnóstico mínimas para problemas de identificación. Por lo tanto, los investigadores generalmente deben confiar en otros **medios para reconocer los problemas de identificación por los síntomas descritos en la siguiente lista**:\n",
    "- Incapacidad del programa para invertir la matriz de información (**no se puede encontrar solución**).\n",
    "- **Estimaciones tremendamente irrazonables o imposibles**, como variaciones de error negativas o estimaciones de parámetros muy grandes, incluidas cargas factoriales estandarizadas y correlaciones entre constructos fuera del rango de -1 a 1.\n",
    "- Los modelos que dan como resultado **estimaciones de parámetros inestables** en presencia de pequeños cambios sugieren datos problemáticos, que pueden surgir de problemas de identificación."
   ]
  },
  {
   "cell_type": "markdown",
   "metadata": {
    "slideshow": {
     "slide_type": "subslide"
    }
   },
   "source": [
    "#### Problemas de estimación\n",
    "\n",
    "- **Parámetros estandarizados ilógicos**: Cuando las estimaciones de correlación (estimaciones estandarizadas) entre constructos o los coeficientes de ruta estandarizados superan a 1. Puede ocurrir por problemas de identificación, por problemas de datos (p.e. constructos altamente correlacionados) o constructos mal especificados (p.e. confiabilidad extremadamente baja u otros problemas en la validez de constructo).\n",
    "  \n",
    "- **Casos Heywood**: Cuando se produce una estimación de la varianza del error menor a cero. Los modelos con un tamaño de muestra suficiente que se adhiere a la regla de los tres indicadores generalmente no producen estos casos."
   ]
  },
  {
   "cell_type": "markdown",
   "metadata": {
    "slideshow": {
     "slide_type": "slide"
    }
   },
   "source": [
    "Veamos un ejemplo:"
   ]
  },
  {
   "cell_type": "code",
   "execution_count": 2,
   "metadata": {
    "hideCode": true,
    "hidePrompt": true,
    "slideshow": {
     "slide_type": "fragment"
    }
   },
   "outputs": [
    {
     "data": {
      "text/html": [
       "<div>\n",
       "<style scoped>\n",
       "    .dataframe tbody tr th:only-of-type {\n",
       "        vertical-align: middle;\n",
       "    }\n",
       "\n",
       "    .dataframe tbody tr th {\n",
       "        vertical-align: top;\n",
       "    }\n",
       "\n",
       "    .dataframe thead th {\n",
       "        text-align: right;\n",
       "    }\n",
       "</style>\n",
       "<table border=\"1\" class=\"dataframe\">\n",
       "  <thead>\n",
       "    <tr style=\"text-align: right;\">\n",
       "      <th></th>\n",
       "      <th>id</th>\n",
       "      <th>sex</th>\n",
       "      <th>ageyr</th>\n",
       "      <th>agemo</th>\n",
       "      <th>school</th>\n",
       "      <th>grade</th>\n",
       "      <th>x1</th>\n",
       "      <th>x2</th>\n",
       "      <th>x3</th>\n",
       "      <th>x4</th>\n",
       "      <th>x5</th>\n",
       "      <th>x6</th>\n",
       "      <th>x7</th>\n",
       "      <th>x8</th>\n",
       "      <th>x9</th>\n",
       "    </tr>\n",
       "  </thead>\n",
       "  <tbody>\n",
       "    <tr>\n",
       "      <th>1</th>\n",
       "      <td>1</td>\n",
       "      <td>1</td>\n",
       "      <td>13</td>\n",
       "      <td>1</td>\n",
       "      <td>Pasteur</td>\n",
       "      <td>7.0</td>\n",
       "      <td>3.333333</td>\n",
       "      <td>7.75</td>\n",
       "      <td>0.375</td>\n",
       "      <td>2.333333</td>\n",
       "      <td>5.75</td>\n",
       "      <td>1.285714</td>\n",
       "      <td>3.391304</td>\n",
       "      <td>5.75</td>\n",
       "      <td>6.361111</td>\n",
       "    </tr>\n",
       "    <tr>\n",
       "      <th>2</th>\n",
       "      <td>2</td>\n",
       "      <td>2</td>\n",
       "      <td>13</td>\n",
       "      <td>7</td>\n",
       "      <td>Pasteur</td>\n",
       "      <td>7.0</td>\n",
       "      <td>5.333333</td>\n",
       "      <td>5.25</td>\n",
       "      <td>2.125</td>\n",
       "      <td>1.666667</td>\n",
       "      <td>3.00</td>\n",
       "      <td>1.285714</td>\n",
       "      <td>3.782609</td>\n",
       "      <td>6.25</td>\n",
       "      <td>7.916667</td>\n",
       "    </tr>\n",
       "    <tr>\n",
       "      <th>3</th>\n",
       "      <td>3</td>\n",
       "      <td>2</td>\n",
       "      <td>13</td>\n",
       "      <td>1</td>\n",
       "      <td>Pasteur</td>\n",
       "      <td>7.0</td>\n",
       "      <td>4.500000</td>\n",
       "      <td>5.25</td>\n",
       "      <td>1.875</td>\n",
       "      <td>1.000000</td>\n",
       "      <td>1.75</td>\n",
       "      <td>0.428571</td>\n",
       "      <td>3.260870</td>\n",
       "      <td>3.90</td>\n",
       "      <td>4.416667</td>\n",
       "    </tr>\n",
       "    <tr>\n",
       "      <th>4</th>\n",
       "      <td>4</td>\n",
       "      <td>1</td>\n",
       "      <td>13</td>\n",
       "      <td>2</td>\n",
       "      <td>Pasteur</td>\n",
       "      <td>7.0</td>\n",
       "      <td>5.333333</td>\n",
       "      <td>7.75</td>\n",
       "      <td>3.000</td>\n",
       "      <td>2.666667</td>\n",
       "      <td>4.50</td>\n",
       "      <td>2.428571</td>\n",
       "      <td>3.000000</td>\n",
       "      <td>5.30</td>\n",
       "      <td>4.861111</td>\n",
       "    </tr>\n",
       "    <tr>\n",
       "      <th>5</th>\n",
       "      <td>5</td>\n",
       "      <td>2</td>\n",
       "      <td>12</td>\n",
       "      <td>2</td>\n",
       "      <td>Pasteur</td>\n",
       "      <td>7.0</td>\n",
       "      <td>4.833333</td>\n",
       "      <td>4.75</td>\n",
       "      <td>0.875</td>\n",
       "      <td>2.666667</td>\n",
       "      <td>4.00</td>\n",
       "      <td>2.571429</td>\n",
       "      <td>3.695652</td>\n",
       "      <td>6.30</td>\n",
       "      <td>5.916667</td>\n",
       "    </tr>\n",
       "    <tr>\n",
       "      <th>...</th>\n",
       "      <td>...</td>\n",
       "      <td>...</td>\n",
       "      <td>...</td>\n",
       "      <td>...</td>\n",
       "      <td>...</td>\n",
       "      <td>...</td>\n",
       "      <td>...</td>\n",
       "      <td>...</td>\n",
       "      <td>...</td>\n",
       "      <td>...</td>\n",
       "      <td>...</td>\n",
       "      <td>...</td>\n",
       "      <td>...</td>\n",
       "      <td>...</td>\n",
       "      <td>...</td>\n",
       "    </tr>\n",
       "    <tr>\n",
       "      <th>297</th>\n",
       "      <td>346</td>\n",
       "      <td>1</td>\n",
       "      <td>13</td>\n",
       "      <td>5</td>\n",
       "      <td>Grant-White</td>\n",
       "      <td>8.0</td>\n",
       "      <td>4.000000</td>\n",
       "      <td>7.00</td>\n",
       "      <td>1.375</td>\n",
       "      <td>2.666667</td>\n",
       "      <td>4.25</td>\n",
       "      <td>1.000000</td>\n",
       "      <td>5.086957</td>\n",
       "      <td>5.60</td>\n",
       "      <td>5.250000</td>\n",
       "    </tr>\n",
       "    <tr>\n",
       "      <th>298</th>\n",
       "      <td>347</td>\n",
       "      <td>2</td>\n",
       "      <td>14</td>\n",
       "      <td>10</td>\n",
       "      <td>Grant-White</td>\n",
       "      <td>8.0</td>\n",
       "      <td>3.000000</td>\n",
       "      <td>6.00</td>\n",
       "      <td>1.625</td>\n",
       "      <td>2.333333</td>\n",
       "      <td>4.00</td>\n",
       "      <td>1.000000</td>\n",
       "      <td>4.608696</td>\n",
       "      <td>6.05</td>\n",
       "      <td>6.083333</td>\n",
       "    </tr>\n",
       "    <tr>\n",
       "      <th>299</th>\n",
       "      <td>348</td>\n",
       "      <td>2</td>\n",
       "      <td>14</td>\n",
       "      <td>3</td>\n",
       "      <td>Grant-White</td>\n",
       "      <td>8.0</td>\n",
       "      <td>4.666667</td>\n",
       "      <td>5.50</td>\n",
       "      <td>1.875</td>\n",
       "      <td>3.666667</td>\n",
       "      <td>5.75</td>\n",
       "      <td>4.285714</td>\n",
       "      <td>4.000000</td>\n",
       "      <td>6.00</td>\n",
       "      <td>7.611111</td>\n",
       "    </tr>\n",
       "    <tr>\n",
       "      <th>300</th>\n",
       "      <td>349</td>\n",
       "      <td>1</td>\n",
       "      <td>14</td>\n",
       "      <td>2</td>\n",
       "      <td>Grant-White</td>\n",
       "      <td>8.0</td>\n",
       "      <td>4.333333</td>\n",
       "      <td>6.75</td>\n",
       "      <td>0.500</td>\n",
       "      <td>3.666667</td>\n",
       "      <td>4.50</td>\n",
       "      <td>2.000000</td>\n",
       "      <td>5.086957</td>\n",
       "      <td>6.20</td>\n",
       "      <td>4.388889</td>\n",
       "    </tr>\n",
       "    <tr>\n",
       "      <th>301</th>\n",
       "      <td>351</td>\n",
       "      <td>1</td>\n",
       "      <td>13</td>\n",
       "      <td>5</td>\n",
       "      <td>Grant-White</td>\n",
       "      <td>NaN</td>\n",
       "      <td>4.333333</td>\n",
       "      <td>6.00</td>\n",
       "      <td>3.375</td>\n",
       "      <td>3.666667</td>\n",
       "      <td>5.75</td>\n",
       "      <td>3.142857</td>\n",
       "      <td>4.086957</td>\n",
       "      <td>6.95</td>\n",
       "      <td>5.166667</td>\n",
       "    </tr>\n",
       "  </tbody>\n",
       "</table>\n",
       "<p>301 rows × 15 columns</p>\n",
       "</div>"
      ],
      "text/plain": [
       "      id  sex  ageyr  agemo       school  grade        x1    x2     x3  \\\n",
       "1      1    1     13      1      Pasteur    7.0  3.333333  7.75  0.375   \n",
       "2      2    2     13      7      Pasteur    7.0  5.333333  5.25  2.125   \n",
       "3      3    2     13      1      Pasteur    7.0  4.500000  5.25  1.875   \n",
       "4      4    1     13      2      Pasteur    7.0  5.333333  7.75  3.000   \n",
       "5      5    2     12      2      Pasteur    7.0  4.833333  4.75  0.875   \n",
       "..   ...  ...    ...    ...          ...    ...       ...   ...    ...   \n",
       "297  346    1     13      5  Grant-White    8.0  4.000000  7.00  1.375   \n",
       "298  347    2     14     10  Grant-White    8.0  3.000000  6.00  1.625   \n",
       "299  348    2     14      3  Grant-White    8.0  4.666667  5.50  1.875   \n",
       "300  349    1     14      2  Grant-White    8.0  4.333333  6.75  0.500   \n",
       "301  351    1     13      5  Grant-White    NaN  4.333333  6.00  3.375   \n",
       "\n",
       "           x4    x5        x6        x7    x8        x9  \n",
       "1    2.333333  5.75  1.285714  3.391304  5.75  6.361111  \n",
       "2    1.666667  3.00  1.285714  3.782609  6.25  7.916667  \n",
       "3    1.000000  1.75  0.428571  3.260870  3.90  4.416667  \n",
       "4    2.666667  4.50  2.428571  3.000000  5.30  4.861111  \n",
       "5    2.666667  4.00  2.571429  3.695652  6.30  5.916667  \n",
       "..        ...   ...       ...       ...   ...       ...  \n",
       "297  2.666667  4.25  1.000000  5.086957  5.60  5.250000  \n",
       "298  2.333333  4.00  1.000000  4.608696  6.05  6.083333  \n",
       "299  3.666667  5.75  4.285714  4.000000  6.00  7.611111  \n",
       "300  3.666667  4.50  2.000000  5.086957  6.20  4.388889  \n",
       "301  3.666667  5.75  3.142857  4.086957  6.95  5.166667  \n",
       "\n",
       "[301 rows x 15 columns]"
      ]
     },
     "execution_count": 2,
     "metadata": {},
     "output_type": "execute_result"
    }
   ],
   "source": [
    "import pandas as pd\n",
    "from semopy.examples import holzinger39\n",
    "\n",
    "df = holzinger39.get_data()\n",
    "df"
   ]
  },
  {
   "cell_type": "code",
   "execution_count": 7,
   "metadata": {
    "hideCode": true,
    "hidePrompt": true,
    "slideshow": {
     "slide_type": "subslide"
    }
   },
   "outputs": [
    {
     "ename": "AttributeError",
     "evalue": "'NoneType' object has no attribute 'split'",
     "output_type": "error",
     "traceback": [
      "\u001b[0;31m---------------------------------------------------------------------------\u001b[0m",
      "\u001b[0;31mAttributeError\u001b[0m                            Traceback (most recent call last)",
      "\u001b[0;32m/tmp/ipykernel_539/2516398292.py\u001b[0m in \u001b[0;36m<module>\u001b[0;34m\u001b[0m\n\u001b[1;32m     10\u001b[0m \u001b[0mmeasure_model\u001b[0m \u001b[0;34m=\u001b[0m \u001b[0msemopy\u001b[0m\u001b[0;34m.\u001b[0m\u001b[0mModel\u001b[0m\u001b[0;34m(\u001b[0m\u001b[0mmeasure_desc\u001b[0m\u001b[0;34m)\u001b[0m\u001b[0;34m\u001b[0m\u001b[0;34m\u001b[0m\u001b[0m\n\u001b[1;32m     11\u001b[0m \u001b[0mres\u001b[0m \u001b[0;34m=\u001b[0m \u001b[0mmeasure_model\u001b[0m\u001b[0;34m.\u001b[0m\u001b[0mfit\u001b[0m\u001b[0;34m(\u001b[0m\u001b[0mdf\u001b[0m\u001b[0;34m)\u001b[0m\u001b[0;34m\u001b[0m\u001b[0;34m\u001b[0m\u001b[0m\n\u001b[0;32m---> 12\u001b[0;31m \u001b[0mg\u001b[0m \u001b[0;34m=\u001b[0m \u001b[0msemopy\u001b[0m\u001b[0;34m.\u001b[0m\u001b[0msemplot\u001b[0m\u001b[0;34m(\u001b[0m\u001b[0mmeasure_model\u001b[0m\u001b[0;34m,\u001b[0m \u001b[0mfilename\u001b[0m\u001b[0;34m=\u001b[0m\u001b[0;32mNone\u001b[0m\u001b[0;34m,\u001b[0m \u001b[0mstd_ests\u001b[0m\u001b[0;34m=\u001b[0m\u001b[0;32mTrue\u001b[0m\u001b[0;34m)\u001b[0m\u001b[0;34m\u001b[0m\u001b[0;34m\u001b[0m\u001b[0m\n\u001b[0m\u001b[1;32m     13\u001b[0m \u001b[0mg\u001b[0m\u001b[0;34m\u001b[0m\u001b[0;34m\u001b[0m\u001b[0m\n",
      "\u001b[0;32m~/.virtualenvs/stats/lib/python3.7/site-packages/semopy/plot.py\u001b[0m in \u001b[0;36msemplot\u001b[0;34m(mod, filename, inspection, plot_covs, plot_exos, images, engine, latshape, plot_ests, std_ests, show)\u001b[0m\n\u001b[1;32m     69\u001b[0m     \u001b[0;32mif\u001b[0m \u001b[0mstd_ests\u001b[0m\u001b[0;34m:\u001b[0m\u001b[0;34m\u001b[0m\u001b[0;34m\u001b[0m\u001b[0m\n\u001b[1;32m     70\u001b[0m         \u001b[0minspection\u001b[0m\u001b[0;34m[\u001b[0m\u001b[0;34m'Estimate'\u001b[0m\u001b[0;34m]\u001b[0m \u001b[0;34m=\u001b[0m \u001b[0minspection\u001b[0m\u001b[0;34m[\u001b[0m\u001b[0;34m'Est. Std'\u001b[0m\u001b[0;34m]\u001b[0m\u001b[0;34m\u001b[0m\u001b[0;34m\u001b[0m\u001b[0m\n\u001b[0;32m---> 71\u001b[0;31m     \u001b[0mt\u001b[0m \u001b[0;34m=\u001b[0m \u001b[0mfilename\u001b[0m\u001b[0;34m.\u001b[0m\u001b[0msplit\u001b[0m\u001b[0;34m(\u001b[0m\u001b[0;34m'.'\u001b[0m\u001b[0;34m)\u001b[0m\u001b[0;34m\u001b[0m\u001b[0;34m\u001b[0m\u001b[0m\n\u001b[0m\u001b[1;32m     72\u001b[0m     \u001b[0mfilename\u001b[0m\u001b[0;34m,\u001b[0m \u001b[0mext\u001b[0m \u001b[0;34m=\u001b[0m \u001b[0;34m'.'\u001b[0m\u001b[0;34m.\u001b[0m\u001b[0mjoin\u001b[0m\u001b[0;34m(\u001b[0m\u001b[0mt\u001b[0m\u001b[0;34m[\u001b[0m\u001b[0;34m:\u001b[0m\u001b[0;34m-\u001b[0m\u001b[0;36m1\u001b[0m\u001b[0;34m]\u001b[0m\u001b[0;34m)\u001b[0m\u001b[0;34m,\u001b[0m \u001b[0mt\u001b[0m\u001b[0;34m[\u001b[0m\u001b[0;34m-\u001b[0m\u001b[0;36m1\u001b[0m\u001b[0;34m]\u001b[0m\u001b[0;34m\u001b[0m\u001b[0;34m\u001b[0m\u001b[0m\n\u001b[1;32m     73\u001b[0m     \u001b[0mg\u001b[0m \u001b[0;34m=\u001b[0m \u001b[0mgraphviz\u001b[0m\u001b[0;34m.\u001b[0m\u001b[0mDigraph\u001b[0m\u001b[0;34m(\u001b[0m\u001b[0;34m'G'\u001b[0m\u001b[0;34m,\u001b[0m \u001b[0mformat\u001b[0m\u001b[0;34m=\u001b[0m\u001b[0mext\u001b[0m\u001b[0;34m,\u001b[0m \u001b[0mengine\u001b[0m\u001b[0;34m=\u001b[0m\u001b[0mengine\u001b[0m\u001b[0;34m)\u001b[0m\u001b[0;34m\u001b[0m\u001b[0;34m\u001b[0m\u001b[0m\n",
      "\u001b[0;31mAttributeError\u001b[0m: 'NoneType' object has no attribute 'split'"
     ]
    }
   ],
   "source": [
    "import semopy\n",
    "\n",
    "measure_desc = \"\"\"\n",
    "# Measurement\n",
    "visual =~ x1 + x2 + x3\n",
    "textual =~ x4 + x5 + x6\n",
    "speed =~ x7 + x8 + x9\n",
    "\"\"\"\n",
    "\n",
    "measure_model = semopy.Model(measure_desc)\n",
    "res = measure_model.fit(df)\n",
    "g = semopy.semplot(measure_model, filename=None, std_ests=True)\n",
    "g"
   ]
  },
  {
   "cell_type": "code",
   "execution_count": 4,
   "metadata": {
    "hideCode": true,
    "hidePrompt": true,
    "slideshow": {
     "slide_type": "subslide"
    }
   },
   "outputs": [
    {
     "data": {
      "text/html": [
       "<div>\n",
       "<style scoped>\n",
       "    .dataframe tbody tr th:only-of-type {\n",
       "        vertical-align: middle;\n",
       "    }\n",
       "\n",
       "    .dataframe tbody tr th {\n",
       "        vertical-align: top;\n",
       "    }\n",
       "\n",
       "    .dataframe thead th {\n",
       "        text-align: right;\n",
       "    }\n",
       "</style>\n",
       "<table border=\"1\" class=\"dataframe\">\n",
       "  <thead>\n",
       "    <tr style=\"text-align: right;\">\n",
       "      <th></th>\n",
       "      <th>lval</th>\n",
       "      <th>op</th>\n",
       "      <th>rval</th>\n",
       "      <th>Estimate</th>\n",
       "      <th>Est. Std</th>\n",
       "      <th>Std. Err</th>\n",
       "      <th>z-value</th>\n",
       "      <th>p-value</th>\n",
       "    </tr>\n",
       "  </thead>\n",
       "  <tbody>\n",
       "    <tr>\n",
       "      <th>0</th>\n",
       "      <td>x1</td>\n",
       "      <td>~</td>\n",
       "      <td>visual</td>\n",
       "      <td>1.000000</td>\n",
       "      <td>0.771372</td>\n",
       "      <td>-</td>\n",
       "      <td>-</td>\n",
       "      <td>-</td>\n",
       "    </tr>\n",
       "    <tr>\n",
       "      <th>1</th>\n",
       "      <td>x2</td>\n",
       "      <td>~</td>\n",
       "      <td>visual</td>\n",
       "      <td>0.554421</td>\n",
       "      <td>0.424031</td>\n",
       "      <td>0.099727</td>\n",
       "      <td>5.559413</td>\n",
       "      <td>0.0</td>\n",
       "    </tr>\n",
       "    <tr>\n",
       "      <th>2</th>\n",
       "      <td>x3</td>\n",
       "      <td>~</td>\n",
       "      <td>visual</td>\n",
       "      <td>0.730526</td>\n",
       "      <td>0.581638</td>\n",
       "      <td>0.10918</td>\n",
       "      <td>6.691009</td>\n",
       "      <td>0.0</td>\n",
       "    </tr>\n",
       "    <tr>\n",
       "      <th>3</th>\n",
       "      <td>x4</td>\n",
       "      <td>~</td>\n",
       "      <td>textual</td>\n",
       "      <td>1.000000</td>\n",
       "      <td>0.851665</td>\n",
       "      <td>-</td>\n",
       "      <td>-</td>\n",
       "      <td>-</td>\n",
       "    </tr>\n",
       "    <tr>\n",
       "      <th>4</th>\n",
       "      <td>x5</td>\n",
       "      <td>~</td>\n",
       "      <td>textual</td>\n",
       "      <td>1.113076</td>\n",
       "      <td>0.855141</td>\n",
       "      <td>0.065392</td>\n",
       "      <td>17.021522</td>\n",
       "      <td>0.0</td>\n",
       "    </tr>\n",
       "    <tr>\n",
       "      <th>5</th>\n",
       "      <td>x6</td>\n",
       "      <td>~</td>\n",
       "      <td>textual</td>\n",
       "      <td>0.926120</td>\n",
       "      <td>0.838083</td>\n",
       "      <td>0.055425</td>\n",
       "      <td>16.709493</td>\n",
       "      <td>0.0</td>\n",
       "    </tr>\n",
       "    <tr>\n",
       "      <th>6</th>\n",
       "      <td>x7</td>\n",
       "      <td>~</td>\n",
       "      <td>speed</td>\n",
       "      <td>1.000000</td>\n",
       "      <td>0.569252</td>\n",
       "      <td>-</td>\n",
       "      <td>-</td>\n",
       "      <td>-</td>\n",
       "    </tr>\n",
       "    <tr>\n",
       "      <th>7</th>\n",
       "      <td>x8</td>\n",
       "      <td>~</td>\n",
       "      <td>speed</td>\n",
       "      <td>1.179980</td>\n",
       "      <td>0.722802</td>\n",
       "      <td>0.165045</td>\n",
       "      <td>7.149459</td>\n",
       "      <td>0.0</td>\n",
       "    </tr>\n",
       "    <tr>\n",
       "      <th>8</th>\n",
       "      <td>x9</td>\n",
       "      <td>~</td>\n",
       "      <td>speed</td>\n",
       "      <td>1.082517</td>\n",
       "      <td>0.665275</td>\n",
       "      <td>0.151354</td>\n",
       "      <td>7.152197</td>\n",
       "      <td>0.0</td>\n",
       "    </tr>\n",
       "    <tr>\n",
       "      <th>9</th>\n",
       "      <td>textual</td>\n",
       "      <td>~~</td>\n",
       "      <td>textual</td>\n",
       "      <td>0.980034</td>\n",
       "      <td>1.000000</td>\n",
       "      <td>0.112145</td>\n",
       "      <td>8.739002</td>\n",
       "      <td>0.0</td>\n",
       "    </tr>\n",
       "    <tr>\n",
       "      <th>10</th>\n",
       "      <td>textual</td>\n",
       "      <td>~~</td>\n",
       "      <td>speed</td>\n",
       "      <td>0.173603</td>\n",
       "      <td>0.283220</td>\n",
       "      <td>0.049316</td>\n",
       "      <td>3.520223</td>\n",
       "      <td>0.000431</td>\n",
       "    </tr>\n",
       "    <tr>\n",
       "      <th>11</th>\n",
       "      <td>textual</td>\n",
       "      <td>~~</td>\n",
       "      <td>visual</td>\n",
       "      <td>0.408277</td>\n",
       "      <td>0.458718</td>\n",
       "      <td>0.073527</td>\n",
       "      <td>5.55273</td>\n",
       "      <td>0.0</td>\n",
       "    </tr>\n",
       "    <tr>\n",
       "      <th>12</th>\n",
       "      <td>speed</td>\n",
       "      <td>~~</td>\n",
       "      <td>speed</td>\n",
       "      <td>0.383377</td>\n",
       "      <td>1.000000</td>\n",
       "      <td>0.086171</td>\n",
       "      <td>4.449045</td>\n",
       "      <td>0.000009</td>\n",
       "    </tr>\n",
       "    <tr>\n",
       "      <th>13</th>\n",
       "      <td>speed</td>\n",
       "      <td>~~</td>\n",
       "      <td>visual</td>\n",
       "      <td>0.262135</td>\n",
       "      <td>0.470895</td>\n",
       "      <td>0.056252</td>\n",
       "      <td>4.659977</td>\n",
       "      <td>0.000003</td>\n",
       "    </tr>\n",
       "    <tr>\n",
       "      <th>14</th>\n",
       "      <td>visual</td>\n",
       "      <td>~~</td>\n",
       "      <td>visual</td>\n",
       "      <td>0.808310</td>\n",
       "      <td>1.000000</td>\n",
       "      <td>0.145287</td>\n",
       "      <td>5.563548</td>\n",
       "      <td>0.0</td>\n",
       "    </tr>\n",
       "    <tr>\n",
       "      <th>15</th>\n",
       "      <td>x4</td>\n",
       "      <td>~~</td>\n",
       "      <td>x4</td>\n",
       "      <td>0.371117</td>\n",
       "      <td>0.274667</td>\n",
       "      <td>0.047712</td>\n",
       "      <td>7.778264</td>\n",
       "      <td>0.0</td>\n",
       "    </tr>\n",
       "    <tr>\n",
       "      <th>16</th>\n",
       "      <td>x7</td>\n",
       "      <td>~~</td>\n",
       "      <td>x7</td>\n",
       "      <td>0.799708</td>\n",
       "      <td>0.675952</td>\n",
       "      <td>0.081387</td>\n",
       "      <td>9.825966</td>\n",
       "      <td>0.0</td>\n",
       "    </tr>\n",
       "    <tr>\n",
       "      <th>17</th>\n",
       "      <td>x3</td>\n",
       "      <td>~~</td>\n",
       "      <td>x3</td>\n",
       "      <td>0.843731</td>\n",
       "      <td>0.661698</td>\n",
       "      <td>0.090625</td>\n",
       "      <td>9.31016</td>\n",
       "      <td>0.0</td>\n",
       "    </tr>\n",
       "    <tr>\n",
       "      <th>18</th>\n",
       "      <td>x5</td>\n",
       "      <td>~~</td>\n",
       "      <td>x5</td>\n",
       "      <td>0.446208</td>\n",
       "      <td>0.268734</td>\n",
       "      <td>0.058387</td>\n",
       "      <td>7.642264</td>\n",
       "      <td>0.0</td>\n",
       "    </tr>\n",
       "    <tr>\n",
       "      <th>19</th>\n",
       "      <td>x1</td>\n",
       "      <td>~~</td>\n",
       "      <td>x1</td>\n",
       "      <td>0.550161</td>\n",
       "      <td>0.404985</td>\n",
       "      <td>0.113439</td>\n",
       "      <td>4.84983</td>\n",
       "      <td>0.000001</td>\n",
       "    </tr>\n",
       "    <tr>\n",
       "      <th>20</th>\n",
       "      <td>x2</td>\n",
       "      <td>~~</td>\n",
       "      <td>x2</td>\n",
       "      <td>1.133391</td>\n",
       "      <td>0.820197</td>\n",
       "      <td>0.101711</td>\n",
       "      <td>11.143202</td>\n",
       "      <td>0.0</td>\n",
       "    </tr>\n",
       "    <tr>\n",
       "      <th>21</th>\n",
       "      <td>x6</td>\n",
       "      <td>~~</td>\n",
       "      <td>x6</td>\n",
       "      <td>0.356171</td>\n",
       "      <td>0.297617</td>\n",
       "      <td>0.04303</td>\n",
       "      <td>8.277334</td>\n",
       "      <td>0.0</td>\n",
       "    </tr>\n",
       "    <tr>\n",
       "      <th>22</th>\n",
       "      <td>x9</td>\n",
       "      <td>~~</td>\n",
       "      <td>x9</td>\n",
       "      <td>0.565804</td>\n",
       "      <td>0.557409</td>\n",
       "      <td>0.070757</td>\n",
       "      <td>7.996483</td>\n",
       "      <td>0.0</td>\n",
       "    </tr>\n",
       "    <tr>\n",
       "      <th>23</th>\n",
       "      <td>x8</td>\n",
       "      <td>~~</td>\n",
       "      <td>x8</td>\n",
       "      <td>0.487934</td>\n",
       "      <td>0.477557</td>\n",
       "      <td>0.074167</td>\n",
       "      <td>6.578856</td>\n",
       "      <td>0.0</td>\n",
       "    </tr>\n",
       "  </tbody>\n",
       "</table>\n",
       "</div>"
      ],
      "text/plain": [
       "       lval  op     rval  Estimate  Est. Std  Std. Err    z-value   p-value\n",
       "0        x1   ~   visual  1.000000  0.771372         -          -         -\n",
       "1        x2   ~   visual  0.554421  0.424031  0.099727   5.559413       0.0\n",
       "2        x3   ~   visual  0.730526  0.581638   0.10918   6.691009       0.0\n",
       "3        x4   ~  textual  1.000000  0.851665         -          -         -\n",
       "4        x5   ~  textual  1.113076  0.855141  0.065392  17.021522       0.0\n",
       "5        x6   ~  textual  0.926120  0.838083  0.055425  16.709493       0.0\n",
       "6        x7   ~    speed  1.000000  0.569252         -          -         -\n",
       "7        x8   ~    speed  1.179980  0.722802  0.165045   7.149459       0.0\n",
       "8        x9   ~    speed  1.082517  0.665275  0.151354   7.152197       0.0\n",
       "9   textual  ~~  textual  0.980034  1.000000  0.112145   8.739002       0.0\n",
       "10  textual  ~~    speed  0.173603  0.283220  0.049316   3.520223  0.000431\n",
       "11  textual  ~~   visual  0.408277  0.458718  0.073527    5.55273       0.0\n",
       "12    speed  ~~    speed  0.383377  1.000000  0.086171   4.449045  0.000009\n",
       "13    speed  ~~   visual  0.262135  0.470895  0.056252   4.659977  0.000003\n",
       "14   visual  ~~   visual  0.808310  1.000000  0.145287   5.563548       0.0\n",
       "15       x4  ~~       x4  0.371117  0.274667  0.047712   7.778264       0.0\n",
       "16       x7  ~~       x7  0.799708  0.675952  0.081387   9.825966       0.0\n",
       "17       x3  ~~       x3  0.843731  0.661698  0.090625    9.31016       0.0\n",
       "18       x5  ~~       x5  0.446208  0.268734  0.058387   7.642264       0.0\n",
       "19       x1  ~~       x1  0.550161  0.404985  0.113439    4.84983  0.000001\n",
       "20       x2  ~~       x2  1.133391  0.820197  0.101711  11.143202       0.0\n",
       "21       x6  ~~       x6  0.356171  0.297617   0.04303   8.277334       0.0\n",
       "22       x9  ~~       x9  0.565804  0.557409  0.070757   7.996483       0.0\n",
       "23       x8  ~~       x8  0.487934  0.477557  0.074167   6.578856       0.0"
      ]
     },
     "execution_count": 4,
     "metadata": {},
     "output_type": "execute_result"
    }
   ],
   "source": [
    "estimates = measure_model.inspect(std_est=True)\n",
    "estimates"
   ]
  },
  {
   "cell_type": "markdown",
   "metadata": {
    "slideshow": {
     "slide_type": "fragment"
    }
   },
   "source": [
    "En general, apreciamos que no hay problemas de estimación ni de identificación en el modelo evaluado. "
   ]
  },
  {
   "cell_type": "code",
   "execution_count": 14,
   "metadata": {
    "hideCode": true,
    "hidePrompt": true,
    "slideshow": {
     "slide_type": "subslide"
    }
   },
   "outputs": [
    {
     "name": "stdout",
     "output_type": "stream",
     "text": [
      "                 Value\n",
      "DoF             24.000\n",
      "DoF Baseline    36.000\n",
      "chi2            85.306\n",
      "chi2 p-value     0.000\n",
      "chi2 Baseline  918.852\n",
      "CFI              0.931\n",
      "GFI              0.907\n",
      "AGFI             0.861\n",
      "NFI              0.907\n",
      "TLI              0.896\n",
      "RMSEA            0.092\n",
      "AIC             41.433\n",
      "BIC            119.283\n",
      "LogLik           0.283\n"
     ]
    }
   ],
   "source": [
    "stats = semopy.calc_stats(measure_model).round(3)\n",
    "print(stats.T)"
   ]
  },
  {
   "cell_type": "markdown",
   "metadata": {
    "slideshow": {
     "slide_type": "fragment"
    }
   },
   "source": [
    "En términos generales, el modelo evaluado presenta un relativo buen ajuste a los datos. Idealmente $X^{2}$ debería ser no significativo, CFI superior a .96 y RMSEA menor a 0.07. Métricas que no se cumplen pero la distancia a los puntos de corte sugeridos no es demasiada.   "
   ]
  },
  {
   "cell_type": "markdown",
   "metadata": {
    "slideshow": {
     "slide_type": "slide"
    }
   },
   "source": [
    "## Evaluación de la validez del modelo de medición\n",
    "\n",
    "Una vez que el modelo de medición se especifica correctamente, se estima un modelo SEM correspondiente para proporcionar una evaluación empírica de la precisión de la teoría de medición. \n",
    "\n",
    "Los resultados nos permiten comparar la teoría con la realidad representada por los datos de la muestra."
   ]
  },
  {
   "cell_type": "markdown",
   "metadata": {
    "slideshow": {
     "slide_type": "subslide"
    }
   },
   "source": [
    "Las estimaciones de carga pueden ser estadísticamente significativas pero aún ser demasiado bajas para calificar como un buen elemento.\n",
    "\n",
    "- En AFC, **los elementos con cargas bajas (por debajo de 0.5) se convierten en candidatos para eliminación**.\n",
    "- Las cargas estandarizadas por encima de 1 o por debajo de - 1 están fuera del rango posible y pueden ser un indicador importante de algún problema con los datos."
   ]
  },
  {
   "cell_type": "markdown",
   "metadata": {
    "slideshow": {
     "slide_type": "subslide"
    }
   },
   "source": [
    "Los patrones de residuos relativamente altos sugieren que falta algo en el modelo, como otro factor.\n",
    "\n",
    "- Normalmente, los **residuos estandarizados inferiores a |2.5| no sugieren un problema**.\n",
    "- Los residuos estandarizados superiores a |4| indican un grado de error potencialmente inaceptable que puede requerir la eliminación de un elemento infractor.\n",
    "- Los residuos estandarizados entre |2.5| y |4| merecen cierta atención, pero es posible que no sugieran ningún cambio en el modelo si no hay otros problemas asociados con esos dos elementos."
   ]
  },
  {
   "cell_type": "markdown",
   "metadata": {
    "slideshow": {
     "slide_type": "slide"
    }
   },
   "source": [
    "Evaluemos estos criterios en nuestro ejemplo:"
   ]
  },
  {
   "cell_type": "code",
   "execution_count": 5,
   "metadata": {
    "hideCode": true,
    "hidePrompt": true,
    "slideshow": {
     "slide_type": "fragment"
    }
   },
   "outputs": [
    {
     "data": {
      "image/svg+xml": [
       "<?xml version=\"1.0\" encoding=\"UTF-8\" standalone=\"no\"?>\n",
       "<!DOCTYPE svg PUBLIC \"-//W3C//DTD SVG 1.1//EN\"\n",
       " \"http://www.w3.org/Graphics/SVG/1.1/DTD/svg11.dtd\">\n",
       "<!-- Generated by graphviz version 7.0.1 (0)\n",
       " -->\n",
       "<!-- Title: G Pages: 1 -->\n",
       "<svg width=\"740pt\" height=\"193pt\"\n",
       " viewBox=\"0.00 0.00 740.00 193.09\" xmlns=\"http://www.w3.org/2000/svg\" xmlns:xlink=\"http://www.w3.org/1999/xlink\">\n",
       "<g id=\"graph0\" class=\"graph\" transform=\"scale(1 1) rotate(0) translate(4 189.09)\">\n",
       "<title>G</title>\n",
       "<polygon fill=\"white\" stroke=\"none\" points=\"-4,4 -4,-189.09 736,-189.09 736,4 -4,4\"/>\n",
       "<!-- speed -->\n",
       "<g id=\"node1\" class=\"node\">\n",
       "<title>speed</title>\n",
       "<ellipse fill=\"#cae6df\" stroke=\"black\" cx=\"99\" cy=\"-141.55\" rx=\"38.19\" ry=\"38.19\"/>\n",
       "<text text-anchor=\"middle\" x=\"99\" y=\"-137.85\" font-family=\"Times,serif\" font-size=\"14.00\">speed</text>\n",
       "</g>\n",
       "<!-- x7 -->\n",
       "<g id=\"node10\" class=\"node\">\n",
       "<title>x7</title>\n",
       "<polygon fill=\"none\" stroke=\"black\" points=\"54,-36 0,-36 0,0 54,0 54,-36\"/>\n",
       "<text text-anchor=\"middle\" x=\"27\" y=\"-14.3\" font-family=\"Times,serif\" font-size=\"14.00\">x7</text>\n",
       "</g>\n",
       "<!-- speed&#45;&gt;x7 -->\n",
       "<g id=\"edge7\" class=\"edge\">\n",
       "<title>speed&#45;&gt;x7</title>\n",
       "<path fill=\"none\" stroke=\"black\" d=\"M78.77,-109C72.93,-99.72 66.63,-89.5 61,-80 54.56,-69.12 47.73,-56.99 41.89,-46.43\"/>\n",
       "<polygon fill=\"black\" stroke=\"black\" points=\"45.04,-44.9 37.16,-37.82 38.91,-48.27 45.04,-44.9\"/>\n",
       "<text text-anchor=\"middle\" x=\"78\" y=\"-63.9\" font-family=\"Times,serif\" font-size=\"12.00\">0.569</text>\n",
       "</g>\n",
       "<!-- x8 -->\n",
       "<g id=\"node11\" class=\"node\">\n",
       "<title>x8</title>\n",
       "<polygon fill=\"none\" stroke=\"black\" points=\"126,-36 72,-36 72,0 126,0 126,-36\"/>\n",
       "<text text-anchor=\"middle\" x=\"99\" y=\"-14.3\" font-family=\"Times,serif\" font-size=\"14.00\">x8</text>\n",
       "</g>\n",
       "<!-- speed&#45;&gt;x8 -->\n",
       "<g id=\"edge8\" class=\"edge\">\n",
       "<title>speed&#45;&gt;x8</title>\n",
       "<path fill=\"none\" stroke=\"black\" d=\"M99,-103.09C99,-85.13 99,-63.96 99,-47.36\"/>\n",
       "<polygon fill=\"black\" stroke=\"black\" points=\"102.5,-47.7 99,-37.7 95.5,-47.7 102.5,-47.7\"/>\n",
       "<text text-anchor=\"middle\" x=\"131\" y=\"-70.4\" font-family=\"Times,serif\" font-size=\"12.00\">0.723</text>\n",
       "<text text-anchor=\"middle\" x=\"131\" y=\"-57.4\" font-family=\"Times,serif\" font-size=\"12.00\">p&#45;val: 0.00</text>\n",
       "</g>\n",
       "<!-- x9 -->\n",
       "<g id=\"node12\" class=\"node\">\n",
       "<title>x9</title>\n",
       "<polygon fill=\"none\" stroke=\"black\" points=\"213,-36 159,-36 159,0 213,0 213,-36\"/>\n",
       "<text text-anchor=\"middle\" x=\"186\" y=\"-14.3\" font-family=\"Times,serif\" font-size=\"14.00\">x9</text>\n",
       "</g>\n",
       "<!-- speed&#45;&gt;x9 -->\n",
       "<g id=\"edge9\" class=\"edge\">\n",
       "<title>speed&#45;&gt;x9</title>\n",
       "<path fill=\"none\" stroke=\"black\" d=\"M129.19,-117.74C141.34,-107.33 154.65,-94.16 164,-80 170.51,-70.13 175.39,-58.1 178.87,-47.33\"/>\n",
       "<polygon fill=\"black\" stroke=\"black\" points=\"182.22,-48.34 181.68,-37.76 175.5,-46.37 182.22,-48.34\"/>\n",
       "<text text-anchor=\"middle\" x=\"209\" y=\"-70.4\" font-family=\"Times,serif\" font-size=\"12.00\">0.665</text>\n",
       "<text text-anchor=\"middle\" x=\"209\" y=\"-57.4\" font-family=\"Times,serif\" font-size=\"12.00\">p&#45;val: 0.00</text>\n",
       "</g>\n",
       "<!-- textual -->\n",
       "<g id=\"node2\" class=\"node\">\n",
       "<title>textual</title>\n",
       "<ellipse fill=\"#cae6df\" stroke=\"black\" cx=\"345\" cy=\"-141.55\" rx=\"43.59\" ry=\"43.59\"/>\n",
       "<text text-anchor=\"middle\" x=\"345\" y=\"-137.85\" font-family=\"Times,serif\" font-size=\"14.00\">textual</text>\n",
       "</g>\n",
       "<!-- x4 -->\n",
       "<g id=\"node7\" class=\"node\">\n",
       "<title>x4</title>\n",
       "<polygon fill=\"none\" stroke=\"black\" points=\"300,-36 246,-36 246,0 300,0 300,-36\"/>\n",
       "<text text-anchor=\"middle\" x=\"273\" y=\"-14.3\" font-family=\"Times,serif\" font-size=\"14.00\">x4</text>\n",
       "</g>\n",
       "<!-- textual&#45;&gt;x4 -->\n",
       "<g id=\"edge4\" class=\"edge\">\n",
       "<title>textual&#45;&gt;x4</title>\n",
       "<path fill=\"none\" stroke=\"black\" d=\"M321.78,-104.24C316.83,-96.3 311.68,-87.9 307,-80 300.56,-69.12 293.73,-56.99 287.89,-46.43\"/>\n",
       "<polygon fill=\"black\" stroke=\"black\" points=\"291.04,-44.9 283.16,-37.82 284.91,-48.27 291.04,-44.9\"/>\n",
       "<text text-anchor=\"middle\" x=\"324\" y=\"-63.9\" font-family=\"Times,serif\" font-size=\"12.00\">0.852</text>\n",
       "</g>\n",
       "<!-- x5 -->\n",
       "<g id=\"node8\" class=\"node\">\n",
       "<title>x5</title>\n",
       "<polygon fill=\"none\" stroke=\"black\" points=\"372,-36 318,-36 318,0 372,0 372,-36\"/>\n",
       "<text text-anchor=\"middle\" x=\"345\" y=\"-14.3\" font-family=\"Times,serif\" font-size=\"14.00\">x5</text>\n",
       "</g>\n",
       "<!-- textual&#45;&gt;x5 -->\n",
       "<g id=\"edge5\" class=\"edge\">\n",
       "<title>textual&#45;&gt;x5</title>\n",
       "<path fill=\"none\" stroke=\"black\" d=\"M345,-97.69C345,-81.08 345,-62.51 345,-47.58\"/>\n",
       "<polygon fill=\"black\" stroke=\"black\" points=\"348.5,-48.01 345,-38.01 341.5,-48.01 348.5,-48.01\"/>\n",
       "<text text-anchor=\"middle\" x=\"377\" y=\"-70.4\" font-family=\"Times,serif\" font-size=\"12.00\">0.855</text>\n",
       "<text text-anchor=\"middle\" x=\"377\" y=\"-57.4\" font-family=\"Times,serif\" font-size=\"12.00\">p&#45;val: 0.00</text>\n",
       "</g>\n",
       "<!-- x6 -->\n",
       "<g id=\"node9\" class=\"node\">\n",
       "<title>x6</title>\n",
       "<polygon fill=\"none\" stroke=\"black\" points=\"459,-36 405,-36 405,0 459,0 459,-36\"/>\n",
       "<text text-anchor=\"middle\" x=\"432\" y=\"-14.3\" font-family=\"Times,serif\" font-size=\"14.00\">x6</text>\n",
       "</g>\n",
       "<!-- textual&#45;&gt;x6 -->\n",
       "<g id=\"edge6\" class=\"edge\">\n",
       "<title>textual&#45;&gt;x6</title>\n",
       "<path fill=\"none\" stroke=\"black\" d=\"M379.2,-114.24C390.2,-104.44 401.67,-92.61 410,-80 416.51,-70.13 421.39,-58.1 424.87,-47.33\"/>\n",
       "<polygon fill=\"black\" stroke=\"black\" points=\"428.22,-48.34 427.68,-37.76 421.5,-46.37 428.22,-48.34\"/>\n",
       "<text text-anchor=\"middle\" x=\"455\" y=\"-70.4\" font-family=\"Times,serif\" font-size=\"12.00\">0.838</text>\n",
       "<text text-anchor=\"middle\" x=\"455\" y=\"-57.4\" font-family=\"Times,serif\" font-size=\"12.00\">p&#45;val: 0.00</text>\n",
       "</g>\n",
       "<!-- visual -->\n",
       "<g id=\"node3\" class=\"node\">\n",
       "<title>visual</title>\n",
       "<ellipse fill=\"#cae6df\" stroke=\"black\" cx=\"591\" cy=\"-141.55\" rx=\"38.19\" ry=\"38.19\"/>\n",
       "<text text-anchor=\"middle\" x=\"591\" y=\"-137.85\" font-family=\"Times,serif\" font-size=\"14.00\">visual</text>\n",
       "</g>\n",
       "<!-- x1 -->\n",
       "<g id=\"node4\" class=\"node\">\n",
       "<title>x1</title>\n",
       "<polygon fill=\"none\" stroke=\"black\" points=\"546,-36 492,-36 492,0 546,0 546,-36\"/>\n",
       "<text text-anchor=\"middle\" x=\"519\" y=\"-14.3\" font-family=\"Times,serif\" font-size=\"14.00\">x1</text>\n",
       "</g>\n",
       "<!-- visual&#45;&gt;x1 -->\n",
       "<g id=\"edge1\" class=\"edge\">\n",
       "<title>visual&#45;&gt;x1</title>\n",
       "<path fill=\"none\" stroke=\"black\" d=\"M570.77,-109C564.93,-99.72 558.63,-89.5 553,-80 546.56,-69.12 539.73,-56.99 533.89,-46.43\"/>\n",
       "<polygon fill=\"black\" stroke=\"black\" points=\"537.04,-44.9 529.16,-37.82 530.91,-48.27 537.04,-44.9\"/>\n",
       "<text text-anchor=\"middle\" x=\"570\" y=\"-63.9\" font-family=\"Times,serif\" font-size=\"12.00\">0.771</text>\n",
       "</g>\n",
       "<!-- x2 -->\n",
       "<g id=\"node5\" class=\"node\">\n",
       "<title>x2</title>\n",
       "<polygon fill=\"none\" stroke=\"black\" points=\"618,-36 564,-36 564,0 618,0 618,-36\"/>\n",
       "<text text-anchor=\"middle\" x=\"591\" y=\"-14.3\" font-family=\"Times,serif\" font-size=\"14.00\">x2</text>\n",
       "</g>\n",
       "<!-- visual&#45;&gt;x2 -->\n",
       "<g id=\"edge2\" class=\"edge\">\n",
       "<title>visual&#45;&gt;x2</title>\n",
       "<path fill=\"none\" stroke=\"black\" d=\"M591,-103.09C591,-85.13 591,-63.96 591,-47.36\"/>\n",
       "<polygon fill=\"black\" stroke=\"black\" points=\"594.5,-47.7 591,-37.7 587.5,-47.7 594.5,-47.7\"/>\n",
       "<text text-anchor=\"middle\" x=\"623\" y=\"-70.4\" font-family=\"Times,serif\" font-size=\"12.00\">0.424</text>\n",
       "<text text-anchor=\"middle\" x=\"623\" y=\"-57.4\" font-family=\"Times,serif\" font-size=\"12.00\">p&#45;val: 0.00</text>\n",
       "</g>\n",
       "<!-- x3 -->\n",
       "<g id=\"node6\" class=\"node\">\n",
       "<title>x3</title>\n",
       "<polygon fill=\"none\" stroke=\"black\" points=\"705,-36 651,-36 651,0 705,0 705,-36\"/>\n",
       "<text text-anchor=\"middle\" x=\"678\" y=\"-14.3\" font-family=\"Times,serif\" font-size=\"14.00\">x3</text>\n",
       "</g>\n",
       "<!-- visual&#45;&gt;x3 -->\n",
       "<g id=\"edge3\" class=\"edge\">\n",
       "<title>visual&#45;&gt;x3</title>\n",
       "<path fill=\"none\" stroke=\"black\" d=\"M621.19,-117.74C633.34,-107.33 646.65,-94.16 656,-80 662.51,-70.13 667.39,-58.1 670.87,-47.33\"/>\n",
       "<polygon fill=\"black\" stroke=\"black\" points=\"674.22,-48.34 673.68,-37.76 667.5,-46.37 674.22,-48.34\"/>\n",
       "<text text-anchor=\"middle\" x=\"700\" y=\"-70.4\" font-family=\"Times,serif\" font-size=\"12.00\">0.582</text>\n",
       "<text text-anchor=\"middle\" x=\"700\" y=\"-57.4\" font-family=\"Times,serif\" font-size=\"12.00\">p&#45;val: 0.00</text>\n",
       "</g>\n",
       "</g>\n",
       "</svg>\n"
      ],
      "text/plain": [
       "<graphviz.graphs.Digraph at 0x7f2a00bc7690>"
      ]
     },
     "execution_count": 5,
     "metadata": {},
     "output_type": "execute_result"
    }
   ],
   "source": [
    "g = semopy.semplot(measure_model, \"out.png\", std_ests=True)\n",
    "g"
   ]
  },
  {
   "cell_type": "markdown",
   "metadata": {
    "slideshow": {
     "slide_type": "fragment"
    }
   },
   "source": [
    "Podemos apreciar que la variable `x2` es candidata a ser eliminada por presentar una carga factorial menor a 0.5. "
   ]
  },
  {
   "cell_type": "code",
   "execution_count": 9,
   "metadata": {
    "hideCode": true,
    "hidePrompt": true,
    "slideshow": {
     "slide_type": "subslide"
    }
   },
   "outputs": [
    {
     "data": {
      "text/html": [
       "<div>\n",
       "<style scoped>\n",
       "    .dataframe tbody tr th:only-of-type {\n",
       "        vertical-align: middle;\n",
       "    }\n",
       "\n",
       "    .dataframe tbody tr th {\n",
       "        vertical-align: top;\n",
       "    }\n",
       "\n",
       "    .dataframe thead th {\n",
       "        text-align: right;\n",
       "    }\n",
       "</style>\n",
       "<table border=\"1\" class=\"dataframe\">\n",
       "  <thead>\n",
       "    <tr style=\"text-align: right;\">\n",
       "      <th></th>\n",
       "      <th>x1</th>\n",
       "      <th>x2</th>\n",
       "      <th>x3</th>\n",
       "      <th>x4</th>\n",
       "      <th>x5</th>\n",
       "      <th>x6</th>\n",
       "      <th>x7</th>\n",
       "      <th>x8</th>\n",
       "      <th>x9</th>\n",
       "    </tr>\n",
       "  </thead>\n",
       "  <tbody>\n",
       "    <tr>\n",
       "      <th>x1</th>\n",
       "      <td>-0.001162</td>\n",
       "      <td>-0.472395</td>\n",
       "      <td>-0.122718</td>\n",
       "      <td>1.118730</td>\n",
       "      <td>-0.160213</td>\n",
       "      <td>0.888591</td>\n",
       "      <td>-2.055027</td>\n",
       "      <td>-0.526897</td>\n",
       "      <td>2.022619</td>\n",
       "    </tr>\n",
       "    <tr>\n",
       "      <th>x2</th>\n",
       "      <td>-0.472395</td>\n",
       "      <td>-0.000782</td>\n",
       "      <td>1.433007</td>\n",
       "      <td>-0.201994</td>\n",
       "      <td>-0.473432</td>\n",
       "      <td>0.439234</td>\n",
       "      <td>-2.804817</td>\n",
       "      <td>-0.716381</td>\n",
       "      <td>1.004327</td>\n",
       "    </tr>\n",
       "    <tr>\n",
       "      <th>x3</th>\n",
       "      <td>-0.122718</td>\n",
       "      <td>1.433007</td>\n",
       "      <td>-0.002723</td>\n",
       "      <td>-1.043764</td>\n",
       "      <td>-2.545314</td>\n",
       "      <td>-0.372063</td>\n",
       "      <td>-1.195163</td>\n",
       "      <td>-0.158029</td>\n",
       "      <td>1.929717</td>\n",
       "    </tr>\n",
       "    <tr>\n",
       "      <th>x4</th>\n",
       "      <td>1.118730</td>\n",
       "      <td>-0.201994</td>\n",
       "      <td>-1.043764</td>\n",
       "      <td>-0.005639</td>\n",
       "      <td>0.079946</td>\n",
       "      <td>-0.140347</td>\n",
       "      <td>0.534581</td>\n",
       "      <td>-0.918251</td>\n",
       "      <td>0.642273</td>\n",
       "    </tr>\n",
       "    <tr>\n",
       "      <th>x5</th>\n",
       "      <td>-0.160213</td>\n",
       "      <td>-0.473432</td>\n",
       "      <td>-2.545314</td>\n",
       "      <td>0.079946</td>\n",
       "      <td>-0.007229</td>\n",
       "      <td>0.049400</td>\n",
       "      <td>-0.582012</td>\n",
       "      <td>-0.549251</td>\n",
       "      <td>0.997138</td>\n",
       "    </tr>\n",
       "    <tr>\n",
       "      <th>x6</th>\n",
       "      <td>0.888591</td>\n",
       "      <td>0.439234</td>\n",
       "      <td>-0.372063</td>\n",
       "      <td>-0.140347</td>\n",
       "      <td>0.049400</td>\n",
       "      <td>-0.004471</td>\n",
       "      <td>-0.193472</td>\n",
       "      <td>-0.281341</td>\n",
       "      <td>0.717796</td>\n",
       "    </tr>\n",
       "    <tr>\n",
       "      <th>x7</th>\n",
       "      <td>-2.055027</td>\n",
       "      <td>-2.804817</td>\n",
       "      <td>-1.195163</td>\n",
       "      <td>0.534581</td>\n",
       "      <td>-0.582012</td>\n",
       "      <td>-0.193472</td>\n",
       "      <td>0.000641</td>\n",
       "      <td>0.960126</td>\n",
       "      <td>-0.483307</td>\n",
       "    </tr>\n",
       "    <tr>\n",
       "      <th>x8</th>\n",
       "      <td>-0.526897</td>\n",
       "      <td>-0.716381</td>\n",
       "      <td>-0.158029</td>\n",
       "      <td>-0.918251</td>\n",
       "      <td>-0.549251</td>\n",
       "      <td>-0.281341</td>\n",
       "      <td>0.960126</td>\n",
       "      <td>0.002934</td>\n",
       "      <td>-0.375258</td>\n",
       "    </tr>\n",
       "    <tr>\n",
       "      <th>x9</th>\n",
       "      <td>2.022619</td>\n",
       "      <td>1.004327</td>\n",
       "      <td>1.929717</td>\n",
       "      <td>0.642273</td>\n",
       "      <td>0.997138</td>\n",
       "      <td>0.717796</td>\n",
       "      <td>-0.483307</td>\n",
       "      <td>-0.375258</td>\n",
       "      <td>-0.000666</td>\n",
       "    </tr>\n",
       "  </tbody>\n",
       "</table>\n",
       "</div>"
      ],
      "text/plain": [
       "          x1        x2        x3        x4        x5        x6        x7  \\\n",
       "x1 -0.001162 -0.472395 -0.122718  1.118730 -0.160213  0.888591 -2.055027   \n",
       "x2 -0.472395 -0.000782  1.433007 -0.201994 -0.473432  0.439234 -2.804817   \n",
       "x3 -0.122718  1.433007 -0.002723 -1.043764 -2.545314 -0.372063 -1.195163   \n",
       "x4  1.118730 -0.201994 -1.043764 -0.005639  0.079946 -0.140347  0.534581   \n",
       "x5 -0.160213 -0.473432 -2.545314  0.079946 -0.007229  0.049400 -0.582012   \n",
       "x6  0.888591  0.439234 -0.372063 -0.140347  0.049400 -0.004471 -0.193472   \n",
       "x7 -2.055027 -2.804817 -1.195163  0.534581 -0.582012 -0.193472  0.000641   \n",
       "x8 -0.526897 -0.716381 -0.158029 -0.918251 -0.549251 -0.281341  0.960126   \n",
       "x9  2.022619  1.004327  1.929717  0.642273  0.997138  0.717796 -0.483307   \n",
       "\n",
       "          x8        x9  \n",
       "x1 -0.526897  2.022619  \n",
       "x2 -0.716381  1.004327  \n",
       "x3 -0.158029  1.929717  \n",
       "x4 -0.918251  0.642273  \n",
       "x5 -0.549251  0.997138  \n",
       "x6 -0.281341  0.717796  \n",
       "x7  0.960126 -0.483307  \n",
       "x8  0.002934 -0.375258  \n",
       "x9 -0.375258 -0.000666  "
      ]
     },
     "execution_count": 9,
     "metadata": {},
     "output_type": "execute_result"
    }
   ],
   "source": [
    "import numpy as np\n",
    "\n",
    "cov_estimate, _ = measure_model.calc_sigma()\n",
    "cov = measure_model.mx_cov\n",
    "residual = cov - cov_estimate\n",
    "std_residual = residual / np.std(residual)\n",
    "\n",
    "std_res = pd.DataFrame(\n",
    "    std_residual,\n",
    "    columns=measure_model.names_lambda[0],\n",
    "    index=measure_model.names_lambda[0],\n",
    ")\n",
    "std_res"
   ]
  },
  {
   "cell_type": "markdown",
   "metadata": {
    "slideshow": {
     "slide_type": "fragment"
    }
   },
   "source": [
    "Podemos apreciar que los residuos estandarizados se mantienen dentro de rangos aceptables (< 2.5), a excepción de las covaraciones `x2-x7` y `x5-x3`."
   ]
  },
  {
   "cell_type": "markdown",
   "metadata": {
    "slideshow": {
     "slide_type": "slide"
    }
   },
   "source": [
    "### Validez de constructo\n",
    "\n",
    "La validez de constructo es **la medida en que un conjunto de elementos medidos reflejan con precisión los constructos latentes teóricos que están diseñados para medir**. Por tanto, la validez de constructo se ocupa de la precisión de la medición.\n",
    "\n",
    "En general, **las estimaciones de carga estandarizadas deben ser .5 o más, e idealmente, .7 o más, para indicar validez convergente**. \n",
    "\n",
    ">Validez convergente: Mide el grado en el que los ítems que son indicadores de un constructo específico comparten una alta proporción de varianza en común.\n",
    "\n",
    "Ahora procederemos a revisar sus índices más importantes:"
   ]
  },
  {
   "cell_type": "markdown",
   "metadata": {
    "slideshow": {
     "slide_type": "slide"
    }
   },
   "source": [
    "#### Varianza extraida promedio (AVE)\n",
    "\n",
    "La varianza media extraída (AVE) se calcula como la varianza media extraída para los elementos que se cargan en un constructo y es un indicador resumido de convergencia:\n",
    "\n",
    "$$ AVE = \\frac{\\sum_{i=1}^{n} L^{2}_{i}}{n}   $$\n",
    "\n",
    "$L_{i}$ representa la carga factorial completamente estandarizada para la i-ésima variable medida y $n$ es el número de indicadores de ítem para un constructo."
   ]
  },
  {
   "cell_type": "markdown",
   "metadata": {
    "slideshow": {
     "slide_type": "subslide"
    }
   },
   "source": [
    "Se debe calcular una medida **AVE para cada constructo latente en un modelo de medición**.\n",
    "\n",
    "Un AVE de .5 o más sugiere una validez convergente adecuada. Un AVE de menos de .5 indica que, en promedio, permanece más error en los ítems que la varianza que se tiene en común con el factor latente sobre el que se cargan. "
   ]
  },
  {
   "cell_type": "markdown",
   "metadata": {
    "slideshow": {
     "slide_type": "subslide"
    }
   },
   "source": [
    "Examinemos la AVE en nuestro ejemplo:"
   ]
  },
  {
   "cell_type": "code",
   "execution_count": 10,
   "metadata": {
    "hideCode": true,
    "hidePrompt": true,
    "slideshow": {
     "slide_type": "fragment"
    }
   },
   "outputs": [
    {
     "name": "stdout",
     "output_type": "stream",
     "text": [
      "AVE\n",
      "visual : 0.37103978585535957\n",
      "textual : 0.7196608737682286\n",
      "speed : 0.429694000591405\n"
     ]
    }
   ],
   "source": [
    "# Get loadings and constructs\n",
    "estimates = measure_model.inspect(std_est=True)\n",
    "loadings = estimates[estimates[\"op\"] == \"~\"]\n",
    "constructs = loadings[\"rval\"].unique().tolist()\n",
    "\n",
    "# AVE computation\n",
    "print(\"AVE\")\n",
    "for cons in constructs:\n",
    "    squared_loadings = loadings[loadings[\"rval\"] == cons][\"Est. Std\"] ** 2\n",
    "    ave = squared_loadings.sum() / squared_loadings.size\n",
    "    print(cons, \":\", ave)"
   ]
  },
  {
   "cell_type": "markdown",
   "metadata": {
    "slideshow": {
     "slide_type": "fragment"
    }
   },
   "source": [
    "Podemos apreciar que solo el factor `textual` tiene una validez convergente adecuada."
   ]
  },
  {
   "cell_type": "markdown",
   "metadata": {
    "slideshow": {
     "slide_type": "subslide"
    }
   },
   "source": [
    "Para evaluar la validez discriminante, **las estimaciones de AVE para cada factor deben ser mayores que el cuadrado de las correlaciones asociadas a dicho factor**. Esto debido a que un constructo latente debería explicar más la varianza en sus medidas de ítem que lo que comparte con otro constructo.\n",
    "\n",
    ">Validez discriminante: Mide **el grado en que un constructo o variable es realmente distinto de otros constructos o variables**. Por lo tanto, una alta validez discriminante proporciona evidencia de que un constructo es único y captura algunos fenómenos que otras medidas no captan."
   ]
  },
  {
   "cell_type": "markdown",
   "metadata": {
    "slideshow": {
     "slide_type": "subslide"
    }
   },
   "source": [
    "Evaluemos este criterio en nuestro ejemplo:"
   ]
  },
  {
   "cell_type": "code",
   "execution_count": 11,
   "metadata": {
    "hideCode": true,
    "hidePrompt": true,
    "slideshow": {
     "slide_type": "fragment"
    }
   },
   "outputs": [
    {
     "data": {
      "text/html": [
       "<div>\n",
       "<style scoped>\n",
       "    .dataframe tbody tr th:only-of-type {\n",
       "        vertical-align: middle;\n",
       "    }\n",
       "\n",
       "    .dataframe tbody tr th {\n",
       "        vertical-align: top;\n",
       "    }\n",
       "\n",
       "    .dataframe thead th {\n",
       "        text-align: right;\n",
       "    }\n",
       "</style>\n",
       "<table border=\"1\" class=\"dataframe\">\n",
       "  <thead>\n",
       "    <tr style=\"text-align: right;\">\n",
       "      <th></th>\n",
       "      <th>lval</th>\n",
       "      <th>op</th>\n",
       "      <th>rval</th>\n",
       "      <th>Estimate</th>\n",
       "      <th>Est. Std</th>\n",
       "      <th>r^2</th>\n",
       "      <th>Std. Err</th>\n",
       "      <th>z-value</th>\n",
       "      <th>p-value</th>\n",
       "    </tr>\n",
       "  </thead>\n",
       "  <tbody>\n",
       "    <tr>\n",
       "      <th>10</th>\n",
       "      <td>textual</td>\n",
       "      <td>~~</td>\n",
       "      <td>speed</td>\n",
       "      <td>0.173603</td>\n",
       "      <td>0.283220</td>\n",
       "      <td>0.080213</td>\n",
       "      <td>0.049316</td>\n",
       "      <td>3.520223</td>\n",
       "      <td>0.000431</td>\n",
       "    </tr>\n",
       "    <tr>\n",
       "      <th>11</th>\n",
       "      <td>textual</td>\n",
       "      <td>~~</td>\n",
       "      <td>visual</td>\n",
       "      <td>0.408277</td>\n",
       "      <td>0.458718</td>\n",
       "      <td>0.210422</td>\n",
       "      <td>0.073527</td>\n",
       "      <td>5.55273</td>\n",
       "      <td>0.0</td>\n",
       "    </tr>\n",
       "    <tr>\n",
       "      <th>13</th>\n",
       "      <td>speed</td>\n",
       "      <td>~~</td>\n",
       "      <td>visual</td>\n",
       "      <td>0.262135</td>\n",
       "      <td>0.470895</td>\n",
       "      <td>0.221742</td>\n",
       "      <td>0.056252</td>\n",
       "      <td>4.659977</td>\n",
       "      <td>0.000003</td>\n",
       "    </tr>\n",
       "  </tbody>\n",
       "</table>\n",
       "</div>"
      ],
      "text/plain": [
       "       lval  op    rval  Estimate  Est. Std       r^2  Std. Err   z-value  \\\n",
       "10  textual  ~~   speed  0.173603  0.283220  0.080213  0.049316  3.520223   \n",
       "11  textual  ~~  visual  0.408277  0.458718  0.210422  0.073527   5.55273   \n",
       "13    speed  ~~  visual  0.262135  0.470895  0.221742  0.056252  4.659977   \n",
       "\n",
       "     p-value  \n",
       "10  0.000431  \n",
       "11       0.0  \n",
       "13  0.000003  "
      ]
     },
     "execution_count": 11,
     "metadata": {},
     "output_type": "execute_result"
    }
   ],
   "source": [
    "cors = estimates.query(f'op == \"~~\" & rval == {constructs} & rval != lval')\n",
    "cors.insert(5, \"r^2\", cors[\"Est. Std\"] ** 2)\n",
    "cors"
   ]
  },
  {
   "cell_type": "markdown",
   "metadata": {
    "slideshow": {
     "slide_type": "fragment"
    }
   },
   "source": [
    "Podemos apreciar que para cada constructo, los valores AVE son mayores al cuadrado de las correlaciones asociadas a dicho constructo. Esto da cuenta de una buena validez discriminante."
   ]
  },
  {
   "cell_type": "markdown",
   "metadata": {
    "slideshow": {
     "slide_type": "slide"
    }
   },
   "source": [
    "#### Confiabilidad de constructo (CR)\n",
    "\n",
    "La confiabilidad es también un indicador de validez convergente. La confiabilidad de constructo se calcula a partir de la suma al cuadrado de las cargas factoriales $L_{i}$ y la suma de los términos de varianza del error $e_{i}$, para cada constructo:\n",
    "\n",
    "$$ CR = \\frac{ (\\sum_{i=1}^{n} L_{i})^{2} } { (\\sum_{i=1}^{n} L_{i})^{2} + (\\sum_{i=1}^{n} e_{i})^{2}   } $$\n",
    "\n",
    "\n",
    "Una alta confiabilidad de constructo (> |.7|) indica que existe consistencia interna, lo que significa que todas las medidas representan consistentemente el mismo constructo latente."
   ]
  },
  {
   "cell_type": "markdown",
   "metadata": {
    "slideshow": {
     "slide_type": "subslide"
    }
   },
   "source": [
    "Evaluemos este criterio en nuestro ejemplo:"
   ]
  },
  {
   "cell_type": "code",
   "execution_count": 12,
   "metadata": {
    "hideCode": true,
    "hidePrompt": true,
    "slideshow": {
     "slide_type": "fragment"
    }
   },
   "outputs": [
    {
     "name": "stdout",
     "output_type": "stream",
     "text": [
      "CR\n",
      "visual : 0.47004813559602776\n",
      "textual : 0.9015405317360042\n",
      "speed : 0.5668724304728698\n"
     ]
    }
   ],
   "source": [
    "# Get loadings and constructs\n",
    "estimates = measure_model.inspect(std_est=True)\n",
    "loadings = estimates[estimates[\"op\"] == \"~\"]\n",
    "lambdas = pd.DataFrame(\n",
    "    measure_model.mx_lambda,\n",
    "    columns=measure_model.names_lambda[1],\n",
    "    index=measure_model.names_lambda[0],\n",
    ")\n",
    "constructs = loadings[\"rval\"].unique().tolist()\n",
    "\n",
    "# CR computation\n",
    "print(\"CR\")\n",
    "for cons in constructs:\n",
    "    loads = loadings[loadings[\"rval\"] == cons][\"Est. Std\"]\n",
    "    idx = np.array(lambdas[cons].to_numpy().nonzero()[0])\n",
    "    vars = np.array(measure_model.names_lambda[0])[idx].tolist()\n",
    "    errors = estimates.query(f' op == \"~~\" & lval == rval & rval == {vars} ')[\n",
    "        \"Est. Std\"\n",
    "    ]\n",
    "    cr = loads.sum() ** 2 / (loads.sum() ** 2 + errors.sum() ** 2)\n",
    "    print(cons, \":\", cr)"
   ]
  },
  {
   "cell_type": "markdown",
   "metadata": {
    "slideshow": {
     "slide_type": "fragment"
    }
   },
   "source": [
    "Podemos apreciar que solo `textual` presenta niveles adecuados de confiabilidad de constructo, lo cual sugiere que `visual` y `speed` no cuentan con evidencia de validez convergente."
   ]
  },
  {
   "cell_type": "markdown",
   "metadata": {
    "slideshow": {
     "slide_type": "slide"
    }
   },
   "source": [
    "En general, **el AFC no es una herramienta exploratoria**. Se trata de una técnica que permite confirmar teorías de medición a partir de una muestra.\n",
    "\n",
    "Los **resultados de AFC que sugieren más que una modificación menor deben reevaluarse con un nuevo conjunto de datos**. Por ejemplo, si se eliminan más del 20% por ciento de las variables medidas, las modificaciones no pueden considerarse menores."
   ]
  }
 ],
 "metadata": {
  "celltoolbar": "Slideshow",
  "kernelspec": {
   "display_name": "Python 3 (ipykernel)",
   "language": "python",
   "name": "python3"
  },
  "language_info": {
   "codemirror_mode": {
    "name": "ipython",
    "version": 3
   },
   "file_extension": ".py",
   "mimetype": "text/x-python",
   "name": "python",
   "nbconvert_exporter": "python",
   "pygments_lexer": "ipython3",
   "version": "3.7.14"
  },
  "vscode": {
   "interpreter": {
    "hash": "8df12303a5084d795bcef355ea103bbaab8787933417cf27c2f95a588cdf8ee7"
   }
  }
 },
 "nbformat": 4,
 "nbformat_minor": 2
}
