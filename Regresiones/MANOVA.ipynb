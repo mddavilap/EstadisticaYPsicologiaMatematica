{
 "cells": [
  {
   "cell_type": "markdown",
   "metadata": {
    "slideshow": {
     "slide_type": "slide"
    }
   },
   "source": [
    "# Regresión Logística y MANOVA\n",
    "\n",
    ">Este tutorial es una selección y adaptación al español de los libros [Multivariate Data Analysis](https://www.cengage.co.uk/books/9781473756540/) de Joseph F. Hair et al. y [Applied Regression Analysis & Generalized Linear Models](https://socialsciences.mcmaster.ca/jfox/Books/Applied-Regression-3E/index.html) de John Fox.\n"
   ]
  },
  {
   "cell_type": "markdown",
   "metadata": {
    "slideshow": {
     "slide_type": "slide"
    }
   },
   "source": [
    "## Regresión Logística\n",
    "\n",
    "La regresión logística es el modelo de regresión apropiado **cuando la variable dependiente es una variable categórica (nominal o no métrica) y las variables independientes son métricas o no métricas**. \n",
    "\n",
    "Es particularmente útil para tareas de clasificación. "
   ]
  },
  {
   "cell_type": "markdown",
   "metadata": {
    "slideshow": {
     "slide_type": "subslide"
    }
   },
   "source": [
    "### Nociones previas\n",
    "\n",
    "En una regresión logística, los coeficientes estimados para las variables independientes se estiman utilizando el **valor logit como medida dependiente** para garantizar que cualquier valor predicho (es decir, cualquier valor logit) se pueda transformar nuevamente en una probabilidad que se encuentre entre cero y uno. "
   ]
  },
  {
   "cell_type": "markdown",
   "metadata": {
    "slideshow": {
     "slide_type": "subslide"
    }
   },
   "source": [
    "La formulación del modelo es:\n",
    "\n",
    "$$ Logit_{i} = ln \\left (  \\frac{P_{event}}{1 - P_{event}} \\right )  = b_{0} + b_{1} X_{1} + ... + b_{n} X_{n}  $$"
   ]
  },
  {
   "cell_type": "markdown",
   "metadata": {
    "slideshow": {
     "slide_type": "slide"
    }
   },
   "source": [
    "A diferencia del modelo de regresión múltiple, la regresión logística utiliza el **estimador de máxima verosimilitud (MLE)**. Esto quiere decir que en lugar de minimizar las desviaciones cuadradas (mínimos cuadrados), la regresión logística maximiza la verosimilitud de que ocurra un evento. \n",
    "\n",
    ">Nota: La verosimilitud es una medida diferente a la probabilidad. Refiere a qué tan \"verosimil\" es que los datos observados ocurran a partir de una parametrización determinada. \n",
    "\n",
    "Para ello, se vale de una medida relacionada, el doble del logaritmo negativo de la verosimilutd (- 2 log likelihood: **-2LL**). Esto debido a que esta función es más fácil de minimizar y, por tanto, hallar el valor máximo de la verosimilitud. "
   ]
  },
  {
   "cell_type": "markdown",
   "metadata": {
    "slideshow": {
     "slide_type": "subslide"
    }
   },
   "source": [
    "Para calcular el ajuste general del modelo, se emplea la medida pseudo $R^{2}$, que se interpreta de manera similar al coeficiente de determinación en regresión múltiple. \n",
    "\n",
    "El pseudo $R^{2}$ para un modelo logit ($R^{2}_{Logit}$) se puede calcular como:\n",
    "\n",
    "$$ R^{2}_{Logit} = \\frac{-2LL_{null} - (- 2LL_{model}) }{- 2LL_{null}} $$"
   ]
  },
  {
   "cell_type": "markdown",
   "metadata": {
    "slideshow": {
     "slide_type": "subslide"
    }
   },
   "source": [
    "Podemos encontrar otras equivalencias con el modelo de regresión múltiple:\n",
    "\n",
    "| Regresión Múltiple | Regresión Logística                              |\n",
    "|--------------------|--------------------------------------------------|\n",
    "| $SS_{total}$       | $-2LL_{null}$                                    |\n",
    "| $SS_{error}$       | $-2LL_{model}$                                   |\n",
    "| $SS_{model}$       | $2LL_{model} -2LL_{null}$                        |\n",
    "| Prueba F           | Prueba Chi-cuadrado de $2LL_{model} -2LL_{null}$ |\n",
    "| $R^{2}$            | Pseudo $R^{2}$                                   |"
   ]
  },
  {
   "cell_type": "markdown",
   "metadata": {
    "slideshow": {
     "slide_type": "slide"
    }
   },
   "source": [
    "### Diseño\n",
    "\n",
    "#### Codificación de la variable dependiente binaria\n",
    "\n",
    "Los dos grupos de interés en la regresión logística se representan como variables binarias con valores de 0 y 1. No importa a qué grupo se le asigna el valor de 1 versus 0, pero esta asignación (codificación) debe tenerse en cuenta para la interpretación de los coeficientes.\n",
    "\n",
    "- Características (p.e. género): A cualquiera de los grupos se le puede asignar el valor de 1 (p.e. mujeres) y al otro grupo el valor de 0 (p.e. hombres). Los coeficientes reflejarían el impacto de la(s) variable(s) independiente(s) en la probabilidad de que la persona sea mujer (es decir, 1).\n",
    "- Resultados o eventos (p.e. éxito o fracaso): Si el grupo con éxito se codifica como 1 y el de fracaso como 0, los coeficientes representan los impactos sobre la probabilidad de éxito."
   ]
  },
  {
   "cell_type": "markdown",
   "metadata": {
    "slideshow": {
     "slide_type": "slide"
    }
   },
   "source": [
    "#### Tamaño de muestra\n",
    "\n",
    "El uso de máxima verosimilitud (MLE) **requiere muestras más grandes** de modo que, en igualdad de condiciones, la regresión logística requerirá un tamaño de muestra mayor que la regresión múltiple. Por ejemplo, Hosmer y Lemeshow recomiendan tamaños de muestra superiores a 400.\n",
    "\n",
    "El tamaño de muestra recomendado es de **al menos 10 observaciones por parámetro estimado para cada grupo**. Esto es mucho mayor que la regresión múltiple, que tuvo un mínimo de cinco observaciones por parámetro, y eso fue para la muestra general, no el tamaño de la muestra para cada grupo, como se ve con la regresión logística."
   ]
  },
  {
   "cell_type": "markdown",
   "metadata": {
    "slideshow": {
     "slide_type": "subslide"
    }
   },
   "source": [
    "\n",
    "Una última consideración entra en juego con el uso de variables independientes no métricas. Cuando se incluyen en el modelo, subdividen aún más la muestra en celdas creadas por la combinación de variables independientes dependientes y no métricas. \n",
    "\n",
    "**Todas las frecuencias de celda deben ser mayores que 1 y una gran mayoría (75% o más) debe tener frecuencias mayores que 5**. La presencia de celdas pequeñas o vacías puede hacer que el modelo logístico se vuelva inestable, reportando coeficientes logísticos y razones de probabilidad increíblemente grandes para variables independientes."
   ]
  },
  {
   "cell_type": "markdown",
   "metadata": {
    "slideshow": {
     "slide_type": "slide"
    }
   },
   "source": [
    "### Supuestos\n",
    "\n",
    "Las ventajas de la regresión logística en comparación con la regresión múltiple se derivan en gran medida de la **falta general de supuestos requeridos en un análisis de regresión logística**. \n",
    "\n",
    "No requiere ninguna forma de distribución específica de las variables independientes ni heterocedasticidad. \n",
    "\n",
    "Sí requiere **independencia de las observaciones** y, si está presente, debe abordarse mediante algún tipo de enfoque jerárquico o de muestra agrupada."
   ]
  },
  {
   "cell_type": "markdown",
   "metadata": {
    "slideshow": {
     "slide_type": "subslide"
    }
   },
   "source": [
    "Un supuesto inherente que debe abordarse es la **linealidad de las variables independientes, especialmente las continuas, con el resultado (binario)**.  \n",
    "\n",
    "Este supuesto se verifica con la **prueba de Box-Tidwell**.La prueba de Box-Tidwell verifica si la transformada logit es una función lineal del predictor, efectivamente agregando la transformada no lineal del predictor original como un término de interacción para probar si esta adición no hizo una mejor predicción.\n",
    "\n",
    "Un valor p significativo en la prueba de Box-Tidwell significa que se viola el supuesto de linealidad. "
   ]
  },
  {
   "cell_type": "markdown",
   "metadata": {
    "slideshow": {
     "slide_type": "slide"
    }
   },
   "source": [
    "Veamos un ejemplo:"
   ]
  },
  {
   "cell_type": "code",
   "execution_count": 1,
   "metadata": {
    "hideCode": true,
    "hidePrompt": true,
    "slideshow": {
     "slide_type": "fragment"
    }
   },
   "outputs": [
    {
     "data": {
      "text/html": [
       "<div>\n",
       "<style scoped>\n",
       "    .dataframe tbody tr th:only-of-type {\n",
       "        vertical-align: middle;\n",
       "    }\n",
       "\n",
       "    .dataframe tbody tr th {\n",
       "        vertical-align: top;\n",
       "    }\n",
       "\n",
       "    .dataframe thead th {\n",
       "        text-align: right;\n",
       "    }\n",
       "</style>\n",
       "<table border=\"1\" class=\"dataframe\">\n",
       "  <thead>\n",
       "    <tr style=\"text-align: right;\">\n",
       "      <th></th>\n",
       "      <th>neuroticism</th>\n",
       "      <th>extraversion</th>\n",
       "      <th>sex_male</th>\n",
       "      <th>volunteer_yes</th>\n",
       "    </tr>\n",
       "  </thead>\n",
       "  <tbody>\n",
       "    <tr>\n",
       "      <th>1</th>\n",
       "      <td>17.0</td>\n",
       "      <td>13.0</td>\n",
       "      <td>0</td>\n",
       "      <td>0</td>\n",
       "    </tr>\n",
       "    <tr>\n",
       "      <th>2</th>\n",
       "      <td>9.0</td>\n",
       "      <td>14.0</td>\n",
       "      <td>1</td>\n",
       "      <td>0</td>\n",
       "    </tr>\n",
       "    <tr>\n",
       "      <th>3</th>\n",
       "      <td>6.0</td>\n",
       "      <td>16.0</td>\n",
       "      <td>1</td>\n",
       "      <td>0</td>\n",
       "    </tr>\n",
       "    <tr>\n",
       "      <th>4</th>\n",
       "      <td>9.0</td>\n",
       "      <td>20.0</td>\n",
       "      <td>0</td>\n",
       "      <td>0</td>\n",
       "    </tr>\n",
       "    <tr>\n",
       "      <th>5</th>\n",
       "      <td>10.0</td>\n",
       "      <td>19.0</td>\n",
       "      <td>1</td>\n",
       "      <td>0</td>\n",
       "    </tr>\n",
       "    <tr>\n",
       "      <th>...</th>\n",
       "      <td>...</td>\n",
       "      <td>...</td>\n",
       "      <td>...</td>\n",
       "      <td>...</td>\n",
       "    </tr>\n",
       "    <tr>\n",
       "      <th>1417</th>\n",
       "      <td>6.0</td>\n",
       "      <td>10.0</td>\n",
       "      <td>1</td>\n",
       "      <td>1</td>\n",
       "    </tr>\n",
       "    <tr>\n",
       "      <th>1418</th>\n",
       "      <td>9.0</td>\n",
       "      <td>4.0</td>\n",
       "      <td>0</td>\n",
       "      <td>1</td>\n",
       "    </tr>\n",
       "    <tr>\n",
       "      <th>1419</th>\n",
       "      <td>9.0</td>\n",
       "      <td>8.0</td>\n",
       "      <td>1</td>\n",
       "      <td>1</td>\n",
       "    </tr>\n",
       "    <tr>\n",
       "      <th>1420</th>\n",
       "      <td>20.0</td>\n",
       "      <td>20.0</td>\n",
       "      <td>0</td>\n",
       "      <td>1</td>\n",
       "    </tr>\n",
       "    <tr>\n",
       "      <th>1421</th>\n",
       "      <td>16.0</td>\n",
       "      <td>20.0</td>\n",
       "      <td>1</td>\n",
       "      <td>1</td>\n",
       "    </tr>\n",
       "  </tbody>\n",
       "</table>\n",
       "<p>1421 rows × 4 columns</p>\n",
       "</div>"
      ],
      "text/plain": [
       "      neuroticism  extraversion  sex_male  volunteer_yes\n",
       "1            17.0          13.0         0              0\n",
       "2             9.0          14.0         1              0\n",
       "3             6.0          16.0         1              0\n",
       "4             9.0          20.0         0              0\n",
       "5            10.0          19.0         1              0\n",
       "...           ...           ...       ...            ...\n",
       "1417          6.0          10.0         1              1\n",
       "1418          9.0           4.0         0              1\n",
       "1419          9.0           8.0         1              1\n",
       "1420         20.0          20.0         0              1\n",
       "1421         16.0          20.0         1              1\n",
       "\n",
       "[1421 rows x 4 columns]"
      ]
     },
     "execution_count": 1,
     "metadata": {},
     "output_type": "execute_result"
    }
   ],
   "source": [
    "import pandas as pd\n",
    "from sklearn.preprocessing import StandardScaler\n",
    "\n",
    "df = pd.read_csv(\n",
    "    \"https://socialsciences.mcmaster.ca/jfox/Books/Applied-Regression-3E/datasets/Cowles.txt\",\n",
    "    sep=r\"\\s{1,}\",\n",
    "    engine=\"python\",\n",
    ")\n",
    "df.dropna(inplace=True)\n",
    "cowles_data = pd.get_dummies(df, drop_first=True)\n",
    "cowles_data[\"neuroticism\"] = cowles_data[\"neuroticism\"] + 1\n",
    "cowles_data"
   ]
  },
  {
   "cell_type": "code",
   "execution_count": 2,
   "metadata": {
    "slideshow": {
     "slide_type": "skip"
    }
   },
   "outputs": [],
   "source": [
    "%load_ext rpy2.ipython"
   ]
  },
  {
   "cell_type": "code",
   "execution_count": 4,
   "metadata": {
    "hideCode": false,
    "slideshow": {
     "slide_type": "skip"
    }
   },
   "outputs": [
    {
     "name": "stderr",
     "output_type": "stream",
     "text": [
      "R[write to console]: Installing package into ‘/home/renato/R/x86_64-pc-linux-gnu-library/4.2’\n",
      "(as ‘lib’ is unspecified)\n",
      "\n"
     ]
    },
    {
     "name": "stdout",
     "output_type": "stream",
     "text": [
      "--- Please select a CRAN mirror for use in this session ---\n"
     ]
    },
    {
     "name": "stderr",
     "output_type": "stream",
     "text": [
      "R[write to console]: also installing the dependencies ‘backports’, ‘Matrix’, ‘broom’, ‘SparseM’, ‘MatrixModels’, ‘nloptr’, ‘RcppEigen’, ‘carData’, ‘abind’, ‘pbkrtest’, ‘quantreg’, ‘lme4’\n",
      "\n",
      "\n",
      "R[write to console]: trying URL 'https://www.stats.bris.ac.uk/R/src/contrib/backports_1.4.1.tar.gz'\n",
      "\n",
      "R[write to console]: Content type 'application/x-gzip'\n",
      "R[write to console]:  length 26201 bytes (25 KB)\n",
      "\n",
      "R[write to console]: =\n",
      "R[write to console]: =\n",
      "R[write to console]: =\n",
      "R[write to console]: =\n",
      "R[write to console]: =\n",
      "R[write to console]: =\n",
      "R[write to console]: =\n",
      "R[write to console]: =\n",
      "R[write to console]: =\n",
      "R[write to console]: =\n",
      "R[write to console]: =\n",
      "R[write to console]: =\n",
      "R[write to console]: =\n",
      "R[write to console]: =\n",
      "R[write to console]: =\n",
      "R[write to console]: =\n",
      "R[write to console]: =\n",
      "R[write to console]: =\n",
      "R[write to console]: =\n",
      "R[write to console]: =\n",
      "R[write to console]: =\n",
      "R[write to console]: =\n",
      "R[write to console]: =\n",
      "R[write to console]: =\n",
      "R[write to console]: =\n",
      "R[write to console]: =\n",
      "R[write to console]: =\n",
      "R[write to console]: =\n",
      "R[write to console]: =\n",
      "R[write to console]: =\n",
      "R[write to console]: =\n",
      "R[write to console]: =\n",
      "R[write to console]: =\n",
      "R[write to console]: =\n",
      "R[write to console]: =\n",
      "R[write to console]: =\n",
      "R[write to console]: =\n",
      "R[write to console]: =\n",
      "R[write to console]: =\n",
      "R[write to console]: =\n",
      "R[write to console]: =\n",
      "R[write to console]: =\n",
      "R[write to console]: =\n",
      "R[write to console]: =\n",
      "R[write to console]: =\n",
      "R[write to console]: =\n",
      "R[write to console]: =\n",
      "R[write to console]: =\n",
      "R[write to console]: =\n",
      "R[write to console]: =\n",
      "R[write to console]: \n",
      "\n",
      "R[write to console]: downloaded 25 KB\n",
      "\n",
      "\n",
      "R[write to console]: trying URL 'https://www.stats.bris.ac.uk/R/src/contrib/Matrix_1.5-1.tar.gz'\n",
      "\n",
      "R[write to console]: Content type 'application/x-gzip'\n",
      "R[write to console]:  length 2200191 bytes (2.1 MB)\n",
      "\n",
      "R[write to console]: =\n",
      "R[write to console]: =\n",
      "R[write to console]: =\n",
      "R[write to console]: =\n",
      "R[write to console]: =\n",
      "R[write to console]: =\n",
      "R[write to console]: =\n",
      "R[write to console]: =\n",
      "R[write to console]: =\n",
      "R[write to console]: =\n",
      "R[write to console]: =\n",
      "R[write to console]: =\n",
      "R[write to console]: =\n",
      "R[write to console]: =\n",
      "R[write to console]: =\n",
      "R[write to console]: =\n",
      "R[write to console]: =\n",
      "R[write to console]: =\n",
      "R[write to console]: =\n",
      "R[write to console]: =\n",
      "R[write to console]: =\n",
      "R[write to console]: =\n",
      "R[write to console]: =\n",
      "R[write to console]: =\n",
      "R[write to console]: =\n",
      "R[write to console]: =\n",
      "R[write to console]: =\n",
      "R[write to console]: =\n",
      "R[write to console]: =\n",
      "R[write to console]: =\n",
      "R[write to console]: =\n",
      "R[write to console]: =\n",
      "R[write to console]: =\n",
      "R[write to console]: =\n",
      "R[write to console]: =\n",
      "R[write to console]: =\n",
      "R[write to console]: =\n",
      "R[write to console]: =\n",
      "R[write to console]: =\n",
      "R[write to console]: =\n",
      "R[write to console]: =\n",
      "R[write to console]: =\n",
      "R[write to console]: =\n",
      "R[write to console]: =\n",
      "R[write to console]: =\n",
      "R[write to console]: =\n",
      "R[write to console]: =\n",
      "R[write to console]: =\n",
      "R[write to console]: =\n",
      "R[write to console]: =\n",
      "R[write to console]: \n",
      "\n",
      "R[write to console]: downloaded 2.1 MB\n",
      "\n",
      "\n",
      "R[write to console]: trying URL 'https://www.stats.bris.ac.uk/R/src/contrib/broom_1.0.1.tar.gz'\n",
      "\n",
      "R[write to console]: Content type 'application/x-gzip'\n",
      "R[write to console]:  length 642253 bytes (627 KB)\n",
      "\n",
      "R[write to console]: =\n",
      "R[write to console]: =\n",
      "R[write to console]: =\n",
      "R[write to console]: =\n",
      "R[write to console]: =\n",
      "R[write to console]: =\n",
      "R[write to console]: =\n",
      "R[write to console]: =\n",
      "R[write to console]: =\n",
      "R[write to console]: =\n",
      "R[write to console]: =\n",
      "R[write to console]: =\n",
      "R[write to console]: =\n",
      "R[write to console]: =\n",
      "R[write to console]: =\n",
      "R[write to console]: =\n",
      "R[write to console]: =\n",
      "R[write to console]: =\n",
      "R[write to console]: =\n",
      "R[write to console]: =\n",
      "R[write to console]: =\n",
      "R[write to console]: =\n",
      "R[write to console]: =\n",
      "R[write to console]: =\n",
      "R[write to console]: =\n",
      "R[write to console]: =\n",
      "R[write to console]: =\n",
      "R[write to console]: =\n",
      "R[write to console]: =\n",
      "R[write to console]: =\n",
      "R[write to console]: =\n",
      "R[write to console]: =\n",
      "R[write to console]: =\n",
      "R[write to console]: =\n",
      "R[write to console]: =\n",
      "R[write to console]: =\n",
      "R[write to console]: =\n",
      "R[write to console]: =\n",
      "R[write to console]: =\n",
      "R[write to console]: =\n",
      "R[write to console]: =\n",
      "R[write to console]: =\n",
      "R[write to console]: =\n",
      "R[write to console]: =\n",
      "R[write to console]: =\n",
      "R[write to console]: =\n",
      "R[write to console]: =\n",
      "R[write to console]: =\n",
      "R[write to console]: =\n",
      "R[write to console]: =\n",
      "R[write to console]: \n",
      "\n",
      "R[write to console]: downloaded 627 KB\n",
      "\n",
      "\n",
      "R[write to console]: trying URL 'https://www.stats.bris.ac.uk/R/src/contrib/SparseM_1.81.tar.gz'\n",
      "\n",
      "R[write to console]: Content type 'application/x-gzip'\n",
      "R[write to console]:  length 735100 bytes (717 KB)\n",
      "\n",
      "R[write to console]: =\n",
      "R[write to console]: =\n",
      "R[write to console]: =\n",
      "R[write to console]: =\n",
      "R[write to console]: =\n",
      "R[write to console]: =\n",
      "R[write to console]: =\n",
      "R[write to console]: =\n",
      "R[write to console]: =\n",
      "R[write to console]: =\n",
      "R[write to console]: =\n",
      "R[write to console]: =\n",
      "R[write to console]: =\n",
      "R[write to console]: =\n",
      "R[write to console]: =\n",
      "R[write to console]: =\n",
      "R[write to console]: =\n",
      "R[write to console]: =\n",
      "R[write to console]: =\n",
      "R[write to console]: =\n",
      "R[write to console]: =\n",
      "R[write to console]: =\n",
      "R[write to console]: =\n",
      "R[write to console]: =\n",
      "R[write to console]: =\n",
      "R[write to console]: =\n",
      "R[write to console]: =\n",
      "R[write to console]: =\n",
      "R[write to console]: =\n",
      "R[write to console]: =\n",
      "R[write to console]: =\n",
      "R[write to console]: =\n",
      "R[write to console]: =\n",
      "R[write to console]: =\n",
      "R[write to console]: =\n",
      "R[write to console]: =\n",
      "R[write to console]: =\n",
      "R[write to console]: =\n",
      "R[write to console]: =\n",
      "R[write to console]: =\n",
      "R[write to console]: =\n",
      "R[write to console]: =\n",
      "R[write to console]: =\n",
      "R[write to console]: =\n",
      "R[write to console]: =\n",
      "R[write to console]: =\n",
      "R[write to console]: =\n",
      "R[write to console]: =\n",
      "R[write to console]: =\n",
      "R[write to console]: =\n",
      "R[write to console]: \n",
      "\n",
      "R[write to console]: downloaded 717 KB\n",
      "\n",
      "\n",
      "R[write to console]: trying URL 'https://www.stats.bris.ac.uk/R/src/contrib/MatrixModels_0.5-1.tar.gz'\n",
      "\n",
      "R[write to console]: Content type 'application/x-gzip'\n",
      "R[write to console]:  length 24022 bytes (23 KB)\n",
      "\n",
      "R[write to console]: =\n",
      "R[write to console]: =\n",
      "R[write to console]: =\n",
      "R[write to console]: =\n",
      "R[write to console]: =\n",
      "R[write to console]: =\n",
      "R[write to console]: =\n",
      "R[write to console]: =\n",
      "R[write to console]: =\n",
      "R[write to console]: =\n",
      "R[write to console]: =\n",
      "R[write to console]: =\n",
      "R[write to console]: =\n",
      "R[write to console]: =\n",
      "R[write to console]: =\n",
      "R[write to console]: =\n",
      "R[write to console]: =\n",
      "R[write to console]: =\n",
      "R[write to console]: =\n",
      "R[write to console]: =\n",
      "R[write to console]: =\n",
      "R[write to console]: =\n",
      "R[write to console]: =\n",
      "R[write to console]: =\n",
      "R[write to console]: =\n",
      "R[write to console]: =\n",
      "R[write to console]: =\n",
      "R[write to console]: =\n",
      "R[write to console]: =\n",
      "R[write to console]: =\n",
      "R[write to console]: =\n",
      "R[write to console]: =\n",
      "R[write to console]: =\n",
      "R[write to console]: =\n",
      "R[write to console]: =\n",
      "R[write to console]: =\n",
      "R[write to console]: =\n",
      "R[write to console]: =\n",
      "R[write to console]: =\n",
      "R[write to console]: =\n",
      "R[write to console]: =\n",
      "R[write to console]: =\n",
      "R[write to console]: =\n",
      "R[write to console]: =\n",
      "R[write to console]: =\n",
      "R[write to console]: =\n",
      "R[write to console]: =\n",
      "R[write to console]: =\n",
      "R[write to console]: =\n",
      "R[write to console]: =\n",
      "R[write to console]: \n",
      "\n",
      "R[write to console]: downloaded 23 KB\n",
      "\n",
      "\n",
      "R[write to console]: trying URL 'https://www.stats.bris.ac.uk/R/src/contrib/nloptr_2.0.3.tar.gz'\n",
      "\n",
      "R[write to console]: Content type 'application/x-gzip'\n",
      "R[write to console]:  length 2219877 bytes (2.1 MB)\n",
      "\n",
      "R[write to console]: =\n",
      "R[write to console]: =\n",
      "R[write to console]: =\n",
      "R[write to console]: =\n",
      "R[write to console]: =\n",
      "R[write to console]: =\n",
      "R[write to console]: =\n",
      "R[write to console]: =\n",
      "R[write to console]: =\n",
      "R[write to console]: =\n",
      "R[write to console]: =\n",
      "R[write to console]: =\n",
      "R[write to console]: =\n",
      "R[write to console]: =\n",
      "R[write to console]: =\n",
      "R[write to console]: =\n",
      "R[write to console]: =\n",
      "R[write to console]: =\n",
      "R[write to console]: =\n",
      "R[write to console]: =\n",
      "R[write to console]: =\n",
      "R[write to console]: =\n",
      "R[write to console]: =\n",
      "R[write to console]: =\n",
      "R[write to console]: =\n",
      "R[write to console]: =\n",
      "R[write to console]: =\n",
      "R[write to console]: =\n",
      "R[write to console]: =\n",
      "R[write to console]: =\n",
      "R[write to console]: =\n"
     ]
    },
    {
     "name": "stderr",
     "output_type": "stream",
     "text": [
      "R[write to console]: =\n",
      "R[write to console]: =\n",
      "R[write to console]: =\n",
      "R[write to console]: =\n",
      "R[write to console]: =\n",
      "R[write to console]: =\n",
      "R[write to console]: =\n",
      "R[write to console]: =\n",
      "R[write to console]: =\n",
      "R[write to console]: =\n",
      "R[write to console]: =\n",
      "R[write to console]: =\n",
      "R[write to console]: =\n",
      "R[write to console]: =\n",
      "R[write to console]: =\n",
      "R[write to console]: =\n",
      "R[write to console]: =\n",
      "R[write to console]: =\n",
      "R[write to console]: =\n",
      "R[write to console]: \n",
      "\n",
      "R[write to console]: downloaded 2.1 MB\n",
      "\n",
      "\n",
      "R[write to console]: trying URL 'https://www.stats.bris.ac.uk/R/src/contrib/RcppEigen_0.3.3.9.2.tar.gz'\n",
      "\n",
      "R[write to console]: Content type 'application/x-gzip'\n",
      "R[write to console]:  length 1476004 bytes (1.4 MB)\n",
      "\n",
      "R[write to console]: =\n",
      "R[write to console]: =\n",
      "R[write to console]: =\n",
      "R[write to console]: =\n",
      "R[write to console]: =\n",
      "R[write to console]: =\n",
      "R[write to console]: =\n",
      "R[write to console]: =\n",
      "R[write to console]: =\n",
      "R[write to console]: =\n",
      "R[write to console]: =\n",
      "R[write to console]: =\n",
      "R[write to console]: =\n",
      "R[write to console]: =\n",
      "R[write to console]: =\n",
      "R[write to console]: =\n",
      "R[write to console]: =\n",
      "R[write to console]: =\n",
      "R[write to console]: =\n",
      "R[write to console]: =\n",
      "R[write to console]: =\n",
      "R[write to console]: =\n",
      "R[write to console]: =\n",
      "R[write to console]: =\n",
      "R[write to console]: =\n",
      "R[write to console]: =\n",
      "R[write to console]: =\n",
      "R[write to console]: =\n",
      "R[write to console]: =\n",
      "R[write to console]: =\n",
      "R[write to console]: =\n",
      "R[write to console]: =\n",
      "R[write to console]: =\n",
      "R[write to console]: =\n",
      "R[write to console]: =\n",
      "R[write to console]: =\n",
      "R[write to console]: =\n",
      "R[write to console]: =\n",
      "R[write to console]: =\n",
      "R[write to console]: =\n",
      "R[write to console]: =\n",
      "R[write to console]: =\n",
      "R[write to console]: =\n",
      "R[write to console]: =\n",
      "R[write to console]: =\n",
      "R[write to console]: =\n",
      "R[write to console]: =\n",
      "R[write to console]: =\n",
      "R[write to console]: =\n",
      "R[write to console]: =\n",
      "R[write to console]: \n",
      "\n",
      "R[write to console]: downloaded 1.4 MB\n",
      "\n",
      "\n",
      "R[write to console]: trying URL 'https://www.stats.bris.ac.uk/R/src/contrib/carData_3.0-5.tar.gz'\n",
      "\n",
      "R[write to console]: Content type 'application/x-gzip'\n",
      "R[write to console]:  length 1004201 bytes (980 KB)\n",
      "\n",
      "R[write to console]: =\n",
      "R[write to console]: =\n",
      "R[write to console]: =\n",
      "R[write to console]: =\n",
      "R[write to console]: =\n",
      "R[write to console]: =\n",
      "R[write to console]: =\n",
      "R[write to console]: =\n",
      "R[write to console]: =\n",
      "R[write to console]: =\n",
      "R[write to console]: =\n",
      "R[write to console]: =\n",
      "R[write to console]: =\n",
      "R[write to console]: =\n",
      "R[write to console]: =\n",
      "R[write to console]: =\n",
      "R[write to console]: =\n",
      "R[write to console]: =\n",
      "R[write to console]: =\n",
      "R[write to console]: =\n",
      "R[write to console]: =\n",
      "R[write to console]: =\n",
      "R[write to console]: =\n",
      "R[write to console]: =\n",
      "R[write to console]: =\n",
      "R[write to console]: =\n",
      "R[write to console]: =\n",
      "R[write to console]: =\n",
      "R[write to console]: =\n",
      "R[write to console]: =\n",
      "R[write to console]: =\n",
      "R[write to console]: =\n",
      "R[write to console]: =\n",
      "R[write to console]: =\n",
      "R[write to console]: =\n",
      "R[write to console]: =\n",
      "R[write to console]: =\n",
      "R[write to console]: =\n",
      "R[write to console]: =\n",
      "R[write to console]: =\n",
      "R[write to console]: =\n",
      "R[write to console]: =\n",
      "R[write to console]: =\n",
      "R[write to console]: =\n",
      "R[write to console]: =\n",
      "R[write to console]: =\n",
      "R[write to console]: =\n",
      "R[write to console]: =\n",
      "R[write to console]: =\n",
      "R[write to console]: =\n",
      "R[write to console]: \n",
      "\n",
      "R[write to console]: downloaded 980 KB\n",
      "\n",
      "\n",
      "R[write to console]: trying URL 'https://www.stats.bris.ac.uk/R/src/contrib/abind_1.4-5.tar.gz'\n",
      "\n",
      "R[write to console]: Content type 'application/x-gzip'\n",
      "R[write to console]:  length 21810 bytes (21 KB)\n",
      "\n",
      "R[write to console]: =\n",
      "R[write to console]: =\n",
      "R[write to console]: =\n",
      "R[write to console]: =\n",
      "R[write to console]: =\n",
      "R[write to console]: =\n",
      "R[write to console]: =\n",
      "R[write to console]: =\n",
      "R[write to console]: =\n",
      "R[write to console]: =\n",
      "R[write to console]: =\n",
      "R[write to console]: =\n",
      "R[write to console]: =\n",
      "R[write to console]: =\n",
      "R[write to console]: =\n",
      "R[write to console]: =\n",
      "R[write to console]: =\n",
      "R[write to console]: =\n",
      "R[write to console]: =\n",
      "R[write to console]: =\n",
      "R[write to console]: =\n",
      "R[write to console]: =\n",
      "R[write to console]: =\n",
      "R[write to console]: =\n",
      "R[write to console]: =\n",
      "R[write to console]: =\n",
      "R[write to console]: =\n",
      "R[write to console]: =\n",
      "R[write to console]: =\n",
      "R[write to console]: =\n",
      "R[write to console]: =\n",
      "R[write to console]: =\n",
      "R[write to console]: =\n",
      "R[write to console]: =\n",
      "R[write to console]: =\n",
      "R[write to console]: =\n",
      "R[write to console]: =\n",
      "R[write to console]: =\n",
      "R[write to console]: =\n",
      "R[write to console]: =\n",
      "R[write to console]: =\n",
      "R[write to console]: =\n",
      "R[write to console]: =\n",
      "R[write to console]: =\n",
      "R[write to console]: =\n",
      "R[write to console]: =\n",
      "R[write to console]: =\n",
      "R[write to console]: =\n",
      "R[write to console]: =\n",
      "R[write to console]: =\n",
      "R[write to console]: \n",
      "\n",
      "R[write to console]: downloaded 21 KB\n",
      "\n",
      "\n",
      "R[write to console]: trying URL 'https://www.stats.bris.ac.uk/R/src/contrib/pbkrtest_0.5.1.tar.gz'\n",
      "\n",
      "R[write to console]: Content type 'application/x-gzip'\n",
      "R[write to console]:  length 246327 bytes (240 KB)\n",
      "\n",
      "R[write to console]: =\n",
      "R[write to console]: =\n",
      "R[write to console]: =\n",
      "R[write to console]: =\n",
      "R[write to console]: =\n",
      "R[write to console]: =\n",
      "R[write to console]: =\n",
      "R[write to console]: =\n",
      "R[write to console]: =\n",
      "R[write to console]: =\n",
      "R[write to console]: =\n",
      "R[write to console]: =\n",
      "R[write to console]: =\n",
      "R[write to console]: =\n",
      "R[write to console]: =\n",
      "R[write to console]: =\n",
      "R[write to console]: =\n",
      "R[write to console]: =\n",
      "R[write to console]: =\n",
      "R[write to console]: =\n",
      "R[write to console]: =\n",
      "R[write to console]: =\n",
      "R[write to console]: =\n",
      "R[write to console]: =\n",
      "R[write to console]: =\n",
      "R[write to console]: =\n",
      "R[write to console]: =\n",
      "R[write to console]: =\n",
      "R[write to console]: =\n",
      "R[write to console]: =\n",
      "R[write to console]: =\n",
      "R[write to console]: =\n",
      "R[write to console]: =\n",
      "R[write to console]: =\n",
      "R[write to console]: =\n",
      "R[write to console]: =\n",
      "R[write to console]: =\n",
      "R[write to console]: =\n",
      "R[write to console]: =\n",
      "R[write to console]: =\n",
      "R[write to console]: =\n",
      "R[write to console]: =\n",
      "R[write to console]: =\n",
      "R[write to console]: =\n",
      "R[write to console]: =\n",
      "R[write to console]: =\n",
      "R[write to console]: =\n",
      "R[write to console]: =\n",
      "R[write to console]: =\n",
      "R[write to console]: =\n",
      "R[write to console]: \n",
      "\n",
      "R[write to console]: downloaded 240 KB\n",
      "\n",
      "\n",
      "R[write to console]: trying URL 'https://www.stats.bris.ac.uk/R/src/contrib/quantreg_5.94.tar.gz'\n",
      "\n",
      "R[write to console]: Content type 'application/x-gzip'\n",
      "R[write to console]:  length 1025290 bytes (1001 KB)\n",
      "\n",
      "R[write to console]: =\n",
      "R[write to console]: =\n",
      "R[write to console]: =\n",
      "R[write to console]: =\n",
      "R[write to console]: =\n",
      "R[write to console]: =\n",
      "R[write to console]: =\n",
      "R[write to console]: =\n",
      "R[write to console]: =\n",
      "R[write to console]: =\n",
      "R[write to console]: =\n",
      "R[write to console]: =\n",
      "R[write to console]: =\n",
      "R[write to console]: =\n",
      "R[write to console]: =\n",
      "R[write to console]: =\n",
      "R[write to console]: =\n",
      "R[write to console]: =\n",
      "R[write to console]: =\n",
      "R[write to console]: =\n",
      "R[write to console]: =\n",
      "R[write to console]: =\n",
      "R[write to console]: =\n",
      "R[write to console]: =\n",
      "R[write to console]: =\n",
      "R[write to console]: =\n",
      "R[write to console]: =\n",
      "R[write to console]: =\n",
      "R[write to console]: =\n",
      "R[write to console]: =\n",
      "R[write to console]: =\n",
      "R[write to console]: =\n",
      "R[write to console]: =\n",
      "R[write to console]: =\n",
      "R[write to console]: =\n",
      "R[write to console]: =\n",
      "R[write to console]: =\n",
      "R[write to console]: =\n",
      "R[write to console]: =\n",
      "R[write to console]: =\n",
      "R[write to console]: =\n",
      "R[write to console]: =\n",
      "R[write to console]: =\n",
      "R[write to console]: =\n",
      "R[write to console]: =\n",
      "R[write to console]: =\n",
      "R[write to console]: =\n",
      "R[write to console]: =\n",
      "R[write to console]: =\n",
      "R[write to console]: =\n",
      "R[write to console]: \n",
      "\n",
      "R[write to console]: downloaded 1001 KB\n",
      "\n",
      "\n",
      "R[write to console]: trying URL 'https://www.stats.bris.ac.uk/R/src/contrib/lme4_1.1-31.tar.gz'\n",
      "\n",
      "R[write to console]: Content type 'application/x-gzip'\n",
      "R[write to console]:  length 2947739 bytes (2.8 MB)\n",
      "\n",
      "R[write to console]: =\n",
      "R[write to console]: =\n",
      "R[write to console]: =\n",
      "R[write to console]: =\n",
      "R[write to console]: =\n",
      "R[write to console]: =\n",
      "R[write to console]: =\n",
      "R[write to console]: =\n",
      "R[write to console]: =\n",
      "R[write to console]: =\n",
      "R[write to console]: =\n",
      "R[write to console]: =\n",
      "R[write to console]: =\n",
      "R[write to console]: =\n",
      "R[write to console]: =\n",
      "R[write to console]: =\n",
      "R[write to console]: =\n"
     ]
    },
    {
     "name": "stderr",
     "output_type": "stream",
     "text": [
      "R[write to console]: =\n",
      "R[write to console]: =\n",
      "R[write to console]: =\n",
      "R[write to console]: =\n",
      "R[write to console]: =\n",
      "R[write to console]: =\n",
      "R[write to console]: =\n",
      "R[write to console]: =\n",
      "R[write to console]: =\n",
      "R[write to console]: =\n",
      "R[write to console]: =\n",
      "R[write to console]: =\n",
      "R[write to console]: =\n",
      "R[write to console]: =\n",
      "R[write to console]: =\n",
      "R[write to console]: =\n",
      "R[write to console]: =\n",
      "R[write to console]: =\n",
      "R[write to console]: =\n",
      "R[write to console]: =\n",
      "R[write to console]: =\n",
      "R[write to console]: =\n",
      "R[write to console]: =\n",
      "R[write to console]: =\n",
      "R[write to console]: =\n",
      "R[write to console]: =\n",
      "R[write to console]: =\n",
      "R[write to console]: =\n",
      "R[write to console]: =\n",
      "R[write to console]: =\n",
      "R[write to console]: =\n",
      "R[write to console]: =\n",
      "R[write to console]: =\n",
      "R[write to console]: \n",
      "\n",
      "R[write to console]: downloaded 2.8 MB\n",
      "\n",
      "\n",
      "R[write to console]: trying URL 'https://www.stats.bris.ac.uk/R/src/contrib/car_3.1-1.tar.gz'\n",
      "\n",
      "R[write to console]: Content type 'application/x-gzip'\n",
      "R[write to console]:  length 578902 bytes (565 KB)\n",
      "\n",
      "R[write to console]: =\n",
      "R[write to console]: =\n",
      "R[write to console]: =\n",
      "R[write to console]: =\n",
      "R[write to console]: =\n",
      "R[write to console]: =\n",
      "R[write to console]: =\n",
      "R[write to console]: =\n",
      "R[write to console]: =\n",
      "R[write to console]: =\n",
      "R[write to console]: =\n",
      "R[write to console]: =\n",
      "R[write to console]: =\n",
      "R[write to console]: =\n",
      "R[write to console]: =\n",
      "R[write to console]: =\n",
      "R[write to console]: =\n",
      "R[write to console]: =\n",
      "R[write to console]: =\n",
      "R[write to console]: =\n",
      "R[write to console]: =\n",
      "R[write to console]: =\n",
      "R[write to console]: =\n",
      "R[write to console]: =\n",
      "R[write to console]: =\n",
      "R[write to console]: =\n",
      "R[write to console]: =\n",
      "R[write to console]: =\n",
      "R[write to console]: =\n",
      "R[write to console]: =\n",
      "R[write to console]: =\n",
      "R[write to console]: =\n",
      "R[write to console]: =\n",
      "R[write to console]: =\n",
      "R[write to console]: =\n",
      "R[write to console]: =\n",
      "R[write to console]: =\n",
      "R[write to console]: =\n",
      "R[write to console]: =\n",
      "R[write to console]: =\n",
      "R[write to console]: =\n",
      "R[write to console]: =\n",
      "R[write to console]: =\n",
      "R[write to console]: =\n",
      "R[write to console]: =\n",
      "R[write to console]: =\n",
      "R[write to console]: =\n",
      "R[write to console]: =\n",
      "R[write to console]: =\n",
      "R[write to console]: =\n",
      "R[write to console]: \n",
      "\n",
      "R[write to console]: downloaded 565 KB\n",
      "\n",
      "\n",
      "* installing *source* package ‘backports’ ...\n",
      "** package ‘backports’ successfully unpacked and MD5 sums checked\n",
      "** using staged installation\n",
      "** libs\n"
     ]
    },
    {
     "name": "stdout",
     "output_type": "stream",
     "text": [
      "gcc -I\"/usr/include/R/\" -DNDEBUG   -I/usr/local/include   -fpic  -march=x86-64 -mtune=generic -O2 -pipe -fno-plt -fexceptions         -Wp,-D_FORTIFY_SOURCE=2 -Wformat -Werror=format-security         -fstack-clash-protection -fcf-protection -flto=auto -ffat-lto-objects  -c dotsElt.c -o dotsElt.o\n",
      "gcc -I\"/usr/include/R/\" -DNDEBUG   -I/usr/local/include   -fpic  -march=x86-64 -mtune=generic -O2 -pipe -fno-plt -fexceptions         -Wp,-D_FORTIFY_SOURCE=2 -Wformat -Werror=format-security         -fstack-clash-protection -fcf-protection -flto=auto -ffat-lto-objects  -c dotsLength.c -o dotsLength.o\n",
      "gcc -I\"/usr/include/R/\" -DNDEBUG   -I/usr/local/include   -fpic  -march=x86-64 -mtune=generic -O2 -pipe -fno-plt -fexceptions         -Wp,-D_FORTIFY_SOURCE=2 -Wformat -Werror=format-security         -fstack-clash-protection -fcf-protection -flto=auto -ffat-lto-objects  -c dotsNames.c -o dotsNames.o\n",
      "gcc -I\"/usr/include/R/\" -DNDEBUG   -I/usr/local/include   -fpic  -march=x86-64 -mtune=generic -O2 -pipe -fno-plt -fexceptions         -Wp,-D_FORTIFY_SOURCE=2 -Wformat -Werror=format-security         -fstack-clash-protection -fcf-protection -flto=auto -ffat-lto-objects  -c init.c -o init.o\n",
      "gcc -shared -L/usr/lib64/R/lib -Wl,-O1,--sort-common,--as-needed,-z,relro,-z,now -flto=auto -o backports.so dotsElt.o dotsLength.o dotsNames.o init.o -L/usr/lib64/R/lib -lR\n"
     ]
    },
    {
     "name": "stderr",
     "output_type": "stream",
     "text": [
      "installing to /home/renato/R/x86_64-pc-linux-gnu-library/4.2/00LOCK-backports/00new/backports/libs\n",
      "** R\n",
      "** byte-compile and prepare package for lazy loading\n",
      "** help\n",
      "*** installing help indices\n",
      "** building package indices\n",
      "** testing if installed package can be loaded from temporary location\n",
      "** checking absolute paths in shared objects and dynamic libraries\n",
      "** testing if installed package can be loaded from final location\n",
      "** testing if installed package keeps a record of temporary installation path\n",
      "* DONE (backports)\n",
      "* installing *source* package ‘Matrix’ ...\n",
      "** package ‘Matrix’ successfully unpacked and MD5 sums checked\n",
      "** using staged installation\n",
      "** libs\n"
     ]
    },
    {
     "name": "stdout",
     "output_type": "stream",
     "text": [
      "gcc -I\"/usr/include/R/\" -DNDEBUG -DNTIMER -I./SuiteSparse_config -DUSE_FC_LEN_T  -I/usr/local/include   -fpic  -march=x86-64 -mtune=generic -O2 -pipe -fno-plt -fexceptions         -Wp,-D_FORTIFY_SOURCE=2 -Wformat -Werror=format-security         -fstack-clash-protection -fcf-protection -flto=auto -ffat-lto-objects  -c CHMfactor.c -o CHMfactor.o\n",
      "gcc -I\"/usr/include/R/\" -DNDEBUG -DNTIMER -I./SuiteSparse_config -DUSE_FC_LEN_T  -I/usr/local/include   -fpic  -march=x86-64 -mtune=generic -O2 -pipe -fno-plt -fexceptions         -Wp,-D_FORTIFY_SOURCE=2 -Wformat -Werror=format-security         -fstack-clash-protection -fcf-protection -flto=auto -ffat-lto-objects  -c Csparse.c -o Csparse.o\n",
      "gcc -I\"/usr/include/R/\" -DNDEBUG -DNTIMER -I./SuiteSparse_config -DUSE_FC_LEN_T  -I/usr/local/include   -fpic  -march=x86-64 -mtune=generic -O2 -pipe -fno-plt -fexceptions         -Wp,-D_FORTIFY_SOURCE=2 -Wformat -Werror=format-security         -fstack-clash-protection -fcf-protection -flto=auto -ffat-lto-objects  -c TMatrix_as.c -o TMatrix_as.o\n",
      "gcc -I\"/usr/include/R/\" -DNDEBUG -DNTIMER -I./SuiteSparse_config -DUSE_FC_LEN_T  -I/usr/local/include   -fpic  -march=x86-64 -mtune=generic -O2 -pipe -fno-plt -fexceptions         -Wp,-D_FORTIFY_SOURCE=2 -Wformat -Werror=format-security         -fstack-clash-protection -fcf-protection -flto=auto -ffat-lto-objects  -c Tsparse.c -o Tsparse.o\n",
      "gcc -I\"/usr/include/R/\" -DNDEBUG -DNTIMER -I./SuiteSparse_config -DUSE_FC_LEN_T  -I/usr/local/include   -fpic  -march=x86-64 -mtune=generic -O2 -pipe -fno-plt -fexceptions         -Wp,-D_FORTIFY_SOURCE=2 -Wformat -Werror=format-security         -fstack-clash-protection -fcf-protection -flto=auto -ffat-lto-objects  -c init.c -o init.o\n",
      "gcc -I\"/usr/include/R/\" -DNDEBUG -DNTIMER -I./SuiteSparse_config -DUSE_FC_LEN_T  -I/usr/local/include   -fpic  -march=x86-64 -mtune=generic -O2 -pipe -fno-plt -fexceptions         -Wp,-D_FORTIFY_SOURCE=2 -Wformat -Werror=format-security         -fstack-clash-protection -fcf-protection -flto=auto -ffat-lto-objects  -c Mutils.c -o Mutils.o\n",
      "gcc -I\"/usr/include/R/\" -DNDEBUG -DNTIMER -I./SuiteSparse_config -DUSE_FC_LEN_T  -I/usr/local/include   -fpic  -march=x86-64 -mtune=generic -O2 -pipe -fno-plt -fexceptions         -Wp,-D_FORTIFY_SOURCE=2 -Wformat -Werror=format-security         -fstack-clash-protection -fcf-protection -flto=auto -ffat-lto-objects  -c chm_common.c -o chm_common.o\n",
      "gcc -I\"/usr/include/R/\" -DNDEBUG -DNTIMER -I./SuiteSparse_config -DUSE_FC_LEN_T  -I/usr/local/include   -fpic  -march=x86-64 -mtune=generic -O2 -pipe -fno-plt -fexceptions         -Wp,-D_FORTIFY_SOURCE=2 -Wformat -Werror=format-security         -fstack-clash-protection -fcf-protection -flto=auto -ffat-lto-objects  -c cs.c -o cs.o\n",
      "gcc -I\"/usr/include/R/\" -DNDEBUG -DNTIMER -I./SuiteSparse_config -DUSE_FC_LEN_T  -I/usr/local/include   -fpic  -march=x86-64 -mtune=generic -O2 -pipe -fno-plt -fexceptions         -Wp,-D_FORTIFY_SOURCE=2 -Wformat -Werror=format-security         -fstack-clash-protection -fcf-protection -flto=auto -ffat-lto-objects  -c cs_utils.c -o cs_utils.o\n",
      "gcc -I\"/usr/include/R/\" -DNDEBUG -DNTIMER -I./SuiteSparse_config -DUSE_FC_LEN_T  -I/usr/local/include   -fpic  -march=x86-64 -mtune=generic -O2 -pipe -fno-plt -fexceptions         -Wp,-D_FORTIFY_SOURCE=2 -Wformat -Werror=format-security         -fstack-clash-protection -fcf-protection -flto=auto -ffat-lto-objects  -c dense.c -o dense.o\n",
      "gcc -I\"/usr/include/R/\" -DNDEBUG -DNTIMER -I./SuiteSparse_config -DUSE_FC_LEN_T  -I/usr/local/include   -fpic  -march=x86-64 -mtune=generic -O2 -pipe -fno-plt -fexceptions         -Wp,-D_FORTIFY_SOURCE=2 -Wformat -Werror=format-security         -fstack-clash-protection -fcf-protection -flto=auto -ffat-lto-objects  -c dgCMatrix.c -o dgCMatrix.o\n",
      "gcc -I\"/usr/include/R/\" -DNDEBUG -DNTIMER -I./SuiteSparse_config -DUSE_FC_LEN_T  -I/usr/local/include   -fpic  -march=x86-64 -mtune=generic -O2 -pipe -fno-plt -fexceptions         -Wp,-D_FORTIFY_SOURCE=2 -Wformat -Werror=format-security         -fstack-clash-protection -fcf-protection -flto=auto -ffat-lto-objects  -c dgTMatrix.c -o dgTMatrix.o\n",
      "gcc -I\"/usr/include/R/\" -DNDEBUG -DNTIMER -I./SuiteSparse_config -DUSE_FC_LEN_T  -I/usr/local/include   -fpic  -march=x86-64 -mtune=generic -O2 -pipe -fno-plt -fexceptions         -Wp,-D_FORTIFY_SOURCE=2 -Wformat -Werror=format-security         -fstack-clash-protection -fcf-protection -flto=auto -ffat-lto-objects  -c dgeMatrix.c -o dgeMatrix.o\n",
      "gcc -I\"/usr/include/R/\" -DNDEBUG -DNTIMER -I./SuiteSparse_config -DUSE_FC_LEN_T  -I/usr/local/include   -fpic  -march=x86-64 -mtune=generic -O2 -pipe -fno-plt -fexceptions         -Wp,-D_FORTIFY_SOURCE=2 -Wformat -Werror=format-security         -fstack-clash-protection -fcf-protection -flto=auto -ffat-lto-objects  -c dpoMatrix.c -o dpoMatrix.o\n",
      "gcc -I\"/usr/include/R/\" -DNDEBUG -DNTIMER -I./SuiteSparse_config -DUSE_FC_LEN_T  -I/usr/local/include   -fpic  -march=x86-64 -mtune=generic -O2 -pipe -fno-plt -fexceptions         -Wp,-D_FORTIFY_SOURCE=2 -Wformat -Werror=format-security         -fstack-clash-protection -fcf-protection -flto=auto -ffat-lto-objects  -c dppMatrix.c -o dppMatrix.o\n",
      "gcc -I\"/usr/include/R/\" -DNDEBUG -DNTIMER -I./SuiteSparse_config -DUSE_FC_LEN_T  -I/usr/local/include   -fpic  -march=x86-64 -mtune=generic -O2 -pipe -fno-plt -fexceptions         -Wp,-D_FORTIFY_SOURCE=2 -Wformat -Werror=format-security         -fstack-clash-protection -fcf-protection -flto=auto -ffat-lto-objects  -c dsCMatrix.c -o dsCMatrix.o\n",
      "gcc -I\"/usr/include/R/\" -DNDEBUG -DNTIMER -I./SuiteSparse_config -DUSE_FC_LEN_T  -I/usr/local/include   -fpic  -march=x86-64 -mtune=generic -O2 -pipe -fno-plt -fexceptions         -Wp,-D_FORTIFY_SOURCE=2 -Wformat -Werror=format-security         -fstack-clash-protection -fcf-protection -flto=auto -ffat-lto-objects  -c dsyMatrix.c -o dsyMatrix.o\n",
      "gcc -I\"/usr/include/R/\" -DNDEBUG -DNTIMER -I./SuiteSparse_config -DUSE_FC_LEN_T  -I/usr/local/include   -fpic  -march=x86-64 -mtune=generic -O2 -pipe -fno-plt -fexceptions         -Wp,-D_FORTIFY_SOURCE=2 -Wformat -Werror=format-security         -fstack-clash-protection -fcf-protection -flto=auto -ffat-lto-objects  -c dspMatrix.c -o dspMatrix.o\n",
      "gcc -I\"/usr/include/R/\" -DNDEBUG -DNTIMER -I./SuiteSparse_config -DUSE_FC_LEN_T  -I/usr/local/include   -fpic  -march=x86-64 -mtune=generic -O2 -pipe -fno-plt -fexceptions         -Wp,-D_FORTIFY_SOURCE=2 -Wformat -Werror=format-security         -fstack-clash-protection -fcf-protection -flto=auto -ffat-lto-objects  -c dtCMatrix.c -o dtCMatrix.o\n",
      "gcc -I\"/usr/include/R/\" -DNDEBUG -DNTIMER -I./SuiteSparse_config -DUSE_FC_LEN_T  -I/usr/local/include   -fpic  -march=x86-64 -mtune=generic -O2 -pipe -fno-plt -fexceptions         -Wp,-D_FORTIFY_SOURCE=2 -Wformat -Werror=format-security         -fstack-clash-protection -fcf-protection -flto=auto -ffat-lto-objects  -c dtTMatrix.c -o dtTMatrix.o\n",
      "gcc -I\"/usr/include/R/\" -DNDEBUG -DNTIMER -I./SuiteSparse_config -DUSE_FC_LEN_T  -I/usr/local/include   -fpic  -march=x86-64 -mtune=generic -O2 -pipe -fno-plt -fexceptions         -Wp,-D_FORTIFY_SOURCE=2 -Wformat -Werror=format-security         -fstack-clash-protection -fcf-protection -flto=auto -ffat-lto-objects  -c dtrMatrix.c -o dtrMatrix.o\n",
      "gcc -I\"/usr/include/R/\" -DNDEBUG -DNTIMER -I./SuiteSparse_config -DUSE_FC_LEN_T  -I/usr/local/include   -fpic  -march=x86-64 -mtune=generic -O2 -pipe -fno-plt -fexceptions         -Wp,-D_FORTIFY_SOURCE=2 -Wformat -Werror=format-security         -fstack-clash-protection -fcf-protection -flto=auto -ffat-lto-objects  -c dtpMatrix.c -o dtpMatrix.o\n",
      "gcc -I\"/usr/include/R/\" -DNDEBUG -DNTIMER -I./SuiteSparse_config -DUSE_FC_LEN_T  -I/usr/local/include   -fpic  -march=x86-64 -mtune=generic -O2 -pipe -fno-plt -fexceptions         -Wp,-D_FORTIFY_SOURCE=2 -Wformat -Werror=format-security         -fstack-clash-protection -fcf-protection -flto=auto -ffat-lto-objects  -c factorizations.c -o factorizations.o\n",
      "gcc -I\"/usr/include/R/\" -DNDEBUG -DNTIMER -I./SuiteSparse_config -DUSE_FC_LEN_T  -I/usr/local/include   -fpic  -march=x86-64 -mtune=generic -O2 -pipe -fno-plt -fexceptions         -Wp,-D_FORTIFY_SOURCE=2 -Wformat -Werror=format-security         -fstack-clash-protection -fcf-protection -flto=auto -ffat-lto-objects  -c ldense.c -o ldense.o\n",
      "gcc -I\"/usr/include/R/\" -DNDEBUG -DNTIMER -I./SuiteSparse_config -DUSE_FC_LEN_T  -I/usr/local/include   -fpic  -march=x86-64 -mtune=generic -O2 -pipe -fno-plt -fexceptions         -Wp,-D_FORTIFY_SOURCE=2 -Wformat -Werror=format-security         -fstack-clash-protection -fcf-protection -flto=auto -ffat-lto-objects  -c lgCMatrix.c -o lgCMatrix.o\n",
      "gcc -I\"/usr/include/R/\" -DNDEBUG -DNTIMER -I./SuiteSparse_config -DUSE_FC_LEN_T  -I/usr/local/include   -fpic  -march=x86-64 -mtune=generic -O2 -pipe -fno-plt -fexceptions         -Wp,-D_FORTIFY_SOURCE=2 -Wformat -Werror=format-security         -fstack-clash-protection -fcf-protection -flto=auto -ffat-lto-objects  -c sparseQR.c -o sparseQR.o\n"
     ]
    },
    {
     "name": "stdout",
     "output_type": "stream",
     "text": [
      "gcc -I\"/usr/include/R/\" -DNDEBUG -DNTIMER -I./SuiteSparse_config -DUSE_FC_LEN_T  -I/usr/local/include   -fpic  -march=x86-64 -mtune=generic -O2 -pipe -fno-plt -fexceptions         -Wp,-D_FORTIFY_SOURCE=2 -Wformat -Werror=format-security         -fstack-clash-protection -fcf-protection -flto=auto -ffat-lto-objects  -c abIndex.c -o abIndex.o\n",
      "gcc -I\"/usr/include/R/\" -DNDEBUG -DNTIMER -I./SuiteSparse_config -DUSE_FC_LEN_T  -I/usr/local/include   -fpic  -march=x86-64 -mtune=generic -O2 -pipe -fno-plt -fexceptions         -Wp,-D_FORTIFY_SOURCE=2 -Wformat -Werror=format-security         -fstack-clash-protection -fcf-protection -flto=auto -ffat-lto-objects  -c packedMatrix.c -o packedMatrix.o\n",
      "gcc -I\"/usr/include/R/\" -DNDEBUG -DNTIMER -I./SuiteSparse_config -DUSE_FC_LEN_T  -I/usr/local/include   -fpic  -march=x86-64 -mtune=generic -O2 -pipe -fno-plt -fexceptions         -Wp,-D_FORTIFY_SOURCE=2 -Wformat -Werror=format-security         -fstack-clash-protection -fcf-protection -flto=auto -ffat-lto-objects  -c unpackedMatrix.c -o unpackedMatrix.o\n",
      "gcc -I\"/usr/include/R/\" -DNDEBUG -DNTIMER -I./SuiteSparse_config -DUSE_FC_LEN_T  -I/usr/local/include   -fpic  -march=x86-64 -mtune=generic -O2 -pipe -fno-plt -fexceptions         -Wp,-D_FORTIFY_SOURCE=2 -Wformat -Werror=format-security         -fstack-clash-protection -fcf-protection -flto=auto -ffat-lto-objects  -c sparse.c -o sparse.o\n",
      "make[1]: Entering directory '/tmp/RtmpNvBjEv/R.INSTALL203a04b5f964c/Matrix/src/CHOLMOD'\n",
      "( cd Lib ; make clean )\n",
      "make[2]: Entering directory '/tmp/RtmpNvBjEv/R.INSTALL203a04b5f964c/Matrix/src/CHOLMOD/Lib'\n",
      "make[2]: Leaving directory '/tmp/RtmpNvBjEv/R.INSTALL203a04b5f964c/Matrix/src/CHOLMOD/Lib'\n",
      "make[1]: Leaving directory '/tmp/RtmpNvBjEv/R.INSTALL203a04b5f964c/Matrix/src/CHOLMOD'\n",
      "make[1]: Entering directory '/tmp/RtmpNvBjEv/R.INSTALL203a04b5f964c/Matrix/src/COLAMD'\n",
      "( cd Source ; make clean )\n",
      "make[2]: Entering directory '/tmp/RtmpNvBjEv/R.INSTALL203a04b5f964c/Matrix/src/COLAMD/Source'\n",
      "make[2]: Leaving directory '/tmp/RtmpNvBjEv/R.INSTALL203a04b5f964c/Matrix/src/COLAMD/Source'\n",
      "make[1]: Leaving directory '/tmp/RtmpNvBjEv/R.INSTALL203a04b5f964c/Matrix/src/COLAMD'\n",
      "make[1]: Entering directory '/tmp/RtmpNvBjEv/R.INSTALL203a04b5f964c/Matrix/src/AMD'\n",
      "( cd Source ; make clean )\n",
      "make[2]: Entering directory '/tmp/RtmpNvBjEv/R.INSTALL203a04b5f964c/Matrix/src/AMD/Source'\n",
      "make[2]: Leaving directory '/tmp/RtmpNvBjEv/R.INSTALL203a04b5f964c/Matrix/src/AMD/Source'\n",
      "make[1]: Leaving directory '/tmp/RtmpNvBjEv/R.INSTALL203a04b5f964c/Matrix/src/AMD'\n",
      "make[1]: Entering directory '/tmp/RtmpNvBjEv/R.INSTALL203a04b5f964c/Matrix/src/SuiteSparse_config'\n",
      "make[1]: Leaving directory '/tmp/RtmpNvBjEv/R.INSTALL203a04b5f964c/Matrix/src/SuiteSparse_config'\n",
      "make[1]: Entering directory '/tmp/RtmpNvBjEv/R.INSTALL203a04b5f964c/Matrix/src/CHOLMOD'\n",
      "( cd Lib ; make -f \"/usr/lib64/R/etc/Makeconf\" -f Makefile )\n",
      "make[2]: Entering directory '/tmp/RtmpNvBjEv/R.INSTALL203a04b5f964c/Matrix/src/CHOLMOD/Lib'\n",
      "gcc -I\"/usr/include/R/\" -DNDEBUG -I../../AMD/Include -I../../AMD/Source -I../../COLAMD/Include -I../Include -I../../SuiteSparse_config -DNPARTITION -DNPRINT  -I/usr/local/include   -fpic  -march=x86-64 -mtune=generic -O2 -pipe -fno-plt -fexceptions         -Wp,-D_FORTIFY_SOURCE=2 -Wformat -Werror=format-security         -fstack-clash-protection -fcf-protection -flto=auto -ffat-lto-objects  -c ../Core/cholmod_aat.c -o cholmod_aat.o\n",
      "gcc -I\"/usr/include/R/\" -DNDEBUG -I../../AMD/Include -I../../AMD/Source -I../../COLAMD/Include -I../Include -I../../SuiteSparse_config -DNPARTITION -DNPRINT  -I/usr/local/include   -fpic  -march=x86-64 -mtune=generic -O2 -pipe -fno-plt -fexceptions         -Wp,-D_FORTIFY_SOURCE=2 -Wformat -Werror=format-security         -fstack-clash-protection -fcf-protection -flto=auto -ffat-lto-objects  -c ../Core/cholmod_add.c -o cholmod_add.o\n",
      "gcc -I\"/usr/include/R/\" -DNDEBUG -I../../AMD/Include -I../../AMD/Source -I../../COLAMD/Include -I../Include -I../../SuiteSparse_config -DNPARTITION -DNPRINT  -I/usr/local/include   -fpic  -march=x86-64 -mtune=generic -O2 -pipe -fno-plt -fexceptions         -Wp,-D_FORTIFY_SOURCE=2 -Wformat -Werror=format-security         -fstack-clash-protection -fcf-protection -flto=auto -ffat-lto-objects  -c ../Core/cholmod_band.c -o cholmod_band.o\n",
      "gcc -I\"/usr/include/R/\" -DNDEBUG -I../../AMD/Include -I../../AMD/Source -I../../COLAMD/Include -I../Include -I../../SuiteSparse_config -DNPARTITION -DNPRINT  -I/usr/local/include   -fpic  -march=x86-64 -mtune=generic -O2 -pipe -fno-plt -fexceptions         -Wp,-D_FORTIFY_SOURCE=2 -Wformat -Werror=format-security         -fstack-clash-protection -fcf-protection -flto=auto -ffat-lto-objects  -c ../Core/cholmod_change_factor.c -o cholmod_change_factor.o\n",
      "gcc -I\"/usr/include/R/\" -DNDEBUG -I../../AMD/Include -I../../AMD/Source -I../../COLAMD/Include -I../Include -I../../SuiteSparse_config -DNPARTITION -DNPRINT  -I/usr/local/include   -fpic  -march=x86-64 -mtune=generic -O2 -pipe -fno-plt -fexceptions         -Wp,-D_FORTIFY_SOURCE=2 -Wformat -Werror=format-security         -fstack-clash-protection -fcf-protection -flto=auto -ffat-lto-objects  -c ../Core/cholmod_common.c -o cholmod_common.o\n",
      "gcc -I\"/usr/include/R/\" -DNDEBUG -I../../AMD/Include -I../../AMD/Source -I../../COLAMD/Include -I../Include -I../../SuiteSparse_config -DNPARTITION -DNPRINT  -I/usr/local/include   -fpic  -march=x86-64 -mtune=generic -O2 -pipe -fno-plt -fexceptions         -Wp,-D_FORTIFY_SOURCE=2 -Wformat -Werror=format-security         -fstack-clash-protection -fcf-protection -flto=auto -ffat-lto-objects  -c ../Core/cholmod_complex.c -o cholmod_complex.o\n",
      "gcc -I\"/usr/include/R/\" -DNDEBUG -I../../AMD/Include -I../../AMD/Source -I../../COLAMD/Include -I../Include -I../../SuiteSparse_config -DNPARTITION -DNPRINT  -I/usr/local/include   -fpic  -march=x86-64 -mtune=generic -O2 -pipe -fno-plt -fexceptions         -Wp,-D_FORTIFY_SOURCE=2 -Wformat -Werror=format-security         -fstack-clash-protection -fcf-protection -flto=auto -ffat-lto-objects  -c ../Core/cholmod_copy.c -o cholmod_copy.o\n",
      "gcc -I\"/usr/include/R/\" -DNDEBUG -I../../AMD/Include -I../../AMD/Source -I../../COLAMD/Include -I../Include -I../../SuiteSparse_config -DNPARTITION -DNPRINT  -I/usr/local/include   -fpic  -march=x86-64 -mtune=generic -O2 -pipe -fno-plt -fexceptions         -Wp,-D_FORTIFY_SOURCE=2 -Wformat -Werror=format-security         -fstack-clash-protection -fcf-protection -flto=auto -ffat-lto-objects  -c ../Core/cholmod_dense.c -o cholmod_dense.o\n",
      "gcc -I\"/usr/include/R/\" -DNDEBUG -I../../AMD/Include -I../../AMD/Source -I../../COLAMD/Include -I../Include -I../../SuiteSparse_config -DNPARTITION -DNPRINT  -I/usr/local/include   -fpic  -march=x86-64 -mtune=generic -O2 -pipe -fno-plt -fexceptions         -Wp,-D_FORTIFY_SOURCE=2 -Wformat -Werror=format-security         -fstack-clash-protection -fcf-protection -flto=auto -ffat-lto-objects  -c ../Core/cholmod_error.c -o cholmod_error.o\n",
      "gcc -I\"/usr/include/R/\" -DNDEBUG -I../../AMD/Include -I../../AMD/Source -I../../COLAMD/Include -I../Include -I../../SuiteSparse_config -DNPARTITION -DNPRINT  -I/usr/local/include   -fpic  -march=x86-64 -mtune=generic -O2 -pipe -fno-plt -fexceptions         -Wp,-D_FORTIFY_SOURCE=2 -Wformat -Werror=format-security         -fstack-clash-protection -fcf-protection -flto=auto -ffat-lto-objects  -c ../Core/cholmod_factor.c -o cholmod_factor.o\n",
      "gcc -I\"/usr/include/R/\" -DNDEBUG -I../../AMD/Include -I../../AMD/Source -I../../COLAMD/Include -I../Include -I../../SuiteSparse_config -DNPARTITION -DNPRINT  -I/usr/local/include   -fpic  -march=x86-64 -mtune=generic -O2 -pipe -fno-plt -fexceptions         -Wp,-D_FORTIFY_SOURCE=2 -Wformat -Werror=format-security         -fstack-clash-protection -fcf-protection -flto=auto -ffat-lto-objects  -c ../Core/cholmod_memory.c -o cholmod_memory.o\n",
      "gcc -I\"/usr/include/R/\" -DNDEBUG -I../../AMD/Include -I../../AMD/Source -I../../COLAMD/Include -I../Include -I../../SuiteSparse_config -DNPARTITION -DNPRINT  -I/usr/local/include   -fpic  -march=x86-64 -mtune=generic -O2 -pipe -fno-plt -fexceptions         -Wp,-D_FORTIFY_SOURCE=2 -Wformat -Werror=format-security         -fstack-clash-protection -fcf-protection -flto=auto -ffat-lto-objects  -c ../Core/cholmod_sparse.c -o cholmod_sparse.o\n",
      "gcc -I\"/usr/include/R/\" -DNDEBUG -I../../AMD/Include -I../../AMD/Source -I../../COLAMD/Include -I../Include -I../../SuiteSparse_config -DNPARTITION -DNPRINT  -I/usr/local/include   -fpic  -march=x86-64 -mtune=generic -O2 -pipe -fno-plt -fexceptions         -Wp,-D_FORTIFY_SOURCE=2 -Wformat -Werror=format-security         -fstack-clash-protection -fcf-protection -flto=auto -ffat-lto-objects  -c ../Core/cholmod_transpose.c -o cholmod_transpose.o\n"
     ]
    },
    {
     "name": "stdout",
     "output_type": "stream",
     "text": [
      "gcc -I\"/usr/include/R/\" -DNDEBUG -I../../AMD/Include -I../../AMD/Source -I../../COLAMD/Include -I../Include -I../../SuiteSparse_config -DNPARTITION -DNPRINT  -I/usr/local/include   -fpic  -march=x86-64 -mtune=generic -O2 -pipe -fno-plt -fexceptions         -Wp,-D_FORTIFY_SOURCE=2 -Wformat -Werror=format-security         -fstack-clash-protection -fcf-protection -flto=auto -ffat-lto-objects  -c ../Core/cholmod_triplet.c -o cholmod_triplet.o\n",
      "gcc -I\"/usr/include/R/\" -DNDEBUG -I../../AMD/Include -I../../AMD/Source -I../../COLAMD/Include -I../Include -I../../SuiteSparse_config -DNPARTITION -DNPRINT  -I/usr/local/include   -fpic  -march=x86-64 -mtune=generic -O2 -pipe -fno-plt -fexceptions         -Wp,-D_FORTIFY_SOURCE=2 -Wformat -Werror=format-security         -fstack-clash-protection -fcf-protection -flto=auto -ffat-lto-objects  -c ../Core/cholmod_version.c -o cholmod_version.o\n",
      "gcc -I\"/usr/include/R/\" -DNDEBUG -I../../AMD/Include -I../../AMD/Source -I../../COLAMD/Include -I../Include -I../../SuiteSparse_config -DNPARTITION -DNPRINT  -I/usr/local/include   -fpic  -march=x86-64 -mtune=generic -O2 -pipe -fno-plt -fexceptions         -Wp,-D_FORTIFY_SOURCE=2 -Wformat -Werror=format-security         -fstack-clash-protection -fcf-protection -flto=auto -ffat-lto-objects  -c ../Check/cholmod_check.c -o cholmod_check.o\n",
      "gcc -I\"/usr/include/R/\" -DNDEBUG -I../../AMD/Include -I../../AMD/Source -I../../COLAMD/Include -I../Include -I../../SuiteSparse_config -DNPARTITION -DNPRINT  -I/usr/local/include   -fpic  -march=x86-64 -mtune=generic -O2 -pipe -fno-plt -fexceptions         -Wp,-D_FORTIFY_SOURCE=2 -Wformat -Werror=format-security         -fstack-clash-protection -fcf-protection -flto=auto -ffat-lto-objects  -c ../Check/cholmod_read.c -o cholmod_read.o\n",
      "gcc -I\"/usr/include/R/\" -DNDEBUG -I../../AMD/Include -I../../AMD/Source -I../../COLAMD/Include -I../Include -I../../SuiteSparse_config -DNPARTITION -DNPRINT  -I/usr/local/include   -fpic  -march=x86-64 -mtune=generic -O2 -pipe -fno-plt -fexceptions         -Wp,-D_FORTIFY_SOURCE=2 -Wformat -Werror=format-security         -fstack-clash-protection -fcf-protection -flto=auto -ffat-lto-objects  -c ../Check/cholmod_write.c -o cholmod_write.o\n",
      "gcc -I\"/usr/include/R/\" -DNDEBUG -I../../AMD/Include -I../../AMD/Source -I../../COLAMD/Include -I../Include -I../../SuiteSparse_config -DNPARTITION -DNPRINT  -I/usr/local/include   -fpic  -march=x86-64 -mtune=generic -O2 -pipe -fno-plt -fexceptions         -Wp,-D_FORTIFY_SOURCE=2 -Wformat -Werror=format-security         -fstack-clash-protection -fcf-protection -flto=auto -ffat-lto-objects  -c ../Cholesky/cholmod_amd.c -o cholmod_amd.o\n",
      "gcc -I\"/usr/include/R/\" -DNDEBUG -I../../AMD/Include -I../../AMD/Source -I../../COLAMD/Include -I../Include -I../../SuiteSparse_config -DNPARTITION -DNPRINT  -I/usr/local/include   -fpic  -march=x86-64 -mtune=generic -O2 -pipe -fno-plt -fexceptions         -Wp,-D_FORTIFY_SOURCE=2 -Wformat -Werror=format-security         -fstack-clash-protection -fcf-protection -flto=auto -ffat-lto-objects  -c ../Cholesky/cholmod_analyze.c -o cholmod_analyze.o\n",
      "gcc -I\"/usr/include/R/\" -DNDEBUG -I../../AMD/Include -I../../AMD/Source -I../../COLAMD/Include -I../Include -I../../SuiteSparse_config -DNPARTITION -DNPRINT  -I/usr/local/include   -fpic  -march=x86-64 -mtune=generic -O2 -pipe -fno-plt -fexceptions         -Wp,-D_FORTIFY_SOURCE=2 -Wformat -Werror=format-security         -fstack-clash-protection -fcf-protection -flto=auto -ffat-lto-objects  -c ../Cholesky/cholmod_colamd.c -o cholmod_colamd.o\n",
      "gcc -I\"/usr/include/R/\" -DNDEBUG -I../../AMD/Include -I../../AMD/Source -I../../COLAMD/Include -I../Include -I../../SuiteSparse_config -DNPARTITION -DNPRINT  -I/usr/local/include   -fpic  -march=x86-64 -mtune=generic -O2 -pipe -fno-plt -fexceptions         -Wp,-D_FORTIFY_SOURCE=2 -Wformat -Werror=format-security         -fstack-clash-protection -fcf-protection -flto=auto -ffat-lto-objects  -c ../Cholesky/cholmod_etree.c -o cholmod_etree.o\n",
      "gcc -I\"/usr/include/R/\" -DNDEBUG -I../../AMD/Include -I../../AMD/Source -I../../COLAMD/Include -I../Include -I../../SuiteSparse_config -DNPARTITION -DNPRINT  -I/usr/local/include   -fpic  -march=x86-64 -mtune=generic -O2 -pipe -fno-plt -fexceptions         -Wp,-D_FORTIFY_SOURCE=2 -Wformat -Werror=format-security         -fstack-clash-protection -fcf-protection -flto=auto -ffat-lto-objects  -c ../Cholesky/cholmod_factorize.c -o cholmod_factorize.o\n",
      "gcc -I\"/usr/include/R/\" -DNDEBUG -I../../AMD/Include -I../../AMD/Source -I../../COLAMD/Include -I../Include -I../../SuiteSparse_config -DNPARTITION -DNPRINT  -I/usr/local/include   -fpic  -march=x86-64 -mtune=generic -O2 -pipe -fno-plt -fexceptions         -Wp,-D_FORTIFY_SOURCE=2 -Wformat -Werror=format-security         -fstack-clash-protection -fcf-protection -flto=auto -ffat-lto-objects  -c ../Cholesky/cholmod_postorder.c -o cholmod_postorder.o\n",
      "gcc -I\"/usr/include/R/\" -DNDEBUG -I../../AMD/Include -I../../AMD/Source -I../../COLAMD/Include -I../Include -I../../SuiteSparse_config -DNPARTITION -DNPRINT  -I/usr/local/include   -fpic  -march=x86-64 -mtune=generic -O2 -pipe -fno-plt -fexceptions         -Wp,-D_FORTIFY_SOURCE=2 -Wformat -Werror=format-security         -fstack-clash-protection -fcf-protection -flto=auto -ffat-lto-objects  -c ../Cholesky/cholmod_rcond.c -o cholmod_rcond.o\n",
      "gcc -I\"/usr/include/R/\" -DNDEBUG -I../../AMD/Include -I../../AMD/Source -I../../COLAMD/Include -I../Include -I../../SuiteSparse_config -DNPARTITION -DNPRINT  -I/usr/local/include   -fpic  -march=x86-64 -mtune=generic -O2 -pipe -fno-plt -fexceptions         -Wp,-D_FORTIFY_SOURCE=2 -Wformat -Werror=format-security         -fstack-clash-protection -fcf-protection -flto=auto -ffat-lto-objects  -c ../Cholesky/cholmod_resymbol.c -o cholmod_resymbol.o\n",
      "gcc -I\"/usr/include/R/\" -DNDEBUG -I../../AMD/Include -I../../AMD/Source -I../../COLAMD/Include -I../Include -I../../SuiteSparse_config -DNPARTITION -DNPRINT  -I/usr/local/include   -fpic  -march=x86-64 -mtune=generic -O2 -pipe -fno-plt -fexceptions         -Wp,-D_FORTIFY_SOURCE=2 -Wformat -Werror=format-security         -fstack-clash-protection -fcf-protection -flto=auto -ffat-lto-objects  -c ../Cholesky/cholmod_rowcolcounts.c -o cholmod_rowcolcounts.o\n",
      "gcc -I\"/usr/include/R/\" -DNDEBUG -I../../AMD/Include -I../../AMD/Source -I../../COLAMD/Include -I../Include -I../../SuiteSparse_config -DNPARTITION -DNPRINT  -I/usr/local/include   -fpic  -march=x86-64 -mtune=generic -O2 -pipe -fno-plt -fexceptions         -Wp,-D_FORTIFY_SOURCE=2 -Wformat -Werror=format-security         -fstack-clash-protection -fcf-protection -flto=auto -ffat-lto-objects  -c ../Cholesky/cholmod_rowfac.c -o cholmod_rowfac.o\n",
      "gcc -I\"/usr/include/R/\" -DNDEBUG -I../../AMD/Include -I../../AMD/Source -I../../COLAMD/Include -I../Include -I../../SuiteSparse_config -DNPARTITION -DNPRINT  -I/usr/local/include   -fpic  -march=x86-64 -mtune=generic -O2 -pipe -fno-plt -fexceptions         -Wp,-D_FORTIFY_SOURCE=2 -Wformat -Werror=format-security         -fstack-clash-protection -fcf-protection -flto=auto -ffat-lto-objects  -c ../Cholesky/cholmod_solve.c -o cholmod_solve.o\n",
      "gcc -I\"/usr/include/R/\" -DNDEBUG -I../../AMD/Include -I../../AMD/Source -I../../COLAMD/Include -I../Include -I../../SuiteSparse_config -DNPARTITION -DNPRINT  -I/usr/local/include   -fpic  -march=x86-64 -mtune=generic -O2 -pipe -fno-plt -fexceptions         -Wp,-D_FORTIFY_SOURCE=2 -Wformat -Werror=format-security         -fstack-clash-protection -fcf-protection -flto=auto -ffat-lto-objects  -c ../Cholesky/cholmod_spsolve.c -o cholmod_spsolve.o\n",
      "gcc -I\"/usr/include/R/\" -DNDEBUG -I../../AMD/Include -I../../AMD/Source -I../../COLAMD/Include -I../Include -I../../SuiteSparse_config -DNPARTITION -DNPRINT  -I/usr/local/include   -fpic  -march=x86-64 -mtune=generic -O2 -pipe -fno-plt -fexceptions         -Wp,-D_FORTIFY_SOURCE=2 -Wformat -Werror=format-security         -fstack-clash-protection -fcf-protection -flto=auto -ffat-lto-objects  -c ../MatrixOps/cholmod_drop.c -o cholmod_drop.o\n",
      "gcc -I\"/usr/include/R/\" -DNDEBUG -I../../AMD/Include -I../../AMD/Source -I../../COLAMD/Include -I../Include -I../../SuiteSparse_config -DNPARTITION -DNPRINT  -I/usr/local/include   -fpic  -march=x86-64 -mtune=generic -O2 -pipe -fno-plt -fexceptions         -Wp,-D_FORTIFY_SOURCE=2 -Wformat -Werror=format-security         -fstack-clash-protection -fcf-protection -flto=auto -ffat-lto-objects  -c ../MatrixOps/cholmod_horzcat.c -o cholmod_horzcat.o\n",
      "gcc -I\"/usr/include/R/\" -DNDEBUG -I../../AMD/Include -I../../AMD/Source -I../../COLAMD/Include -I../Include -I../../SuiteSparse_config -DNPARTITION -DNPRINT  -I/usr/local/include   -fpic  -march=x86-64 -mtune=generic -O2 -pipe -fno-plt -fexceptions         -Wp,-D_FORTIFY_SOURCE=2 -Wformat -Werror=format-security         -fstack-clash-protection -fcf-protection -flto=auto -ffat-lto-objects  -c ../MatrixOps/cholmod_norm.c -o cholmod_norm.o\n"
     ]
    },
    {
     "name": "stdout",
     "output_type": "stream",
     "text": [
      "gcc -I\"/usr/include/R/\" -DNDEBUG -I../../AMD/Include -I../../AMD/Source -I../../COLAMD/Include -I../Include -I../../SuiteSparse_config -DNPARTITION -DNPRINT  -I/usr/local/include   -fpic  -march=x86-64 -mtune=generic -O2 -pipe -fno-plt -fexceptions         -Wp,-D_FORTIFY_SOURCE=2 -Wformat -Werror=format-security         -fstack-clash-protection -fcf-protection -flto=auto -ffat-lto-objects  -c ../MatrixOps/cholmod_scale.c -o cholmod_scale.o\n",
      "gcc -I\"/usr/include/R/\" -DNDEBUG -I../../AMD/Include -I../../AMD/Source -I../../COLAMD/Include -I../Include -I../../SuiteSparse_config -DNPARTITION -DNPRINT  -I/usr/local/include   -fpic  -march=x86-64 -mtune=generic -O2 -pipe -fno-plt -fexceptions         -Wp,-D_FORTIFY_SOURCE=2 -Wformat -Werror=format-security         -fstack-clash-protection -fcf-protection -flto=auto -ffat-lto-objects  -c ../MatrixOps/cholmod_sdmult.c -o cholmod_sdmult.o\n",
      "gcc -I\"/usr/include/R/\" -DNDEBUG -I../../AMD/Include -I../../AMD/Source -I../../COLAMD/Include -I../Include -I../../SuiteSparse_config -DNPARTITION -DNPRINT  -I/usr/local/include   -fpic  -march=x86-64 -mtune=generic -O2 -pipe -fno-plt -fexceptions         -Wp,-D_FORTIFY_SOURCE=2 -Wformat -Werror=format-security         -fstack-clash-protection -fcf-protection -flto=auto -ffat-lto-objects  -c ../MatrixOps/cholmod_ssmult.c -o cholmod_ssmult.o\n",
      "gcc -I\"/usr/include/R/\" -DNDEBUG -I../../AMD/Include -I../../AMD/Source -I../../COLAMD/Include -I../Include -I../../SuiteSparse_config -DNPARTITION -DNPRINT  -I/usr/local/include   -fpic  -march=x86-64 -mtune=generic -O2 -pipe -fno-plt -fexceptions         -Wp,-D_FORTIFY_SOURCE=2 -Wformat -Werror=format-security         -fstack-clash-protection -fcf-protection -flto=auto -ffat-lto-objects  -c ../MatrixOps/cholmod_submatrix.c -o cholmod_submatrix.o\n",
      "gcc -I\"/usr/include/R/\" -DNDEBUG -I../../AMD/Include -I../../AMD/Source -I../../COLAMD/Include -I../Include -I../../SuiteSparse_config -DNPARTITION -DNPRINT  -I/usr/local/include   -fpic  -march=x86-64 -mtune=generic -O2 -pipe -fno-plt -fexceptions         -Wp,-D_FORTIFY_SOURCE=2 -Wformat -Werror=format-security         -fstack-clash-protection -fcf-protection -flto=auto -ffat-lto-objects  -c ../MatrixOps/cholmod_vertcat.c -o cholmod_vertcat.o\n",
      "gcc -I\"/usr/include/R/\" -DNDEBUG -I../../AMD/Include -I../../AMD/Source -I../../COLAMD/Include -I../Include -I../../SuiteSparse_config -DNPARTITION -DNPRINT  -I/usr/local/include   -fpic  -march=x86-64 -mtune=generic -O2 -pipe -fno-plt -fexceptions         -Wp,-D_FORTIFY_SOURCE=2 -Wformat -Werror=format-security         -fstack-clash-protection -fcf-protection -flto=auto -ffat-lto-objects  -c ../MatrixOps/cholmod_symmetry.c -o cholmod_symmetry.o\n",
      "gcc -I\"/usr/include/R/\" -DNDEBUG -I../../AMD/Include -I../../AMD/Source -I../../COLAMD/Include -I../Include -I../../SuiteSparse_config -DNPARTITION -DNPRINT  -I/usr/local/include   -fpic  -march=x86-64 -mtune=generic -O2 -pipe -fno-plt -fexceptions         -Wp,-D_FORTIFY_SOURCE=2 -Wformat -Werror=format-security         -fstack-clash-protection -fcf-protection -flto=auto -ffat-lto-objects  -c ../Modify/cholmod_rowadd.c -o cholmod_rowadd.o\n",
      "gcc -I\"/usr/include/R/\" -DNDEBUG -I../../AMD/Include -I../../AMD/Source -I../../COLAMD/Include -I../Include -I../../SuiteSparse_config -DNPARTITION -DNPRINT  -I/usr/local/include   -fpic  -march=x86-64 -mtune=generic -O2 -pipe -fno-plt -fexceptions         -Wp,-D_FORTIFY_SOURCE=2 -Wformat -Werror=format-security         -fstack-clash-protection -fcf-protection -flto=auto -ffat-lto-objects  -c ../Modify/cholmod_rowdel.c -o cholmod_rowdel.o\n",
      "gcc -I\"/usr/include/R/\" -DNDEBUG -I../../AMD/Include -I../../AMD/Source -I../../COLAMD/Include -I../Include -I../../SuiteSparse_config -DNPARTITION -DNPRINT  -I/usr/local/include   -fpic  -march=x86-64 -mtune=generic -O2 -pipe -fno-plt -fexceptions         -Wp,-D_FORTIFY_SOURCE=2 -Wformat -Werror=format-security         -fstack-clash-protection -fcf-protection -flto=auto -ffat-lto-objects  -c ../Modify/cholmod_updown.c -o cholmod_updown.o\n",
      "gcc -I\"/usr/include/R/\" -DNDEBUG -I../../AMD/Include -I../../AMD/Source -I../../COLAMD/Include -I../Include -I../../SuiteSparse_config -DNPARTITION -DNPRINT  -I/usr/local/include   -fpic  -march=x86-64 -mtune=generic -O2 -pipe -fno-plt -fexceptions         -Wp,-D_FORTIFY_SOURCE=2 -Wformat -Werror=format-security         -fstack-clash-protection -fcf-protection -flto=auto -ffat-lto-objects  -c ../Supernodal/cholmod_super_numeric.c -o cholmod_super_numeric.o\n",
      "gcc -I\"/usr/include/R/\" -DNDEBUG -I../../AMD/Include -I../../AMD/Source -I../../COLAMD/Include -I../Include -I../../SuiteSparse_config -DNPARTITION -DNPRINT  -I/usr/local/include   -fpic  -march=x86-64 -mtune=generic -O2 -pipe -fno-plt -fexceptions         -Wp,-D_FORTIFY_SOURCE=2 -Wformat -Werror=format-security         -fstack-clash-protection -fcf-protection -flto=auto -ffat-lto-objects  -c ../Supernodal/cholmod_super_solve.c -o cholmod_super_solve.o\n",
      "gcc -I\"/usr/include/R/\" -DNDEBUG -I../../AMD/Include -I../../AMD/Source -I../../COLAMD/Include -I../Include -I../../SuiteSparse_config -DNPARTITION -DNPRINT  -I/usr/local/include   -fpic  -march=x86-64 -mtune=generic -O2 -pipe -fno-plt -fexceptions         -Wp,-D_FORTIFY_SOURCE=2 -Wformat -Werror=format-security         -fstack-clash-protection -fcf-protection -flto=auto -ffat-lto-objects  -c ../Supernodal/cholmod_super_symbolic.c -o cholmod_super_symbolic.o\n",
      "gcc -I\"/usr/include/R/\" -DNDEBUG -I../../AMD/Include -I../../AMD/Source -I../../COLAMD/Include -I../Include -I../../SuiteSparse_config -DNPARTITION -DNPRINT  -I/usr/local/include   -fpic  -march=x86-64 -mtune=generic -O2 -pipe -fno-plt -fexceptions         -Wp,-D_FORTIFY_SOURCE=2 -Wformat -Werror=format-security         -fstack-clash-protection -fcf-protection -flto=auto -ffat-lto-objects  -DDLONG -c  ../Core/cholmod_aat.c -o cholmod_l_aat.o\n",
      "gcc -I\"/usr/include/R/\" -DNDEBUG -I../../AMD/Include -I../../AMD/Source -I../../COLAMD/Include -I../Include -I../../SuiteSparse_config -DNPARTITION -DNPRINT  -I/usr/local/include   -fpic  -march=x86-64 -mtune=generic -O2 -pipe -fno-plt -fexceptions         -Wp,-D_FORTIFY_SOURCE=2 -Wformat -Werror=format-security         -fstack-clash-protection -fcf-protection -flto=auto -ffat-lto-objects  -DDLONG -c  ../Core/cholmod_add.c -o cholmod_l_add.o\n",
      "gcc -I\"/usr/include/R/\" -DNDEBUG -I../../AMD/Include -I../../AMD/Source -I../../COLAMD/Include -I../Include -I../../SuiteSparse_config -DNPARTITION -DNPRINT  -I/usr/local/include   -fpic  -march=x86-64 -mtune=generic -O2 -pipe -fno-plt -fexceptions         -Wp,-D_FORTIFY_SOURCE=2 -Wformat -Werror=format-security         -fstack-clash-protection -fcf-protection -flto=auto -ffat-lto-objects  -DDLONG -c  ../Core/cholmod_band.c -o cholmod_l_band.o\n",
      "gcc -I\"/usr/include/R/\" -DNDEBUG -I../../AMD/Include -I../../AMD/Source -I../../COLAMD/Include -I../Include -I../../SuiteSparse_config -DNPARTITION -DNPRINT  -I/usr/local/include   -fpic  -march=x86-64 -mtune=generic -O2 -pipe -fno-plt -fexceptions         -Wp,-D_FORTIFY_SOURCE=2 -Wformat -Werror=format-security         -fstack-clash-protection -fcf-protection -flto=auto -ffat-lto-objects  -DDLONG -c  ../Core/cholmod_change_factor.c -o cholmod_l_change_factor.o\n",
      "gcc -I\"/usr/include/R/\" -DNDEBUG -I../../AMD/Include -I../../AMD/Source -I../../COLAMD/Include -I../Include -I../../SuiteSparse_config -DNPARTITION -DNPRINT  -I/usr/local/include   -fpic  -march=x86-64 -mtune=generic -O2 -pipe -fno-plt -fexceptions         -Wp,-D_FORTIFY_SOURCE=2 -Wformat -Werror=format-security         -fstack-clash-protection -fcf-protection -flto=auto -ffat-lto-objects  -DDLONG -c  ../Core/cholmod_common.c -o cholmod_l_common.o\n",
      "gcc -I\"/usr/include/R/\" -DNDEBUG -I../../AMD/Include -I../../AMD/Source -I../../COLAMD/Include -I../Include -I../../SuiteSparse_config -DNPARTITION -DNPRINT  -I/usr/local/include   -fpic  -march=x86-64 -mtune=generic -O2 -pipe -fno-plt -fexceptions         -Wp,-D_FORTIFY_SOURCE=2 -Wformat -Werror=format-security         -fstack-clash-protection -fcf-protection -flto=auto -ffat-lto-objects  -DDLONG -c  ../Core/cholmod_complex.c -o cholmod_l_complex.o\n",
      "gcc -I\"/usr/include/R/\" -DNDEBUG -I../../AMD/Include -I../../AMD/Source -I../../COLAMD/Include -I../Include -I../../SuiteSparse_config -DNPARTITION -DNPRINT  -I/usr/local/include   -fpic  -march=x86-64 -mtune=generic -O2 -pipe -fno-plt -fexceptions         -Wp,-D_FORTIFY_SOURCE=2 -Wformat -Werror=format-security         -fstack-clash-protection -fcf-protection -flto=auto -ffat-lto-objects  -DDLONG -c  ../Core/cholmod_copy.c -o cholmod_l_copy.o\n"
     ]
    },
    {
     "name": "stdout",
     "output_type": "stream",
     "text": [
      "gcc -I\"/usr/include/R/\" -DNDEBUG -I../../AMD/Include -I../../AMD/Source -I../../COLAMD/Include -I../Include -I../../SuiteSparse_config -DNPARTITION -DNPRINT  -I/usr/local/include   -fpic  -march=x86-64 -mtune=generic -O2 -pipe -fno-plt -fexceptions         -Wp,-D_FORTIFY_SOURCE=2 -Wformat -Werror=format-security         -fstack-clash-protection -fcf-protection -flto=auto -ffat-lto-objects  -DDLONG -c  ../Core/cholmod_dense.c -o cholmod_l_dense.o\n",
      "gcc -I\"/usr/include/R/\" -DNDEBUG -I../../AMD/Include -I../../AMD/Source -I../../COLAMD/Include -I../Include -I../../SuiteSparse_config -DNPARTITION -DNPRINT  -I/usr/local/include   -fpic  -march=x86-64 -mtune=generic -O2 -pipe -fno-plt -fexceptions         -Wp,-D_FORTIFY_SOURCE=2 -Wformat -Werror=format-security         -fstack-clash-protection -fcf-protection -flto=auto -ffat-lto-objects  -DDLONG -c  ../Core/cholmod_error.c -o cholmod_l_error.o\n",
      "gcc -I\"/usr/include/R/\" -DNDEBUG -I../../AMD/Include -I../../AMD/Source -I../../COLAMD/Include -I../Include -I../../SuiteSparse_config -DNPARTITION -DNPRINT  -I/usr/local/include   -fpic  -march=x86-64 -mtune=generic -O2 -pipe -fno-plt -fexceptions         -Wp,-D_FORTIFY_SOURCE=2 -Wformat -Werror=format-security         -fstack-clash-protection -fcf-protection -flto=auto -ffat-lto-objects  -DDLONG -c  ../Core/cholmod_factor.c -o cholmod_l_factor.o\n",
      "gcc -I\"/usr/include/R/\" -DNDEBUG -I../../AMD/Include -I../../AMD/Source -I../../COLAMD/Include -I../Include -I../../SuiteSparse_config -DNPARTITION -DNPRINT  -I/usr/local/include   -fpic  -march=x86-64 -mtune=generic -O2 -pipe -fno-plt -fexceptions         -Wp,-D_FORTIFY_SOURCE=2 -Wformat -Werror=format-security         -fstack-clash-protection -fcf-protection -flto=auto -ffat-lto-objects  -DDLONG -c  ../Core/cholmod_memory.c -o cholmod_l_memory.o\n",
      "gcc -I\"/usr/include/R/\" -DNDEBUG -I../../AMD/Include -I../../AMD/Source -I../../COLAMD/Include -I../Include -I../../SuiteSparse_config -DNPARTITION -DNPRINT  -I/usr/local/include   -fpic  -march=x86-64 -mtune=generic -O2 -pipe -fno-plt -fexceptions         -Wp,-D_FORTIFY_SOURCE=2 -Wformat -Werror=format-security         -fstack-clash-protection -fcf-protection -flto=auto -ffat-lto-objects  -DDLONG -c  ../Core/cholmod_sparse.c -o cholmod_l_sparse.o\n",
      "gcc -I\"/usr/include/R/\" -DNDEBUG -I../../AMD/Include -I../../AMD/Source -I../../COLAMD/Include -I../Include -I../../SuiteSparse_config -DNPARTITION -DNPRINT  -I/usr/local/include   -fpic  -march=x86-64 -mtune=generic -O2 -pipe -fno-plt -fexceptions         -Wp,-D_FORTIFY_SOURCE=2 -Wformat -Werror=format-security         -fstack-clash-protection -fcf-protection -flto=auto -ffat-lto-objects  -DDLONG -c  ../Core/cholmod_transpose.c -o cholmod_l_transpose.o\n",
      "gcc -I\"/usr/include/R/\" -DNDEBUG -I../../AMD/Include -I../../AMD/Source -I../../COLAMD/Include -I../Include -I../../SuiteSparse_config -DNPARTITION -DNPRINT  -I/usr/local/include   -fpic  -march=x86-64 -mtune=generic -O2 -pipe -fno-plt -fexceptions         -Wp,-D_FORTIFY_SOURCE=2 -Wformat -Werror=format-security         -fstack-clash-protection -fcf-protection -flto=auto -ffat-lto-objects  -DDLONG -c  ../Core/cholmod_triplet.c -o cholmod_l_triplet.o\n",
      "gcc -I\"/usr/include/R/\" -DNDEBUG -I../../AMD/Include -I../../AMD/Source -I../../COLAMD/Include -I../Include -I../../SuiteSparse_config -DNPARTITION -DNPRINT  -I/usr/local/include   -fpic  -march=x86-64 -mtune=generic -O2 -pipe -fno-plt -fexceptions         -Wp,-D_FORTIFY_SOURCE=2 -Wformat -Werror=format-security         -fstack-clash-protection -fcf-protection -flto=auto -ffat-lto-objects  -DDLONG -c  ../Core/cholmod_version.c -o cholmod_l_version.o\n",
      "gcc -I\"/usr/include/R/\" -DNDEBUG -I../../AMD/Include -I../../AMD/Source -I../../COLAMD/Include -I../Include -I../../SuiteSparse_config -DNPARTITION -DNPRINT  -I/usr/local/include   -fpic  -march=x86-64 -mtune=generic -O2 -pipe -fno-plt -fexceptions         -Wp,-D_FORTIFY_SOURCE=2 -Wformat -Werror=format-security         -fstack-clash-protection -fcf-protection -flto=auto -ffat-lto-objects  -DDLONG -c  ../Check/cholmod_check.c -o cholmod_l_check.o\n",
      "gcc -I\"/usr/include/R/\" -DNDEBUG -I../../AMD/Include -I../../AMD/Source -I../../COLAMD/Include -I../Include -I../../SuiteSparse_config -DNPARTITION -DNPRINT  -I/usr/local/include   -fpic  -march=x86-64 -mtune=generic -O2 -pipe -fno-plt -fexceptions         -Wp,-D_FORTIFY_SOURCE=2 -Wformat -Werror=format-security         -fstack-clash-protection -fcf-protection -flto=auto -ffat-lto-objects  -DDLONG -c  ../Check/cholmod_read.c -o cholmod_l_read.o\n",
      "gcc -I\"/usr/include/R/\" -DNDEBUG -I../../AMD/Include -I../../AMD/Source -I../../COLAMD/Include -I../Include -I../../SuiteSparse_config -DNPARTITION -DNPRINT  -I/usr/local/include   -fpic  -march=x86-64 -mtune=generic -O2 -pipe -fno-plt -fexceptions         -Wp,-D_FORTIFY_SOURCE=2 -Wformat -Werror=format-security         -fstack-clash-protection -fcf-protection -flto=auto -ffat-lto-objects  -DDLONG -c  ../Check/cholmod_write.c -o cholmod_l_write.o\n",
      "gcc -I\"/usr/include/R/\" -DNDEBUG -I../../AMD/Include -I../../AMD/Source -I../../COLAMD/Include -I../Include -I../../SuiteSparse_config -DNPARTITION -DNPRINT  -I/usr/local/include   -fpic  -march=x86-64 -mtune=generic -O2 -pipe -fno-plt -fexceptions         -Wp,-D_FORTIFY_SOURCE=2 -Wformat -Werror=format-security         -fstack-clash-protection -fcf-protection -flto=auto -ffat-lto-objects  -DDLONG -c  ../Cholesky/cholmod_amd.c -o cholmod_l_amd.o\n",
      "gcc -I\"/usr/include/R/\" -DNDEBUG -I../../AMD/Include -I../../AMD/Source -I../../COLAMD/Include -I../Include -I../../SuiteSparse_config -DNPARTITION -DNPRINT  -I/usr/local/include   -fpic  -march=x86-64 -mtune=generic -O2 -pipe -fno-plt -fexceptions         -Wp,-D_FORTIFY_SOURCE=2 -Wformat -Werror=format-security         -fstack-clash-protection -fcf-protection -flto=auto -ffat-lto-objects  -DDLONG -c  ../Cholesky/cholmod_analyze.c -o cholmod_l_analyze.o\n",
      "gcc -I\"/usr/include/R/\" -DNDEBUG -I../../AMD/Include -I../../AMD/Source -I../../COLAMD/Include -I../Include -I../../SuiteSparse_config -DNPARTITION -DNPRINT  -I/usr/local/include   -fpic  -march=x86-64 -mtune=generic -O2 -pipe -fno-plt -fexceptions         -Wp,-D_FORTIFY_SOURCE=2 -Wformat -Werror=format-security         -fstack-clash-protection -fcf-protection -flto=auto -ffat-lto-objects  -DDLONG -c  ../Cholesky/cholmod_colamd.c -o cholmod_l_colamd.o\n",
      "gcc -I\"/usr/include/R/\" -DNDEBUG -I../../AMD/Include -I../../AMD/Source -I../../COLAMD/Include -I../Include -I../../SuiteSparse_config -DNPARTITION -DNPRINT  -I/usr/local/include   -fpic  -march=x86-64 -mtune=generic -O2 -pipe -fno-plt -fexceptions         -Wp,-D_FORTIFY_SOURCE=2 -Wformat -Werror=format-security         -fstack-clash-protection -fcf-protection -flto=auto -ffat-lto-objects  -DDLONG -c  ../Cholesky/cholmod_etree.c -o cholmod_l_etree.o\n",
      "gcc -I\"/usr/include/R/\" -DNDEBUG -I../../AMD/Include -I../../AMD/Source -I../../COLAMD/Include -I../Include -I../../SuiteSparse_config -DNPARTITION -DNPRINT  -I/usr/local/include   -fpic  -march=x86-64 -mtune=generic -O2 -pipe -fno-plt -fexceptions         -Wp,-D_FORTIFY_SOURCE=2 -Wformat -Werror=format-security         -fstack-clash-protection -fcf-protection -flto=auto -ffat-lto-objects  -DDLONG -c  ../Cholesky/cholmod_factorize.c -o cholmod_l_factorize.o\n",
      "gcc -I\"/usr/include/R/\" -DNDEBUG -I../../AMD/Include -I../../AMD/Source -I../../COLAMD/Include -I../Include -I../../SuiteSparse_config -DNPARTITION -DNPRINT  -I/usr/local/include   -fpic  -march=x86-64 -mtune=generic -O2 -pipe -fno-plt -fexceptions         -Wp,-D_FORTIFY_SOURCE=2 -Wformat -Werror=format-security         -fstack-clash-protection -fcf-protection -flto=auto -ffat-lto-objects  -DDLONG -c  ../Cholesky/cholmod_postorder.c -o cholmod_l_postorder.o\n",
      "gcc -I\"/usr/include/R/\" -DNDEBUG -I../../AMD/Include -I../../AMD/Source -I../../COLAMD/Include -I../Include -I../../SuiteSparse_config -DNPARTITION -DNPRINT  -I/usr/local/include   -fpic  -march=x86-64 -mtune=generic -O2 -pipe -fno-plt -fexceptions         -Wp,-D_FORTIFY_SOURCE=2 -Wformat -Werror=format-security         -fstack-clash-protection -fcf-protection -flto=auto -ffat-lto-objects  -DDLONG -c  ../Cholesky/cholmod_rcond.c -o cholmod_l_rcond.o\n",
      "gcc -I\"/usr/include/R/\" -DNDEBUG -I../../AMD/Include -I../../AMD/Source -I../../COLAMD/Include -I../Include -I../../SuiteSparse_config -DNPARTITION -DNPRINT  -I/usr/local/include   -fpic  -march=x86-64 -mtune=generic -O2 -pipe -fno-plt -fexceptions         -Wp,-D_FORTIFY_SOURCE=2 -Wformat -Werror=format-security         -fstack-clash-protection -fcf-protection -flto=auto -ffat-lto-objects  -DDLONG -c  ../Cholesky/cholmod_resymbol.c -o cholmod_l_resymbol.o\n",
      "gcc -I\"/usr/include/R/\" -DNDEBUG -I../../AMD/Include -I../../AMD/Source -I../../COLAMD/Include -I../Include -I../../SuiteSparse_config -DNPARTITION -DNPRINT  -I/usr/local/include   -fpic  -march=x86-64 -mtune=generic -O2 -pipe -fno-plt -fexceptions         -Wp,-D_FORTIFY_SOURCE=2 -Wformat -Werror=format-security         -fstack-clash-protection -fcf-protection -flto=auto -ffat-lto-objects  -DDLONG -c  ../Cholesky/cholmod_rowcolcounts.c -o cholmod_l_rowcolcounts.o\n"
     ]
    },
    {
     "name": "stdout",
     "output_type": "stream",
     "text": [
      "gcc -I\"/usr/include/R/\" -DNDEBUG -I../../AMD/Include -I../../AMD/Source -I../../COLAMD/Include -I../Include -I../../SuiteSparse_config -DNPARTITION -DNPRINT  -I/usr/local/include   -fpic  -march=x86-64 -mtune=generic -O2 -pipe -fno-plt -fexceptions         -Wp,-D_FORTIFY_SOURCE=2 -Wformat -Werror=format-security         -fstack-clash-protection -fcf-protection -flto=auto -ffat-lto-objects  -DDLONG -c  ../Cholesky/cholmod_rowfac.c -o cholmod_l_rowfac.o\n",
      "gcc -I\"/usr/include/R/\" -DNDEBUG -I../../AMD/Include -I../../AMD/Source -I../../COLAMD/Include -I../Include -I../../SuiteSparse_config -DNPARTITION -DNPRINT  -I/usr/local/include   -fpic  -march=x86-64 -mtune=generic -O2 -pipe -fno-plt -fexceptions         -Wp,-D_FORTIFY_SOURCE=2 -Wformat -Werror=format-security         -fstack-clash-protection -fcf-protection -flto=auto -ffat-lto-objects  -DDLONG -c  ../Cholesky/cholmod_solve.c -o cholmod_l_solve.o\n",
      "gcc -I\"/usr/include/R/\" -DNDEBUG -I../../AMD/Include -I../../AMD/Source -I../../COLAMD/Include -I../Include -I../../SuiteSparse_config -DNPARTITION -DNPRINT  -I/usr/local/include   -fpic  -march=x86-64 -mtune=generic -O2 -pipe -fno-plt -fexceptions         -Wp,-D_FORTIFY_SOURCE=2 -Wformat -Werror=format-security         -fstack-clash-protection -fcf-protection -flto=auto -ffat-lto-objects  -DDLONG -c  ../Cholesky/cholmod_spsolve.c -o cholmod_l_spsolve.o\n",
      "gcc -I\"/usr/include/R/\" -DNDEBUG -I../../AMD/Include -I../../AMD/Source -I../../COLAMD/Include -I../Include -I../../SuiteSparse_config -DNPARTITION -DNPRINT  -I/usr/local/include   -fpic  -march=x86-64 -mtune=generic -O2 -pipe -fno-plt -fexceptions         -Wp,-D_FORTIFY_SOURCE=2 -Wformat -Werror=format-security         -fstack-clash-protection -fcf-protection -flto=auto -ffat-lto-objects  -DDLONG -c  ../MatrixOps/cholmod_drop.c -o cholmod_l_drop.o\n",
      "gcc -I\"/usr/include/R/\" -DNDEBUG -I../../AMD/Include -I../../AMD/Source -I../../COLAMD/Include -I../Include -I../../SuiteSparse_config -DNPARTITION -DNPRINT  -I/usr/local/include   -fpic  -march=x86-64 -mtune=generic -O2 -pipe -fno-plt -fexceptions         -Wp,-D_FORTIFY_SOURCE=2 -Wformat -Werror=format-security         -fstack-clash-protection -fcf-protection -flto=auto -ffat-lto-objects  -DDLONG -c  ../MatrixOps/cholmod_horzcat.c -o cholmod_l_horzcat.o\n",
      "gcc -I\"/usr/include/R/\" -DNDEBUG -I../../AMD/Include -I../../AMD/Source -I../../COLAMD/Include -I../Include -I../../SuiteSparse_config -DNPARTITION -DNPRINT  -I/usr/local/include   -fpic  -march=x86-64 -mtune=generic -O2 -pipe -fno-plt -fexceptions         -Wp,-D_FORTIFY_SOURCE=2 -Wformat -Werror=format-security         -fstack-clash-protection -fcf-protection -flto=auto -ffat-lto-objects  -DDLONG -c  ../MatrixOps/cholmod_norm.c -o cholmod_l_norm.o\n",
      "gcc -I\"/usr/include/R/\" -DNDEBUG -I../../AMD/Include -I../../AMD/Source -I../../COLAMD/Include -I../Include -I../../SuiteSparse_config -DNPARTITION -DNPRINT  -I/usr/local/include   -fpic  -march=x86-64 -mtune=generic -O2 -pipe -fno-plt -fexceptions         -Wp,-D_FORTIFY_SOURCE=2 -Wformat -Werror=format-security         -fstack-clash-protection -fcf-protection -flto=auto -ffat-lto-objects  -DDLONG -c  ../MatrixOps/cholmod_scale.c -o cholmod_l_scale.o\n",
      "gcc -I\"/usr/include/R/\" -DNDEBUG -I../../AMD/Include -I../../AMD/Source -I../../COLAMD/Include -I../Include -I../../SuiteSparse_config -DNPARTITION -DNPRINT  -I/usr/local/include   -fpic  -march=x86-64 -mtune=generic -O2 -pipe -fno-plt -fexceptions         -Wp,-D_FORTIFY_SOURCE=2 -Wformat -Werror=format-security         -fstack-clash-protection -fcf-protection -flto=auto -ffat-lto-objects  -DDLONG -c  ../MatrixOps/cholmod_sdmult.c -o cholmod_l_sdmult.o\n",
      "gcc -I\"/usr/include/R/\" -DNDEBUG -I../../AMD/Include -I../../AMD/Source -I../../COLAMD/Include -I../Include -I../../SuiteSparse_config -DNPARTITION -DNPRINT  -I/usr/local/include   -fpic  -march=x86-64 -mtune=generic -O2 -pipe -fno-plt -fexceptions         -Wp,-D_FORTIFY_SOURCE=2 -Wformat -Werror=format-security         -fstack-clash-protection -fcf-protection -flto=auto -ffat-lto-objects  -DDLONG -c  ../MatrixOps/cholmod_ssmult.c -o cholmod_l_ssmult.o\n",
      "gcc -I\"/usr/include/R/\" -DNDEBUG -I../../AMD/Include -I../../AMD/Source -I../../COLAMD/Include -I../Include -I../../SuiteSparse_config -DNPARTITION -DNPRINT  -I/usr/local/include   -fpic  -march=x86-64 -mtune=generic -O2 -pipe -fno-plt -fexceptions         -Wp,-D_FORTIFY_SOURCE=2 -Wformat -Werror=format-security         -fstack-clash-protection -fcf-protection -flto=auto -ffat-lto-objects  -DDLONG -c  ../MatrixOps/cholmod_submatrix.c -o cholmod_l_submatrix.o\n",
      "gcc -I\"/usr/include/R/\" -DNDEBUG -I../../AMD/Include -I../../AMD/Source -I../../COLAMD/Include -I../Include -I../../SuiteSparse_config -DNPARTITION -DNPRINT  -I/usr/local/include   -fpic  -march=x86-64 -mtune=generic -O2 -pipe -fno-plt -fexceptions         -Wp,-D_FORTIFY_SOURCE=2 -Wformat -Werror=format-security         -fstack-clash-protection -fcf-protection -flto=auto -ffat-lto-objects  -DDLONG -c  ../MatrixOps/cholmod_vertcat.c -o cholmod_l_vertcat.o\n",
      "gcc -I\"/usr/include/R/\" -DNDEBUG -I../../AMD/Include -I../../AMD/Source -I../../COLAMD/Include -I../Include -I../../SuiteSparse_config -DNPARTITION -DNPRINT  -I/usr/local/include   -fpic  -march=x86-64 -mtune=generic -O2 -pipe -fno-plt -fexceptions         -Wp,-D_FORTIFY_SOURCE=2 -Wformat -Werror=format-security         -fstack-clash-protection -fcf-protection -flto=auto -ffat-lto-objects  -DDLONG -c  ../MatrixOps/cholmod_symmetry.c -o cholmod_l_symmetry.o\n",
      "gcc -I\"/usr/include/R/\" -DNDEBUG -I../../AMD/Include -I../../AMD/Source -I../../COLAMD/Include -I../Include -I../../SuiteSparse_config -DNPARTITION -DNPRINT  -I/usr/local/include   -fpic  -march=x86-64 -mtune=generic -O2 -pipe -fno-plt -fexceptions         -Wp,-D_FORTIFY_SOURCE=2 -Wformat -Werror=format-security         -fstack-clash-protection -fcf-protection -flto=auto -ffat-lto-objects  -DDLONG -c  ../Modify/cholmod_rowadd.c -o cholmod_l_rowadd.o\n",
      "gcc -I\"/usr/include/R/\" -DNDEBUG -I../../AMD/Include -I../../AMD/Source -I../../COLAMD/Include -I../Include -I../../SuiteSparse_config -DNPARTITION -DNPRINT  -I/usr/local/include   -fpic  -march=x86-64 -mtune=generic -O2 -pipe -fno-plt -fexceptions         -Wp,-D_FORTIFY_SOURCE=2 -Wformat -Werror=format-security         -fstack-clash-protection -fcf-protection -flto=auto -ffat-lto-objects  -DDLONG -c  ../Modify/cholmod_rowdel.c -o cholmod_l_rowdel.o\n",
      "gcc -I\"/usr/include/R/\" -DNDEBUG -I../../AMD/Include -I../../AMD/Source -I../../COLAMD/Include -I../Include -I../../SuiteSparse_config -DNPARTITION -DNPRINT  -I/usr/local/include   -fpic  -march=x86-64 -mtune=generic -O2 -pipe -fno-plt -fexceptions         -Wp,-D_FORTIFY_SOURCE=2 -Wformat -Werror=format-security         -fstack-clash-protection -fcf-protection -flto=auto -ffat-lto-objects  -DDLONG -c  ../Modify/cholmod_updown.c -o cholmod_l_updown.o\n",
      "gcc -I\"/usr/include/R/\" -DNDEBUG -I../../AMD/Include -I../../AMD/Source -I../../COLAMD/Include -I../Include -I../../SuiteSparse_config -DNPARTITION -DNPRINT  -I/usr/local/include   -fpic  -march=x86-64 -mtune=generic -O2 -pipe -fno-plt -fexceptions         -Wp,-D_FORTIFY_SOURCE=2 -Wformat -Werror=format-security         -fstack-clash-protection -fcf-protection -flto=auto -ffat-lto-objects  -DDLONG -c  ../Supernodal/cholmod_super_numeric.c -o cholmod_l_super_numeric.o\n",
      "gcc -I\"/usr/include/R/\" -DNDEBUG -I../../AMD/Include -I../../AMD/Source -I../../COLAMD/Include -I../Include -I../../SuiteSparse_config -DNPARTITION -DNPRINT  -I/usr/local/include   -fpic  -march=x86-64 -mtune=generic -O2 -pipe -fno-plt -fexceptions         -Wp,-D_FORTIFY_SOURCE=2 -Wformat -Werror=format-security         -fstack-clash-protection -fcf-protection -flto=auto -ffat-lto-objects  -DDLONG -c  ../Supernodal/cholmod_super_solve.c -o cholmod_l_super_solve.o\n",
      "gcc -I\"/usr/include/R/\" -DNDEBUG -I../../AMD/Include -I../../AMD/Source -I../../COLAMD/Include -I../Include -I../../SuiteSparse_config -DNPARTITION -DNPRINT  -I/usr/local/include   -fpic  -march=x86-64 -mtune=generic -O2 -pipe -fno-plt -fexceptions         -Wp,-D_FORTIFY_SOURCE=2 -Wformat -Werror=format-security         -fstack-clash-protection -fcf-protection -flto=auto -ffat-lto-objects  -DDLONG -c  ../Supernodal/cholmod_super_symbolic.c -o cholmod_l_super_symbolic.o\n"
     ]
    },
    {
     "name": "stdout",
     "output_type": "stream",
     "text": [
      "ar -rucs ../../CHOLMOD.a cholmod_aat.o cholmod_add.o cholmod_band.o cholmod_change_factor.o cholmod_common.o cholmod_complex.o cholmod_copy.o cholmod_dense.o cholmod_error.o cholmod_factor.o cholmod_memory.o cholmod_sparse.o cholmod_transpose.o cholmod_triplet.o cholmod_version.o cholmod_check.o cholmod_read.o cholmod_write.o cholmod_amd.o cholmod_analyze.o cholmod_colamd.o cholmod_etree.o cholmod_factorize.o cholmod_postorder.o cholmod_rcond.o cholmod_resymbol.o cholmod_rowcolcounts.o cholmod_rowfac.o cholmod_solve.o cholmod_spsolve.o cholmod_drop.o cholmod_horzcat.o cholmod_norm.o cholmod_scale.o cholmod_sdmult.o cholmod_ssmult.o cholmod_submatrix.o cholmod_vertcat.o cholmod_symmetry.o cholmod_rowadd.o cholmod_rowdel.o cholmod_updown.o cholmod_super_numeric.o cholmod_super_solve.o cholmod_super_symbolic.o  cholmod_l_aat.o cholmod_l_add.o cholmod_l_band.o cholmod_l_change_factor.o cholmod_l_common.o cholmod_l_complex.o cholmod_l_copy.o cholmod_l_dense.o cholmod_l_error.o cholmod_l_factor.o cholmod_l_memory.o cholmod_l_sparse.o cholmod_l_transpose.o cholmod_l_triplet.o cholmod_l_version.o cholmod_l_check.o cholmod_l_read.o cholmod_l_write.o cholmod_l_amd.o cholmod_l_analyze.o cholmod_l_colamd.o cholmod_l_etree.o cholmod_l_factorize.o cholmod_l_postorder.o cholmod_l_rcond.o cholmod_l_resymbol.o cholmod_l_rowcolcounts.o cholmod_l_rowfac.o cholmod_l_solve.o cholmod_l_spsolve.o cholmod_l_drop.o cholmod_l_horzcat.o cholmod_l_norm.o cholmod_l_scale.o cholmod_l_sdmult.o cholmod_l_ssmult.o cholmod_l_submatrix.o cholmod_l_vertcat.o cholmod_l_symmetry.o cholmod_l_rowadd.o cholmod_l_rowdel.o cholmod_l_updown.o cholmod_l_super_numeric.o cholmod_l_super_solve.o cholmod_l_super_symbolic.o \n",
      "make[2]: Leaving directory '/tmp/RtmpNvBjEv/R.INSTALL203a04b5f964c/Matrix/src/CHOLMOD/Lib'\n",
      "make[1]: Leaving directory '/tmp/RtmpNvBjEv/R.INSTALL203a04b5f964c/Matrix/src/CHOLMOD'\n",
      "make[1]: Entering directory '/tmp/RtmpNvBjEv/R.INSTALL203a04b5f964c/Matrix/src/COLAMD'\n",
      "( cd Source ; make -f \"/usr/lib64/R/etc/Makeconf\" -f Makefile lib )\n",
      "make[2]: Entering directory '/tmp/RtmpNvBjEv/R.INSTALL203a04b5f964c/Matrix/src/COLAMD/Source'\n",
      "gcc -I\"/usr/include/R/\" -DNDEBUG -I../Include -I../../SuiteSparse_config  -I/usr/local/include   -fpic  -march=x86-64 -mtune=generic -O2 -pipe -fno-plt -fexceptions         -Wp,-D_FORTIFY_SOURCE=2 -Wformat -Werror=format-security         -fstack-clash-protection -fcf-protection -flto=auto -ffat-lto-objects  -c colamd.c -o colamd.o\n"
     ]
    },
    {
     "name": "stderr",
     "output_type": "stream",
     "text": [
      "ar: `u' modifier ignored since `D' is the default (see `U')\n"
     ]
    },
    {
     "name": "stdout",
     "output_type": "stream",
     "text": [
      "gcc -I\"/usr/include/R/\" -DNDEBUG -I../Include -I../../SuiteSparse_config  -I/usr/local/include   -fpic  -march=x86-64 -mtune=generic -O2 -pipe -fno-plt -fexceptions         -Wp,-D_FORTIFY_SOURCE=2 -Wformat -Werror=format-security         -fstack-clash-protection -fcf-protection -flto=auto -ffat-lto-objects  -I../Include -DDLONG -c colamd.c -o colamd_l.o\n",
      "ar -rucs ../../COLAMD.a colamd.o colamd_l.o\n",
      "make[2]: Leaving directory '/tmp/RtmpNvBjEv/R.INSTALL203a04b5f964c/Matrix/src/COLAMD/Source'\n",
      "make[1]: Leaving directory '/tmp/RtmpNvBjEv/R.INSTALL203a04b5f964c/Matrix/src/COLAMD'\n",
      "make[1]: Entering directory '/tmp/RtmpNvBjEv/R.INSTALL203a04b5f964c/Matrix/src/AMD'\n",
      "( cd Source ; make -f \"/usr/lib64/R/etc/Makeconf\" -f Makefile lib )\n",
      "make[2]: Entering directory '/tmp/RtmpNvBjEv/R.INSTALL203a04b5f964c/Matrix/src/AMD/Source'\n",
      "gcc -I\"/usr/include/R/\" -DNDEBUG -I../Include -I../../SuiteSparse_config  -I/usr/local/include   -fpic  -march=x86-64 -mtune=generic -O2 -pipe -fno-plt -fexceptions         -Wp,-D_FORTIFY_SOURCE=2 -Wformat -Werror=format-security         -fstack-clash-protection -fcf-protection -flto=auto -ffat-lto-objects  -I../Include -DDINT -c amd_aat.c -o amd_i_aat.o\n",
      "gcc -I\"/usr/include/R/\" -DNDEBUG -I../Include -I../../SuiteSparse_config  -I/usr/local/include   -fpic  -march=x86-64 -mtune=generic -O2 -pipe -fno-plt -fexceptions         -Wp,-D_FORTIFY_SOURCE=2 -Wformat -Werror=format-security         -fstack-clash-protection -fcf-protection -flto=auto -ffat-lto-objects  -I../Include -DDLONG -c amd_aat.c -o amd_l_aat.o\n",
      "gcc -I\"/usr/include/R/\" -DNDEBUG -I../Include -I../../SuiteSparse_config  -I/usr/local/include   -fpic  -march=x86-64 -mtune=generic -O2 -pipe -fno-plt -fexceptions         -Wp,-D_FORTIFY_SOURCE=2 -Wformat -Werror=format-security         -fstack-clash-protection -fcf-protection -flto=auto -ffat-lto-objects  -I../Include -DDINT -c amd_1.c -o amd_i_1.o\n",
      "gcc -I\"/usr/include/R/\" -DNDEBUG -I../Include -I../../SuiteSparse_config  -I/usr/local/include   -fpic  -march=x86-64 -mtune=generic -O2 -pipe -fno-plt -fexceptions         -Wp,-D_FORTIFY_SOURCE=2 -Wformat -Werror=format-security         -fstack-clash-protection -fcf-protection -flto=auto -ffat-lto-objects  -I../Include -DDLONG -c amd_1.c -o amd_l_1.o\n"
     ]
    },
    {
     "name": "stderr",
     "output_type": "stream",
     "text": [
      "ar: `u' modifier ignored since `D' is the default (see `U')\n"
     ]
    },
    {
     "name": "stdout",
     "output_type": "stream",
     "text": [
      "gcc -I\"/usr/include/R/\" -DNDEBUG -I../Include -I../../SuiteSparse_config  -I/usr/local/include   -fpic  -march=x86-64 -mtune=generic -O2 -pipe -fno-plt -fexceptions         -Wp,-D_FORTIFY_SOURCE=2 -Wformat -Werror=format-security         -fstack-clash-protection -fcf-protection -flto=auto -ffat-lto-objects  -I../Include -DDINT -c amd_2.c -o amd_i_2.o\n",
      "gcc -I\"/usr/include/R/\" -DNDEBUG -I../Include -I../../SuiteSparse_config  -I/usr/local/include   -fpic  -march=x86-64 -mtune=generic -O2 -pipe -fno-plt -fexceptions         -Wp,-D_FORTIFY_SOURCE=2 -Wformat -Werror=format-security         -fstack-clash-protection -fcf-protection -flto=auto -ffat-lto-objects  -I../Include -DDLONG -c amd_2.c -o amd_l_2.o\n",
      "gcc -I\"/usr/include/R/\" -DNDEBUG -I../Include -I../../SuiteSparse_config  -I/usr/local/include   -fpic  -march=x86-64 -mtune=generic -O2 -pipe -fno-plt -fexceptions         -Wp,-D_FORTIFY_SOURCE=2 -Wformat -Werror=format-security         -fstack-clash-protection -fcf-protection -flto=auto -ffat-lto-objects  -I../Include -DDINT -c amd_postorder.c -o amd_i_postorder.o\n",
      "gcc -I\"/usr/include/R/\" -DNDEBUG -I../Include -I../../SuiteSparse_config  -I/usr/local/include   -fpic  -march=x86-64 -mtune=generic -O2 -pipe -fno-plt -fexceptions         -Wp,-D_FORTIFY_SOURCE=2 -Wformat -Werror=format-security         -fstack-clash-protection -fcf-protection -flto=auto -ffat-lto-objects  -I../Include -DDLONG -c amd_postorder.c -o amd_l_postorder.o\n",
      "gcc -I\"/usr/include/R/\" -DNDEBUG -I../Include -I../../SuiteSparse_config  -I/usr/local/include   -fpic  -march=x86-64 -mtune=generic -O2 -pipe -fno-plt -fexceptions         -Wp,-D_FORTIFY_SOURCE=2 -Wformat -Werror=format-security         -fstack-clash-protection -fcf-protection -flto=auto -ffat-lto-objects  -I../Include -DDINT -c amd_post_tree.c -o amd_i_post_tree.o\n",
      "gcc -I\"/usr/include/R/\" -DNDEBUG -I../Include -I../../SuiteSparse_config  -I/usr/local/include   -fpic  -march=x86-64 -mtune=generic -O2 -pipe -fno-plt -fexceptions         -Wp,-D_FORTIFY_SOURCE=2 -Wformat -Werror=format-security         -fstack-clash-protection -fcf-protection -flto=auto -ffat-lto-objects  -I../Include -DDLONG -c amd_post_tree.c -o amd_l_post_tree.o\n",
      "gcc -I\"/usr/include/R/\" -DNDEBUG -I../Include -I../../SuiteSparse_config  -I/usr/local/include   -fpic  -march=x86-64 -mtune=generic -O2 -pipe -fno-plt -fexceptions         -Wp,-D_FORTIFY_SOURCE=2 -Wformat -Werror=format-security         -fstack-clash-protection -fcf-protection -flto=auto -ffat-lto-objects  -I../Include -DDINT -c amd_defaults.c -o amd_i_defaults.o\n",
      "gcc -I\"/usr/include/R/\" -DNDEBUG -I../Include -I../../SuiteSparse_config  -I/usr/local/include   -fpic  -march=x86-64 -mtune=generic -O2 -pipe -fno-plt -fexceptions         -Wp,-D_FORTIFY_SOURCE=2 -Wformat -Werror=format-security         -fstack-clash-protection -fcf-protection -flto=auto -ffat-lto-objects  -I../Include -DDLONG -c amd_defaults.c -o amd_l_defaults.o\n",
      "gcc -I\"/usr/include/R/\" -DNDEBUG -I../Include -I../../SuiteSparse_config  -I/usr/local/include   -fpic  -march=x86-64 -mtune=generic -O2 -pipe -fno-plt -fexceptions         -Wp,-D_FORTIFY_SOURCE=2 -Wformat -Werror=format-security         -fstack-clash-protection -fcf-protection -flto=auto -ffat-lto-objects  -I../Include -DDINT -c amd_order.c -o amd_i_order.o\n",
      "gcc -I\"/usr/include/R/\" -DNDEBUG -I../Include -I../../SuiteSparse_config  -I/usr/local/include   -fpic  -march=x86-64 -mtune=generic -O2 -pipe -fno-plt -fexceptions         -Wp,-D_FORTIFY_SOURCE=2 -Wformat -Werror=format-security         -fstack-clash-protection -fcf-protection -flto=auto -ffat-lto-objects  -I../Include -DDLONG -c amd_order.c -o amd_l_order.o\n",
      "gcc -I\"/usr/include/R/\" -DNDEBUG -I../Include -I../../SuiteSparse_config  -I/usr/local/include   -fpic  -march=x86-64 -mtune=generic -O2 -pipe -fno-plt -fexceptions         -Wp,-D_FORTIFY_SOURCE=2 -Wformat -Werror=format-security         -fstack-clash-protection -fcf-protection -flto=auto -ffat-lto-objects  -I../Include -DDINT -c amd_control.c -o amd_i_control.o\n",
      "gcc -I\"/usr/include/R/\" -DNDEBUG -I../Include -I../../SuiteSparse_config  -I/usr/local/include   -fpic  -march=x86-64 -mtune=generic -O2 -pipe -fno-plt -fexceptions         -Wp,-D_FORTIFY_SOURCE=2 -Wformat -Werror=format-security         -fstack-clash-protection -fcf-protection -flto=auto -ffat-lto-objects  -I../Include -DDLONG -c amd_control.c -o amd_l_control.o\n",
      "gcc -I\"/usr/include/R/\" -DNDEBUG -I../Include -I../../SuiteSparse_config  -I/usr/local/include   -fpic  -march=x86-64 -mtune=generic -O2 -pipe -fno-plt -fexceptions         -Wp,-D_FORTIFY_SOURCE=2 -Wformat -Werror=format-security         -fstack-clash-protection -fcf-protection -flto=auto -ffat-lto-objects  -I../Include -DDINT -c amd_info.c -o amd_i_info.o\n",
      "gcc -I\"/usr/include/R/\" -DNDEBUG -I../Include -I../../SuiteSparse_config  -I/usr/local/include   -fpic  -march=x86-64 -mtune=generic -O2 -pipe -fno-plt -fexceptions         -Wp,-D_FORTIFY_SOURCE=2 -Wformat -Werror=format-security         -fstack-clash-protection -fcf-protection -flto=auto -ffat-lto-objects  -I../Include -DDLONG -c amd_info.c -o amd_l_info.o\n",
      "gcc -I\"/usr/include/R/\" -DNDEBUG -I../Include -I../../SuiteSparse_config  -I/usr/local/include   -fpic  -march=x86-64 -mtune=generic -O2 -pipe -fno-plt -fexceptions         -Wp,-D_FORTIFY_SOURCE=2 -Wformat -Werror=format-security         -fstack-clash-protection -fcf-protection -flto=auto -ffat-lto-objects  -I../Include -DDINT -c amd_valid.c -o amd_i_valid.o\n",
      "gcc -I\"/usr/include/R/\" -DNDEBUG -I../Include -I../../SuiteSparse_config  -I/usr/local/include   -fpic  -march=x86-64 -mtune=generic -O2 -pipe -fno-plt -fexceptions         -Wp,-D_FORTIFY_SOURCE=2 -Wformat -Werror=format-security         -fstack-clash-protection -fcf-protection -flto=auto -ffat-lto-objects  -I../Include -DDLONG -c amd_valid.c -o amd_l_valid.o\n",
      "gcc -I\"/usr/include/R/\" -DNDEBUG -I../Include -I../../SuiteSparse_config  -I/usr/local/include   -fpic  -march=x86-64 -mtune=generic -O2 -pipe -fno-plt -fexceptions         -Wp,-D_FORTIFY_SOURCE=2 -Wformat -Werror=format-security         -fstack-clash-protection -fcf-protection -flto=auto -ffat-lto-objects  -I../Include -DDINT -c amd_preprocess.c -o amd_i_preprocess.o\n",
      "gcc -I\"/usr/include/R/\" -DNDEBUG -I../Include -I../../SuiteSparse_config  -I/usr/local/include   -fpic  -march=x86-64 -mtune=generic -O2 -pipe -fno-plt -fexceptions         -Wp,-D_FORTIFY_SOURCE=2 -Wformat -Werror=format-security         -fstack-clash-protection -fcf-protection -flto=auto -ffat-lto-objects  -I../Include -DDLONG -c amd_preprocess.c -o amd_l_preprocess.o\n",
      "gcc -I\"/usr/include/R/\" -DNDEBUG -I../Include -I../../SuiteSparse_config  -I/usr/local/include   -fpic  -march=x86-64 -mtune=generic -O2 -pipe -fno-plt -fexceptions         -Wp,-D_FORTIFY_SOURCE=2 -Wformat -Werror=format-security         -fstack-clash-protection -fcf-protection -flto=auto -ffat-lto-objects  -I../Include -DDINT -c amd_dump.c -o amd_i_dump.o\n",
      "gcc -I\"/usr/include/R/\" -DNDEBUG -I../Include -I../../SuiteSparse_config  -I/usr/local/include   -fpic  -march=x86-64 -mtune=generic -O2 -pipe -fno-plt -fexceptions         -Wp,-D_FORTIFY_SOURCE=2 -Wformat -Werror=format-security         -fstack-clash-protection -fcf-protection -flto=auto -ffat-lto-objects  -I../Include -DDLONG -c amd_dump.c -o amd_l_dump.o\n",
      "ar -rucs ../../AMD.a amd_i_aat.o amd_l_aat.o amd_i_1.o amd_l_1.o amd_i_2.o amd_l_2.o amd_i_postorder.o amd_l_postorder.o amd_i_post_tree.o amd_l_post_tree.o amd_i_defaults.o amd_l_defaults.o amd_i_order.o amd_l_order.o amd_i_control.o amd_l_control.o amd_i_info.o amd_l_info.o amd_i_valid.o amd_l_valid.o amd_i_preprocess.o amd_l_preprocess.o amd_i_dump.o amd_l_dump.o\n",
      "make[2]: Leaving directory '/tmp/RtmpNvBjEv/R.INSTALL203a04b5f964c/Matrix/src/AMD/Source'\n",
      "make[1]: Leaving directory '/tmp/RtmpNvBjEv/R.INSTALL203a04b5f964c/Matrix/src/AMD'\n",
      "make[1]: Entering directory '/tmp/RtmpNvBjEv/R.INSTALL203a04b5f964c/Matrix/src/SuiteSparse_config'\n",
      "gcc -I\"/usr/include/R/\" -DNDEBUG -DNTIMER  -I/usr/local/include   -fpic  -march=x86-64 -mtune=generic -O2 -pipe -fno-plt -fexceptions         -Wp,-D_FORTIFY_SOURCE=2 -Wformat -Werror=format-security         -fstack-clash-protection -fcf-protection -flto=auto -ffat-lto-objects  -c SuiteSparse_config.c -o SuiteSparse_config.o\n",
      "ar -rucs ../SuiteSparse_config.a SuiteSparse_config.o\n"
     ]
    },
    {
     "name": "stderr",
     "output_type": "stream",
     "text": [
      "ar: `u' modifier ignored since `D' is the default (see `U')\n",
      "ar: `u' modifier ignored since `D' is the default (see `U')\n"
     ]
    },
    {
     "name": "stdout",
     "output_type": "stream",
     "text": [
      "make[1]: Leaving directory '/tmp/RtmpNvBjEv/R.INSTALL203a04b5f964c/Matrix/src/SuiteSparse_config'\n",
      "gcc -shared -L/usr/lib64/R/lib -Wl,-O1,--sort-common,--as-needed,-z,relro,-z,now -flto=auto -o Matrix.so CHMfactor.o Csparse.o TMatrix_as.o Tsparse.o init.o Mutils.o chm_common.o cs.o cs_utils.o dense.o dgCMatrix.o dgTMatrix.o dgeMatrix.o dpoMatrix.o dppMatrix.o dsCMatrix.o dsyMatrix.o dspMatrix.o dtCMatrix.o dtTMatrix.o dtrMatrix.o dtpMatrix.o factorizations.o ldense.o lgCMatrix.o sparseQR.o abIndex.o packedMatrix.o unpackedMatrix.o sparse.o CHOLMOD.a COLAMD.a AMD.a SuiteSparse_config.a -llapack -lblas -lgfortran -lm -lquadmath -L/usr/lib64/R/lib -lR\n"
     ]
    },
    {
     "name": "stderr",
     "output_type": "stream",
     "text": [
      "installing to /home/renato/R/x86_64-pc-linux-gnu-library/4.2/00LOCK-Matrix/00new/Matrix/libs\n",
      "** R\n",
      "** data\n",
      "** inst\n",
      "** byte-compile and prepare package for lazy loading\n"
     ]
    },
    {
     "name": "stdout",
     "output_type": "stream",
     "text": [
      "Creating a generic function for ‘drop’ from package ‘base’ in package ‘Matrix’\n",
      "Creating a generic function for ‘cov2cor’ from package ‘stats’ in package ‘Matrix’\n",
      "Creating a generic function for ‘unname’ from package ‘base’ in package ‘Matrix’\n",
      "in method for ‘coerce’ with signature ‘\"matrix.csc\",\"dgCMatrix\"’: no definition for class “matrix.csc”\n",
      "in method for ‘coerce’ with signature ‘\"matrix.csr\",\"dgRMatrix\"’: no definition for class “matrix.csr”\n",
      "in method for ‘coerce’ with signature ‘\"matrix.coo\",\"dgTMatrix\"’: no definition for class “matrix.coo”\n",
      "in method for ‘coerce’ with signature ‘\"matrix.csr\",\"dgCMatrix\"’: no definition for class “matrix.csr”\n",
      "in method for ‘coerce’ with signature ‘\"matrix.coo\",\"dgCMatrix\"’: no definition for class “matrix.coo”\n",
      "in method for ‘coerce’ with signature ‘\"matrix.csc\",\"CsparseMatrix\"’: no definition for class “matrix.csc”\n",
      "in method for ‘coerce’ with signature ‘\"matrix.csc\",\"RsparseMatrix\"’: no definition for class “matrix.csc”\n",
      "in method for ‘coerce’ with signature ‘\"matrix.csc\",\"TsparseMatrix\"’: no definition for class “matrix.csc”\n",
      "in method for ‘coerce’ with signature ‘\"matrix.csr\",\"CsparseMatrix\"’: no definition for class “matrix.csr”\n",
      "in method for ‘coerce’ with signature ‘\"matrix.csr\",\"RsparseMatrix\"’: no definition for class “matrix.csr”\n",
      "in method for ‘coerce’ with signature ‘\"matrix.csr\",\"TsparseMatrix\"’: no definition for class “matrix.csr”\n",
      "in method for ‘coerce’ with signature ‘\"matrix.coo\",\"CsparseMatrix\"’: no definition for class “matrix.coo”\n",
      "in method for ‘coerce’ with signature ‘\"matrix.coo\",\"RsparseMatrix\"’: no definition for class “matrix.coo”\n",
      "in method for ‘coerce’ with signature ‘\"matrix.coo\",\"TsparseMatrix\"’: no definition for class “matrix.coo”\n",
      "in method for ‘coerce’ with signature ‘\"matrix.csc\",\"sparseMatrix\"’: no definition for class “matrix.csc”\n",
      "in method for ‘coerce’ with signature ‘\"matrix.csr\",\"sparseMatrix\"’: no definition for class “matrix.csr”\n",
      "in method for ‘coerce’ with signature ‘\"matrix.coo\",\"sparseMatrix\"’: no definition for class “matrix.coo”\n",
      "in method for ‘coerce’ with signature ‘\"matrix.csc\",\"Matrix\"’: no definition for class “matrix.csc”\n",
      "in method for ‘coerce’ with signature ‘\"matrix.csr\",\"Matrix\"’: no definition for class “matrix.csr”\n",
      "in method for ‘coerce’ with signature ‘\"matrix.coo\",\"Matrix\"’: no definition for class “matrix.coo”\n",
      "in method for ‘coerce’ with signature ‘\"dgCMatrix\",\"matrix.csc\"’: no definition for class “matrix.csc”\n",
      "in method for ‘coerce’ with signature ‘\"dgRMatrix\",\"matrix.csr\"’: no definition for class “matrix.csr”\n",
      "in method for ‘coerce’ with signature ‘\"dgTMatrix\",\"matrix.coo\"’: no definition for class “matrix.coo”\n",
      "in method for ‘coerce’ with signature ‘\"Matrix\",\"matrix.csc\"’: no definition for class “matrix.csc”\n",
      "in method for ‘coerce’ with signature ‘\"Matrix\",\"matrix.csr\"’: no definition for class “matrix.csr”\n",
      "in method for ‘coerce’ with signature ‘\"Matrix\",\"matrix.coo\"’: no definition for class “matrix.coo”\n",
      "Creating a generic function for ‘chol2inv’ from ‘base’ in package ‘Matrix’\n",
      "    (from the saved implicit definition)\n",
      "Creating a generic function for ‘chol2inv’ from package ‘base’ in package ‘Matrix’\n",
      "Creating a generic function for ‘colSums’ from package ‘base’ in package ‘Matrix’\n",
      "Creating a generic function for ‘colMeans’ from package ‘base’ in package ‘Matrix’\n",
      "Creating a generic function for ‘rowSums’ from package ‘base’ in package ‘Matrix’\n",
      "Creating a generic function for ‘rowMeans’ from package ‘base’ in package ‘Matrix’\n",
      "Creating a generic function for ‘zapsmall’ from package ‘base’ in package ‘Matrix’\n",
      "Creating a generic function for ‘diag’ from package ‘base’ in package ‘Matrix’\n",
      "Creating a generic function for ‘crossprod’ from package ‘base’ in package ‘Matrix’\n",
      "Creating a generic function for ‘tcrossprod’ from package ‘base’ in package ‘Matrix’\n",
      "in method for ‘coerce’ with signature ‘\"graphAM\",\"TsparseMatrix\"’: no definition for class “graphAM”\n",
      "in method for ‘coerce’ with signature ‘\"graphNEL\",\"TsparseMatrix\"’: no definition for class “graphNEL”\n",
      "in method for ‘coerce’ with signature ‘\"graph\",\"CsparseMatrix\"’: no definition for class “graph”\n",
      "in method for ‘coerce’ with signature ‘\"graph\",\"RsparseMatrix\"’: no definition for class “graph”\n",
      "in method for ‘coerce’ with signature ‘\"graph\",\"TsparseMatrix\"’: no definition for class “graph”\n",
      "in method for ‘coerce’ with signature ‘\"graph\",\"sparseMatrix\"’: no definition for class “graph”\n",
      "in method for ‘coerce’ with signature ‘\"graph\",\"Matrix\"’: no definition for class “graph”\n",
      "in method for ‘coerce’ with signature ‘\"TsparseMatrix\",\"graphNEL\"’: no definition for class “graphNEL”\n",
      "in method for ‘coerce’ with signature ‘\"Matrix\",\"graphNEL\"’: no definition for class “graphNEL”\n",
      "in method for ‘coerce’ with signature ‘\"Matrix\",\"graph\"’: no definition for class “graph”\n",
      "Creating a generic function for ‘diag<-’ from package ‘base’ in package ‘Matrix’\n",
      "Creating a generic function for ‘norm’ from package ‘base’ in package ‘Matrix’\n",
      "Creating a generic function for ‘rcond’ from ‘base’ in package ‘Matrix’\n",
      "    (from the saved implicit definition)\n",
      "Creating a generic function for ‘rcond’ from package ‘base’ in package ‘Matrix’\n",
      "Creating a generic function for ‘qr.R’ from package ‘base’ in package ‘Matrix’\n",
      "Creating a generic function for ‘qr.Q’ from package ‘base’ in package ‘Matrix’\n",
      "Creating a generic function for ‘qr.qy’ from package ‘base’ in package ‘Matrix’\n",
      "Creating a generic function for ‘qr.qty’ from package ‘base’ in package ‘Matrix’\n",
      "Creating a generic function for ‘qr.coef’ from package ‘base’ in package ‘Matrix’\n",
      "Creating a generic function for ‘qr.resid’ from package ‘base’ in package ‘Matrix’\n",
      "Creating a generic function for ‘qr.fitted’ from package ‘base’ in package ‘Matrix’\n",
      "Creating a generic function for ‘toeplitz’ from package ‘stats’ in package ‘Matrix’\n",
      "Creating a generic function for ‘which’ from package ‘base’ in package ‘Matrix’\n"
     ]
    },
    {
     "name": "stderr",
     "output_type": "stream",
     "text": [
      "** help\n",
      "*** installing help indices\n",
      "** building package indices\n",
      "** installing vignettes\n",
      "** testing if installed package can be loaded from temporary location\n",
      "** checking absolute paths in shared objects and dynamic libraries\n",
      "** testing if installed package can be loaded from final location\n",
      "** testing if installed package keeps a record of temporary installation path\n",
      "* DONE (Matrix)\n",
      "* installing *source* package ‘SparseM’ ...\n",
      "** package ‘SparseM’ successfully unpacked and MD5 sums checked\n",
      "** using staged installation\n",
      "** libs\n"
     ]
    },
    {
     "name": "stdout",
     "output_type": "stream",
     "text": [
      "gfortran -fno-optimize-sibling-calls  -fpic  -g -O2  -c bckslv.f -o bckslv.o\n",
      "gfortran -fno-optimize-sibling-calls  -fpic  -g -O2  -c chol.f -o chol.o\n",
      "gfortran -fno-optimize-sibling-calls  -fpic  -g -O2  -c chol2csr.f -o chol2csr.o\n",
      "gfortran -fno-optimize-sibling-calls  -fpic  -g -O2  -c cholesky.f -o cholesky.o\n"
     ]
    },
    {
     "name": "stderr",
     "output_type": "stream",
     "text": [
      "cholesky.f:2948:72:\n",
      "\n",
      " 2948 |                          IF  ( NODE )  400, 900, 500\n",
      "      |                                                                        1\n",
      "Warning: Fortran 2018 deleted feature: Arithmetic IF statement at (1)\n",
      "cholesky.f:2982:72:\n",
      "\n",
      " 2982 |                  IF  ( RNODE )  1100, 1800, 1200\n",
      "      |                                                                        1\n",
      "Warning: Fortran 2018 deleted feature: Arithmetic IF statement at (1)\n",
      "cholesky.f:3299:72:\n",
      "\n",
      " 3299 |                      IF  ( ENODE )  400, 800, 500\n",
      "      |                                                                        1\n",
      "Warning: Fortran 2018 deleted feature: Arithmetic IF statement at (1)\n",
      "cholesky.f:3356:72:\n",
      "\n",
      " 3356 |                              IF  ( NODE )  1000, 2100, 1100\n",
      "      |                                                                        1\n",
      "Warning: Fortran 2018 deleted feature: Arithmetic IF statement at (1)\n",
      "cholesky.f:3430:72:\n",
      "\n",
      " 3430 |                                          IF  ( NODE )  1700, 2000, 1800\n",
      "      |                                                                        1\n",
      "Warning: Fortran 2018 deleted feature: Arithmetic IF statement at (1)\n"
     ]
    },
    {
     "name": "stdout",
     "output_type": "stream",
     "text": [
      "gfortran -fno-optimize-sibling-calls  -fpic  -g -O2  -c csr.f -o csr.o\n",
      "gfortran -fno-optimize-sibling-calls  -fpic  -g -O2  -c extract.f -o extract.o\n",
      "gcc -I\"/usr/include/R/\" -DNDEBUG   -I/usr/local/include   -fpic  -march=x86-64 -mtune=generic -O2 -pipe -fno-plt -fexceptions         -Wp,-D_FORTIFY_SOURCE=2 -Wformat -Werror=format-security         -fstack-clash-protection -fcf-protection -flto=auto -ffat-lto-objects  -c init.c -o init.o\n",
      "gfortran -fno-optimize-sibling-calls  -fpic  -g -O2  -c sparskit.f -o sparskit.o\n",
      "gfortran -fno-optimize-sibling-calls  -fpic  -g -O2  -c subscr.f -o subscr.o\n",
      "gcc -shared -L/usr/lib64/R/lib -Wl,-O1,--sort-common,--as-needed,-z,relro,-z,now -flto=auto -o SparseM.so bckslv.o chol.o chol2csr.o cholesky.o csr.o extract.o init.o sparskit.o subscr.o -lgfortran -lm -lquadmath -L/usr/lib64/R/lib -lR\n"
     ]
    },
    {
     "name": "stderr",
     "output_type": "stream",
     "text": [
      "installing to /home/renato/R/x86_64-pc-linux-gnu-library/4.2/00LOCK-SparseM/00new/SparseM/libs\n",
      "** R\n",
      "** data\n",
      "** demo\n",
      "** inst\n",
      "** byte-compile and prepare package for lazy loading\n"
     ]
    },
    {
     "name": "stdout",
     "output_type": "stream",
     "text": [
      "Creating a generic function for ‘diag’ from package ‘base’ in package ‘SparseM’\n",
      "Creating a generic function for ‘diag<-’ from package ‘base’ in package ‘SparseM’\n",
      "Creating a generic function for ‘norm’ from package ‘base’ in package ‘SparseM’\n",
      "Creating a new generic function for ‘backsolve’ in package ‘SparseM’\n",
      "Creating a generic function for ‘forwardsolve’ from package ‘base’ in package ‘SparseM’\n",
      "Creating a generic function for ‘model.response’ from package ‘stats’ in package ‘SparseM’\n"
     ]
    },
    {
     "name": "stderr",
     "output_type": "stream",
     "text": [
      "** help\n",
      "*** installing help indices\n",
      "** building package indices\n",
      "** installing vignettes\n",
      "** testing if installed package can be loaded from temporary location\n",
      "** checking absolute paths in shared objects and dynamic libraries\n",
      "** testing if installed package can be loaded from final location\n",
      "** testing if installed package keeps a record of temporary installation path\n",
      "* DONE (SparseM)\n",
      "* installing *source* package ‘nloptr’ ...\n",
      "** package ‘nloptr’ successfully unpacked and MD5 sums checked\n",
      "** using staged installation\n"
     ]
    },
    {
     "name": "stdout",
     "output_type": "stream",
     "text": [
      "checking whether the C++ compiler works... yes\n",
      "checking for C++ compiler default output file name... a.out\n",
      "checking for suffix of executables... \n",
      "checking whether we are cross compiling... no\n",
      "checking for suffix of object files... o\n",
      "checking whether the compiler supports GNU C++... yes\n",
      "checking whether g++ -std=gnu++14 accepts -g... yes\n",
      "checking for g++ -std=gnu++14 option to enable C++11 features... none needed\n",
      "checking how to run the C++ preprocessor... g++ -std=gnu++14 -E\n",
      "checking whether the compiler supports GNU C++... (cached) yes\n",
      "checking whether g++ -std=gnu++14 accepts -g... (cached) yes\n",
      "checking for g++ -std=gnu++14 option to enable C++11 features... (cached) none needed\n",
      "checking for pkg-config... /usr/bin/pkg-config\n",
      "checking if pkg-config knows NLopt... no\n",
      "checking for cmake... no\n",
      "\n",
      "------------------ CMAKE NOT FOUND --------------------\n",
      "\n",
      "CMake was not found on the PATH. Please install CMake:\n",
      "\n",
      " - sudo yum install cmake          (Fedora/CentOS; inside a terminal)\n",
      " - sudo apt install cmake          (Debian/Ubuntu; inside a terminal).\n",
      " - sudo pacman -S cmake            (Arch Linux; inside a terminal).\n",
      " - sudo brew install cmake         (MacOS; inside a terminal with Homebrew)\n",
      " - sudo port install cmake         (MacOS; inside a terminal with MacPorts)\n",
      "\n",
      "Alternatively install CMake from: <https://cmake.org/>\n",
      "\n",
      "-------------------------------------------------------\n",
      "\n"
     ]
    },
    {
     "name": "stderr",
     "output_type": "stream",
     "text": [
      "ERROR: configuration failed for package ‘nloptr’\n",
      "* removing ‘/home/renato/R/x86_64-pc-linux-gnu-library/4.2/nloptr’\n",
      "* installing *source* package ‘carData’ ...\n",
      "** package ‘carData’ successfully unpacked and MD5 sums checked\n",
      "** using staged installation\n",
      "** data\n",
      "*** moving datasets to lazyload DB\n",
      "** help\n",
      "*** installing help indices\n",
      "** building package indices\n",
      "** testing if installed package can be loaded from temporary location\n",
      "** testing if installed package can be loaded from final location\n",
      "** testing if installed package keeps a record of temporary installation path\n",
      "* DONE (carData)\n",
      "* installing *source* package ‘abind’ ...\n",
      "** package ‘abind’ successfully unpacked and MD5 sums checked\n",
      "** using staged installation\n",
      "** R\n",
      "** inst\n",
      "** byte-compile and prepare package for lazy loading\n",
      "** help\n",
      "*** installing help indices\n",
      "** building package indices\n",
      "** testing if installed package can be loaded from temporary location\n",
      "** testing if installed package can be loaded from final location\n",
      "** testing if installed package keeps a record of temporary installation path\n",
      "* DONE (abind)\n",
      "* installing *source* package ‘broom’ ...\n",
      "** package ‘broom’ successfully unpacked and MD5 sums checked\n",
      "** using staged installation\n",
      "** R\n",
      "** inst\n",
      "** byte-compile and prepare package for lazy loading\n",
      "** help\n",
      "*** installing help indices\n",
      "*** copying figures\n",
      "** building package indices\n",
      "** installing vignettes\n",
      "** testing if installed package can be loaded from temporary location\n",
      "** testing if installed package can be loaded from final location\n",
      "** testing if installed package keeps a record of temporary installation path\n",
      "* DONE (broom)\n",
      "* installing *source* package ‘MatrixModels’ ...\n",
      "** package ‘MatrixModels’ successfully unpacked and MD5 sums checked\n",
      "** using staged installation\n",
      "** R\n",
      "** byte-compile and prepare package for lazy loading\n",
      "** help\n",
      "*** installing help indices\n",
      "** building package indices\n",
      "** testing if installed package can be loaded from temporary location\n",
      "** testing if installed package can be loaded from final location\n",
      "** testing if installed package keeps a record of temporary installation path\n",
      "* DONE (MatrixModels)\n",
      "ERROR: failed to lock directory ‘/home/renato/R/x86_64-pc-linux-gnu-library/4.2’ for modifying\n",
      "Try removing ‘/home/renato/R/x86_64-pc-linux-gnu-library/4.2/00LOCK-RcppEigen’\n",
      "* installing *source* package ‘quantreg’ ...\n",
      "** package ‘quantreg’ successfully unpacked and MD5 sums checked\n",
      "** using staged installation\n",
      "** libs\n"
     ]
    },
    {
     "name": "stdout",
     "output_type": "stream",
     "text": [
      "gfortran -fno-optimize-sibling-calls  -fpic  -g -O2  -c akj.f -o akj.o\n",
      "gfortran -fno-optimize-sibling-calls  -fpic  -g -O2  -c boot.f -o boot.o\n",
      "gfortran -fno-optimize-sibling-calls  -fpic  -g -O2  -c bound.f -o bound.o\n",
      "gfortran -fno-optimize-sibling-calls  -fpic  -g -O2  -c boundc.f -o boundc.o\n",
      "gfortran -fno-optimize-sibling-calls  -fpic  -g -O2  -c brute.f -o brute.o\n",
      "gfortran -fno-optimize-sibling-calls  -fpic  -g -O2  -c chlfct.f -o chlfct.o\n",
      "gfortran -fno-optimize-sibling-calls  -fpic  -g -O2  -c cholesky.f -o cholesky.o\n"
     ]
    },
    {
     "name": "stderr",
     "output_type": "stream",
     "text": [
      "cholesky.f:2946:72:\n",
      "\n",
      " 2946 |                          IF  ( NODE )  400, 900, 500\n",
      "      |                                                                        1\n",
      "Warning: Fortran 2018 deleted feature: Arithmetic IF statement at (1)\n",
      "cholesky.f:2980:72:\n",
      "\n",
      " 2980 |                  IF  ( RNODE )  1100, 1800, 1200\n",
      "      |                                                                        1\n",
      "Warning: Fortran 2018 deleted feature: Arithmetic IF statement at (1)\n",
      "cholesky.f:3297:72:\n",
      "\n",
      " 3297 |                      IF  ( ENODE )  400, 800, 500\n",
      "      |                                                                        1\n",
      "Warning: Fortran 2018 deleted feature: Arithmetic IF statement at (1)\n",
      "cholesky.f:3354:72:\n",
      "\n",
      " 3354 |                              IF  ( NODE )  1000, 2100, 1100\n",
      "      |                                                                        1\n",
      "Warning: Fortran 2018 deleted feature: Arithmetic IF statement at (1)\n",
      "cholesky.f:3428:72:\n",
      "\n",
      " 3428 |                                          IF  ( NODE )  1700, 2000, 1800\n",
      "      |                                                                        1\n",
      "Warning: Fortran 2018 deleted feature: Arithmetic IF statement at (1)\n"
     ]
    },
    {
     "name": "stdout",
     "output_type": "stream",
     "text": [
      "gfortran -fno-optimize-sibling-calls  -fpic  -g -O2  -c combos.f -o combos.o\n",
      "gfortran -fno-optimize-sibling-calls  -fpic  -g -O2  -c crqf.f -o crqf.o\n"
     ]
    },
    {
     "name": "stderr",
     "output_type": "stream",
     "text": [
      "crqf.f:98:72:\n",
      "\n",
      "   98 |         DO 5 J=1,N\n",
      "      |                                                                        1\n",
      "Warning: Fortran 2018 deleted feature: Shared DO termination label 5 at (1)\n",
      "crqf.f:99:72:\n",
      "\n",
      "   99 |    5    WA(I,J) = X(I,J)\n",
      "      |                                                                        1\n",
      "Warning: Fortran 2018 deleted feature: DO termination statement which is not END DO or CONTINUE with label 5 at (1)\n",
      "crqf.f:140:72:\n",
      "\n",
      "  140 |   25      WA(L,J) = X(I,J)\n",
      "      |                                                                        1\n",
      "Warning: Fortran 2018 deleted feature: DO termination statement which is not END DO or CONTINUE with label 25 at (1)\n",
      "crqf.f:149:72:\n",
      "\n",
      "  149 |   50  SOL(J+1,1) = WF(J)\n",
      "      |                                                                        1\n",
      "Warning: Fortran 2018 deleted feature: DO termination statement which is not END DO or CONTINUE with label 50 at (1)\n",
      "crqf.f:165:72:\n",
      "\n",
      "  165 |   60    XH(K,J) = X(I,J)\n",
      "      |                                                                        1\n",
      "Warning: Fortran 2018 deleted feature: DO termination statement which is not END DO or CONTINUE with label 60 at (1)\n",
      "crqf.f:180:72:\n",
      "\n",
      "  180 |   80  S = S - WF(J)*X(I,J)\n",
      "      |                                                                        1\n",
      "Warning: Fortran 2018 deleted feature: DO termination statement which is not END DO or CONTINUE with label 80 at (1)\n",
      "crqf.f:181:72:\n",
      "\n",
      "  181 |   90  WE(I) = S\n",
      "      |                                                                        1\n",
      "Warning: Fortran 2018 deleted feature: DO termination statement which is not END DO or CONTINUE with label 90 at (1)\n",
      "crqf.f:192:72:\n",
      "\n",
      "  192 |  210  S = DMIN1(WD(J),S)\n",
      "      |                                                                        1\n",
      "Warning: Fortran 2018 deleted feature: DO termination statement which is not END DO or CONTINUE with label 210 at (1)\n",
      "crqf.f:205:72:\n",
      "\n",
      "  205 |  240    SOL(J+1,LSOL) = WF(J)\n",
      "      |                                                                        1\n",
      "Warning: Fortran 2018 deleted feature: DO termination statement which is not END DO or CONTINUE with label 240 at (1)\n",
      "crqf.f:226:72:\n",
      "\n",
      "  226 |  250  WD(I) = ZERO\n",
      "      |                                                                        1\n",
      "Warning: Fortran 2018 deleted feature: DO termination statement which is not END DO or CONTINUE with label 250 at (1)\n",
      "crqf.f:228:72:\n",
      "\n",
      "  228 |  260  WD(H(J)) = ONE\n",
      "      |                                                                        1\n",
      "Warning: Fortran 2018 deleted feature: DO termination statement which is not END DO or CONTINUE with label 260 at (1)\n",
      "crqf.f:236:72:\n",
      "\n",
      "  236 |  270  S = S + X(I,J)*XH(J,KM)\n",
      "      |                                                                        1\n",
      "Warning: Fortran 2018 deleted feature: DO termination statement which is not END DO or CONTINUE with label 270 at (1)\n",
      "crqf.f:258:72:\n",
      "\n",
      "  258 |         DO 310 J = 1,N\n",
      "      |                                                                        1\n",
      "Warning: Fortran 2018 deleted feature: Shared DO termination label 310 at (1)\n",
      "crqf.f:259:72:\n",
      "\n",
      "  259 |  310    XH(K,J) = X(I,J)\n",
      "      |                                                                        1\n",
      "Warning: Fortran 2018 deleted feature: DO termination statement which is not END DO or CONTINUE with label 310 at (1)\n",
      "crqf.f:273:72:\n",
      "\n",
      "  273 |  330  S = S + XH(K,J)*Y(H(J))\n",
      "      |                                                                        1\n",
      "Warning: Fortran 2018 deleted feature: DO termination statement which is not END DO or CONTINUE with label 330 at (1)\n",
      "crqf.f:274:72:\n",
      "\n",
      "  274 |  340  WF(K) = S\n",
      "      |                                                                        1\n",
      "Warning: Fortran 2018 deleted feature: DO termination statement which is not END DO or CONTINUE with label 340 at (1)\n",
      "crqf.f:278:72:\n",
      "\n",
      "  278 |  350  S = S - WF(J)*X(I,J)\n",
      "      |                                                                        1\n",
      "Warning: Fortran 2018 deleted feature: DO termination statement which is not END DO or CONTINUE with label 350 at (1)\n",
      "crqf.f:279:72:\n",
      "\n",
      "  279 |  360  WE(I) = S\n",
      "      |                                                                        1\n",
      "Warning: Fortran 2018 deleted feature: DO termination statement which is not END DO or CONTINUE with label 360 at (1)\n",
      "crqf.f:287:72:\n",
      "\n",
      "  287 |  370    SOL(J+1,LSOL) = WF(J)\n",
      "      |                                                                        1\n",
      "Warning: Fortran 2018 deleted feature: DO termination statement which is not END DO or CONTINUE with label 370 at (1)\n",
      "crqf.f:330:72:\n",
      "\n",
      "  330 | 396       B2 = B2 + X(I,J) * SOL(J+1,LSOL - 1)\n",
      "      |                                                                        1\n",
      "Warning: Fortran 2018 deleted feature: DO termination statement which is not END DO or CONTINUE with label 396 at (1)\n",
      "crqf.f:369:72:\n",
      "\n",
      "  369 |  506  WF(J) = ZERO\n",
      "      |                                                                        1\n",
      "Warning: Fortran 2018 deleted feature: DO termination statement which is not END DO or CONTINUE with label 506 at (1)\n",
      "crqf.f:376:72:\n",
      "\n",
      "  376 |  510      WA(L1,J) = X(I,J)\n",
      "      |                                                                        1\n",
      "Warning: Fortran 2018 deleted feature: DO termination statement which is not END DO or CONTINUE with label 510 at (1)\n",
      "crqf.f:379:72:\n",
      "\n",
      "  379 |  514      WF(J) = WF(J) + X(I,J)\n",
      "      |                                                                        1\n",
      "Warning: Fortran 2018 deleted feature: DO termination statement which is not END DO or CONTINUE with label 514 at (1)\n",
      "crqf.f:389:72:\n",
      "\n",
      "  389 |  520      WF(J) = WF(J) + (ONE - W) * X(I,J)\n",
      "      |                                                                        1\n",
      "Warning: Fortran 2018 deleted feature: DO termination statement which is not END DO or CONTINUE with label 520 at (1)\n",
      "crqf.f:394:72:\n",
      "\n",
      "  394 |  534  WA(MAL,J) = WF(J)\n",
      "      |                                                                        1\n",
      "Warning: Fortran 2018 deleted feature: DO termination statement which is not END DO or CONTINUE with label 534 at (1)\n",
      "crqf.f:413:72:\n",
      "\n",
      "  413 |  540        XH(K,J) = X(I,J)\n",
      "      |                                                                        1\n",
      "Warning: Fortran 2018 deleted feature: DO termination statement which is not END DO or CONTINUE with label 540 at (1)\n",
      "crqf.f:429:72:\n",
      "\n",
      "  429 |  610  WD(I) = SOL(N+2,I)\n",
      "      |                                                                        1\n",
      "Warning: Fortran 2018 deleted feature: DO termination statement which is not END DO or CONTINUE with label 610 at (1)\n",
      "crqf.f:441:72:\n",
      "\n",
      "  441 |  650  WF(J) = S/V\n",
      "      |                                                                        1\n",
      "Warning: Fortran 2018 deleted feature: DO termination statement which is not END DO or CONTINUE with label 650 at (1)\n",
      "crqf.f:445:72:\n",
      "\n",
      "  445 |  660    S = S + WF(J) * SOL(J+1,I)\n",
      "      |                                                                        1\n",
      "Warning: Fortran 2018 deleted feature: DO termination statement which is not END DO or CONTINUE with label 660 at (1)\n",
      "crqf.f:446:72:\n",
      "\n",
      "  446 |  670  SOL(N+2,I) = S\n",
      "      |                                                                        1\n",
      "Warning: Fortran 2018 deleted feature: DO termination statement which is not END DO or CONTINUE with label 670 at (1)\n",
      "crqf.f:487:72:\n",
      "\n",
      "  487 |   60    A = A + X(I,K)*XH(K,J)\n",
      "      |                                                                        1\n",
      "Warning: Fortran 2018 deleted feature: DO termination statement which is not END DO or CONTINUE with label 60 at (1)\n",
      "crqf.f:488:72:\n",
      "\n",
      "  488 |   70  WA(I,J) = A\n",
      "      |                                                                        1\n",
      "Warning: Fortran 2018 deleted feature: DO termination statement which is not END DO or CONTINUE with label 70 at (1)\n",
      "crqf.f:497:72:\n",
      "\n",
      "  497 |   90  IFLAG(I) = 0\n",
      "      |                                                                        1\n",
      "Warning: Fortran 2018 deleted feature: DO termination statement which is not END DO or CONTINUE with label 90 at (1)\n",
      "crqf.f:499:72:\n",
      "\n",
      "  499 |   95  IFLAG(H(J)) = 1\n",
      "      |                                                                        1\n",
      "Warning: Fortran 2018 deleted feature: DO termination statement which is not END DO or CONTINUE with label 95 at (1)\n",
      "crqf.f:544:72:\n",
      "\n",
      "  544 |  130  IFLAG(J) = IFLAG(J+M)\n",
      "      |                                                                        1\n",
      "Warning: Fortran 2018 deleted feature: DO termination statement which is not END DO or CONTINUE with label 130 at (1)\n"
     ]
    },
    {
     "name": "stdout",
     "output_type": "stream",
     "text": [
      "gfortran -fno-optimize-sibling-calls  -fpic  -g -O2  -c crqfnb.f -o crqfnb.o\n",
      "gfortran -fno-optimize-sibling-calls  -fpic  -g -O2  -c dsel05.f -o dsel05.o\n",
      "gfortran -fno-optimize-sibling-calls  -fpic  -g -O2  -c etime.f -o etime.o\n",
      "gfortran -fno-optimize-sibling-calls  -fpic  -g -O2  -c extract.f -o extract.o\n",
      "gcc -I\"/usr/include/R/\" -DNDEBUG   -I/usr/local/include   -fpic  -march=x86-64 -mtune=generic -O2 -pipe -fno-plt -fexceptions         -Wp,-D_FORTIFY_SOURCE=2 -Wformat -Werror=format-security         -fstack-clash-protection -fcf-protection -flto=auto -ffat-lto-objects  -c frand.c -o frand.o\n",
      "gfortran -fno-optimize-sibling-calls  -fpic  -g -O2  -c grexp.f -o grexp.o\n",
      "gfortran -fno-optimize-sibling-calls  -fpic  -g -O2  -c idmin.f -o idmin.o\n",
      "gfortran -fno-optimize-sibling-calls  -fpic  -g -O2  -c iswap.f -o iswap.o\n",
      "gfortran -fno-optimize-sibling-calls  -fpic  -g -O2  -c kuantile.f -o kuantile.o\n",
      "gfortran -fno-optimize-sibling-calls  -fpic  -g -O2  -c kuantiles.f -o kuantiles.o\n",
      "gfortran -fno-optimize-sibling-calls  -fpic  -g -O2  -c linpack.f -o linpack.o\n"
     ]
    },
    {
     "name": "stderr",
     "output_type": "stream",
     "text": [
      "iswap.f:40:72:\n",
      "\n",
      "   40 |       IF (INCX-1) 5,20,60\n",
      "      |                                                                        1\n",
      "Warning: Fortran 2018 deleted feature: Arithmetic IF statement at (1)\n"
     ]
    },
    {
     "name": "stdout",
     "output_type": "stream",
     "text": [
      "gcc -I\"/usr/include/R/\" -DNDEBUG   -I/usr/local/include   -fpic  -march=x86-64 -mtune=generic -O2 -pipe -fno-plt -fexceptions         -Wp,-D_FORTIFY_SOURCE=2 -Wformat -Werror=format-security         -fstack-clash-protection -fcf-protection -flto=auto -ffat-lto-objects  -c mcmb.c -o mcmb.o\n",
      "gfortran -fno-optimize-sibling-calls  -fpic  -g -O2  -c penalty.f -o penalty.o\n",
      "gfortran -fno-optimize-sibling-calls  -fpic  -g -O2  -c pfnb.f -o pfnb.o\n",
      "gfortran -fno-optimize-sibling-calls  -fpic  -g -O2  -c powell.f -o powell.o\n",
      "gfortran -fno-optimize-sibling-calls  -fpic  -g -O2  -c profnb.f -o profnb.o\n",
      "gfortran -fno-optimize-sibling-calls  -fpic  -g -O2  -c pwxy.f -o pwxy.o\n",
      "gfortran -fno-optimize-sibling-calls  -fpic  -g -O2  -c qfnb.f -o qfnb.o\n",
      "gfortran -fno-optimize-sibling-calls  -fpic  -g -O2  -c qselect.f -o qselect.o\n",
      "gcc -I\"/usr/include/R/\" -DNDEBUG   -I/usr/local/include   -fpic  -march=x86-64 -mtune=generic -O2 -pipe -fno-plt -fexceptions         -Wp,-D_FORTIFY_SOURCE=2 -Wformat -Werror=format-security         -fstack-clash-protection -fcf-protection -flto=auto -ffat-lto-objects  -c quantreg_init.c -o quantreg_init.o\n",
      "gfortran -fno-optimize-sibling-calls  -fpic  -g -O2  -c rls.f -o rls.o\n",
      "gfortran -fno-optimize-sibling-calls  -fpic  -g -O2  -c rq0.f -o rq0.o\n",
      "gfortran -fno-optimize-sibling-calls  -fpic  -g -O2  -c rq1.f -o rq1.o\n",
      "gfortran -fno-optimize-sibling-calls  -fpic  -g -O2  -c rqbr.f -o rqbr.o\n",
      "gfortran -fno-optimize-sibling-calls  -fpic  -g -O2  -c rqfn.f -o rqfn.o\n",
      "gfortran -fno-optimize-sibling-calls  -fpic  -g -O2  -c rqfnb.f -o rqfnb.o\n",
      "gfortran -fno-optimize-sibling-calls  -fpic  -g -O2  -c rqfnc.f -o rqfnc.o\n",
      "gfortran -fno-optimize-sibling-calls  -fpic  -g -O2  -c rqs.f -o rqs.o\n",
      "gfortran -fno-optimize-sibling-calls  -fpic  -g -O2  -c sakj.f -o sakj.o\n",
      "gfortran -fno-optimize-sibling-calls  -fpic  -g -O2  -c sparskit2.f -o sparskit2.o\n",
      "gfortran -fno-optimize-sibling-calls  -fpic  -g -O2  -c srqfn.f -o srqfn.o\n",
      "gfortran -fno-optimize-sibling-calls  -fpic  -g -O2  -c srqfnc.f -o srqfnc.o\n",
      "gfortran -fno-optimize-sibling-calls  -fpic  -g -O2  -c srtpai.f -o srtpai.o\n",
      "gcc -shared -L/usr/lib64/R/lib -Wl,-O1,--sort-common,--as-needed,-z,relro,-z,now -flto=auto -o quantreg.so akj.o boot.o bound.o boundc.o brute.o chlfct.o cholesky.o combos.o crqf.o crqfnb.o dsel05.o etime.o extract.o frand.o grexp.o idmin.o iswap.o kuantile.o kuantiles.o linpack.o mcmb.o penalty.o pfnb.o powell.o profnb.o pwxy.o qfnb.o qselect.o quantreg_init.o rls.o rq0.o rq1.o rqbr.o rqfn.o rqfnb.o rqfnc.o rqs.o sakj.o sparskit2.o srqfn.o srqfnc.o srtpai.o -llapack -lblas -lgfortran -lm -lquadmath -lgfortran -lm -lquadmath -L/usr/lib64/R/lib -lR\n"
     ]
    },
    {
     "name": "stderr",
     "output_type": "stream",
     "text": [
      "srtpai.f:19:72:\n",
      "\n",
      "   19 |  10     P(1, I) = I\n",
      "      |                                                                        1\n",
      "Warning: Fortran 2018 deleted feature: DO termination statement which is not END DO or CONTINUE with label 10 at (1)\n",
      "installing to /home/renato/R/x86_64-pc-linux-gnu-library/4.2/00LOCK-quantreg/00new/quantreg/libs\n",
      "** R\n",
      "** data\n",
      "** demo\n",
      "** inst\n",
      "** byte-compile and prepare package for lazy loading\n",
      "** help\n",
      "*** installing help indices\n",
      "** building package indices\n",
      "** installing vignettes\n",
      "** testing if installed package can be loaded from temporary location\n",
      "** checking absolute paths in shared objects and dynamic libraries\n",
      "** testing if installed package can be loaded from final location\n",
      "** testing if installed package keeps a record of temporary installation path\n",
      "* DONE (quantreg)\n",
      "ERROR: dependencies ‘nloptr’, ‘RcppEigen’ are not available for package ‘lme4’\n",
      "* removing ‘/home/renato/R/x86_64-pc-linux-gnu-library/4.2/lme4’\n",
      "ERROR: dependency ‘lme4’ is not available for package ‘pbkrtest’\n",
      "* removing ‘/home/renato/R/x86_64-pc-linux-gnu-library/4.2/pbkrtest’\n",
      "ERROR: dependencies ‘pbkrtest’, ‘lme4’ are not available for package ‘car’\n",
      "* removing ‘/home/renato/R/x86_64-pc-linux-gnu-library/4.2/car’\n",
      "R[write to console]: \n",
      "\n",
      "R[write to console]: \n",
      "R[write to console]: The downloaded source packages are in\n",
      "\t‘/tmp/Rtmp8ng81u/downloaded_packages’\n",
      "R[write to console]: \n",
      "R[write to console]: \n",
      "\n"
     ]
    }
   ],
   "source": [
    "%%R \n",
    "install.packages(\"car\")"
   ]
  },
  {
   "cell_type": "code",
   "execution_count": 6,
   "metadata": {
    "hideCode": true,
    "hidePrompt": true,
    "slideshow": {
     "slide_type": "subslide"
    }
   },
   "outputs": [
    {
     "name": "stderr",
     "output_type": "stream",
     "text": [
      "R[write to console]: Error in library(\"car\") : there is no package called ‘car’\n",
      "\n"
     ]
    },
    {
     "name": "stdout",
     "output_type": "stream",
     "text": [
      "\n",
      "Error in library(\"car\") : there is no package called ‘car’\n"
     ]
    },
    {
     "ename": "RInterpreterError",
     "evalue": "Failed to parse and evaluate line '\\nlibrary(\"car\")\\nboxTidwell(formula = volunteer_yes ~ neuroticism + extraversion, \\n           other.x = ~ sex_male,\\n           data = cowles_data)\\n'.\nR error message: 'Error in library(\"car\") : there is no package called ‘car’'",
     "output_type": "error",
     "traceback": [
      "\u001b[0;31m---------------------------------------------------------------------------\u001b[0m",
      "\u001b[0;31mRRuntimeError\u001b[0m                             Traceback (most recent call last)",
      "\u001b[0;32m~/.virtualenvs/stats/lib/python3.7/site-packages/rpy2/ipython/rmagic.py\u001b[0m in \u001b[0;36meval\u001b[0;34m(self, code)\u001b[0m\n\u001b[1;32m    284\u001b[0m                 \u001b[0;31m# Need the newline in case the last line in code is a comment.\u001b[0m\u001b[0;34m\u001b[0m\u001b[0;34m\u001b[0m\u001b[0;34m\u001b[0m\u001b[0m\n\u001b[0;32m--> 285\u001b[0;31m                 \u001b[0mvalue\u001b[0m\u001b[0;34m,\u001b[0m \u001b[0mvisible\u001b[0m \u001b[0;34m=\u001b[0m \u001b[0mro\u001b[0m\u001b[0;34m.\u001b[0m\u001b[0mr\u001b[0m\u001b[0;34m(\u001b[0m\u001b[0;34m\"withVisible({%s\\n})\"\u001b[0m \u001b[0;34m%\u001b[0m \u001b[0mcode\u001b[0m\u001b[0;34m)\u001b[0m\u001b[0;34m\u001b[0m\u001b[0;34m\u001b[0m\u001b[0m\n\u001b[0m\u001b[1;32m    286\u001b[0m             \u001b[0;32mexcept\u001b[0m \u001b[0;34m(\u001b[0m\u001b[0mri\u001b[0m\u001b[0;34m.\u001b[0m\u001b[0membedded\u001b[0m\u001b[0;34m.\u001b[0m\u001b[0mRRuntimeError\u001b[0m\u001b[0;34m,\u001b[0m \u001b[0mValueError\u001b[0m\u001b[0;34m)\u001b[0m \u001b[0;32mas\u001b[0m \u001b[0mexception\u001b[0m\u001b[0;34m:\u001b[0m\u001b[0;34m\u001b[0m\u001b[0;34m\u001b[0m\u001b[0m\n",
      "\u001b[0;32m~/.virtualenvs/stats/lib/python3.7/site-packages/rpy2/robjects/__init__.py\u001b[0m in \u001b[0;36m__call__\u001b[0;34m(self, string)\u001b[0m\n\u001b[1;32m    458\u001b[0m         \u001b[0mp\u001b[0m \u001b[0;34m=\u001b[0m \u001b[0mrinterface\u001b[0m\u001b[0;34m.\u001b[0m\u001b[0mparse\u001b[0m\u001b[0;34m(\u001b[0m\u001b[0mstring\u001b[0m\u001b[0;34m)\u001b[0m\u001b[0;34m\u001b[0m\u001b[0;34m\u001b[0m\u001b[0m\n\u001b[0;32m--> 459\u001b[0;31m         \u001b[0mres\u001b[0m \u001b[0;34m=\u001b[0m \u001b[0mself\u001b[0m\u001b[0;34m.\u001b[0m\u001b[0meval\u001b[0m\u001b[0;34m(\u001b[0m\u001b[0mp\u001b[0m\u001b[0;34m)\u001b[0m\u001b[0;34m\u001b[0m\u001b[0;34m\u001b[0m\u001b[0m\n\u001b[0m\u001b[1;32m    460\u001b[0m         \u001b[0;32mreturn\u001b[0m \u001b[0mconversion\u001b[0m\u001b[0;34m.\u001b[0m\u001b[0mget_conversion\u001b[0m\u001b[0;34m(\u001b[0m\u001b[0;34m)\u001b[0m\u001b[0;34m.\u001b[0m\u001b[0mrpy2py\u001b[0m\u001b[0;34m(\u001b[0m\u001b[0mres\u001b[0m\u001b[0;34m)\u001b[0m\u001b[0;34m\u001b[0m\u001b[0;34m\u001b[0m\u001b[0m\n",
      "\u001b[0;32m~/.virtualenvs/stats/lib/python3.7/site-packages/rpy2/robjects/functions.py\u001b[0m in \u001b[0;36m__call__\u001b[0;34m(self, *args, **kwargs)\u001b[0m\n\u001b[1;32m    203\u001b[0m         return (super(SignatureTranslatedFunction, self)\n\u001b[0;32m--> 204\u001b[0;31m                 .__call__(*args, **kwargs))\n\u001b[0m\u001b[1;32m    205\u001b[0m \u001b[0;34m\u001b[0m\u001b[0m\n",
      "\u001b[0;32m~/.virtualenvs/stats/lib/python3.7/site-packages/rpy2/robjects/functions.py\u001b[0m in \u001b[0;36m__call__\u001b[0;34m(self, *args, **kwargs)\u001b[0m\n\u001b[1;32m    125\u001b[0m                 \u001b[0mnew_kwargs\u001b[0m\u001b[0;34m[\u001b[0m\u001b[0mk\u001b[0m\u001b[0;34m]\u001b[0m \u001b[0;34m=\u001b[0m \u001b[0mcv\u001b[0m\u001b[0;34m.\u001b[0m\u001b[0mpy2rpy\u001b[0m\u001b[0;34m(\u001b[0m\u001b[0mv\u001b[0m\u001b[0;34m)\u001b[0m\u001b[0;34m\u001b[0m\u001b[0;34m\u001b[0m\u001b[0m\n\u001b[0;32m--> 126\u001b[0;31m         \u001b[0mres\u001b[0m \u001b[0;34m=\u001b[0m \u001b[0msuper\u001b[0m\u001b[0;34m(\u001b[0m\u001b[0mFunction\u001b[0m\u001b[0;34m,\u001b[0m \u001b[0mself\u001b[0m\u001b[0;34m)\u001b[0m\u001b[0;34m.\u001b[0m\u001b[0m__call__\u001b[0m\u001b[0;34m(\u001b[0m\u001b[0;34m*\u001b[0m\u001b[0mnew_args\u001b[0m\u001b[0;34m,\u001b[0m \u001b[0;34m**\u001b[0m\u001b[0mnew_kwargs\u001b[0m\u001b[0;34m)\u001b[0m\u001b[0;34m\u001b[0m\u001b[0;34m\u001b[0m\u001b[0m\n\u001b[0m\u001b[1;32m    127\u001b[0m         \u001b[0mres\u001b[0m \u001b[0;34m=\u001b[0m \u001b[0mcv\u001b[0m\u001b[0;34m.\u001b[0m\u001b[0mrpy2py\u001b[0m\u001b[0;34m(\u001b[0m\u001b[0mres\u001b[0m\u001b[0;34m)\u001b[0m\u001b[0;34m\u001b[0m\u001b[0;34m\u001b[0m\u001b[0m\n",
      "\u001b[0;32m~/.virtualenvs/stats/lib/python3.7/site-packages/rpy2/rinterface_lib/conversion.py\u001b[0m in \u001b[0;36m_\u001b[0;34m(*args, **kwargs)\u001b[0m\n\u001b[1;32m     44\u001b[0m     \u001b[0;32mdef\u001b[0m \u001b[0m_\u001b[0m\u001b[0;34m(\u001b[0m\u001b[0;34m*\u001b[0m\u001b[0margs\u001b[0m\u001b[0;34m,\u001b[0m \u001b[0;34m**\u001b[0m\u001b[0mkwargs\u001b[0m\u001b[0;34m)\u001b[0m\u001b[0;34m:\u001b[0m\u001b[0;34m\u001b[0m\u001b[0;34m\u001b[0m\u001b[0m\n\u001b[0;32m---> 45\u001b[0;31m         \u001b[0mcdata\u001b[0m \u001b[0;34m=\u001b[0m \u001b[0mfunction\u001b[0m\u001b[0;34m(\u001b[0m\u001b[0;34m*\u001b[0m\u001b[0margs\u001b[0m\u001b[0;34m,\u001b[0m \u001b[0;34m**\u001b[0m\u001b[0mkwargs\u001b[0m\u001b[0;34m)\u001b[0m\u001b[0;34m\u001b[0m\u001b[0;34m\u001b[0m\u001b[0m\n\u001b[0m\u001b[1;32m     46\u001b[0m         \u001b[0;31m# TODO: test cdata is of the expected CType\u001b[0m\u001b[0;34m\u001b[0m\u001b[0;34m\u001b[0m\u001b[0;34m\u001b[0m\u001b[0m\n",
      "\u001b[0;32m~/.virtualenvs/stats/lib/python3.7/site-packages/rpy2/rinterface.py\u001b[0m in \u001b[0;36m__call__\u001b[0;34m(self, *args, **kwargs)\u001b[0m\n\u001b[1;32m    814\u001b[0m             \u001b[0;32mif\u001b[0m \u001b[0merror_occured\u001b[0m\u001b[0;34m[\u001b[0m\u001b[0;36m0\u001b[0m\u001b[0;34m]\u001b[0m\u001b[0;34m:\u001b[0m\u001b[0;34m\u001b[0m\u001b[0;34m\u001b[0m\u001b[0m\n\u001b[0;32m--> 815\u001b[0;31m                 \u001b[0;32mraise\u001b[0m \u001b[0membedded\u001b[0m\u001b[0;34m.\u001b[0m\u001b[0mRRuntimeError\u001b[0m\u001b[0;34m(\u001b[0m\u001b[0m_rinterface\u001b[0m\u001b[0;34m.\u001b[0m\u001b[0m_geterrmessage\u001b[0m\u001b[0;34m(\u001b[0m\u001b[0;34m)\u001b[0m\u001b[0;34m)\u001b[0m\u001b[0;34m\u001b[0m\u001b[0;34m\u001b[0m\u001b[0m\n\u001b[0m\u001b[1;32m    816\u001b[0m         \u001b[0;32mreturn\u001b[0m \u001b[0mres\u001b[0m\u001b[0;34m\u001b[0m\u001b[0;34m\u001b[0m\u001b[0m\n",
      "\u001b[0;31mRRuntimeError\u001b[0m: Error in library(\"car\") : there is no package called ‘car’\n",
      "\nDuring handling of the above exception, another exception occurred:\n",
      "\u001b[0;31mRInterpreterError\u001b[0m                         Traceback (most recent call last)",
      "\u001b[0;32m/tmp/ipykernel_124274/1825058598.py\u001b[0m in \u001b[0;36m<module>\u001b[0;34m\u001b[0m\n\u001b[0;32m----> 1\u001b[0;31m \u001b[0mget_ipython\u001b[0m\u001b[0;34m(\u001b[0m\u001b[0;34m)\u001b[0m\u001b[0;34m.\u001b[0m\u001b[0mrun_cell_magic\u001b[0m\u001b[0;34m(\u001b[0m\u001b[0;34m'R'\u001b[0m\u001b[0;34m,\u001b[0m \u001b[0;34m'-i cowles_data'\u001b[0m\u001b[0;34m,\u001b[0m \u001b[0;34m'\\nlibrary(\"car\")\\nboxTidwell(formula = volunteer_yes ~ neuroticism + extraversion, \\n           other.x = ~ sex_male,\\n           data = cowles_data)\\n'\u001b[0m\u001b[0;34m)\u001b[0m\u001b[0;34m\u001b[0m\u001b[0;34m\u001b[0m\u001b[0m\n\u001b[0m",
      "\u001b[0;32m~/.virtualenvs/stats/lib/python3.7/site-packages/IPython/core/interactiveshell.py\u001b[0m in \u001b[0;36mrun_cell_magic\u001b[0;34m(self, magic_name, line, cell)\u001b[0m\n\u001b[1;32m   2471\u001b[0m             \u001b[0;32mwith\u001b[0m \u001b[0mself\u001b[0m\u001b[0;34m.\u001b[0m\u001b[0mbuiltin_trap\u001b[0m\u001b[0;34m:\u001b[0m\u001b[0;34m\u001b[0m\u001b[0;34m\u001b[0m\u001b[0m\n\u001b[1;32m   2472\u001b[0m                 \u001b[0margs\u001b[0m \u001b[0;34m=\u001b[0m \u001b[0;34m(\u001b[0m\u001b[0mmagic_arg_s\u001b[0m\u001b[0;34m,\u001b[0m \u001b[0mcell\u001b[0m\u001b[0;34m)\u001b[0m\u001b[0;34m\u001b[0m\u001b[0;34m\u001b[0m\u001b[0m\n\u001b[0;32m-> 2473\u001b[0;31m                 \u001b[0mresult\u001b[0m \u001b[0;34m=\u001b[0m \u001b[0mfn\u001b[0m\u001b[0;34m(\u001b[0m\u001b[0;34m*\u001b[0m\u001b[0margs\u001b[0m\u001b[0;34m,\u001b[0m \u001b[0;34m**\u001b[0m\u001b[0mkwargs\u001b[0m\u001b[0;34m)\u001b[0m\u001b[0;34m\u001b[0m\u001b[0;34m\u001b[0m\u001b[0m\n\u001b[0m\u001b[1;32m   2474\u001b[0m             \u001b[0;32mreturn\u001b[0m \u001b[0mresult\u001b[0m\u001b[0;34m\u001b[0m\u001b[0;34m\u001b[0m\u001b[0m\n\u001b[1;32m   2475\u001b[0m \u001b[0;34m\u001b[0m\u001b[0m\n",
      "\u001b[0;32m~/.virtualenvs/stats/lib/python3.7/site-packages/decorator.py\u001b[0m in \u001b[0;36mfun\u001b[0;34m(*args, **kw)\u001b[0m\n\u001b[1;32m    230\u001b[0m             \u001b[0;32mif\u001b[0m \u001b[0;32mnot\u001b[0m \u001b[0mkwsyntax\u001b[0m\u001b[0;34m:\u001b[0m\u001b[0;34m\u001b[0m\u001b[0;34m\u001b[0m\u001b[0m\n\u001b[1;32m    231\u001b[0m                 \u001b[0margs\u001b[0m\u001b[0;34m,\u001b[0m \u001b[0mkw\u001b[0m \u001b[0;34m=\u001b[0m \u001b[0mfix\u001b[0m\u001b[0;34m(\u001b[0m\u001b[0margs\u001b[0m\u001b[0;34m,\u001b[0m \u001b[0mkw\u001b[0m\u001b[0;34m,\u001b[0m \u001b[0msig\u001b[0m\u001b[0;34m)\u001b[0m\u001b[0;34m\u001b[0m\u001b[0;34m\u001b[0m\u001b[0m\n\u001b[0;32m--> 232\u001b[0;31m             \u001b[0;32mreturn\u001b[0m \u001b[0mcaller\u001b[0m\u001b[0;34m(\u001b[0m\u001b[0mfunc\u001b[0m\u001b[0;34m,\u001b[0m \u001b[0;34m*\u001b[0m\u001b[0;34m(\u001b[0m\u001b[0mextras\u001b[0m \u001b[0;34m+\u001b[0m \u001b[0margs\u001b[0m\u001b[0;34m)\u001b[0m\u001b[0;34m,\u001b[0m \u001b[0;34m**\u001b[0m\u001b[0mkw\u001b[0m\u001b[0;34m)\u001b[0m\u001b[0;34m\u001b[0m\u001b[0;34m\u001b[0m\u001b[0m\n\u001b[0m\u001b[1;32m    233\u001b[0m     \u001b[0mfun\u001b[0m\u001b[0;34m.\u001b[0m\u001b[0m__name__\u001b[0m \u001b[0;34m=\u001b[0m \u001b[0mfunc\u001b[0m\u001b[0;34m.\u001b[0m\u001b[0m__name__\u001b[0m\u001b[0;34m\u001b[0m\u001b[0;34m\u001b[0m\u001b[0m\n\u001b[1;32m    234\u001b[0m     \u001b[0mfun\u001b[0m\u001b[0;34m.\u001b[0m\u001b[0m__doc__\u001b[0m \u001b[0;34m=\u001b[0m \u001b[0mfunc\u001b[0m\u001b[0;34m.\u001b[0m\u001b[0m__doc__\u001b[0m\u001b[0;34m\u001b[0m\u001b[0;34m\u001b[0m\u001b[0m\n",
      "\u001b[0;32m~/.virtualenvs/stats/lib/python3.7/site-packages/IPython/core/magic.py\u001b[0m in \u001b[0;36m<lambda>\u001b[0;34m(f, *a, **k)\u001b[0m\n\u001b[1;32m    185\u001b[0m     \u001b[0;31m# but it's overkill for just that one bit of state.\u001b[0m\u001b[0;34m\u001b[0m\u001b[0;34m\u001b[0m\u001b[0;34m\u001b[0m\u001b[0m\n\u001b[1;32m    186\u001b[0m     \u001b[0;32mdef\u001b[0m \u001b[0mmagic_deco\u001b[0m\u001b[0;34m(\u001b[0m\u001b[0marg\u001b[0m\u001b[0;34m)\u001b[0m\u001b[0;34m:\u001b[0m\u001b[0;34m\u001b[0m\u001b[0;34m\u001b[0m\u001b[0m\n\u001b[0;32m--> 187\u001b[0;31m         \u001b[0mcall\u001b[0m \u001b[0;34m=\u001b[0m \u001b[0;32mlambda\u001b[0m \u001b[0mf\u001b[0m\u001b[0;34m,\u001b[0m \u001b[0;34m*\u001b[0m\u001b[0ma\u001b[0m\u001b[0;34m,\u001b[0m \u001b[0;34m**\u001b[0m\u001b[0mk\u001b[0m\u001b[0;34m:\u001b[0m \u001b[0mf\u001b[0m\u001b[0;34m(\u001b[0m\u001b[0;34m*\u001b[0m\u001b[0ma\u001b[0m\u001b[0;34m,\u001b[0m \u001b[0;34m**\u001b[0m\u001b[0mk\u001b[0m\u001b[0;34m)\u001b[0m\u001b[0;34m\u001b[0m\u001b[0;34m\u001b[0m\u001b[0m\n\u001b[0m\u001b[1;32m    188\u001b[0m \u001b[0;34m\u001b[0m\u001b[0m\n\u001b[1;32m    189\u001b[0m         \u001b[0;32mif\u001b[0m \u001b[0mcallable\u001b[0m\u001b[0;34m(\u001b[0m\u001b[0marg\u001b[0m\u001b[0;34m)\u001b[0m\u001b[0;34m:\u001b[0m\u001b[0;34m\u001b[0m\u001b[0;34m\u001b[0m\u001b[0m\n",
      "\u001b[0;32m~/.virtualenvs/stats/lib/python3.7/site-packages/rpy2/ipython/rmagic.py\u001b[0m in \u001b[0;36mR\u001b[0;34m(self, line, cell, local_ns)\u001b[0m\n\u001b[1;32m    799\u001b[0m             \u001b[0;32mif\u001b[0m \u001b[0;32mnot\u001b[0m \u001b[0me\u001b[0m\u001b[0;34m.\u001b[0m\u001b[0mstdout\u001b[0m\u001b[0;34m.\u001b[0m\u001b[0mendswith\u001b[0m\u001b[0;34m(\u001b[0m\u001b[0me\u001b[0m\u001b[0;34m.\u001b[0m\u001b[0merr\u001b[0m\u001b[0;34m)\u001b[0m\u001b[0;34m:\u001b[0m\u001b[0;34m\u001b[0m\u001b[0;34m\u001b[0m\u001b[0m\n\u001b[1;32m    800\u001b[0m                 \u001b[0mprint\u001b[0m\u001b[0;34m(\u001b[0m\u001b[0me\u001b[0m\u001b[0;34m.\u001b[0m\u001b[0merr\u001b[0m\u001b[0;34m)\u001b[0m\u001b[0;34m\u001b[0m\u001b[0;34m\u001b[0m\u001b[0m\n\u001b[0;32m--> 801\u001b[0;31m             \u001b[0;32mraise\u001b[0m \u001b[0me\u001b[0m\u001b[0;34m\u001b[0m\u001b[0;34m\u001b[0m\u001b[0m\n\u001b[0m\u001b[1;32m    802\u001b[0m         \u001b[0;32mfinally\u001b[0m\u001b[0;34m:\u001b[0m\u001b[0;34m\u001b[0m\u001b[0;34m\u001b[0m\u001b[0m\n\u001b[1;32m    803\u001b[0m             \u001b[0;32mif\u001b[0m \u001b[0mself\u001b[0m\u001b[0;34m.\u001b[0m\u001b[0mdevice\u001b[0m \u001b[0;32min\u001b[0m \u001b[0;34m[\u001b[0m\u001b[0;34m'png'\u001b[0m\u001b[0;34m,\u001b[0m \u001b[0;34m'svg'\u001b[0m\u001b[0;34m]\u001b[0m\u001b[0;34m:\u001b[0m\u001b[0;34m\u001b[0m\u001b[0;34m\u001b[0m\u001b[0m\n",
      "\u001b[0;32m~/.virtualenvs/stats/lib/python3.7/site-packages/rpy2/ipython/rmagic.py\u001b[0m in \u001b[0;36mR\u001b[0;34m(self, line, cell, local_ns)\u001b[0m\n\u001b[1;32m    779\u001b[0m                     \u001b[0mreturn_output\u001b[0m \u001b[0;34m=\u001b[0m \u001b[0;32mFalse\u001b[0m\u001b[0;34m\u001b[0m\u001b[0;34m\u001b[0m\u001b[0m\n\u001b[1;32m    780\u001b[0m             \u001b[0;32melse\u001b[0m\u001b[0;34m:\u001b[0m\u001b[0;34m\u001b[0m\u001b[0;34m\u001b[0m\u001b[0m\n\u001b[0;32m--> 781\u001b[0;31m                 \u001b[0mtext_result\u001b[0m\u001b[0;34m,\u001b[0m \u001b[0mresult\u001b[0m\u001b[0;34m,\u001b[0m \u001b[0mvisible\u001b[0m \u001b[0;34m=\u001b[0m \u001b[0mself\u001b[0m\u001b[0;34m.\u001b[0m\u001b[0meval\u001b[0m\u001b[0;34m(\u001b[0m\u001b[0mcode\u001b[0m\u001b[0;34m)\u001b[0m\u001b[0;34m\u001b[0m\u001b[0;34m\u001b[0m\u001b[0m\n\u001b[0m\u001b[1;32m    782\u001b[0m                 \u001b[0mtext_output\u001b[0m \u001b[0;34m+=\u001b[0m \u001b[0mtext_result\u001b[0m\u001b[0;34m\u001b[0m\u001b[0;34m\u001b[0m\u001b[0m\n\u001b[1;32m    783\u001b[0m                 \u001b[0;32mif\u001b[0m \u001b[0mvisible\u001b[0m\u001b[0;34m:\u001b[0m\u001b[0;34m\u001b[0m\u001b[0;34m\u001b[0m\u001b[0m\n",
      "\u001b[0;32m~/.virtualenvs/stats/lib/python3.7/site-packages/rpy2/ipython/rmagic.py\u001b[0m in \u001b[0;36meval\u001b[0;34m(self, code)\u001b[0m\n\u001b[1;32m    288\u001b[0m                 \u001b[0mwarning_or_other_msg\u001b[0m \u001b[0;34m=\u001b[0m \u001b[0mself\u001b[0m\u001b[0;34m.\u001b[0m\u001b[0mflush\u001b[0m\u001b[0;34m(\u001b[0m\u001b[0;34m)\u001b[0m\u001b[0;34m\u001b[0m\u001b[0;34m\u001b[0m\u001b[0m\n\u001b[1;32m    289\u001b[0m                 raise RInterpreterError(code, str(exception),\n\u001b[0;32m--> 290\u001b[0;31m                                         warning_or_other_msg)\n\u001b[0m\u001b[1;32m    291\u001b[0m             \u001b[0mtext_output\u001b[0m \u001b[0;34m=\u001b[0m \u001b[0mself\u001b[0m\u001b[0;34m.\u001b[0m\u001b[0mflush\u001b[0m\u001b[0;34m(\u001b[0m\u001b[0;34m)\u001b[0m\u001b[0;34m\u001b[0m\u001b[0;34m\u001b[0m\u001b[0m\n\u001b[1;32m    292\u001b[0m             \u001b[0;32mreturn\u001b[0m \u001b[0mtext_output\u001b[0m\u001b[0;34m,\u001b[0m \u001b[0mvalue\u001b[0m\u001b[0;34m,\u001b[0m \u001b[0mvisible\u001b[0m\u001b[0;34m[\u001b[0m\u001b[0;36m0\u001b[0m\u001b[0;34m]\u001b[0m\u001b[0;34m\u001b[0m\u001b[0;34m\u001b[0m\u001b[0m\n",
      "\u001b[0;31mRInterpreterError\u001b[0m: Failed to parse and evaluate line '\\nlibrary(\"car\")\\nboxTidwell(formula = volunteer_yes ~ neuroticism + extraversion, \\n           other.x = ~ sex_male,\\n           data = cowles_data)\\n'.\nR error message: 'Error in library(\"car\") : there is no package called ‘car’'"
     ]
    }
   ],
   "source": [
    "%%R -i cowles_data\n",
    "\n",
    "library(\"car\")\n",
    "boxTidwell(formula = volunteer_yes ~ neuroticism + extraversion, \n",
    "           other.x = ~ sex_male,\n",
    "           data = cowles_data)"
   ]
  },
  {
   "cell_type": "markdown",
   "metadata": {
    "slideshow": {
     "slide_type": "fragment"
    }
   },
   "source": [
    "En este caso no obtenemos valores significativos para los predictores `neuroticism` y `extraversion`. Por tanto, se cumple el supuesto de linealidad de las variables independientes con la dependiente."
   ]
  },
  {
   "cell_type": "markdown",
   "metadata": {
    "slideshow": {
     "slide_type": "slide"
    }
   },
   "source": [
    "### Estimación y evaluación del modelo\n",
    "\n",
    "Al igual que en la regresión múltiple, podemos evaluar el ajuste de la estimación del modelo. Para ello examinamos el grado en el que las medidas de resultado coinciden con las probabilidades predichas:\n",
    "- Las pruebas de significación del modelo se pueden realizar con una prueba de chi-cuadrado sobre las diferencias en los valores $-2LL$ entre los dos modelos (modelo estimado y modelo nulo).\n",
    "- Las medidas de pseudo $R^{2}$ son comparables a las que se encuentran en la regresión múltiple, pero generalmente tienen valores más bajos."
   ]
  },
  {
   "cell_type": "markdown",
   "metadata": {
    "slideshow": {
     "slide_type": "subslide"
    }
   },
   "source": [
    "Veamos el ajuste en nuestro ejemplo:"
   ]
  },
  {
   "cell_type": "code",
   "execution_count": 24,
   "metadata": {
    "hideCode": true,
    "hidePrompt": true,
    "slideshow": {
     "slide_type": "fragment"
    }
   },
   "outputs": [
    {
     "name": "stdout",
     "output_type": "stream",
     "text": [
      "Optimization terminated successfully.\n",
      "         Current function value: 0.670676\n",
      "         Iterations 4\n"
     ]
    },
    {
     "data": {
      "text/html": [
       "<table class=\"simpletable\">\n",
       "<caption>Logit Regression Results</caption>\n",
       "<tr>\n",
       "  <th>Dep. Variable:</th>     <td>volunteer_yes</td>  <th>  No. Observations:  </th>  <td>  1421</td>  \n",
       "</tr>\n",
       "<tr>\n",
       "  <th>Model:</th>                 <td>Logit</td>      <th>  Df Residuals:      </th>  <td>  1417</td>  \n",
       "</tr>\n",
       "<tr>\n",
       "  <th>Method:</th>                 <td>MLE</td>       <th>  Df Model:          </th>  <td>     3</td>  \n",
       "</tr>\n",
       "<tr>\n",
       "  <th>Date:</th>            <td>Tue, 18 Oct 2022</td> <th>  Pseudo R-squ.:     </th>  <td>0.01419</td> \n",
       "</tr>\n",
       "<tr>\n",
       "  <th>Time:</th>                <td>10:39:59</td>     <th>  Log-Likelihood:    </th> <td> -953.03</td> \n",
       "</tr>\n",
       "<tr>\n",
       "  <th>converged:</th>             <td>True</td>       <th>  LL-Null:           </th> <td> -966.75</td> \n",
       "</tr>\n",
       "<tr>\n",
       "  <th>Covariance Type:</th>     <td>nonrobust</td>    <th>  LLR p-value:       </th> <td>4.750e-06</td>\n",
       "</tr>\n",
       "</table>\n",
       "<table class=\"simpletable\">\n",
       "<tr>\n",
       "        <td></td>          <th>coef</th>     <th>std err</th>      <th>z</th>      <th>P>|z|</th>  <th>[0.025</th>    <th>0.975]</th>  \n",
       "</tr>\n",
       "<tr>\n",
       "  <th>Intercept</th>    <td>   -1.1229</td> <td>    0.256</td> <td>   -4.378</td> <td> 0.000</td> <td>   -1.625</td> <td>   -0.620</td>\n",
       "</tr>\n",
       "<tr>\n",
       "  <th>extraversion</th> <td>    0.0663</td> <td>    0.014</td> <td>    4.651</td> <td> 0.000</td> <td>    0.038</td> <td>    0.094</td>\n",
       "</tr>\n",
       "<tr>\n",
       "  <th>neuroticism</th>  <td>    0.0064</td> <td>    0.011</td> <td>    0.560</td> <td> 0.575</td> <td>   -0.016</td> <td>    0.029</td>\n",
       "</tr>\n",
       "<tr>\n",
       "  <th>sex_male</th>     <td>   -0.2352</td> <td>    0.111</td> <td>   -2.115</td> <td> 0.034</td> <td>   -0.453</td> <td>   -0.017</td>\n",
       "</tr>\n",
       "</table>"
      ],
      "text/plain": [
       "<class 'statsmodels.iolib.summary.Summary'>\n",
       "\"\"\"\n",
       "                           Logit Regression Results                           \n",
       "==============================================================================\n",
       "Dep. Variable:          volunteer_yes   No. Observations:                 1421\n",
       "Model:                          Logit   Df Residuals:                     1417\n",
       "Method:                           MLE   Df Model:                            3\n",
       "Date:                Tue, 18 Oct 2022   Pseudo R-squ.:                 0.01419\n",
       "Time:                        10:39:59   Log-Likelihood:                -953.03\n",
       "converged:                       True   LL-Null:                       -966.75\n",
       "Covariance Type:            nonrobust   LLR p-value:                 4.750e-06\n",
       "================================================================================\n",
       "                   coef    std err          z      P>|z|      [0.025      0.975]\n",
       "--------------------------------------------------------------------------------\n",
       "Intercept       -1.1229      0.256     -4.378      0.000      -1.625      -0.620\n",
       "extraversion     0.0663      0.014      4.651      0.000       0.038       0.094\n",
       "neuroticism      0.0064      0.011      0.560      0.575      -0.016       0.029\n",
       "sex_male        -0.2352      0.111     -2.115      0.034      -0.453      -0.017\n",
       "================================================================================\n",
       "\"\"\""
      ]
     },
     "execution_count": 24,
     "metadata": {},
     "output_type": "execute_result"
    }
   ],
   "source": [
    "import statsmodels.formula.api as smf\n",
    "\n",
    "model = smf.logit(\n",
    "    \"volunteer_yes ~ extraversion + neuroticism + sex_male\", data=cowles_data\n",
    ").fit()\n",
    "model.summary()"
   ]
  },
  {
   "cell_type": "markdown",
   "metadata": {
    "slideshow": {
     "slide_type": "fragment"
    }
   },
   "source": [
    "Podemos apreciar que el modelo es estadísticamente significativo. Sin embargo, en términos prácticos vemos que el modelo no tiene un poder explicativo bajo (Pseudo $R^{2}$ = 0.01)."
   ]
  },
  {
   "cell_type": "markdown",
   "metadata": {
    "slideshow": {
     "slide_type": "subslide"
    }
   },
   "source": [
    "Por otra parte, podemos evaluar el impacto de cada observación en el ajuste y los coeficientes del modelo:\n",
    "\n",
    "- Ambos residuos (Pearson y desviación) reflejan diferencias estandarizadas entre probabilidades predichas y valor de resultado (0 y 1). Los valores superiores a 2 merecen mayor atención."
   ]
  },
  {
   "cell_type": "markdown",
   "metadata": {
    "slideshow": {
     "slide_type": "subslide"
    }
   },
   "source": [
    "Veamos el impacto de cada observación en nuestro ejemplo:"
   ]
  },
  {
   "cell_type": "code",
   "execution_count": 34,
   "metadata": {
    "hideCode": true,
    "hidePrompt": true,
    "slideshow": {
     "slide_type": "fragment"
    }
   },
   "outputs": [
    {
     "data": {
      "text/plain": [
       "Text(0, 0.5, 'Deviance Residuals')"
      ]
     },
     "execution_count": 34,
     "metadata": {},
     "output_type": "execute_result"
    },
    {
     "data": {
      "image/png": "[encoded data removed]",
      "text/plain": [
       "<Figure size 640x480 with 1 Axes>"
      ]
     },
     "metadata": {},
     "output_type": "display_data"
    }
   ],
   "source": [
    "import statsmodels.api as sm\n",
    "import seaborn as sns\n",
    "\n",
    "ax = sns.residplot(x=model.fittedvalues, y=model.resid_dev, lowess=True)\n",
    "ax.set_title(\"Deviance Residuals \\n against Fitted Values\")\n",
    "ax.set_xlabel(\"Linear Predictor Values\")\n",
    "ax.set_ylabel(\"Deviance Residuals\")"
   ]
  },
  {
   "cell_type": "markdown",
   "metadata": {
    "slideshow": {
     "slide_type": "fragment"
    }
   },
   "source": [
    "La linea continua se aproxima a cero, lo cual nos indica que no hay una inadecuación significativa del modelo. Además, podemos apreciar que los residuos no superan en valor absoluto a 2, por lo que no habría una observación influyente destacada. "
   ]
  },
  {
   "cell_type": "markdown",
   "metadata": {
    "slideshow": {
     "slide_type": "slide"
    }
   },
   "source": [
    "### Interpretación\n",
    "\n",
    "#### Interpretación de los coeficientes\n",
    "\n",
    "Los coeficientes se expresan de dos formas: original y exponencial para ayudar en la interpretación. La interpretación de los coeficientes de dirección y magnitud es la siguiente:\n",
    "\n",
    "- La dirección se puede evaluar directamente en los coeficientes originales (signos positivos o negativos).\n",
    "\n",
    "- La magnitud se evalúa mejor mediante el coeficiente exponencial, con el cambio porcentual en la variable dependiente mostrado por:\n",
    "$$ Cambio\\ porcentual = (e^{coeficiente} - 1.0) \\times 100 $$"
   ]
  },
  {
   "cell_type": "markdown",
   "metadata": {
    "slideshow": {
     "slide_type": "subslide"
    }
   },
   "source": [
    "Evaluemos los coeficientes en nuestro ejemplo:"
   ]
  },
  {
   "cell_type": "code",
   "execution_count": 8,
   "metadata": {
    "hideCode": true,
    "hidePrompt": true,
    "slideshow": {
     "slide_type": "fragment"
    }
   },
   "outputs": [
    {
     "data": {
      "text/plain": [
       "Intercept      -67.465145\n",
       "extraversion     6.857438\n",
       "neuroticism      0.638215\n",
       "sex_male       -20.955677\n",
       "dtype: float64"
      ]
     },
     "execution_count": 8,
     "metadata": {},
     "output_type": "execute_result"
    }
   ],
   "source": [
    "import numpy as np\n",
    "\n",
    "(np.exp(model.params) - 1) * 100"
   ]
  },
  {
   "cell_type": "markdown",
   "metadata": {
    "slideshow": {
     "slide_type": "fragment"
    }
   },
   "source": [
    "Podemos apreciar que el puntaje de extraversión aumenta en un 6% las posibilidades de que los individuos participen en el experimento. Del mismo modo, el ser varón reduce en un 20% las posibilidades de que un individuo participe en el experimento."
   ]
  },
  {
   "cell_type": "markdown",
   "metadata": {
    "slideshow": {
     "slide_type": "slide"
    }
   },
   "source": [
    "## MANOVA\n",
    "\n",
    "MANOVA es una extensión de ANOVA que **examina el efecto de una o más variables independientes no métricas sobre dos o más variables dependientes métricas**.\n",
    "\n",
    "El enfoque de MANOVA y ANOVA se encuentra típicamente en una única o muy pequeña cantidad de variables independientes (es decir, una relación de resultado de tratamiento específico) con todas las otras variables que impactan la relación de alguna manera."
   ]
  },
  {
   "cell_type": "markdown",
   "metadata": {
    "slideshow": {
     "slide_type": "subslide"
    }
   },
   "source": [
    "### Nociones previas\n",
    "\n",
    "**Análisis de Varianza (ANOVA)**\n",
    "\n",
    "$ Y_{1} = X_{1} + X_{2} + X_{3} + ... + X_{n} $\n",
    "\n",
    "*(cuantitativa) = (categórica)*\n",
    "\n",
    "**Análisis de Varianza Múltiple (MANOVA)**\n",
    "\n",
    "$ Y_{1} + Y_{2} + Y_{3} + ... + Y_{n} = X_{1} + X_{2} + X_{3} + ... + X_{n} $\n",
    "\n",
    "*(cuantitativa) = (categórica,cuantitativa)*"
   ]
  },
  {
   "cell_type": "markdown",
   "metadata": {
    "slideshow": {
     "slide_type": "subslide"
    }
   },
   "source": [
    "Veamos cómo se posicionan estos modelos en relación a la cantidad de variables dependientes e independientes:\n",
    "\n",
    "|                  | Univariado | Multivariado         |\n",
    "|------------------|------------|----------------------|\n",
    "| Dos grupos       | Prueba t   | $T^{2}$ de Hotelling |\n",
    "| Dos o más grupos | ANOVA      | MANOVA               |"
   ]
  },
  {
   "cell_type": "markdown",
   "metadata": {
    "slideshow": {
     "slide_type": "slide"
    }
   },
   "source": [
    "Gráficamente, la $T^{2}$ extiende a la prueba t de la siguiente manera:\n",
    "\n",
    "<p align=\"center\">\n",
    "  <img width=\"900\" src=\"https://github.com/renatoparedes/EstadisticaYPsicologiaMatematica/raw/main/Regresiones/Hotelling.png\" alt=\"Variable Types\">\n",
    "</p>"
   ]
  },
  {
   "cell_type": "markdown",
   "metadata": {
    "slideshow": {
     "slide_type": "subslide"
    }
   },
   "source": [
    "Y evalúa su significancia siguiendo:\n",
    "\n",
    "$$ T^{2}_{crit} =  \\frac{ p(N_{1} + N_{2} - 2) }{ N_{1} + N_{2} - p - 1 } \\times F_{crit} $$"
   ]
  },
  {
   "cell_type": "markdown",
   "metadata": {
    "slideshow": {
     "slide_type": "subslide"
    }
   },
   "source": [
    "La $T^{2}$ de Hotelling se generaliza a dos o más grupos aplicando estadísticos propios del análisis discriminante. Por ahora, basta decir que el MANOVA evalúa la hipótesis nula:\n",
    "\n",
    "$$ H_{0}: \\begin{pmatrix}\n",
    "\\mu_{11} \\\\ \n",
    "\\mu_{21} \\\\ \n",
    "\\vdots  \\\\ \n",
    "\\mu_{p1}\n",
    "\\end{pmatrix} = \\begin{pmatrix}\n",
    "\\mu_{12} \\\\ \n",
    "\\mu_{22} \\\\ \n",
    "\\vdots  \\\\ \n",
    "\\mu_{p2}\n",
    "\\end{pmatrix} = \\ \\cdots  \\ = \\begin{pmatrix}\n",
    "\\mu_{1k} \\\\ \n",
    "\\mu_{2k} \\\\ \n",
    "\\vdots  \\\\ \n",
    "\\mu_{pk}\n",
    "\\end{pmatrix}  $$\n",
    "\n",
    "donde $\\mu_{pk}$ representa la media de la variable $p$ en el grupo $k$. \n",
    "\n",
    "La $H_{0}$ plantea que todos los vectores de las medias de los grupos son iguales. Es decir, provienen de la misma población."
   ]
  },
  {
   "cell_type": "markdown",
   "metadata": {
    "slideshow": {
     "slide_type": "slide"
    }
   },
   "source": [
    "Además de la capacidad de analizar múltiples variables dependientes, MANOVA también tiene las ventajas de:\n",
    "- Controlar la tasa de error de todo el experimento cuando existe algún grado de intercorrelación entre las variables dependientes.\n",
    "- Proporciona más poder estadístico que ANOVA cuando el número de variables dependientes es cinco o menos.\n",
    "- Las variables independientes no métricas crean grupos entre los que se comparan las variables dependientes; muchas veces los grupos representan variables experimentales o \"efectos del tratamiento\".\n",
    "- Los investigadores deben incluir solo variables dependientes que tengan un fuerte apoyo teórico."
   ]
  },
  {
   "cell_type": "markdown",
   "metadata": {
    "slideshow": {
     "slide_type": "slide"
    }
   },
   "source": [
    "### Diseño\n",
    "\n",
    "Varios enfoques de investigación son aplicables al análisis ANOVA / MANOVA:\n",
    "- Los diseños aleatorios, como los experimentos controlados y los experimentos de campo, están más estrechamente asociados con estas técnicas.\n",
    "- Incluso los estudios observacionales proporcionan datos que pueden analizarse con técnicas especializadas para permitir inferencias válidas de efectos específicos.\n",
    "- Los diseños no aleatorios, como los experimentos naturales y los cuasiexperimentos, aplican algunos de los principios del diseño experimental para centrarse en efectos específicos."
   ]
  },
  {
   "cell_type": "markdown",
   "metadata": {
    "slideshow": {
     "slide_type": "subslide"
    }
   },
   "source": [
    "Si bien el enfoque principal está en el efecto principal (es decir, la relación entre el tratamiento/variable independiente y la variable dependiente/resultado), también se consideran variables y relaciones adicionales:\n",
    "- Efectos explicativos adicionales como moderación y mediación.\n",
    "- Control de influencias externas mediante covariables y factores de bloqueo.\n",
    "- Variables externas como factores de confusión y variables instrumentales."
   ]
  },
  {
   "cell_type": "markdown",
   "metadata": {
    "slideshow": {
     "slide_type": "subslide"
    }
   },
   "source": [
    "**Las celdas (condiciones) están formadas por la combinación de variables independientes**. \n",
    "\n",
    "Por ejemplo, una variable no métrica de tres categorías (p.e. baja, media, alta) combinada con una variable no métrica de dos categorías (p.e. masculino, femenino) dará como resultado un diseño 3x2 con seis celdas."
   ]
  },
  {
   "cell_type": "markdown",
   "metadata": {
    "slideshow": {
     "slide_type": "subslide"
    }
   },
   "source": [
    "El tamaño de la muestra por celda es un problema de diseño crítico:\n",
    "- El tamaño mínimo de la muestra por celda debe ser mayor que el número de variables dependientes.\n",
    "- El tamaño de celda mínimo recomendado es de 20 observaciones por celda.\n",
    "- Los investigadores deben intentar tener diseños equilibrados (tamaños de muestra iguales por celda)."
   ]
  },
  {
   "cell_type": "markdown",
   "metadata": {
    "slideshow": {
     "slide_type": "subslide"
    }
   },
   "source": [
    "De todos modos, es importante considerar la potencia a priori (Hair et al., 2019):\n",
    "\n",
    "\n",
    "<p align=\"center\">\n",
    "  <img width=\"900\" src=\"https://github.com/renatoparedes/EstadisticaYPsicologiaMatematica/raw/main/Regresiones/MANOVApower.png\" alt=\"Variable Types\">\n",
    "</p>"
   ]
  },
  {
   "cell_type": "markdown",
   "metadata": {
    "slideshow": {
     "slide_type": "subslide"
    }
   },
   "source": [
    "Mantener un poder estadístico adecuado es fundamental:\n",
    "- La potencia en el rango de .80 para el nivel alfa seleccionado es aceptable.\n",
    "- Cuando el tamaño del efecto es pequeño, el investigador debe usar tamaños de muestra más grandes por grupo para mantener niveles aceptables de poder estadístico."
   ]
  },
  {
   "cell_type": "markdown",
   "metadata": {
    "slideshow": {
     "slide_type": "slide"
    }
   },
   "source": [
    "### Supuestos\n",
    "\n",
    "Para que los procedimientos multivariados utilizados con MANOVA sean válidos:\n",
    "- Las observaciones deben ser independientes.\n",
    "- Las matrices de varianza-covarianza deben ser iguales (o comparables) para todos los grupos de tratamiento.\n",
    "- Las variables dependientes deben tener una distribución normal multivariante.\n",
    "- La normalidad univariada no garantiza la normalidad multivariada, pero si todas las variables cumplen con el requisito de normalidad univariante, las desviaciones de la normalidad multivariante son intrascendentes.\n",
    "- Esfericidad: Las variables dependientes deben tener correlaciones significativas.\n",
    "- Multicolinearidad: No debe haber correlaciones muy altas (> 0.9) entre las variables dependientes."
   ]
  },
  {
   "cell_type": "markdown",
   "metadata": {
    "slideshow": {
     "slide_type": "subslide"
    }
   },
   "source": [
    "Algunos puntos a tomar en cuenta:\n",
    "- En general, **las pruebas F son generalmente sólidas si las violaciones de estos supuestos son modestas**. \n",
    "- Los valores atípicos pueden tener una influencia sustancial en los resultados y deben identificarse y potencialmente eliminarse."
   ]
  },
  {
   "cell_type": "markdown",
   "metadata": {
    "slideshow": {
     "slide_type": "slide"
    }
   },
   "source": [
    "Revisemos estos supuestos a través de un ejemplo. En este caso queremos implementar un modelo MANOVA de la forma: \n",
    "\n",
    "$$ Y_{satisfaction} + Y_{recommend} + Y_{purchase} = X_{customer \\ type} + X_{dis \\ sys} $$"
   ]
  },
  {
   "cell_type": "code",
   "execution_count": 9,
   "metadata": {
    "hideCode": true,
    "hidePrompt": true,
    "slideshow": {
     "slide_type": "subslide"
    }
   },
   "outputs": [
    {
     "data": {
      "text/html": [
       "<div>\n",
       "<style scoped>\n",
       "    .dataframe tbody tr th:only-of-type {\n",
       "        vertical-align: middle;\n",
       "    }\n",
       "\n",
       "    .dataframe tbody tr th {\n",
       "        vertical-align: top;\n",
       "    }\n",
       "\n",
       "    .dataframe thead th {\n",
       "        text-align: right;\n",
       "    }\n",
       "</style>\n",
       "<table border=\"1\" class=\"dataframe\">\n",
       "  <thead>\n",
       "    <tr style=\"text-align: right;\">\n",
       "      <th></th>\n",
       "      <th>customer_type</th>\n",
       "      <th>dis_sys</th>\n",
       "      <th>satisfaction</th>\n",
       "      <th>recommend</th>\n",
       "      <th>purchase</th>\n",
       "    </tr>\n",
       "  </thead>\n",
       "  <tbody>\n",
       "    <tr>\n",
       "      <th>0</th>\n",
       "      <td>1 to 5 years</td>\n",
       "      <td>Direct to customer</td>\n",
       "      <td>8.2</td>\n",
       "      <td>8.0</td>\n",
       "      <td>8.4</td>\n",
       "    </tr>\n",
       "    <tr>\n",
       "      <th>1</th>\n",
       "      <td>Over 5 years</td>\n",
       "      <td>Indirect through broker</td>\n",
       "      <td>5.7</td>\n",
       "      <td>6.5</td>\n",
       "      <td>7.5</td>\n",
       "    </tr>\n",
       "    <tr>\n",
       "      <th>2</th>\n",
       "      <td>Over 5 years</td>\n",
       "      <td>Direct to customer</td>\n",
       "      <td>8.9</td>\n",
       "      <td>8.4</td>\n",
       "      <td>9.0</td>\n",
       "    </tr>\n",
       "    <tr>\n",
       "      <th>3</th>\n",
       "      <td>Less than 1 year</td>\n",
       "      <td>Indirect through broker</td>\n",
       "      <td>4.8</td>\n",
       "      <td>6.0</td>\n",
       "      <td>7.2</td>\n",
       "    </tr>\n",
       "    <tr>\n",
       "      <th>4</th>\n",
       "      <td>1 to 5 years</td>\n",
       "      <td>Direct to customer</td>\n",
       "      <td>7.1</td>\n",
       "      <td>6.6</td>\n",
       "      <td>9.0</td>\n",
       "    </tr>\n",
       "    <tr>\n",
       "      <th>...</th>\n",
       "      <td>...</td>\n",
       "      <td>...</td>\n",
       "      <td>...</td>\n",
       "      <td>...</td>\n",
       "      <td>...</td>\n",
       "    </tr>\n",
       "    <tr>\n",
       "      <th>95</th>\n",
       "      <td>Less than 1 year</td>\n",
       "      <td>Direct to customer</td>\n",
       "      <td>7.3</td>\n",
       "      <td>8.1</td>\n",
       "      <td>8.1</td>\n",
       "    </tr>\n",
       "    <tr>\n",
       "      <th>96</th>\n",
       "      <td>Less than 1 year</td>\n",
       "      <td>Direct to customer</td>\n",
       "      <td>6.3</td>\n",
       "      <td>5.5</td>\n",
       "      <td>7.2</td>\n",
       "    </tr>\n",
       "    <tr>\n",
       "      <th>97</th>\n",
       "      <td>Less than 1 year</td>\n",
       "      <td>Direct to customer</td>\n",
       "      <td>5.4</td>\n",
       "      <td>7.0</td>\n",
       "      <td>7.7</td>\n",
       "    </tr>\n",
       "    <tr>\n",
       "      <th>98</th>\n",
       "      <td>1 to 5 years</td>\n",
       "      <td>Direct to customer</td>\n",
       "      <td>6.4</td>\n",
       "      <td>7.1</td>\n",
       "      <td>7.4</td>\n",
       "    </tr>\n",
       "    <tr>\n",
       "      <th>99</th>\n",
       "      <td>1 to 5 years</td>\n",
       "      <td>Indirect through broker</td>\n",
       "      <td>6.4</td>\n",
       "      <td>7.3</td>\n",
       "      <td>7.0</td>\n",
       "    </tr>\n",
       "  </tbody>\n",
       "</table>\n",
       "<p>100 rows × 5 columns</p>\n",
       "</div>"
      ],
      "text/plain": [
       "       customer_type                  dis_sys satisfaction recommend purchase\n",
       "0       1 to 5 years       Direct to customer          8.2       8.0      8.4\n",
       "1       Over 5 years  Indirect through broker          5.7       6.5      7.5\n",
       "2       Over 5 years       Direct to customer          8.9       8.4      9.0\n",
       "3   Less than 1 year  Indirect through broker          4.8       6.0      7.2\n",
       "4       1 to 5 years       Direct to customer          7.1       6.6      9.0\n",
       "..               ...                      ...          ...       ...      ...\n",
       "95  Less than 1 year       Direct to customer          7.3       8.1      8.1\n",
       "96  Less than 1 year       Direct to customer          6.3       5.5      7.2\n",
       "97  Less than 1 year       Direct to customer          5.4       7.0      7.7\n",
       "98      1 to 5 years       Direct to customer          6.4       7.1      7.4\n",
       "99      1 to 5 years  Indirect through broker          6.4       7.3      7.0\n",
       "\n",
       "[100 rows x 5 columns]"
      ]
     },
     "execution_count": 9,
     "metadata": {},
     "output_type": "execute_result"
    }
   ],
   "source": [
    "df = pd.read_spss(\"HBAT.sav\")\n",
    "df = df[[\"x1\", \"x5\", \"x19\", \"x20\", \"x21\"]]\n",
    "df.rename(\n",
    "    columns={\n",
    "        \"x1\": \"customer_type\",\n",
    "        \"x5\": \"dis_sys\",\n",
    "        \"x19\": \"satisfaction\",\n",
    "        \"x20\": \"recommend\",\n",
    "        \"x21\": \"purchase\",\n",
    "    },\n",
    "    inplace=True,\n",
    ")\n",
    "uncoded_df = df.copy()\n",
    "uncoded_df"
   ]
  },
  {
   "cell_type": "code",
   "execution_count": 10,
   "metadata": {
    "hideCode": false,
    "hidePrompt": false,
    "slideshow": {
     "slide_type": "skip"
    }
   },
   "outputs": [
    {
     "data": {
      "text/html": [
       "<div>\n",
       "<style scoped>\n",
       "    .dataframe tbody tr th:only-of-type {\n",
       "        vertical-align: middle;\n",
       "    }\n",
       "\n",
       "    .dataframe tbody tr th {\n",
       "        vertical-align: top;\n",
       "    }\n",
       "\n",
       "    .dataframe thead th {\n",
       "        text-align: right;\n",
       "    }\n",
       "</style>\n",
       "<table border=\"1\" class=\"dataframe\">\n",
       "  <thead>\n",
       "    <tr style=\"text-align: right;\">\n",
       "      <th></th>\n",
       "      <th>customer_type</th>\n",
       "      <th>dis_sys</th>\n",
       "      <th>satisfaction</th>\n",
       "      <th>recommend</th>\n",
       "      <th>purchase</th>\n",
       "    </tr>\n",
       "  </thead>\n",
       "  <tbody>\n",
       "    <tr>\n",
       "      <th>0</th>\n",
       "      <td>0.0</td>\n",
       "      <td>0.0</td>\n",
       "      <td>8.2</td>\n",
       "      <td>8.0</td>\n",
       "      <td>8.4</td>\n",
       "    </tr>\n",
       "    <tr>\n",
       "      <th>1</th>\n",
       "      <td>2.0</td>\n",
       "      <td>1.0</td>\n",
       "      <td>5.7</td>\n",
       "      <td>6.5</td>\n",
       "      <td>7.5</td>\n",
       "    </tr>\n",
       "    <tr>\n",
       "      <th>2</th>\n",
       "      <td>2.0</td>\n",
       "      <td>0.0</td>\n",
       "      <td>8.9</td>\n",
       "      <td>8.4</td>\n",
       "      <td>9.0</td>\n",
       "    </tr>\n",
       "    <tr>\n",
       "      <th>3</th>\n",
       "      <td>1.0</td>\n",
       "      <td>1.0</td>\n",
       "      <td>4.8</td>\n",
       "      <td>6.0</td>\n",
       "      <td>7.2</td>\n",
       "    </tr>\n",
       "    <tr>\n",
       "      <th>4</th>\n",
       "      <td>0.0</td>\n",
       "      <td>0.0</td>\n",
       "      <td>7.1</td>\n",
       "      <td>6.6</td>\n",
       "      <td>9.0</td>\n",
       "    </tr>\n",
       "    <tr>\n",
       "      <th>...</th>\n",
       "      <td>...</td>\n",
       "      <td>...</td>\n",
       "      <td>...</td>\n",
       "      <td>...</td>\n",
       "      <td>...</td>\n",
       "    </tr>\n",
       "    <tr>\n",
       "      <th>95</th>\n",
       "      <td>1.0</td>\n",
       "      <td>0.0</td>\n",
       "      <td>7.3</td>\n",
       "      <td>8.1</td>\n",
       "      <td>8.1</td>\n",
       "    </tr>\n",
       "    <tr>\n",
       "      <th>96</th>\n",
       "      <td>1.0</td>\n",
       "      <td>0.0</td>\n",
       "      <td>6.3</td>\n",
       "      <td>5.5</td>\n",
       "      <td>7.2</td>\n",
       "    </tr>\n",
       "    <tr>\n",
       "      <th>97</th>\n",
       "      <td>1.0</td>\n",
       "      <td>0.0</td>\n",
       "      <td>5.4</td>\n",
       "      <td>7.0</td>\n",
       "      <td>7.7</td>\n",
       "    </tr>\n",
       "    <tr>\n",
       "      <th>98</th>\n",
       "      <td>0.0</td>\n",
       "      <td>0.0</td>\n",
       "      <td>6.4</td>\n",
       "      <td>7.1</td>\n",
       "      <td>7.4</td>\n",
       "    </tr>\n",
       "    <tr>\n",
       "      <th>99</th>\n",
       "      <td>0.0</td>\n",
       "      <td>1.0</td>\n",
       "      <td>6.4</td>\n",
       "      <td>7.3</td>\n",
       "      <td>7.0</td>\n",
       "    </tr>\n",
       "  </tbody>\n",
       "</table>\n",
       "<p>100 rows × 5 columns</p>\n",
       "</div>"
      ],
      "text/plain": [
       "    customer_type  dis_sys  satisfaction  recommend  purchase\n",
       "0             0.0      0.0           8.2        8.0       8.4\n",
       "1             2.0      1.0           5.7        6.5       7.5\n",
       "2             2.0      0.0           8.9        8.4       9.0\n",
       "3             1.0      1.0           4.8        6.0       7.2\n",
       "4             0.0      0.0           7.1        6.6       9.0\n",
       "..            ...      ...           ...        ...       ...\n",
       "95            1.0      0.0           7.3        8.1       8.1\n",
       "96            1.0      0.0           6.3        5.5       7.2\n",
       "97            1.0      0.0           5.4        7.0       7.7\n",
       "98            0.0      0.0           6.4        7.1       7.4\n",
       "99            0.0      1.0           6.4        7.3       7.0\n",
       "\n",
       "[100 rows x 5 columns]"
      ]
     },
     "execution_count": 10,
     "metadata": {},
     "output_type": "execute_result"
    }
   ],
   "source": [
    "df[\"dis_sys\"] = df.dis_sys.cat.codes\n",
    "df[\"customer_type\"] = df.customer_type.cat.codes\n",
    "df.dropna(inplace=True)\n",
    "df = df.astype(\"float\")\n",
    "df"
   ]
  },
  {
   "cell_type": "code",
   "execution_count": 11,
   "metadata": {
    "hideCode": true,
    "hidePrompt": true,
    "slideshow": {
     "slide_type": "subslide"
    }
   },
   "outputs": [
    {
     "data": {
      "image/png": "[encoded data removed]",
      "text/plain": [
       "<Figure size 640x480 with 1 Axes>"
      ]
     },
     "metadata": {},
     "output_type": "display_data"
    },
    {
     "data": {
      "image/png": "[encoded data removed]",
      "text/plain": [
       "<Figure size 640x480 with 1 Axes>"
      ]
     },
     "metadata": {},
     "output_type": "display_data"
    },
    {
     "data": {
      "image/png": "[encoded data removed]",
      "text/plain": [
       "<Figure size 640x480 with 1 Axes>"
      ]
     },
     "metadata": {},
     "output_type": "display_data"
    }
   ],
   "source": [
    "import seaborn as sns\n",
    "import matplotlib.pyplot as plt\n",
    "\n",
    "# Create list of dependent and independent variables\n",
    "dep_vars = [\"satisfaction\", \"recommend\", \"purchase\"]\n",
    "ind_vars = [\"customer_type\", \"dis_sys\"]\n",
    "\n",
    "# Generate plots\n",
    "for i in range(len(dep_vars)):\n",
    "    dvar = dep_vars[i]\n",
    "    plt.figure(i)\n",
    "    ax = sns.boxplot(x=\"customer_type\", y=dvar, hue=\"dis_sys\", data=df)\n",
    "    plt.xticks(\n",
    "        range(uncoded_df.customer_type.values.categories.size),\n",
    "        uncoded_df.customer_type.values.categories,\n",
    "    )\n",
    "    handles, labels = ax.get_legend_handles_labels()\n",
    "    plt.legend(handles, uncoded_df.dis_sys.values.categories)"
   ]
  },
  {
   "cell_type": "markdown",
   "metadata": {
    "slideshow": {
     "slide_type": "subslide"
    }
   },
   "source": [
    "Evaluemos la normalidad multivariante:"
   ]
  },
  {
   "cell_type": "code",
   "execution_count": 12,
   "metadata": {
    "hideCode": true,
    "hidePrompt": true,
    "slideshow": {
     "slide_type": "fragment"
    }
   },
   "outputs": [
    {
     "data": {
      "text/plain": [
       "HZResults(hz=0.74146721195395, pval=0.4079454542216472, normal=True)"
      ]
     },
     "execution_count": 12,
     "metadata": {},
     "output_type": "execute_result"
    }
   ],
   "source": [
    "import pingouin as pg\n",
    "\n",
    "# Compute multivariate normality\n",
    "pg.multivariate_normality(df[dep_vars])"
   ]
  },
  {
   "cell_type": "markdown",
   "metadata": {
    "slideshow": {
     "slide_type": "fragment"
    }
   },
   "source": [
    "Según la prueba de Henze-Zirkler, las variables dependientes cumplen el supuesto de normalidad multivariante. "
   ]
  },
  {
   "cell_type": "markdown",
   "metadata": {
    "slideshow": {
     "slide_type": "subslide"
    }
   },
   "source": [
    "Evaluemos ahora la normalidad univariante:"
   ]
  },
  {
   "cell_type": "code",
   "execution_count": 13,
   "metadata": {
    "hideCode": true,
    "hidePrompt": true,
    "slideshow": {
     "slide_type": "fragment"
    }
   },
   "outputs": [
    {
     "data": {
      "text/html": [
       "<div>\n",
       "<style scoped>\n",
       "    .dataframe tbody tr th:only-of-type {\n",
       "        vertical-align: middle;\n",
       "    }\n",
       "\n",
       "    .dataframe tbody tr th {\n",
       "        vertical-align: top;\n",
       "    }\n",
       "\n",
       "    .dataframe thead th {\n",
       "        text-align: right;\n",
       "    }\n",
       "</style>\n",
       "<table border=\"1\" class=\"dataframe\">\n",
       "  <thead>\n",
       "    <tr style=\"text-align: right;\">\n",
       "      <th></th>\n",
       "      <th>W</th>\n",
       "      <th>pval</th>\n",
       "      <th>normal</th>\n",
       "    </tr>\n",
       "  </thead>\n",
       "  <tbody>\n",
       "    <tr>\n",
       "      <th>satisfaction</th>\n",
       "      <td>6.261709</td>\n",
       "      <td>0.043680</td>\n",
       "      <td>False</td>\n",
       "    </tr>\n",
       "    <tr>\n",
       "      <th>recommend</th>\n",
       "      <td>0.035552</td>\n",
       "      <td>0.982381</td>\n",
       "      <td>True</td>\n",
       "    </tr>\n",
       "    <tr>\n",
       "      <th>purchase</th>\n",
       "      <td>0.157842</td>\n",
       "      <td>0.924113</td>\n",
       "      <td>True</td>\n",
       "    </tr>\n",
       "  </tbody>\n",
       "</table>\n",
       "</div>"
      ],
      "text/plain": [
       "                     W      pval  normal\n",
       "satisfaction  6.261709  0.043680   False\n",
       "recommend     0.035552  0.982381    True\n",
       "purchase      0.157842  0.924113    True"
      ]
     },
     "execution_count": 13,
     "metadata": {},
     "output_type": "execute_result"
    }
   ],
   "source": [
    "# Compute univariate normality\n",
    "pg.normality(df[dep_vars], method=\"normaltest\")"
   ]
  },
  {
   "cell_type": "markdown",
   "metadata": {
    "slideshow": {
     "slide_type": "fragment"
    }
   },
   "source": [
    "Múltiples pruebas de D'Agostino y Pearson indican que las variables independientes siguen una distribución normal a excepción de `satisfaction`. Para efectos de este ejemplo, proseguiremos con este análisis. "
   ]
  },
  {
   "cell_type": "markdown",
   "metadata": {
    "slideshow": {
     "slide_type": "subslide"
    }
   },
   "source": [
    "Ahora evaluemos la homogeneidad de matrices de covarianza de las variables dependientes para cada una de las variables independientes:"
   ]
  },
  {
   "cell_type": "code",
   "execution_count": 14,
   "metadata": {
    "hideCode": true,
    "hidePrompt": true,
    "slideshow": {
     "slide_type": "fragment"
    }
   },
   "outputs": [
    {
     "data": {
      "text/html": [
       "<div>\n",
       "<style scoped>\n",
       "    .dataframe tbody tr th:only-of-type {\n",
       "        vertical-align: middle;\n",
       "    }\n",
       "\n",
       "    .dataframe tbody tr th {\n",
       "        vertical-align: top;\n",
       "    }\n",
       "\n",
       "    .dataframe thead th {\n",
       "        text-align: right;\n",
       "    }\n",
       "</style>\n",
       "<table border=\"1\" class=\"dataframe\">\n",
       "  <thead>\n",
       "    <tr style=\"text-align: right;\">\n",
       "      <th></th>\n",
       "      <th>Chi2</th>\n",
       "      <th>df</th>\n",
       "      <th>pval</th>\n",
       "      <th>equal_cov</th>\n",
       "    </tr>\n",
       "  </thead>\n",
       "  <tbody>\n",
       "    <tr>\n",
       "      <th>customer_type</th>\n",
       "      <td>16.043628</td>\n",
       "      <td>12.0</td>\n",
       "      <td>0.189246</td>\n",
       "      <td>True</td>\n",
       "    </tr>\n",
       "    <tr>\n",
       "      <th>dis_sys</th>\n",
       "      <td>3.955950</td>\n",
       "      <td>6.0</td>\n",
       "      <td>0.682638</td>\n",
       "      <td>True</td>\n",
       "    </tr>\n",
       "  </tbody>\n",
       "</table>\n",
       "</div>"
      ],
      "text/plain": [
       "                    Chi2    df      pval  equal_cov\n",
       "customer_type  16.043628  12.0  0.189246       True\n",
       "dis_sys         3.955950   6.0  0.682638       True"
      ]
     },
     "execution_count": 14,
     "metadata": {},
     "output_type": "execute_result"
    }
   ],
   "source": [
    "# Compute multivariate homocedasticity\n",
    "multi_homoek = pd.DataFrame()\n",
    "for var in ind_vars:\n",
    "    frame = pg.box_m(data=df, dvs=dep_vars, group=var)\n",
    "    multi_homoek = multi_homoek.append(frame.r ename(index={\"box\": var}))\n",
    "multi_homoek"
   ]
  },
  {
   "cell_type": "markdown",
   "metadata": {
    "slideshow": {
     "slide_type": "fragment"
    }
   },
   "source": [
    "Según la prueba de M de Box, se cumple el criterio de homogeneidad de matrices de varianza-covarianza en cada celda para ambas variables independientes."
   ]
  },
  {
   "cell_type": "markdown",
   "metadata": {
    "slideshow": {
     "slide_type": "subslide"
    }
   },
   "source": [
    "Examinemos ahora la homogeneidad de varianzas de cada una de las variables dependientes para cada variable independiente:"
   ]
  },
  {
   "cell_type": "code",
   "execution_count": 15,
   "metadata": {
    "hideCode": true,
    "hidePrompt": true,
    "slideshow": {
     "slide_type": "fragment"
    }
   },
   "outputs": [
    {
     "data": {
      "text/html": [
       "<div>\n",
       "<style scoped>\n",
       "    .dataframe tbody tr th:only-of-type {\n",
       "        vertical-align: middle;\n",
       "    }\n",
       "\n",
       "    .dataframe tbody tr th {\n",
       "        vertical-align: top;\n",
       "    }\n",
       "\n",
       "    .dataframe thead th {\n",
       "        text-align: right;\n",
       "    }\n",
       "</style>\n",
       "<table border=\"1\" class=\"dataframe\">\n",
       "  <thead>\n",
       "    <tr style=\"text-align: right;\">\n",
       "      <th></th>\n",
       "      <th>X</th>\n",
       "      <th>W</th>\n",
       "      <th>pval</th>\n",
       "      <th>equal_var</th>\n",
       "    </tr>\n",
       "  </thead>\n",
       "  <tbody>\n",
       "    <tr>\n",
       "      <th>satisfaction</th>\n",
       "      <td>customer_type</td>\n",
       "      <td>3.092878</td>\n",
       "      <td>0.049874</td>\n",
       "      <td>False</td>\n",
       "    </tr>\n",
       "    <tr>\n",
       "      <th>recommend</th>\n",
       "      <td>customer_type</td>\n",
       "      <td>1.231085</td>\n",
       "      <td>0.296497</td>\n",
       "      <td>True</td>\n",
       "    </tr>\n",
       "    <tr>\n",
       "      <th>purchase</th>\n",
       "      <td>customer_type</td>\n",
       "      <td>0.990543</td>\n",
       "      <td>0.375100</td>\n",
       "      <td>True</td>\n",
       "    </tr>\n",
       "    <tr>\n",
       "      <th>satisfaction</th>\n",
       "      <td>dis_sys</td>\n",
       "      <td>0.169753</td>\n",
       "      <td>0.681232</td>\n",
       "      <td>True</td>\n",
       "    </tr>\n",
       "    <tr>\n",
       "      <th>recommend</th>\n",
       "      <td>dis_sys</td>\n",
       "      <td>0.445196</td>\n",
       "      <td>0.506193</td>\n",
       "      <td>True</td>\n",
       "    </tr>\n",
       "    <tr>\n",
       "      <th>purchase</th>\n",
       "      <td>dis_sys</td>\n",
       "      <td>2.303917</td>\n",
       "      <td>0.132268</td>\n",
       "      <td>True</td>\n",
       "    </tr>\n",
       "  </tbody>\n",
       "</table>\n",
       "</div>"
      ],
      "text/plain": [
       "                          X         W      pval  equal_var\n",
       "satisfaction  customer_type  3.092878  0.049874      False\n",
       "recommend     customer_type  1.231085  0.296497       True\n",
       "purchase      customer_type  0.990543  0.375100       True\n",
       "satisfaction        dis_sys  0.169753  0.681232       True\n",
       "recommend           dis_sys  0.445196  0.506193       True\n",
       "purchase            dis_sys  2.303917  0.132268       True"
      ]
     },
     "execution_count": 15,
     "metadata": {},
     "output_type": "execute_result"
    }
   ],
   "source": [
    "from itertools import chain\n",
    "\n",
    "lev = pd.DataFrame()\n",
    "for ivar in ind_vars:\n",
    "    for dvar in dep_vars:\n",
    "        frame = pg.homoscedasticity(data=df, dv=dvar, group=ivar)\n",
    "        lev = lev.append(frame.rename(index={\"levene\": dvar}))\n",
    "lev.insert(0, \"X\", list(chain(*[[i] * len(dep_vars) for i in ind_vars])))\n",
    "lev"
   ]
  },
  {
   "cell_type": "markdown",
   "metadata": {
    "slideshow": {
     "slide_type": "fragment"
    }
   },
   "source": [
    "Observamos que las varianzas de las variables dependientes son homogéneas cuando son agrupadas por cada variable independiente, a excepción de la variable `satisfaction` cuando es agrupada por la variable `customer_type`. Para efectos de este ejemplo, proseguiremos con el análisis."
   ]
  },
  {
   "cell_type": "markdown",
   "metadata": {
    "slideshow": {
     "slide_type": "subslide"
    }
   },
   "source": [
    "Evaluemos ahora las correlaciones entre las variables dependientes:"
   ]
  },
  {
   "cell_type": "code",
   "execution_count": 16,
   "metadata": {
    "hideCode": true,
    "hidePrompt": true,
    "slideshow": {
     "slide_type": "fragment"
    }
   },
   "outputs": [
    {
     "data": {
      "text/html": [
       "<div>\n",
       "<style scoped>\n",
       "    .dataframe tbody tr th:only-of-type {\n",
       "        vertical-align: middle;\n",
       "    }\n",
       "\n",
       "    .dataframe tbody tr th {\n",
       "        vertical-align: top;\n",
       "    }\n",
       "\n",
       "    .dataframe thead th {\n",
       "        text-align: right;\n",
       "    }\n",
       "</style>\n",
       "<table border=\"1\" class=\"dataframe\">\n",
       "  <thead>\n",
       "    <tr style=\"text-align: right;\">\n",
       "      <th></th>\n",
       "      <th>satisfaction</th>\n",
       "      <th>recommend</th>\n",
       "      <th>purchase</th>\n",
       "    </tr>\n",
       "  </thead>\n",
       "  <tbody>\n",
       "    <tr>\n",
       "      <th>satisfaction</th>\n",
       "      <td>1.000000</td>\n",
       "      <td>0.764279</td>\n",
       "      <td>0.731049</td>\n",
       "    </tr>\n",
       "    <tr>\n",
       "      <th>recommend</th>\n",
       "      <td>0.764279</td>\n",
       "      <td>1.000000</td>\n",
       "      <td>0.699923</td>\n",
       "    </tr>\n",
       "    <tr>\n",
       "      <th>purchase</th>\n",
       "      <td>0.731049</td>\n",
       "      <td>0.699923</td>\n",
       "      <td>1.000000</td>\n",
       "    </tr>\n",
       "  </tbody>\n",
       "</table>\n",
       "</div>"
      ],
      "text/plain": [
       "              satisfaction  recommend  purchase\n",
       "satisfaction      1.000000   0.764279  0.731049\n",
       "recommend         0.764279   1.000000  0.699923\n",
       "purchase          0.731049   0.699923  1.000000"
      ]
     },
     "execution_count": 16,
     "metadata": {},
     "output_type": "execute_result"
    }
   ],
   "source": [
    "df[dep_vars].corr()"
   ]
  },
  {
   "cell_type": "markdown",
   "metadata": {
    "slideshow": {
     "slide_type": "fragment"
    }
   },
   "source": [
    "Observamos que las variables dependientes están correlacionadas y no presentan correlaciones muy altas. "
   ]
  },
  {
   "cell_type": "markdown",
   "metadata": {
    "slideshow": {
     "slide_type": "subslide"
    }
   },
   "source": [
    "Veamos ahora si encontramos correlaciones significativas:"
   ]
  },
  {
   "cell_type": "code",
   "execution_count": 17,
   "metadata": {
    "hideCode": true,
    "hidePrompt": true,
    "slideshow": {
     "slide_type": "fragment"
    }
   },
   "outputs": [
    {
     "name": "stdout",
     "output_type": "stream",
     "text": [
      "Chi-squared:  170.09288605950448\n",
      "p-value:  1.215103739721456e-36\n"
     ]
    }
   ],
   "source": [
    "from factor_analyzer.factor_analyzer import calculate_bartlett_sphericity\n",
    "\n",
    "statistic, p_value = calculate_bartlett_sphericity(df[dep_vars])\n",
    "print(\"Chi-squared: \", statistic)\n",
    "print(\"p-value: \", p_value)"
   ]
  },
  {
   "cell_type": "markdown",
   "metadata": {
    "slideshow": {
     "slide_type": "fragment"
    }
   },
   "source": [
    "La prueba de Bartlett indica que existen correlaciones significativas entre nuestras variables dependientes."
   ]
  },
  {
   "cell_type": "markdown",
   "metadata": {
    "slideshow": {
     "slide_type": "slide"
    }
   },
   "source": [
    "### Estimación y evaluación\n",
    "\n",
    "#### Selección de una medida estadística\n",
    "La medida preferida es la que es más inmune a las violaciones de los supuestos subyacentes a MANOVA y, sin embargo, mantiene el mayor poder. \n",
    "\n",
    "Cada medida se prefiere en diferentes situaciones:\n",
    "- El criterio de **Pillai o la lambda de Wilks**: cuando se cumplen las consideraciones de diseño básicas (tamaño de muestra adecuado, sin violaciones de supuestos, tamaños de celda aproximadamente iguales).\n",
    "- El criterio de **Pillai**: si el tamaño de la muestra disminuye, aparecen tamaños de celda desiguales o se viola la homogeneidad de las covarianzas.\n",
    "- El **gcr de Roy**: si todos los supuestos se cumplen estrictamente y las medidas dependientes son representativas de una sola dimensión de efectos."
   ]
  },
  {
   "cell_type": "markdown",
   "metadata": {
    "slideshow": {
     "slide_type": "subslide"
    }
   },
   "source": [
    "En la gran mayoría de las situaciones, todas las medidas estadísticas proporcionan conclusiones similares.\n",
    "\n",
    "Sin embargo, cuando se enfrentan a condiciones conflictivas, se pueden seleccionar medidas estadísticas que se ajusten a la situación que enfrenta el investigador."
   ]
  },
  {
   "cell_type": "markdown",
   "metadata": {
    "slideshow": {
     "slide_type": "subslide"
    }
   },
   "source": [
    "Ajustemos el modelo a partir de nuestro ejemplo:"
   ]
  },
  {
   "cell_type": "code",
   "execution_count": 18,
   "metadata": {
    "hideCode": true,
    "hidePrompt": true,
    "slideshow": {
     "slide_type": "fragment"
    }
   },
   "outputs": [
    {
     "name": "stdout",
     "output_type": "stream",
     "text": [
      "                  Multivariate linear model\n",
      "==============================================================\n",
      "                                                              \n",
      "--------------------------------------------------------------\n",
      "       Intercept         Value  Num DF  Den DF F Value  Pr > F\n",
      "--------------------------------------------------------------\n",
      "          Wilks' lambda  0.0465 3.0000 94.0000 642.5564 0.0000\n",
      "         Pillai's trace  0.9535 3.0000 94.0000 642.5564 0.0000\n",
      " Hotelling-Lawley trace 20.5071 3.0000 94.0000 642.5564 0.0000\n",
      "    Roy's greatest root 20.5071 3.0000 94.0000 642.5564 0.0000\n",
      "--------------------------------------------------------------\n",
      "                                                              \n",
      "--------------------------------------------------------------\n",
      "       customer_type      Value  Num DF  Den DF F Value Pr > F\n",
      "--------------------------------------------------------------\n",
      "            Wilks' lambda 0.9231 3.0000 94.0000  2.6085 0.0561\n",
      "           Pillai's trace 0.0769 3.0000 94.0000  2.6085 0.0561\n",
      "   Hotelling-Lawley trace 0.0833 3.0000 94.0000  2.6085 0.0561\n",
      "      Roy's greatest root 0.0833 3.0000 94.0000  2.6085 0.0561\n",
      "--------------------------------------------------------------\n",
      "                                                              \n",
      "--------------------------------------------------------------\n",
      "          dis_sys         Value  Num DF  Den DF F Value Pr > F\n",
      "--------------------------------------------------------------\n",
      "            Wilks' lambda 0.9211 3.0000 94.0000  2.6846 0.0511\n",
      "           Pillai's trace 0.0789 3.0000 94.0000  2.6846 0.0511\n",
      "   Hotelling-Lawley trace 0.0857 3.0000 94.0000  2.6846 0.0511\n",
      "      Roy's greatest root 0.0857 3.0000 94.0000  2.6846 0.0511\n",
      "--------------------------------------------------------------\n",
      "                                                              \n",
      "--------------------------------------------------------------\n",
      "   customer_type:dis_sys  Value  Num DF  Den DF F Value Pr > F\n",
      "--------------------------------------------------------------\n",
      "            Wilks' lambda 0.9620 3.0000 94.0000  1.2388 0.3001\n",
      "           Pillai's trace 0.0380 3.0000 94.0000  1.2388 0.3001\n",
      "   Hotelling-Lawley trace 0.0395 3.0000 94.0000  1.2388 0.3001\n",
      "      Roy's greatest root 0.0395 3.0000 94.0000  1.2388 0.3001\n",
      "==============================================================\n",
      "\n"
     ]
    }
   ],
   "source": [
    "from statsmodels.multivariate.manova import MANOVA\n",
    "\n",
    "maov = MANOVA.from_formula(\n",
    "    \"satisfaction + recommend + purchase ~ customer_type * dis_sys\", data=df\n",
    ")\n",
    "print(maov.mv_test())"
   ]
  },
  {
   "cell_type": "markdown",
   "metadata": {
    "slideshow": {
     "slide_type": "fragment"
    }
   },
   "source": [
    "Para todos los indicadores, encontramos que no existen efectos principales ni interacciones de las variables independientes."
   ]
  },
  {
   "cell_type": "markdown",
   "metadata": {
    "slideshow": {
     "slide_type": "slide"
    }
   },
   "source": [
    "#### Interpretación\n",
    "\n",
    "Siempre que se incluyan en el análisis dos o más variables independientes (tratamientos), **se deben examinar las interacciones antes de sacar conclusiones sobre los efectos principales de cualquier variable independiente**.\n",
    "- **Si las interacciones no son estadísticamente significativas, los efectos principales se pueden interpretar directamente** porque la diferencia entre tratamientos se considera constante en todas las combinaciones de niveles.\n",
    "- Si la interacción es estadísticamente significativa y las diferencias no son constantes entre combinaciones de niveles, entonces **la interacción debe determinarse como ordinal o desordinal**.\n"
   ]
  },
  {
   "cell_type": "markdown",
   "metadata": {
    "slideshow": {
     "slide_type": "subslide"
    }
   },
   "source": [
    "- Las **interacciones ordinales significan que la dirección de las diferencias no varía según el nivel** (por ejemplo, los hombres siempre menos que las mujeres), aunque la diferencia entre hombres / mujeres varía según el nivel en el otro tratamiento; en este caso, la magnitud del efecto principal (p. ej., hombres frente a mujeres) solo debe describirse por separado para cada nivel del otro tratamiento.\n",
    "- **Se producen interacciones desordinales significativas cuando la dirección de un efecto principal observado cambia con el nivel de otro tratamiento** (por ejemplo, hombres más que mujeres para un nivel y menos que mujeres para otro nivel). Las interacciones desordinales interfieren con la interpretación de los efectos principales."
   ]
  },
  {
   "cell_type": "markdown",
   "metadata": {
    "slideshow": {
     "slide_type": "subslide"
    }
   },
   "source": [
    "#### Diferencias entre grupos y resultados individuales\n",
    "\n",
    "Cuando la variable independiente tiene más de dos grupos, se pueden utilizar dos tipos de procedimientos para aislar la fuente de las diferencias:\n",
    "- Las pruebas post hoc examinan las posibles diferencias estadísticas entre todas las posibles combinaciones de medias de grupo. Las pruebas post hoc tienen una potencia limitada y, por lo tanto, son las más adecuadas para identificar grandes efectos.\n",
    "- Las comparaciones planificadas son apropiadas cuando razones teóricas a priori sugieren que ciertos grupos diferirán de otro grupo o de otros grupos; El error de tipo I aumenta a medida que aumenta el número de comparaciones planificadas."
   ]
  },
  {
   "cell_type": "markdown",
   "metadata": {
    "slideshow": {
     "slide_type": "subslide"
    }
   },
   "source": [
    "Dado que las pruebas multivariadas solo abordan las diferencias del conjunto colectivo de variables dependientes, los investigadores también deben examinar si esas diferencias se encuentran para cada variable dependiente por separado.\n",
    "- La prueba más utilizada es el **ANOVA univariante para cada medida dependiente**.\n",
    "- El análisis discriminante puede proporcionar información sobre las dimensiones de las diferencias, especialmente si hay más de dos grupos.\n",
    "- El análisis escalonado es un análisis poderoso si se conoce el orden causal de las variables dependientes."
   ]
  },
  {
   "cell_type": "markdown",
   "metadata": {
    "slideshow": {
     "slide_type": "slide"
    }
   },
   "source": [
    "Solo con fines didácticos, revisemos el efecto principal de una de nuestras variables independientes sobre cada variable dependiente:"
   ]
  },
  {
   "cell_type": "code",
   "execution_count": 19,
   "metadata": {
    "hideCode": true,
    "hidePrompt": true,
    "slideshow": {
     "slide_type": "fragment"
    }
   },
   "outputs": [
    {
     "name": "stdout",
     "output_type": "stream",
     "text": [
      "____________________________________________________________________________________________________\n",
      "satisfaction\n",
      "                         df     sum_sq    mean_sq          F        PR(>F)\n",
      "customer_type           1.0   1.602562   1.602562   1.601249  2.087890e-01\n",
      "dis_sys                 1.0  39.462772  39.462772  39.430439  9.863972e-09\n",
      "customer_type:dis_sys   1.0   3.483545   3.483545   3.480691  6.514238e-02\n",
      "Residual               96.0  96.078721   1.000820        NaN           NaN\n",
      "____________________________________________________________________________________________________\n",
      "recommend\n",
      "                         df     sum_sq    mean_sq          F    PR(>F)\n",
      "customer_type           1.0   2.859382   2.859382   3.247379  0.074676\n",
      "dis_sys                 1.0  18.418496  18.418496  20.917748  0.000014\n",
      "customer_type:dis_sys   1.0   1.952199   1.952199   2.217098  0.139767\n",
      "Residual               96.0  84.529923   0.880520        NaN       NaN\n",
      "____________________________________________________________________________________________________\n",
      "purchase\n",
      "                         df     sum_sq    mean_sq          F    PR(>F)\n",
      "customer_type           1.0   0.626673   0.626673   0.877747  0.351170\n",
      "dis_sys                 1.0  16.984185  16.984185  23.788843  0.000004\n",
      "customer_type:dis_sys   1.0   0.602473   0.602473   0.843852  0.360600\n",
      "Residual               96.0  68.539769   0.713956        NaN       NaN\n"
     ]
    }
   ],
   "source": [
    "for dep in dep_vars:\n",
    "    model = smf.ols(formula=f\"{dep} ~ customer_type * dis_sys\", data=df)\n",
    "    print(\"_\" * 100)\n",
    "    print(dep)\n",
    "    print(sm.stats.anova_lm(model.fit()))"
   ]
  },
  {
   "cell_type": "markdown",
   "metadata": {
    "slideshow": {
     "slide_type": "fragment"
    }
   },
   "source": [
    "Apreciamos que existen efectos principales de la variable `dis_sys` en las tres variables dependendientes."
   ]
  },
  {
   "cell_type": "markdown",
   "metadata": {
    "slideshow": {
     "slide_type": "slide"
    }
   },
   "source": [
    "#### Moderación\n",
    "\n",
    "La moderación ocurre cuando el efecto principal varía según los diferentes valores del moderador.\n",
    "- Un ejemplo sería que el efecto principal es diferente entre hombres y mujeres.\n",
    "- Los efectos moderadores significativos exhiben patrones comparables a interacciones significativas (por ejemplo, líneas no paralelas)"
   ]
  },
  {
   "cell_type": "markdown",
   "metadata": {
    "slideshow": {
     "slide_type": "subslide"
    }
   },
   "source": [
    "Con fines ilustrativos, evaluemos gráficamente la moderación en nuestro ejemplo:"
   ]
  },
  {
   "cell_type": "code",
   "execution_count": 21,
   "metadata": {
    "hideCode": true,
    "hidePrompt": true,
    "slideshow": {
     "slide_type": "fragment"
    }
   },
   "outputs": [
    {
     "data": {
      "image/png": "[encoded data removed]",
      "text/plain": [
       "<Figure size 640x480 with 1 Axes>"
      ]
     },
     "metadata": {},
     "output_type": "display_data"
    }
   ],
   "source": [
    "from statsmodels.graphics.factorplots import interaction_plot\n",
    "\n",
    "ax = interaction_plot(\n",
    "    x=df[\"customer_type\"], trace=df[\"dis_sys\"], response=df[\"recommend\"]\n",
    ")\n",
    "plt.xticks(\n",
    "    range(uncoded_df.customer_type.values.categories.size),\n",
    "    uncoded_df.customer_type.values.categories,\n",
    ")\n",
    "plt.legend(uncoded_df.dis_sys.values.categories)\n",
    "plt.show()"
   ]
  }
 ],
 "metadata": {
  "celltoolbar": "Slideshow",
  "kernelspec": {
   "display_name": "Python 3 (ipykernel)",
   "language": "python",
   "name": "python3"
  },
  "language_info": {
   "codemirror_mode": {
    "name": "ipython",
    "version": 3
   },
   "file_extension": ".py",
   "mimetype": "text/x-python",
   "name": "python",
   "nbconvert_exporter": "python",
   "pygments_lexer": "ipython3",
   "version": "3.7.14"
  },
  "vscode": {
   "interpreter": {
    "hash": "8df12303a5084d795bcef355ea103bbaab8787933417cf27c2f95a588cdf8ee7"
   }
  }
 },
 "nbformat": 4,
 "nbformat_minor": 2
}
