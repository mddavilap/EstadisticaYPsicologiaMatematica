{
 "cells": [
  {
   "cell_type": "markdown",
   "metadata": {},
   "source": [
    "# Evaluación 4: Análisis de Regresión\n",
    "\n",
    "## Regresión Múltiple\n",
    "\n",
    "> Requiere cargar el archivo [\"Fertilidad.sav\"](https://github.com/renatoparedes/EstadisticaYPsicologiaMatematica/raw/main/Evaluaciones/Fertilidad.sav) en el repositorio local.\n",
    "\n",
    "En esta sección vamos a trabajar con los datos de una investigación sobre madre primerizas. El objetivo es identificar variables psicológicas que puedan estar relacionadas a la edad a la que las mujeres evaluadas tienen su primer hijo. Cuentas con las siguientes variables: \n",
    "\n",
    "- Habitos: Hábitos de estudio\n",
    "- Maternidad: Actitud hacia la maternidad\n",
    "- Edad: Edad a la que tuvo el primer hijo"
   ]
  },
  {
   "cell_type": "code",
   "execution_count": null,
   "metadata": {},
   "outputs": [],
   "source": [
    "!pip install pingouin\n",
    "!pip install pyreadstat\n",
    "!pip install factor_analyzer\n",
    "!wget https://github.com/renatoparedes/EstadisticaYPsicologiaMatematica/raw/main/Evaluaciones/Fertilidad.sav"
   ]
  },
  {
   "cell_type": "code",
   "execution_count": 1,
   "metadata": {},
   "outputs": [
    {
     "data": {
      "text/html": [
       "<div>\n",
       "<style scoped>\n",
       "    .dataframe tbody tr th:only-of-type {\n",
       "        vertical-align: middle;\n",
       "    }\n",
       "\n",
       "    .dataframe tbody tr th {\n",
       "        vertical-align: top;\n",
       "    }\n",
       "\n",
       "    .dataframe thead th {\n",
       "        text-align: right;\n",
       "    }\n",
       "</style>\n",
       "<table border=\"1\" class=\"dataframe\">\n",
       "  <thead>\n",
       "    <tr style=\"text-align: right;\">\n",
       "      <th></th>\n",
       "      <th>Habitos</th>\n",
       "      <th>Maternidad</th>\n",
       "      <th>Edad</th>\n",
       "    </tr>\n",
       "  </thead>\n",
       "  <tbody>\n",
       "    <tr>\n",
       "      <th>0</th>\n",
       "      <td>0.667332</td>\n",
       "      <td>1.124477</td>\n",
       "      <td>1.726894</td>\n",
       "    </tr>\n",
       "    <tr>\n",
       "      <th>1</th>\n",
       "      <td>0.421876</td>\n",
       "      <td>-1.361209</td>\n",
       "      <td>0.361311</td>\n",
       "    </tr>\n",
       "    <tr>\n",
       "      <th>2</th>\n",
       "      <td>0.421876</td>\n",
       "      <td>0.059183</td>\n",
       "      <td>0.088194</td>\n",
       "    </tr>\n",
       "    <tr>\n",
       "      <th>3</th>\n",
       "      <td>0.421876</td>\n",
       "      <td>-0.651013</td>\n",
       "      <td>1.180660</td>\n",
       "    </tr>\n",
       "    <tr>\n",
       "      <th>4</th>\n",
       "      <td>0.421876</td>\n",
       "      <td>0.059183</td>\n",
       "      <td>-0.458039</td>\n",
       "    </tr>\n",
       "    <tr>\n",
       "      <th>...</th>\n",
       "      <td>...</td>\n",
       "      <td>...</td>\n",
       "      <td>...</td>\n",
       "    </tr>\n",
       "    <tr>\n",
       "      <th>91</th>\n",
       "      <td>-1.050855</td>\n",
       "      <td>0.414281</td>\n",
       "      <td>-1.004273</td>\n",
       "    </tr>\n",
       "    <tr>\n",
       "      <th>92</th>\n",
       "      <td>-1.050855</td>\n",
       "      <td>1.834673</td>\n",
       "      <td>-1.277389</td>\n",
       "    </tr>\n",
       "    <tr>\n",
       "      <th>93</th>\n",
       "      <td>-1.050855</td>\n",
       "      <td>-0.295915</td>\n",
       "      <td>0.361311</td>\n",
       "    </tr>\n",
       "    <tr>\n",
       "      <th>94</th>\n",
       "      <td>-1.050855</td>\n",
       "      <td>0.769379</td>\n",
       "      <td>-0.184923</td>\n",
       "    </tr>\n",
       "    <tr>\n",
       "      <th>95</th>\n",
       "      <td>0.421876</td>\n",
       "      <td>1.479575</td>\n",
       "      <td>-1.823622</td>\n",
       "    </tr>\n",
       "  </tbody>\n",
       "</table>\n",
       "<p>96 rows × 3 columns</p>\n",
       "</div>"
      ],
      "text/plain": [
       "     Habitos  Maternidad      Edad\n",
       "0   0.667332    1.124477  1.726894\n",
       "1   0.421876   -1.361209  0.361311\n",
       "2   0.421876    0.059183  0.088194\n",
       "3   0.421876   -0.651013  1.180660\n",
       "4   0.421876    0.059183 -0.458039\n",
       "..       ...         ...       ...\n",
       "91 -1.050855    0.414281 -1.004273\n",
       "92 -1.050855    1.834673 -1.277389\n",
       "93 -1.050855   -0.295915  0.361311\n",
       "94 -1.050855    0.769379 -0.184923\n",
       "95  0.421876    1.479575 -1.823622\n",
       "\n",
       "[96 rows x 3 columns]"
      ]
     },
     "execution_count": 1,
     "metadata": {},
     "output_type": "execute_result"
    }
   ],
   "source": [
    "import pandas as pd\n",
    "from sklearn.covariance import MinCovDet\n",
    "import numpy as np\n",
    "from sklearn.preprocessing import StandardScaler\n",
    "\n",
    "# Carga de datos\n",
    "df = pd.read_spss(\"Fertilidad.sav\")\n",
    "df.drop(columns=[\"Sujeto\"], inplace=True)\n",
    "\n",
    "# Pre-procesamiento para eliminar casos extremos\n",
    "robust_cov = MinCovDet().fit(df)\n",
    "D2 = robust_cov.mahalanobis(df)\n",
    "D2_df = D2 / df.shape[1]\n",
    "to_drop = np.where(D2_df > 2.5)\n",
    "df.drop(*to_drop, inplace=True)\n",
    "\n",
    "# Estandarización de datos\n",
    "df.drop(columns=[\"Autonomia\"], inplace=True)\n",
    "scaler = StandardScaler()\n",
    "scaled_data = scaler.fit_transform(df)\n",
    "df = pd.DataFrame(scaled_data, columns=df.columns)\n",
    "df"
   ]
  },
  {
   "cell_type": "markdown",
   "metadata": {},
   "source": [
    "Considera el siguiente modelo de regresión múltiple:\n",
    "\n",
    "$$ Y_{Edad} = X_{Habitos} + X_{Maternidad} $$"
   ]
  },
  {
   "cell_type": "markdown",
   "metadata": {},
   "source": [
    "1. Evalúa el supuesto de linealidad de manera gŕafica e inferencial. ¿Qué puedes concluir? (1 pt)"
   ]
  },
  {
   "cell_type": "code",
   "execution_count": 2,
   "metadata": {},
   "outputs": [
    {
     "data": {
      "image/png": "[encoded data removed]",
      "text/plain": [
       "<Figure size 432x288 with 1 Axes>"
      ]
     },
     "metadata": {
      "needs_background": "light"
     },
     "output_type": "display_data"
    },
    {
     "data": {
      "image/png": "[encoded data removed]",
      "text/plain": [
       "<Figure size 432x288 with 1 Axes>"
      ]
     },
     "metadata": {
      "needs_background": "light"
     },
     "output_type": "display_data"
    }
   ],
   "source": [
    "import matplotlib.pyplot as plt\n",
    "import seaborn as sns\n",
    "\n",
    "plt.figure(1)\n",
    "sns.residplot(\n",
    "    x=\"Habitos\", y=\"Edad\", x_partial=\"Maternidad\", data=df, lowess=True\n",
    ")\n",
    "plt.xlabel(\"Habitos\")\n",
    "plt.figure(2)\n",
    "sns.residplot(\n",
    "    x=\"Maternidad\", y=\"Edad\", x_partial=\"Habitos\", data=df, lowess=True\n",
    ")\n",
    "plt.xlabel(\"Maternidad\")\n",
    "plt.show()"
   ]
  },
  {
   "cell_type": "code",
   "execution_count": 3,
   "metadata": {},
   "outputs": [
    {
     "data": {
      "text/plain": [
       "[('t value', -0.2728295195020802), ('p value', 0.7855957272661929)]"
      ]
     },
     "execution_count": 3,
     "metadata": {},
     "output_type": "execute_result"
    }
   ],
   "source": [
    "import statsmodels.formula.api as smf\n",
    "import statsmodels.stats.api as sms\n",
    "import statsmodels.api as sm\n",
    "\n",
    "# Fit regression model\n",
    "model = smf.ols(\"Edad ~ Habitos + Maternidad\", data=df).fit()\n",
    "\n",
    "# Inspect linearity\n",
    "name = [\"t value\", \"p value\"]\n",
    "test = sms.linear_harvey_collier(model)\n",
    "list(zip(name, test))"
   ]
  },
  {
   "cell_type": "markdown",
   "metadata": {},
   "source": [
    "Gráficamente podemos apreciar ligeras desviaciones en la linealidad de los residuos. La prueba de Harvey Collier indica que podemos asumir la linealidad de los residuos."
   ]
  },
  {
   "cell_type": "markdown",
   "metadata": {},
   "source": [
    "2. Evalúa el supuesto de homocedasticidad con al menos una prueba inferencial. ¿Qué puedes concluir? (1 pt)"
   ]
  },
  {
   "cell_type": "code",
   "execution_count": 4,
   "metadata": {},
   "outputs": [
    {
     "data": {
      "text/plain": [
       "[('F statistic', 1.1436696534056072), ('p-value', 0.32722082922704643)]"
      ]
     },
     "execution_count": 4,
     "metadata": {},
     "output_type": "execute_result"
    }
   ],
   "source": [
    "name = [\"F statistic\", \"p-value\"]\n",
    "test = sms.het_goldfeldquandt(model.resid, model.model.exog)\n",
    "list(zip(name, test))"
   ]
  },
  {
   "cell_type": "markdown",
   "metadata": {},
   "source": [
    "La prueba de Goldfeld Quant indica que no podemos descartar que las varianzas de los residuos son homogéneas."
   ]
  },
  {
   "cell_type": "markdown",
   "metadata": {},
   "source": [
    "3. Evalúa gráfica e inferencialmente el supuesto de normalidad. ¿Qué puedes concluir? (1 pt)"
   ]
  },
  {
   "cell_type": "code",
   "execution_count": 5,
   "metadata": {},
   "outputs": [
    {
     "data": {
      "image/png": "[encoded data removed]",
      "text/plain": [
       "<Figure size 360x288 with 1 Axes>"
      ]
     },
     "metadata": {
      "needs_background": "light"
     },
     "output_type": "display_data"
    },
    {
     "name": "stderr",
     "output_type": "stream",
     "text": [
      "/home/renato/.virtualenvs/stats/lib/python3.7/site-packages/outdated/utils.py:18: OutdatedPackageWarning: The package outdated is out of date. Your version is 0.2.1, the latest is 0.2.2.\n",
      "Set the environment variable OUTDATED_IGNORE=1 to disable these warnings.\n",
      "  **kwargs\n"
     ]
    }
   ],
   "source": [
    "import pingouin as pg\n",
    "\n",
    "pg.qqplot(model.resid)\n",
    "plt.show()"
   ]
  },
  {
   "cell_type": "code",
   "execution_count": 6,
   "metadata": {},
   "outputs": [
    {
     "data": {
      "text/plain": [
       "[('Jarque-Bera', 3.313618649903429),\n",
       " ('Chi^2 two-tail prob.', 0.19074662067734643),\n",
       " ('Skew', -0.06302606049440547),\n",
       " ('Kurtosis', 2.0986035693047818)]"
      ]
     },
     "execution_count": 6,
     "metadata": {},
     "output_type": "execute_result"
    }
   ],
   "source": [
    "name = [\"Jarque-Bera\", \"Chi^2 two-tail prob.\", \"Skew\", \"Kurtosis\"]\n",
    "test = sms.jarque_bera(model.resid)\n",
    "list(zip(name, test))"
   ]
  },
  {
   "cell_type": "markdown",
   "metadata": {},
   "source": [
    "Gráfica e inferencialmente no podemos descartar que los residuos están distribuidos normalmente. "
   ]
  },
  {
   "cell_type": "markdown",
   "metadata": {},
   "source": [
    "4. Examina la significancia estadística del modelo y el coeficiente de determinación. ¿Qué puedes concluir? (1 pt)"
   ]
  },
  {
   "cell_type": "code",
   "execution_count": 7,
   "metadata": {},
   "outputs": [
    {
     "data": {
      "text/html": [
       "<table class=\"simpletable\">\n",
       "<caption>OLS Regression Results</caption>\n",
       "<tr>\n",
       "  <th>Dep. Variable:</th>          <td>Edad</td>       <th>  R-squared:         </th> <td>   0.095</td>\n",
       "</tr>\n",
       "<tr>\n",
       "  <th>Model:</th>                   <td>OLS</td>       <th>  Adj. R-squared:    </th> <td>   0.075</td>\n",
       "</tr>\n",
       "<tr>\n",
       "  <th>Method:</th>             <td>Least Squares</td>  <th>  F-statistic:       </th> <td>   4.874</td>\n",
       "</tr>\n",
       "<tr>\n",
       "  <th>Date:</th>             <td>Thu, 17 Nov 2022</td> <th>  Prob (F-statistic):</th>  <td>0.00970</td>\n",
       "</tr>\n",
       "<tr>\n",
       "  <th>Time:</th>                 <td>17:37:31</td>     <th>  Log-Likelihood:    </th> <td> -131.43</td>\n",
       "</tr>\n",
       "<tr>\n",
       "  <th>No. Observations:</th>      <td>    96</td>      <th>  AIC:               </th> <td>   268.9</td>\n",
       "</tr>\n",
       "<tr>\n",
       "  <th>Df Residuals:</th>          <td>    93</td>      <th>  BIC:               </th> <td>   276.6</td>\n",
       "</tr>\n",
       "<tr>\n",
       "  <th>Df Model:</th>              <td>     2</td>      <th>                     </th>     <td> </td>   \n",
       "</tr>\n",
       "<tr>\n",
       "  <th>Covariance Type:</th>      <td>nonrobust</td>    <th>                     </th>     <td> </td>   \n",
       "</tr>\n",
       "</table>\n",
       "<table class=\"simpletable\">\n",
       "<tr>\n",
       "       <td></td>         <th>coef</th>     <th>std err</th>      <th>t</th>      <th>P>|t|</th>  <th>[0.025</th>    <th>0.975]</th>  \n",
       "</tr>\n",
       "<tr>\n",
       "  <th>Intercept</th>  <td> 3.469e-16</td> <td>    0.099</td> <td> 3.52e-15</td> <td> 1.000</td> <td>   -0.196</td> <td>    0.196</td>\n",
       "</tr>\n",
       "<tr>\n",
       "  <th>Habitos</th>    <td>    0.3064</td> <td>    0.099</td> <td>    3.103</td> <td> 0.003</td> <td>    0.110</td> <td>    0.503</td>\n",
       "</tr>\n",
       "<tr>\n",
       "  <th>Maternidad</th> <td>    0.0480</td> <td>    0.099</td> <td>    0.486</td> <td> 0.628</td> <td>   -0.148</td> <td>    0.244</td>\n",
       "</tr>\n",
       "</table>\n",
       "<table class=\"simpletable\">\n",
       "<tr>\n",
       "  <th>Omnibus:</th>       <td> 8.730</td> <th>  Durbin-Watson:     </th> <td>   1.683</td>\n",
       "</tr>\n",
       "<tr>\n",
       "  <th>Prob(Omnibus):</th> <td> 0.013</td> <th>  Jarque-Bera (JB):  </th> <td>   3.314</td>\n",
       "</tr>\n",
       "<tr>\n",
       "  <th>Skew:</th>          <td>-0.063</td> <th>  Prob(JB):          </th> <td>   0.191</td>\n",
       "</tr>\n",
       "<tr>\n",
       "  <th>Kurtosis:</th>      <td> 2.099</td> <th>  Cond. No.          </th> <td>    1.05</td>\n",
       "</tr>\n",
       "</table><br/><br/>Notes:<br/>[1] Standard Errors assume that the covariance matrix of the errors is correctly specified."
      ],
      "text/plain": [
       "<class 'statsmodels.iolib.summary.Summary'>\n",
       "\"\"\"\n",
       "                            OLS Regression Results                            \n",
       "==============================================================================\n",
       "Dep. Variable:                   Edad   R-squared:                       0.095\n",
       "Model:                            OLS   Adj. R-squared:                  0.075\n",
       "Method:                 Least Squares   F-statistic:                     4.874\n",
       "Date:                Thu, 17 Nov 2022   Prob (F-statistic):            0.00970\n",
       "Time:                        17:37:31   Log-Likelihood:                -131.43\n",
       "No. Observations:                  96   AIC:                             268.9\n",
       "Df Residuals:                      93   BIC:                             276.6\n",
       "Df Model:                           2                                         \n",
       "Covariance Type:            nonrobust                                         \n",
       "==============================================================================\n",
       "                 coef    std err          t      P>|t|      [0.025      0.975]\n",
       "------------------------------------------------------------------------------\n",
       "Intercept   3.469e-16      0.099   3.52e-15      1.000      -0.196       0.196\n",
       "Habitos        0.3064      0.099      3.103      0.003       0.110       0.503\n",
       "Maternidad     0.0480      0.099      0.486      0.628      -0.148       0.244\n",
       "==============================================================================\n",
       "Omnibus:                        8.730   Durbin-Watson:                   1.683\n",
       "Prob(Omnibus):                  0.013   Jarque-Bera (JB):                3.314\n",
       "Skew:                          -0.063   Prob(JB):                        0.191\n",
       "Kurtosis:                       2.099   Cond. No.                         1.05\n",
       "==============================================================================\n",
       "\n",
       "Notes:\n",
       "[1] Standard Errors assume that the covariance matrix of the errors is correctly specified.\n",
       "\"\"\""
      ]
     },
     "execution_count": 7,
     "metadata": {},
     "output_type": "execute_result"
    }
   ],
   "source": [
    "model.summary()"
   ]
  },
  {
   "cell_type": "markdown",
   "metadata": {},
   "source": [
    "El modelo de regresión es significativo (coeficiente de determinación diferente de 0) y explica tan solo el 9% de la varianza. "
   ]
  },
  {
   "cell_type": "markdown",
   "metadata": {},
   "source": [
    "5. Examina la significancia, magnitud y signo de los coeficientes de regresión. ¿Qué puedes concluir? (1 pt)"
   ]
  },
  {
   "cell_type": "markdown",
   "metadata": {},
   "source": [
    "Habitos cuenta con un coeficiente de regresión estadísticamente significativo y contribuye a explicar el 30% de la varianza explicada por el modelo. Esto quiere decir que a un puntaje mayor en hábitos de estudios, la edad a la que las mujeres de esta muestra tienen hijos aumenta. Por otra parte, Maternidad no cuenta con un coeficiente de regresión estadísticamente significativo. El modelo podría simplificarse para contar solo con un predictor. "
   ]
  },
  {
   "cell_type": "markdown",
   "metadata": {},
   "source": [
    "## MANOVA\n",
    "\n",
    "En esta sección vamos a trabajar con datos de trabajadores y sus resultados laborales. Cuenta con las siguientes variables:\n",
    "\n",
    "- type: Tipo de ocupación. (prof: professional and managerial; wc: white-collar; bc: bluecollar).\n",
    "- income: coeficiente de ingreso\n",
    "- education: coeficiente de logro educativo\n",
    "- prestige: coeficiente de prestigio ocupacional\n",
    "\n",
    "Dale un primer vistazo a los datos:"
   ]
  },
  {
   "cell_type": "code",
   "execution_count": 8,
   "metadata": {},
   "outputs": [
    {
     "data": {
      "text/html": [
       "<div>\n",
       "<style scoped>\n",
       "    .dataframe tbody tr th:only-of-type {\n",
       "        vertical-align: middle;\n",
       "    }\n",
       "\n",
       "    .dataframe tbody tr th {\n",
       "        vertical-align: top;\n",
       "    }\n",
       "\n",
       "    .dataframe thead th {\n",
       "        text-align: right;\n",
       "    }\n",
       "</style>\n",
       "<table border=\"1\" class=\"dataframe\">\n",
       "  <thead>\n",
       "    <tr style=\"text-align: right;\">\n",
       "      <th></th>\n",
       "      <th>type</th>\n",
       "      <th>income</th>\n",
       "      <th>education</th>\n",
       "      <th>prestige</th>\n",
       "    </tr>\n",
       "  </thead>\n",
       "  <tbody>\n",
       "    <tr>\n",
       "      <th>0</th>\n",
       "      <td>prof</td>\n",
       "      <td>62</td>\n",
       "      <td>86</td>\n",
       "      <td>82</td>\n",
       "    </tr>\n",
       "    <tr>\n",
       "      <th>1</th>\n",
       "      <td>prof</td>\n",
       "      <td>72</td>\n",
       "      <td>76</td>\n",
       "      <td>83</td>\n",
       "    </tr>\n",
       "    <tr>\n",
       "      <th>2</th>\n",
       "      <td>prof</td>\n",
       "      <td>75</td>\n",
       "      <td>92</td>\n",
       "      <td>90</td>\n",
       "    </tr>\n",
       "    <tr>\n",
       "      <th>3</th>\n",
       "      <td>prof</td>\n",
       "      <td>55</td>\n",
       "      <td>90</td>\n",
       "      <td>76</td>\n",
       "    </tr>\n",
       "    <tr>\n",
       "      <th>4</th>\n",
       "      <td>prof</td>\n",
       "      <td>64</td>\n",
       "      <td>86</td>\n",
       "      <td>90</td>\n",
       "    </tr>\n",
       "    <tr>\n",
       "      <th>5</th>\n",
       "      <td>prof</td>\n",
       "      <td>21</td>\n",
       "      <td>84</td>\n",
       "      <td>87</td>\n",
       "    </tr>\n",
       "    <tr>\n",
       "      <th>6</th>\n",
       "      <td>prof</td>\n",
       "      <td>64</td>\n",
       "      <td>93</td>\n",
       "      <td>93</td>\n",
       "    </tr>\n",
       "    <tr>\n",
       "      <th>7</th>\n",
       "      <td>prof</td>\n",
       "      <td>80</td>\n",
       "      <td>100</td>\n",
       "      <td>90</td>\n",
       "    </tr>\n",
       "    <tr>\n",
       "      <th>8</th>\n",
       "      <td>wc</td>\n",
       "      <td>67</td>\n",
       "      <td>87</td>\n",
       "      <td>52</td>\n",
       "    </tr>\n",
       "    <tr>\n",
       "      <th>9</th>\n",
       "      <td>prof</td>\n",
       "      <td>72</td>\n",
       "      <td>86</td>\n",
       "      <td>88</td>\n",
       "    </tr>\n",
       "    <tr>\n",
       "      <th>10</th>\n",
       "      <td>prof</td>\n",
       "      <td>42</td>\n",
       "      <td>74</td>\n",
       "      <td>57</td>\n",
       "    </tr>\n",
       "    <tr>\n",
       "      <th>11</th>\n",
       "      <td>prof</td>\n",
       "      <td>76</td>\n",
       "      <td>98</td>\n",
       "      <td>89</td>\n",
       "    </tr>\n",
       "    <tr>\n",
       "      <th>12</th>\n",
       "      <td>prof</td>\n",
       "      <td>76</td>\n",
       "      <td>97</td>\n",
       "      <td>97</td>\n",
       "    </tr>\n",
       "    <tr>\n",
       "      <th>13</th>\n",
       "      <td>prof</td>\n",
       "      <td>41</td>\n",
       "      <td>84</td>\n",
       "      <td>59</td>\n",
       "    </tr>\n",
       "    <tr>\n",
       "      <th>14</th>\n",
       "      <td>prof</td>\n",
       "      <td>48</td>\n",
       "      <td>91</td>\n",
       "      <td>73</td>\n",
       "    </tr>\n",
       "    <tr>\n",
       "      <th>15</th>\n",
       "      <td>wc</td>\n",
       "      <td>76</td>\n",
       "      <td>34</td>\n",
       "      <td>38</td>\n",
       "    </tr>\n",
       "    <tr>\n",
       "      <th>16</th>\n",
       "      <td>prof</td>\n",
       "      <td>53</td>\n",
       "      <td>45</td>\n",
       "      <td>76</td>\n",
       "    </tr>\n",
       "    <tr>\n",
       "      <th>17</th>\n",
       "      <td>prof</td>\n",
       "      <td>60</td>\n",
       "      <td>56</td>\n",
       "      <td>81</td>\n",
       "    </tr>\n",
       "    <tr>\n",
       "      <th>18</th>\n",
       "      <td>prof</td>\n",
       "      <td>42</td>\n",
       "      <td>44</td>\n",
       "      <td>45</td>\n",
       "    </tr>\n",
       "    <tr>\n",
       "      <th>19</th>\n",
       "      <td>prof</td>\n",
       "      <td>78</td>\n",
       "      <td>82</td>\n",
       "      <td>92</td>\n",
       "    </tr>\n",
       "    <tr>\n",
       "      <th>20</th>\n",
       "      <td>wc</td>\n",
       "      <td>29</td>\n",
       "      <td>72</td>\n",
       "      <td>39</td>\n",
       "    </tr>\n",
       "    <tr>\n",
       "      <th>21</th>\n",
       "      <td>wc</td>\n",
       "      <td>48</td>\n",
       "      <td>55</td>\n",
       "      <td>34</td>\n",
       "    </tr>\n",
       "    <tr>\n",
       "      <th>22</th>\n",
       "      <td>wc</td>\n",
       "      <td>55</td>\n",
       "      <td>71</td>\n",
       "      <td>41</td>\n",
       "    </tr>\n",
       "    <tr>\n",
       "      <th>23</th>\n",
       "      <td>wc</td>\n",
       "      <td>29</td>\n",
       "      <td>50</td>\n",
       "      <td>16</td>\n",
       "    </tr>\n",
       "    <tr>\n",
       "      <th>24</th>\n",
       "      <td>bc</td>\n",
       "      <td>21</td>\n",
       "      <td>23</td>\n",
       "      <td>33</td>\n",
       "    </tr>\n",
       "    <tr>\n",
       "      <th>25</th>\n",
       "      <td>bc</td>\n",
       "      <td>47</td>\n",
       "      <td>39</td>\n",
       "      <td>53</td>\n",
       "    </tr>\n",
       "    <tr>\n",
       "      <th>26</th>\n",
       "      <td>bc</td>\n",
       "      <td>81</td>\n",
       "      <td>28</td>\n",
       "      <td>67</td>\n",
       "    </tr>\n",
       "    <tr>\n",
       "      <th>27</th>\n",
       "      <td>bc</td>\n",
       "      <td>36</td>\n",
       "      <td>32</td>\n",
       "      <td>57</td>\n",
       "    </tr>\n",
       "    <tr>\n",
       "      <th>28</th>\n",
       "      <td>bc</td>\n",
       "      <td>22</td>\n",
       "      <td>22</td>\n",
       "      <td>26</td>\n",
       "    </tr>\n",
       "    <tr>\n",
       "      <th>29</th>\n",
       "      <td>bc</td>\n",
       "      <td>44</td>\n",
       "      <td>25</td>\n",
       "      <td>29</td>\n",
       "    </tr>\n",
       "    <tr>\n",
       "      <th>30</th>\n",
       "      <td>bc</td>\n",
       "      <td>15</td>\n",
       "      <td>29</td>\n",
       "      <td>10</td>\n",
       "    </tr>\n",
       "    <tr>\n",
       "      <th>31</th>\n",
       "      <td>bc</td>\n",
       "      <td>7</td>\n",
       "      <td>7</td>\n",
       "      <td>15</td>\n",
       "    </tr>\n",
       "    <tr>\n",
       "      <th>32</th>\n",
       "      <td>bc</td>\n",
       "      <td>42</td>\n",
       "      <td>26</td>\n",
       "      <td>19</td>\n",
       "    </tr>\n",
       "    <tr>\n",
       "      <th>33</th>\n",
       "      <td>bc</td>\n",
       "      <td>9</td>\n",
       "      <td>19</td>\n",
       "      <td>10</td>\n",
       "    </tr>\n",
       "    <tr>\n",
       "      <th>34</th>\n",
       "      <td>bc</td>\n",
       "      <td>21</td>\n",
       "      <td>15</td>\n",
       "      <td>13</td>\n",
       "    </tr>\n",
       "    <tr>\n",
       "      <th>35</th>\n",
       "      <td>bc</td>\n",
       "      <td>21</td>\n",
       "      <td>20</td>\n",
       "      <td>24</td>\n",
       "    </tr>\n",
       "    <tr>\n",
       "      <th>36</th>\n",
       "      <td>bc</td>\n",
       "      <td>16</td>\n",
       "      <td>26</td>\n",
       "      <td>20</td>\n",
       "    </tr>\n",
       "    <tr>\n",
       "      <th>37</th>\n",
       "      <td>bc</td>\n",
       "      <td>16</td>\n",
       "      <td>28</td>\n",
       "      <td>7</td>\n",
       "    </tr>\n",
       "    <tr>\n",
       "      <th>38</th>\n",
       "      <td>bc</td>\n",
       "      <td>9</td>\n",
       "      <td>17</td>\n",
       "      <td>3</td>\n",
       "    </tr>\n",
       "    <tr>\n",
       "      <th>39</th>\n",
       "      <td>bc</td>\n",
       "      <td>14</td>\n",
       "      <td>22</td>\n",
       "      <td>16</td>\n",
       "    </tr>\n",
       "    <tr>\n",
       "      <th>40</th>\n",
       "      <td>bc</td>\n",
       "      <td>12</td>\n",
       "      <td>30</td>\n",
       "      <td>6</td>\n",
       "    </tr>\n",
       "    <tr>\n",
       "      <th>41</th>\n",
       "      <td>bc</td>\n",
       "      <td>17</td>\n",
       "      <td>25</td>\n",
       "      <td>11</td>\n",
       "    </tr>\n",
       "    <tr>\n",
       "      <th>42</th>\n",
       "      <td>bc</td>\n",
       "      <td>7</td>\n",
       "      <td>20</td>\n",
       "      <td>8</td>\n",
       "    </tr>\n",
       "    <tr>\n",
       "      <th>43</th>\n",
       "      <td>bc</td>\n",
       "      <td>34</td>\n",
       "      <td>47</td>\n",
       "      <td>41</td>\n",
       "    </tr>\n",
       "    <tr>\n",
       "      <th>44</th>\n",
       "      <td>bc</td>\n",
       "      <td>8</td>\n",
       "      <td>32</td>\n",
       "      <td>10</td>\n",
       "    </tr>\n",
       "  </tbody>\n",
       "</table>\n",
       "</div>"
      ],
      "text/plain": [
       "    type  income  education  prestige\n",
       "0   prof      62         86        82\n",
       "1   prof      72         76        83\n",
       "2   prof      75         92        90\n",
       "3   prof      55         90        76\n",
       "4   prof      64         86        90\n",
       "5   prof      21         84        87\n",
       "6   prof      64         93        93\n",
       "7   prof      80        100        90\n",
       "8     wc      67         87        52\n",
       "9   prof      72         86        88\n",
       "10  prof      42         74        57\n",
       "11  prof      76         98        89\n",
       "12  prof      76         97        97\n",
       "13  prof      41         84        59\n",
       "14  prof      48         91        73\n",
       "15    wc      76         34        38\n",
       "16  prof      53         45        76\n",
       "17  prof      60         56        81\n",
       "18  prof      42         44        45\n",
       "19  prof      78         82        92\n",
       "20    wc      29         72        39\n",
       "21    wc      48         55        34\n",
       "22    wc      55         71        41\n",
       "23    wc      29         50        16\n",
       "24    bc      21         23        33\n",
       "25    bc      47         39        53\n",
       "26    bc      81         28        67\n",
       "27    bc      36         32        57\n",
       "28    bc      22         22        26\n",
       "29    bc      44         25        29\n",
       "30    bc      15         29        10\n",
       "31    bc       7          7        15\n",
       "32    bc      42         26        19\n",
       "33    bc       9         19        10\n",
       "34    bc      21         15        13\n",
       "35    bc      21         20        24\n",
       "36    bc      16         26        20\n",
       "37    bc      16         28         7\n",
       "38    bc       9         17         3\n",
       "39    bc      14         22        16\n",
       "40    bc      12         30         6\n",
       "41    bc      17         25        11\n",
       "42    bc       7         20         8\n",
       "43    bc      34         47        41\n",
       "44    bc       8         32        10"
      ]
     },
     "execution_count": 8,
     "metadata": {},
     "output_type": "execute_result"
    }
   ],
   "source": [
    "duncan_data = pd.read_csv(\n",
    "    \"https://socialsciences.mcmaster.ca/jfox/Books/Applied-Regression-3E/datasets/Duncan.txt\",\n",
    "    sep=r\"\\s{1,}\",\n",
    "    engine=\"python\",\n",
    ")\n",
    "duncan_data.reset_index(drop=True, inplace=True)\n",
    "duncan_data"
   ]
  },
  {
   "cell_type": "code",
   "execution_count": 9,
   "metadata": {},
   "outputs": [
    {
     "data": {
      "image/png": "[encoded data removed]",
      "text/plain": [
       "<Figure size 432x288 with 1 Axes>"
      ]
     },
     "metadata": {
      "needs_background": "light"
     },
     "output_type": "display_data"
    },
    {
     "data": {
      "image/png": "[encoded data removed]",
      "text/plain": [
       "<Figure size 432x288 with 1 Axes>"
      ]
     },
     "metadata": {
      "needs_background": "light"
     },
     "output_type": "display_data"
    },
    {
     "data": {
      "image/png": "[encoded data removed]",
      "text/plain": [
       "<Figure size 432x288 with 1 Axes>"
      ]
     },
     "metadata": {
      "needs_background": "light"
     },
     "output_type": "display_data"
    }
   ],
   "source": [
    "dep_vars = [\"income\", \"education\", \"prestige\"]\n",
    "ind_vars = [\"type\"]\n",
    "\n",
    "# Generate plots\n",
    "for i in range(len(dep_vars)):\n",
    "    dvar = dep_vars[i]\n",
    "    plt.figure(i)\n",
    "    ax = sns.boxplot(x=\"type\", y=dvar, data=duncan_data)\n",
    "plt.show()"
   ]
  },
  {
   "cell_type": "markdown",
   "metadata": {},
   "source": [
    "Ahora, te corresponde evaluar el siguiente modelo MANOVA:\n",
    "\n",
    "$$ Y_{income} + Y_{education} + Y_{prestige} = X_{type} $$"
   ]
  },
  {
   "cell_type": "markdown",
   "metadata": {},
   "source": [
    "6. Evalúa los supuestos de normalidad y homocedasticidad multivariante de las variables dependientes. ¿Qué puedes concluir?  (1 pt)"
   ]
  },
  {
   "cell_type": "code",
   "execution_count": 10,
   "metadata": {},
   "outputs": [
    {
     "data": {
      "text/plain": [
       "HZResults(hz=29.908582994874525, pval=4.457277272490197e-68, normal=False)"
      ]
     },
     "execution_count": 10,
     "metadata": {},
     "output_type": "execute_result"
    }
   ],
   "source": [
    "import pingouin as pg\n",
    "\n",
    "# Compute multivariate normality\n",
    "pg.multivariate_normality(duncan_data[dep_vars])"
   ]
  },
  {
   "cell_type": "code",
   "execution_count": 11,
   "metadata": {},
   "outputs": [
    {
     "data": {
      "text/html": [
       "<div>\n",
       "<style scoped>\n",
       "    .dataframe tbody tr th:only-of-type {\n",
       "        vertical-align: middle;\n",
       "    }\n",
       "\n",
       "    .dataframe tbody tr th {\n",
       "        vertical-align: top;\n",
       "    }\n",
       "\n",
       "    .dataframe thead th {\n",
       "        text-align: right;\n",
       "    }\n",
       "</style>\n",
       "<table border=\"1\" class=\"dataframe\">\n",
       "  <thead>\n",
       "    <tr style=\"text-align: right;\">\n",
       "      <th></th>\n",
       "      <th>W</th>\n",
       "      <th>pval</th>\n",
       "      <th>normal</th>\n",
       "    </tr>\n",
       "  </thead>\n",
       "  <tbody>\n",
       "    <tr>\n",
       "      <th>income</th>\n",
       "      <td>19.209911</td>\n",
       "      <td>6.739395e-05</td>\n",
       "      <td>False</td>\n",
       "    </tr>\n",
       "    <tr>\n",
       "      <th>education</th>\n",
       "      <td>43.447798</td>\n",
       "      <td>3.676466e-10</td>\n",
       "      <td>False</td>\n",
       "    </tr>\n",
       "    <tr>\n",
       "      <th>prestige</th>\n",
       "      <td>31.999862</td>\n",
       "      <td>1.125429e-07</td>\n",
       "      <td>False</td>\n",
       "    </tr>\n",
       "  </tbody>\n",
       "</table>\n",
       "</div>"
      ],
      "text/plain": [
       "                   W          pval  normal\n",
       "income     19.209911  6.739395e-05   False\n",
       "education  43.447798  3.676466e-10   False\n",
       "prestige   31.999862  1.125429e-07   False"
      ]
     },
     "execution_count": 11,
     "metadata": {},
     "output_type": "execute_result"
    }
   ],
   "source": [
    "# Compute univariate normality\n",
    "pg.normality(duncan_data[dep_vars], method=\"normaltest\")"
   ]
  },
  {
   "cell_type": "code",
   "execution_count": 12,
   "metadata": {},
   "outputs": [
    {
     "name": "stdout",
     "output_type": "stream",
     "text": [
      "____________________________________________________________________________________________________\n",
      "income\n",
      "asimetría: 0.1098681943968133\n",
      "curtosis: -1.3636456578987446\n",
      "____________________________________________________________________________________________________\n",
      "education\n",
      "asimetría: 0.22621672549010396\n",
      "curtosis: -1.548248504439342\n",
      "____________________________________________________________________________________________________\n",
      "prestige\n",
      "asimetría: 0.14158989468339175\n",
      "curtosis: -1.483876485734007\n"
     ]
    }
   ],
   "source": [
    "from scipy.stats import kurtosis, skew\n",
    "\n",
    "for var in dep_vars:\n",
    "    print(\"_\" * 100)\n",
    "    print(var)\n",
    "    print(\"asimetría:\", skew(duncan_data[var]))\n",
    "    print(\"curtosis:\", kurtosis(duncan_data[var]))"
   ]
  },
  {
   "cell_type": "code",
   "execution_count": 13,
   "metadata": {},
   "outputs": [
    {
     "data": {
      "text/html": [
       "<div>\n",
       "<style scoped>\n",
       "    .dataframe tbody tr th:only-of-type {\n",
       "        vertical-align: middle;\n",
       "    }\n",
       "\n",
       "    .dataframe tbody tr th {\n",
       "        vertical-align: top;\n",
       "    }\n",
       "\n",
       "    .dataframe thead th {\n",
       "        text-align: right;\n",
       "    }\n",
       "</style>\n",
       "<table border=\"1\" class=\"dataframe\">\n",
       "  <thead>\n",
       "    <tr style=\"text-align: right;\">\n",
       "      <th></th>\n",
       "      <th>Chi2</th>\n",
       "      <th>df</th>\n",
       "      <th>pval</th>\n",
       "      <th>equal_cov</th>\n",
       "    </tr>\n",
       "  </thead>\n",
       "  <tbody>\n",
       "    <tr>\n",
       "      <th>type</th>\n",
       "      <td>18.260236</td>\n",
       "      <td>12.0</td>\n",
       "      <td>0.108014</td>\n",
       "      <td>True</td>\n",
       "    </tr>\n",
       "  </tbody>\n",
       "</table>\n",
       "</div>"
      ],
      "text/plain": [
       "           Chi2    df      pval  equal_cov\n",
       "type  18.260236  12.0  0.108014       True"
      ]
     },
     "execution_count": 13,
     "metadata": {},
     "output_type": "execute_result"
    }
   ],
   "source": [
    "# Compute multivariate homocedasticity\n",
    "multi_homoek = pd.DataFrame()\n",
    "for var in ind_vars:\n",
    "    frame = pg.box_m(data=duncan_data, dvs=dep_vars, group=var)\n",
    "    multi_homoek = multi_homoek.append(frame.rename(index={\"box\": var}))\n",
    "multi_homoek"
   ]
  },
  {
   "cell_type": "markdown",
   "metadata": {},
   "source": [
    "El supuesto de normalidad multivariante no se cumple y a nivel univariante tampoco. Sin embargo, podemos optar por continuar con nuestro análisis debido a que la falta de normalidad no es extrema (asimetrías menores a 1 y curtosis menores a 10). \n",
    "\n",
    "El supuesto de homocedasticidad multivariante se cumple debido a los resultados de la prueba Box M. "
   ]
  },
  {
   "cell_type": "markdown",
   "metadata": {},
   "source": [
    "7. Ajusta el modelo MANOVA a tus datos e interpreta tus resultados. ¿Qué puedes concluir? (1 pt)"
   ]
  },
  {
   "cell_type": "code",
   "execution_count": 14,
   "metadata": {},
   "outputs": [
    {
     "name": "stdout",
     "output_type": "stream",
     "text": [
      "                 Multivariate linear model\n",
      "============================================================\n",
      "                                                            \n",
      "------------------------------------------------------------\n",
      "       Intercept        Value  Num DF  Den DF F Value Pr > F\n",
      "------------------------------------------------------------\n",
      "          Wilks' lambda 0.3278 3.0000 40.0000 27.3415 0.0000\n",
      "         Pillai's trace 0.6722 3.0000 40.0000 27.3415 0.0000\n",
      " Hotelling-Lawley trace 2.0506 3.0000 40.0000 27.3415 0.0000\n",
      "    Roy's greatest root 2.0506 3.0000 40.0000 27.3415 0.0000\n",
      "------------------------------------------------------------\n",
      "                                                            \n",
      "------------------------------------------------------------\n",
      "          type          Value  Num DF  Den DF F Value Pr > F\n",
      "------------------------------------------------------------\n",
      "          Wilks' lambda 0.0992 6.0000 80.0000 28.9933 0.0000\n",
      "         Pillai's trace 1.2587 6.0000 82.0000 23.2041 0.0000\n",
      " Hotelling-Lawley trace 5.4707 6.0000 51.5932 36.0449 0.0000\n",
      "    Roy's greatest root 4.7039 3.0000 41.0000 64.2871 0.0000\n",
      "============================================================\n",
      "\n"
     ]
    }
   ],
   "source": [
    "from statsmodels.multivariate.manova import MANOVA\n",
    "\n",
    "maov = MANOVA.from_formula(\n",
    "    \"income + education + prestige ~ type\", data=duncan_data\n",
    ")\n",
    "print(maov.mv_test())"
   ]
  },
  {
   "cell_type": "markdown",
   "metadata": {},
   "source": [
    "El modelo MANOVA indica un efecto principal de la variable type. Esto quiere decir que existen diferencias significativas en al menos una de las variables dependientes a partir del tipo de trabajador. "
   ]
  },
  {
   "cell_type": "markdown",
   "metadata": {},
   "source": [
    "8. Evalúa cada una de las variables dependientes por separado. ¿Qué puedes concluir? (1 pt)"
   ]
  },
  {
   "cell_type": "code",
   "execution_count": 15,
   "metadata": {},
   "outputs": [
    {
     "name": "stdout",
     "output_type": "stream",
     "text": [
      "____________________________________________________________________________________________________\n",
      "income\n",
      "            df        sum_sq      mean_sq          F        PR(>F)\n",
      "type       2.0  13303.112698  6651.556349  21.542527  3.641802e-07\n",
      "Residual  42.0  12968.087302   308.763983        NaN           NaN\n",
      "____________________________________________________________________________________________________\n",
      "education\n",
      "            df        sum_sq       mean_sq          F        PR(>F)\n",
      "type       2.0  30948.944444  15474.472222  81.016496  3.841729e-15\n",
      "Residual  42.0   8022.166667    191.003968        NaN           NaN\n",
      "____________________________________________________________________________________________________\n",
      "prestige\n",
      "            df        sum_sq       mean_sq          F        PR(>F)\n",
      "type       2.0  33090.057143  16545.028571  65.570698  1.207302e-13\n",
      "Residual  42.0  10597.587302    252.323507        NaN           NaN\n"
     ]
    }
   ],
   "source": [
    "for dep in dep_vars:\n",
    "    model = smf.ols(formula=f\"{dep} ~ type\", data=duncan_data)\n",
    "    print(\"_\" * 100)\n",
    "    print(dep)\n",
    "    print(sm.stats.anova_lm(model.fit()))"
   ]
  },
  {
   "cell_type": "markdown",
   "metadata": {},
   "source": [
    "Encontramos un efecto principal de la variable type en cada una de las variables dependientes por separado. El tipo de trabajador influiría en los coeficientes de educación, prestigio e ingresos. "
   ]
  }
 ],
 "metadata": {
  "kernelspec": {
   "display_name": "stats",
   "language": "python",
   "name": "python3"
  },
  "language_info": {
   "codemirror_mode": {
    "name": "ipython",
    "version": 3
   },
   "file_extension": ".py",
   "mimetype": "text/x-python",
   "name": "python",
   "nbconvert_exporter": "python",
   "pygments_lexer": "ipython3",
   "version": "3.7.16"
  },
  "orig_nbformat": 4,
  "vscode": {
   "interpreter": {
    "hash": "8df12303a5084d795bcef355ea103bbaab8787933417cf27c2f95a588cdf8ee7"
   }
  }
 },
 "nbformat": 4,
 "nbformat_minor": 2
}
